{
 "cells": [
  {
   "cell_type": "markdown",
   "metadata": {},
   "source": [
    "# Import Libraries"
   ]
  },
  {
   "cell_type": "code",
   "execution_count": 1,
   "metadata": {},
   "outputs": [],
   "source": [
    "import numpy as np\n",
    "import pandas as pd\n",
    "from hmmlearn import hmm\n",
    "import warnings\n",
    "from constants import *\n",
    "import math\n",
    "import random\n",
    "import matplotlib.pyplot as plt\n",
    "import collections, operator\n",
    "warnings.filterwarnings(\"ignore\")"
   ]
  },
  {
   "cell_type": "markdown",
   "metadata": {},
   "source": [
    "# Dummy HMM example"
   ]
  },
  {
   "cell_type": "code",
   "execution_count": 2,
   "metadata": {},
   "outputs": [],
   "source": [
    "# #dummy HMM\n",
    "# X1 = [ [3.09420655],  [2.55572822],  [2.58256628]]\n",
    "# X2 = [ [3.79053016],  [2.04560095],  [2.78293239]]\n",
    "# X = np.concatenate([X1, X2])\n",
    "# print(X)\n",
    "# lengths = [len(X1), len(X2)]\n",
    "# model = hmm.GaussianHMM(n_components=3)\n",
    "# model.fit(X, lengths)\n",
    "# Z = model.predict(X)"
   ]
  },
  {
   "cell_type": "markdown",
   "metadata": {},
   "source": [
    "# Helper Methods"
   ]
  },
  {
   "cell_type": "code",
   "execution_count": 6,
   "metadata": {},
   "outputs": [],
   "source": [
    "def generate_random_sample(X, size):\n",
    "    '''\n",
    "    Given a list X, \n",
    "    generate random samples of given size\n",
    "    '''\n",
    "    Z_temp = random.sample(list(X), size)\n",
    "    #Concatenation\n",
    "    Z = [Z_temp[0]]\n",
    "    for val in Z_temp[1:]:\n",
    "        Z = np.concatenate([Z,[val]])\n",
    "    \n",
    "    return Z\n",
    "\n",
    "def convert_values_to_list(list_val):\n",
    "    '''\n",
    "    Given a list X = [1 2 3] , \n",
    "    return X = [[1],[2],[3]]\n",
    "    '''\n",
    "    X = []\n",
    "    for i in list_val:\n",
    "        X.append([i])\n",
    "    return X\n",
    "\n",
    "def conversion_list_of_list(X):\n",
    "    '''\n",
    "    Given a list X with values in lists,\n",
    "    X = [[ 3  2  2]]\n",
    "    Convert each value to a list\n",
    "    Return list of lists, array of lengths of each sequence\n",
    "    X = [[3] [2] [2]]\n",
    "    ''' \n",
    "    X_new = []\n",
    "    length = len(X)\n",
    "    for idx, val_list in enumerate(X):\n",
    "        Y = []\n",
    "        for val in val_list:\n",
    "            Y.append([val])\n",
    "        X_new.append(Y)\n",
    "    \n",
    "#     print(\"First 5 values of lists of lists:\")\n",
    "#     for idx, i in enumerate(X_new[:5]):\n",
    "#         print(\"Index\",idx,\"is\",i)\n",
    "\n",
    "    #Concatenation\n",
    "    Z = X_new[0]\n",
    "    for val_list in X_new[1:]:\n",
    "        Z = np.concatenate([Z,val_list])\n",
    "\n",
    "    # assign array of lengths for HMM\n",
    "    lengths = [DIMENSION]*length\n",
    "#     print(\"*************************************\")\n",
    "#     print(\"Length of model to be fitted:\",len(Z))\n",
    "#     print(\"Total lengths\", len(lengths)*DIMENSION)\n",
    "    return Z,lengths\n",
    "\n",
    "#Calculate likelihood for given sequence according to given HMMs and return HMM\n",
    "def likelihood_sequence(sequence, HMM_array, model_noise):\n",
    "    '''\n",
    "    Given list of K HMMs and sequence,\n",
    "    determines likelihood of sequence under all HMM models\n",
    "    Returns index of HMM which has max likelihood\n",
    "    ''' \n",
    "    score = model_noise.score(sequence)\n",
    "    idx = -1\n",
    "    for i,HMM in enumerate(HMM_array):\n",
    "        calc_score = HMM.score(sequence)\n",
    "        if(score < calc_score):\n",
    "            idx = i\n",
    "            score = calc_score\n",
    "    return idx   \n",
    "\n",
    "def HMM_model_stats(model):\n",
    "    '''\n",
    "    Details of HMM model\n",
    "    ''' \n",
    "    print(\"*************************************\")\n",
    "    print(\"Transition matrix\")\n",
    "    print(model.transmat_)\n",
    "    print(\"*************************************\")\n",
    "    print(\"Means and vars of each hidden state\")\n",
    "    for i in range(model.n_components):\n",
    "        print(\"Hidden state {0}\".format(i))\n",
    "        print(\"mean = \", model.means_[i])\n",
    "        print(\"std = \", [math.sqrt(model.covars_[i])])\n",
    "        print()\n",
    "    \n",
    "#Check increasing sequence \n",
    "def monotonic_increase(x):\n",
    "    dx = np.diff(x)\n",
    "    return np.all(dx >= 0)\n",
    "\n",
    "#Check decreasing sequence \n",
    "def monotonic_decrease(x):\n",
    "    dx = np.diff(x)\n",
    "    return np.all(dx <= 0)\n",
    "\n",
    "#Check increasing then decreasing sequence \n",
    "def increase_decrease(x):\n",
    "    return x[1]>=x[0] and x[2]<=x[1]\n",
    "\n",
    "#Check decreasing then increasing sequence \n",
    "def decrease_increase(x):\n",
    "    return x[1]<=x[0] and x[2]>=x[1]"
   ]
  },
  {
   "cell_type": "markdown",
   "metadata": {},
   "source": [
    "# Load Data and Clean"
   ]
  },
  {
   "cell_type": "code",
   "execution_count": 7,
   "metadata": {},
   "outputs": [
    {
     "name": "stdout",
     "output_type": "stream",
     "text": [
      "Dataset size is 11087\n",
      "     cdRPKM0    cdRPKM1    cdRPKM2\n",
      "0   8.539825   5.879642   5.990043\n",
      "1  13.837680   4.128452   6.882499\n",
      "2  39.456786  62.505536  84.519655\n",
      "3   2.104887   3.488833   2.908098\n",
      "4  10.010800  17.066902   9.484017\n",
      "****************************\n",
      "First 5 log2 values\n",
      " [[ 3.09420655  2.55572822  2.58256628]\n",
      " [ 3.79053016  2.04560095  2.78293239]\n",
      " [ 5.30220154  5.96591207  6.40121497]\n",
      " [ 1.07374244  1.80274443  1.54007587]\n",
      " [ 3.32348535  4.09312932  3.24549826]]\n"
     ]
    }
   ],
   "source": [
    "#Dataset\n",
    "DIMENSION = 3\n",
    "df_main = pd.read_csv('Data/cleaned.txt', sep=\",\")\n",
    "print(\"Dataset size is\",len(df_main))\n",
    "print(df_main.head(5))\n",
    "X = np.log2(df_main.values)\n",
    "print(\"****************************\")\n",
    "print(\"First 5 log2 values\\n\",X[:5])"
   ]
  },
  {
   "cell_type": "code",
   "execution_count": 8,
   "metadata": {},
   "outputs": [],
   "source": [
    "# Get list of lists to fit\n",
    "Z, lengths = conversion_list_of_list(X)"
   ]
  },
  {
   "cell_type": "markdown",
   "metadata": {},
   "source": [
    "# Noise Cluster"
   ]
  },
  {
   "cell_type": "code",
   "execution_count": 9,
   "metadata": {},
   "outputs": [
    {
     "data": {
      "text/plain": [
       "GaussianHMM(algorithm='viterbi', covariance_type='spherical',\n",
       "      covars_prior=0.01, covars_weight=1, init_params='stmc',\n",
       "      means_prior=0, means_weight=0, min_covar=0.001, n_components=3,\n",
       "      n_iter=3, params='stmc', random_state=None, startprob_prior=1.0,\n",
       "      tol=0.01, transmat_prior=1.0, verbose=False)"
      ]
     },
     "execution_count": 9,
     "metadata": {},
     "output_type": "execute_result"
    }
   ],
   "source": [
    "# Noise cluster \n",
    "\n",
    "model_noise = hmm.GaussianHMM(n_components=3, covariance_type='spherical',n_iter=3)\n",
    "model_noise.fit(Z, lengths)"
   ]
  },
  {
   "cell_type": "code",
   "execution_count": 10,
   "metadata": {},
   "outputs": [
    {
     "name": "stdout",
     "output_type": "stream",
     "text": [
      "*************************************\n",
      "Transition matrix\n",
      "[[ 0.56184189  0.25425283  0.18390527]\n",
      " [ 0.21676412  0.76926958  0.0139663 ]\n",
      " [ 0.24299447  0.02136202  0.73564351]]\n",
      "*************************************\n",
      "Means and vars of each hidden state\n",
      "Hidden state 0\n",
      "mean =  [ 3.63251272]\n",
      "std =  [1.1112236719384652]\n",
      "\n",
      "Hidden state 1\n",
      "mean =  [ 5.3243617]\n",
      "std =  [1.446425736567844]\n",
      "\n",
      "Hidden state 2\n",
      "mean =  [ 1.74913881]\n",
      "std =  [1.4693773305448643]\n",
      "\n"
     ]
    }
   ],
   "source": [
    "HMM_model_stats(model_noise)"
   ]
  },
  {
   "cell_type": "markdown",
   "metadata": {},
   "source": [
    "# Generate subsets of data for 4 HMMs"
   ]
  },
  {
   "cell_type": "code",
   "execution_count": 11,
   "metadata": {},
   "outputs": [
    {
     "name": "stdout",
     "output_type": "stream",
     "text": [
      "Length is 2514\n",
      "Length is 1725\n",
      "Length is 3430\n",
      "Length is 3418\n",
      "Total length is 11087\n"
     ]
    }
   ],
   "source": [
    "#Generate K HMMs\n",
    "\n",
    "K = 4\n",
    "HMM_array = []\n",
    "X_i = []\n",
    "\n",
    "# 0 = monotone increasing, 1 = monotone decreasing, 2 = increasing then decreasing, 3 = decreasing then increasing\n",
    "for i in range(K):\n",
    "    X_i.append([])\n",
    "\n",
    "# Sequences\n",
    "for i in range(len(df_main)):\n",
    "    # Monotone increasing\n",
    "    if(monotonic_increase(X[i])):\n",
    "        X_i[0].append(list(X[i]))\n",
    "    elif(monotonic_decrease(X[i])):\n",
    "        X_i[1].append(list(X[i]))\n",
    "    elif(increase_decrease(X[i])):\n",
    "        X_i[2].append(list(X[i]))\n",
    "    elif(decrease_increase(X[i])):\n",
    "        X_i[3].append(list(X[i])) \n",
    "        \n",
    "# Check sizes of each subX\n",
    "sum=0\n",
    "for i in X_i:\n",
    "    print(\"Length is\",len(i))\n",
    "    sum+=len(i)\n",
    "print(\"Total length is\",sum)"
   ]
  },
  {
   "cell_type": "markdown",
   "metadata": {},
   "source": [
    "# Train 4 HMMs"
   ]
  },
  {
   "cell_type": "code",
   "execution_count": 12,
   "metadata": {},
   "outputs": [],
   "source": [
    "for i in range(K):\n",
    "    model = hmm.GaussianHMM(n_components=3)\n",
    "    X_temp, lengths = conversion_list_of_list(X_i[i])\n",
    "    model.fit(X_temp, lengths)\n",
    "    HMM_array.append(model)"
   ]
  },
  {
   "cell_type": "code",
   "execution_count": 13,
   "metadata": {},
   "outputs": [
    {
     "name": "stdout",
     "output_type": "stream",
     "text": [
      "Statistics for HMM Model 0\n",
      "*************************************\n",
      "Transition matrix\n",
      "[[  7.74186228e-01   5.11789403e-05   2.25762593e-01]\n",
      " [  6.55530255e-17   9.99999841e-01   1.59452657e-07]\n",
      " [  8.95119560e-08   8.37918781e-02   9.16208032e-01]]\n",
      "*************************************\n",
      "Means and vars of each hidden state\n",
      "Hidden state 0\n",
      "mean =  [ 1.60292297]\n",
      "std =  [1.1095786521100743]\n",
      "\n",
      "Hidden state 1\n",
      "mean =  [ 5.58917279]\n",
      "std =  [0.9841313359470235]\n",
      "\n",
      "Hidden state 2\n",
      "mean =  [ 3.64542082]\n",
      "std =  [0.5962794502107487]\n",
      "\n",
      "\n",
      "\n",
      "\n",
      "Statistics for HMM Model 1\n",
      "*************************************\n",
      "Transition matrix\n",
      "[[  9.99999915e-01   8.52650245e-08   3.28019996e-17]\n",
      " [  5.37186489e-02   9.46280703e-01   6.48356877e-07]\n",
      " [  3.20083921e-10   1.79282679e-02   9.82071732e-01]]\n",
      "*************************************\n",
      "Means and vars of each hidden state\n",
      "Hidden state 0\n",
      "mean =  [ 1.27287753]\n",
      "std =  [1.3054982389083356]\n",
      "\n",
      "Hidden state 1\n",
      "mean =  [ 3.88889313]\n",
      "std =  [0.7414751285802]\n",
      "\n",
      "Hidden state 2\n",
      "mean =  [ 6.40086148]\n",
      "std =  [1.3088073545602186]\n",
      "\n",
      "\n",
      "\n",
      "\n",
      "Statistics for HMM Model 2\n",
      "*************************************\n",
      "Transition matrix\n",
      "[[  9.99823415e-01   9.43512654e-12   1.76585017e-04]\n",
      " [  2.10422513e-11   9.90898977e-01   9.10102309e-03]\n",
      " [  8.51940925e-04   1.91093040e-04   9.98956966e-01]]\n",
      "*************************************\n",
      "Means and vars of each hidden state\n",
      "Hidden state 0\n",
      "mean =  [ 6.38423877]\n",
      "std =  [1.1320581513754]\n",
      "\n",
      "Hidden state 1\n",
      "mean =  [ 1.91404087]\n",
      "std =  [1.2420976589231705]\n",
      "\n",
      "Hidden state 2\n",
      "mean =  [ 4.22889788]\n",
      "std =  [0.6619913502894736]\n",
      "\n",
      "\n",
      "\n",
      "\n",
      "Statistics for HMM Model 3\n",
      "*************************************\n",
      "Transition matrix\n",
      "[[  9.93612614e-01   3.87450696e-03   2.51287869e-03]\n",
      " [  1.18874721e-02   9.88112518e-01   1.04064420e-08]\n",
      " [  3.73317894e-03   9.23173535e-09   9.96266812e-01]]\n",
      "*************************************\n",
      "Means and vars of each hidden state\n",
      "Hidden state 0\n",
      "mean =  [ 3.08952985]\n",
      "std =  [0.6853752182827794]\n",
      "\n",
      "Hidden state 1\n",
      "mean =  [ 1.03584896]\n",
      "std =  [1.1819747805059873]\n",
      "\n",
      "Hidden state 2\n",
      "mean =  [ 4.94955194]\n",
      "std =  [0.9402489669886539]\n",
      "\n",
      "\n",
      "\n",
      "\n"
     ]
    }
   ],
   "source": [
    "for i in range(K):\n",
    "    print(\"Statistics for HMM Model\", i)\n",
    "    HMM_model_stats(HMM_array[i])\n",
    "    print('\\n\\n')"
   ]
  },
  {
   "cell_type": "markdown",
   "metadata": {},
   "source": [
    "# Check likelihood and do assignments"
   ]
  },
  {
   "cell_type": "code",
   "execution_count": 14,
   "metadata": {},
   "outputs": [],
   "source": [
    "NUM_CLUSTER = {}\n",
    "for x in X:\n",
    "    sequence = convert_values_to_list(x)\n",
    "    hmm_index = likelihood_sequence(sequence, HMM_array, model)\n",
    "    if(hmm_index not in NUM_CLUSTER):\n",
    "        NUM_CLUSTER[hmm_index] = 1\n",
    "    else:\n",
    "        NUM_CLUSTER[hmm_index]+= 1"
   ]
  },
  {
   "cell_type": "code",
   "execution_count": 15,
   "metadata": {},
   "outputs": [
    {
     "name": "stdout",
     "output_type": "stream",
     "text": [
      "{-1: 4233, 0: 2665, 2: 3567, 1: 622}\n"
     ]
    }
   ],
   "source": [
    "print(NUM_CLUSTER)"
   ]
  },
  {
   "cell_type": "markdown",
   "metadata": {},
   "source": [
    "# Calculate BIC for these assignments"
   ]
  },
  {
   "cell_type": "code",
   "execution_count": null,
   "metadata": {},
   "outputs": [],
   "source": []
  }
 ],
 "metadata": {
  "kernelspec": {
   "display_name": "Python 3",
   "language": "python",
   "name": "python3"
  },
  "language_info": {
   "codemirror_mode": {
    "name": "ipython",
    "version": 3
   },
   "file_extension": ".py",
   "mimetype": "text/x-python",
   "name": "python",
   "nbconvert_exporter": "python",
   "pygments_lexer": "ipython3",
   "version": "3.6.4"
  }
 },
 "nbformat": 4,
 "nbformat_minor": 2
}
