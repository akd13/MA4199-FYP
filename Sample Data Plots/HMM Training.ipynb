{
 "cells": [
  {
   "cell_type": "code",
   "execution_count": 11,
   "metadata": {},
   "outputs": [],
   "source": [
    "#Import libraries\n",
    "\n",
    "import numpy as np\n",
    "import pandas as pd\n",
    "from hmmlearn import hmm\n",
    "import warnings\n",
    "warnings.filterwarnings(\"ignore\")"
   ]
  },
  {
   "cell_type": "code",
   "execution_count": 12,
   "metadata": {},
   "outputs": [
    {
     "name": "stdout",
     "output_type": "stream",
     "text": [
      "Dataset size is 11087\n",
      "     cdRPKM0    cdRPKM1    cdRPKM2\n",
      "0   8.539825   5.879642   5.990043\n",
      "1  13.837680   4.128452   6.882499\n",
      "2  39.456786  62.505536  84.519655\n",
      "3   2.104887   3.488833   2.908098\n",
      "4  10.010800  17.066902   9.484017\n"
     ]
    }
   ],
   "source": [
    "#Dataset\n",
    "\n",
    "df_main = pd.read_csv('Data/cleaned.txt', sep=\",\")\n",
    "print(\"Dataset size is\",len(df_main))\n",
    "print(df_main.head(5))\n",
    "X = df_main.values"
   ]
  },
  {
   "cell_type": "code",
   "execution_count": 39,
   "metadata": {},
   "outputs": [],
   "source": [
    "#Fit HMM\n",
    "\n",
    "remodel = hmm.GaussianHMM(n_components=3, n_iter=100) #consider Gaussian Emissions\n",
    "remodel.fit(X) #get sequence of states using Viterbi\n",
    "Z = remodel.predict(X)"
   ]
  },
  {
   "cell_type": "code",
   "execution_count": 43,
   "metadata": {},
   "outputs": [
    {
     "name": "stdout",
     "output_type": "stream",
     "text": [
      "Hidden states are\n",
      "State  0  is  0\n",
      "State  1000  is  1\n",
      "State  2000  is  2\n",
      "State  3000  is  0\n",
      "State  4000  is  2\n",
      "State  5000  is  0\n",
      "State  6000  is  1\n",
      "State  7000  is  2\n",
      "State  8000  is  0\n",
      "State  9000  is  2\n",
      "State  10000  is  2\n",
      "State  11000  is  0\n"
     ]
    }
   ],
   "source": [
    "print(\"Hidden states are\")\n",
    "for idx,i in enumerate(Z):\n",
    "    if(idx%1000==0):\n",
    "        print(\"State \", idx, \" is \",i)"
   ]
  },
  {
   "cell_type": "code",
   "execution_count": 44,
   "metadata": {},
   "outputs": [
    {
     "name": "stdout",
     "output_type": "stream",
     "text": [
      "Transition matrix\n",
      "[[ 0.54087634  0.07999367  0.37912999]\n",
      " [ 0.52177293  0.12048685  0.35774022]\n",
      " [ 0.53537772  0.08882211  0.37580018]]\n",
      "\n"
     ]
    }
   ],
   "source": [
    "print(\"Transition matrix\")\n",
    "print(remodel.transmat_)\n",
    "print()"
   ]
  },
  {
   "cell_type": "code",
   "execution_count": 45,
   "metadata": {},
   "outputs": [
    {
     "name": "stdout",
     "output_type": "stream",
     "text": [
      "Means and vars of each hidden state\n",
      "Hidden state 1\n",
      "mean =  [ 6.1462972   6.30836619  7.09602962]\n",
      "var =  [ 18.49730443  19.10018912  22.95519797]\n",
      "\n",
      "Hidden state 2\n",
      "mean =  [ 205.09762894  224.30634609  182.8674107 ]\n",
      "var =  [ 81400.05687636  90080.63250793  44741.89038295]\n",
      "\n",
      "Hidden state 3\n",
      "mean =  [ 29.51901029  32.28109089  32.0453337 ]\n",
      "var =  [ 266.40594043  303.6431122   271.47757482]\n",
      "\n"
     ]
    }
   ],
   "source": [
    "print(\"Means and vars of each hidden state\")\n",
    "for i in range(remodel.n_components):\n",
    "    print(\"Hidden state {0}\".format(i+1))\n",
    "    print(\"mean = \", remodel.means_[i])\n",
    "    print(\"var = \", np.diag(remodel.covars_[i]))\n",
    "    print()"
   ]
  }
 ],
 "metadata": {
  "kernelspec": {
   "display_name": "Python 3",
   "language": "python",
   "name": "python3"
  },
  "language_info": {
   "codemirror_mode": {
    "name": "ipython",
    "version": 3
   },
   "file_extension": ".py",
   "mimetype": "text/x-python",
   "name": "python",
   "nbconvert_exporter": "python",
   "pygments_lexer": "ipython3",
   "version": "3.6.4"
  }
 },
 "nbformat": 4,
 "nbformat_minor": 2
}
