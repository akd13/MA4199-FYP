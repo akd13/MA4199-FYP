{
 "cells": [
  {
   "cell_type": "code",
   "execution_count": 31,
   "metadata": {
    "scrolled": false
   },
   "outputs": [
    {
     "name": "stdout",
     "output_type": "stream",
     "text": [
      "Requirement already satisfied: dill in /usr/local/lib/python3.6/site-packages\n",
      "\u001b[33mYou are using pip version 9.0.3, however version 18.1 is available.\n",
      "You should consider upgrading via the 'pip install --upgrade pip' command.\u001b[0m\n"
     ]
    }
   ],
   "source": [
    "!pip3 install dill\n",
    "import numpy as np\n",
    "import pandas as pd\n",
    "from hmmlearn import hmm\n",
    "import warnings\n",
    "from constants import *\n",
    "import math\n",
    "import seaborn as sns\n",
    "import random\n",
    "import matplotlib.pyplot as plt\n",
    "warnings.filterwarnings(\"ignore\")\n",
    "import dill\n",
    "# dill.load_session('../Weights/HMM_GaussianHMM_5points_RNASeq.db')"
   ]
  },
  {
   "cell_type": "code",
   "execution_count": null,
   "metadata": {},
   "outputs": [],
   "source": [
    "def plot_BIC(list_k, BIC_score):\n",
    "    fig = plt.subplot(111)\n",
    "    plt.plot(list_k, BIC_score, marker='o')  \n",
    "    plt.xlabel('Value of K')\n",
    "    plt.ylabel('Objective')\n",
    "    plt.title('BIC')\n",
    "    plt.show() \n",
    "    \n",
    "def BIC(model,X,lengths):\n",
    "    LogLikelihood = model.score(X,lengths)\n",
    "    num_hidden_states = model.n_components\n",
    "    # D counts transition matrix (emission estimated by PDF), means = num_hidden_states  \n",
    "    # covariance matrix = num_hidden_states\n",
    "    D = num_hidden_states**2-num_hidden_states + 2*num_hidden_states\n",
    "    BIC = LogLikelihood - (D/2)*np.log(len(X))\n",
    "    return BIC\n",
    "    \n",
    "def BIC_array(HMM_array,X_i):\n",
    "    BIC_total = 0\n",
    "    for i in range(len(X_i)):\n",
    "        model = HMM_array[i]\n",
    "        X, lengths = conversion_list_of_list(X_i[i],DIMENSION)\n",
    "        BIC_total+= BIC(model,X,lengths)\n",
    "    return BIC_total"
   ]
  },
  {
   "cell_type": "code",
   "execution_count": 38,
   "metadata": {
    "scrolled": false
   },
   "outputs": [],
   "source": [
    "list_k = range(2,21)\n",
    "BIC_scores = [-17134.181600733245, -10229.409628636951, -6456.5184489873445, -3904.255440235953, -2689.884030858023, 1052.4048045158565, 2245.590119895258, 4264.377792187164, 5118.175862743638, 5851.19811202395, 7068.4160893492635, 7595.664842768572, 8139.540594219109, 8879.075785591296, 10073.56479025386, 9679.66643063029, 10876.987888890082, 11765.5156757467, 12446.84097136109]\n",
    "# for idx in range(len(X_i_K_ARRAYS)):\n",
    "#     model = HMM_K_ARRAYS[idx]\n",
    "#     X = X_i_K_ARRAYS[idx]\n",
    "#     BIC_scores.append(BIC_array(model,X))"
   ]
  },
  {
   "cell_type": "code",
   "execution_count": 40,
   "metadata": {
    "scrolled": true
   },
   "outputs": [
    {
     "name": "stdout",
     "output_type": "stream",
     "text": [
      "2 -17134.181600733245\n",
      "3 -10229.409628636951\n",
      "4 -6456.5184489873445\n",
      "5 -3904.255440235953\n",
      "6 -2689.884030858023\n",
      "7 1052.4048045158565\n",
      "8 2245.590119895258\n",
      "9 4264.377792187164\n",
      "10 5118.175862743638\n",
      "11 5851.19811202395\n",
      "12 7068.4160893492635\n",
      "13 7595.664842768572\n",
      "14 8139.540594219109\n",
      "15 8879.075785591296\n",
      "16 10073.56479025386\n",
      "17 9679.66643063029\n",
      "18 10876.987888890082\n",
      "19 11765.5156757467\n",
      "20 12446.84097136109\n"
     ]
    }
   ],
   "source": [
    "for idx,i in enumerate(BIC_scores):\n",
    "    print(idx+2,i)"
   ]
  },
  {
   "cell_type": "code",
   "execution_count": 39,
   "metadata": {
    "scrolled": false
   },
   "outputs": [
    {
     "data": {
      "image/png": "[encoded data removed]",
      "text/plain": [
       "<matplotlib.figure.Figure at 0x10b3b4fd0>"
      ]
     },
     "metadata": {},
     "output_type": "display_data"
    }
   ],
   "source": [
    "plot_BIC(list_k,BIC_scores)"
   ]
  },
  {
   "cell_type": "code",
   "execution_count": null,
   "metadata": {
    "scrolled": false
   },
   "outputs": [],
   "source": [
    "def plot_cluster(X,count):\n",
    "    fig = plt.subplot(111)\n",
    "    axes = plt.gca()\n",
    "    axes.set_ylim([0,10])\n",
    "    var_plot_list = ['TE0','TE1','TE2','TE3','TE4']#['cdRPKM0','cdRPKM1','cdRPKM2','cdRPKM3','cdRPKM4']\n",
    "    total=0\n",
    "    for i in range(len(X)):\n",
    "        fig.plot(var_plot_list, X[i])\n",
    "        total+=1\n",
    "    title = \"HMM \"+ str(count)+\" : \" + str(total) + \" points \"\n",
    "    plt.title(title)\n",
    "#     plt.savefig('RPKMoutput/Clusters/5points/TE/HMM'+str(count)+'.png')\n",
    "    plt.show()"
   ]
  },
  {
   "cell_type": "code",
   "execution_count": null,
   "metadata": {
    "scrolled": false
   },
   "outputs": [],
   "source": [
    "for idx,X in enumerate(X_i_K_ARRAYS[6]):\n",
    "    plot_cluster(X,idx+1)"
   ]
  },
  {
   "cell_type": "code",
   "execution_count": null,
   "metadata": {
    "scrolled": true
   },
   "outputs": [],
   "source": [
    "def plot_heatmap(X,idx):\n",
    "    plt.figure()\n",
    "    sns.heatmap(X,vmin=0, vmax=10)\n",
    "    plt.title('Heatmap'+str(idx))\n",
    "#     plt.savefig('RPKMoutput/Clusters/5points/TE/Heatmap'+str(idx+1)+'.png')\n",
    "    plt.show()"
   ]
  },
  {
   "cell_type": "code",
   "execution_count": null,
   "metadata": {
    "scrolled": true
   },
   "outputs": [],
   "source": [
    "for idx,X in enumerate(X_i_K_ARRAYS[9]):\n",
    "    plot_heatmap(X,idx)"
   ]
  },
  {
   "cell_type": "code",
   "execution_count": null,
   "metadata": {
    "scrolled": true
   },
   "outputs": [],
   "source": [
    "X_model=X_i_K_ARRAYS[0]"
   ]
  },
  {
   "cell_type": "code",
   "execution_count": null,
   "metadata": {
    "scrolled": true
   },
   "outputs": [],
   "source": [
    "df = pd.read_csv('RPKMOutput/TE.txt', sep=\" \", na_values=['-'])\n",
    "df = df.dropna()\n",
    "df = df[['AccNum','GeneName','TE0','TE1','TE2','TE3','TE4']]"
   ]
  },
  {
   "cell_type": "code",
   "execution_count": null,
   "metadata": {
    "scrolled": true
   },
   "outputs": [],
   "source": [
    "df.head()"
   ]
  },
  {
   "cell_type": "code",
   "execution_count": null,
   "metadata": {
    "scrolled": true
   },
   "outputs": [],
   "source": [
    "# df[['TE0','TE1','TE2','TE3','TE4']] = df[['TE0','TE1','TE2','TE3','TE4']].apply(lambda x: np.log2(x))\n"
   ]
  },
  {
   "cell_type": "code",
   "execution_count": null,
   "metadata": {
    "scrolled": false
   },
   "outputs": [],
   "source": [
    "for idx,x in enumerate(X_model):\n",
    "    genes=[]\n",
    "    acc_nums=[]\n",
    "    for row in x:\n",
    "        temp = (df.loc[(df['TE0'] == row[0])& (df['TE1']== row[1]) & (df['TE2']== row[2]) & (df['TE3']== row[3]) & (df['TE4']== row[4])])\n",
    "        if(not temp.empty):\n",
    "            genes.append(temp['GeneName'].values[0])\n",
    "            acc_nums.append(temp['AccNum'].values[0])\n",
    "    print(len(x),len(genes))\n",
    "    with open('RPKMoutput/Clusters/5points/TE/GO/Gene'+str(idx+1)+'.txt','w') as f:\n",
    "        for gene in genes:\n",
    "            f.write(\"%s\\n\" % gene)\n",
    "    with open('RPKMoutput/Clusters/5points/TE/GO/AccNum'+str(idx+1)+'.txt','w') as f:\n",
    "        for acc_num in acc_nums:\n",
    "            f.write(\"%s\\n\" % acc_num)"
   ]
  },
  {
   "cell_type": "code",
   "execution_count": null,
   "metadata": {
    "scrolled": false
   },
   "outputs": [],
   "source": []
  }
 ],
 "metadata": {
  "kernelspec": {
   "display_name": "Python 3",
   "language": "python",
   "name": "python3"
  },
  "language_info": {
   "codemirror_mode": {
    "name": "ipython",
    "version": 3
   },
   "file_extension": ".py",
   "mimetype": "text/x-python",
   "name": "python",
   "nbconvert_exporter": "python",
   "pygments_lexer": "ipython3",
   "version": "3.6.4"
  }
 },
 "nbformat": 4,
 "nbformat_minor": 2
}
