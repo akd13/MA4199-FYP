{
 "cells": [
  {
   "cell_type": "code",
   "execution_count": 93,
   "metadata": {},
   "outputs": [],
   "source": [
    "import time\n",
    "import warnings\n",
    "\n",
    "import numpy as np\n",
    "import pandas as pd\n",
    "import matplotlib.pyplot as plt\n",
    "from constants import *\n",
    "\n",
    "from sklearn import datasets\n",
    "from sklearn.mixture import GaussianMixture as GMM\n",
    "from sklearn.model_selection import StratifiedKFold\n",
    "from sklearn.cluster import KMeans,AffinityPropagation\n",
    "\n",
    "import warnings\n",
    "from constants import *\n",
    "import math\n",
    "import seaborn as sns\n",
    "import random\n",
    "import matplotlib.pyplot as plt\n",
    "warnings.filterwarnings(\"ignore\")\n",
    "import dill"
   ]
  },
  {
   "cell_type": "code",
   "execution_count": 94,
   "metadata": {},
   "outputs": [],
   "source": [
    "df = pd.read_csv('/Users/akankshitadash/Desktop/Programs/MA4199/Task 1/MachineLearning/Code/AdjustedRPKMoutput/RNASeq_chrE.txt',sep='\\t')"
   ]
  },
  {
   "cell_type": "code",
   "execution_count": 95,
   "metadata": {},
   "outputs": [
    {
     "data": {
      "text/html": [
       "<div>\n",
       "<style scoped>\n",
       "    .dataframe tbody tr th:only-of-type {\n",
       "        vertical-align: middle;\n",
       "    }\n",
       "\n",
       "    .dataframe tbody tr th {\n",
       "        vertical-align: top;\n",
       "    }\n",
       "\n",
       "    .dataframe thead th {\n",
       "        text-align: right;\n",
       "    }\n",
       "</style>\n",
       "<table border=\"1\" class=\"dataframe\">\n",
       "  <thead>\n",
       "    <tr style=\"text-align: right;\">\n",
       "      <th></th>\n",
       "      <th>AccNum</th>\n",
       "      <th>GeneName</th>\n",
       "      <th>cdReads0</th>\n",
       "      <th>cdRPKM0</th>\n",
       "      <th>cdReads1</th>\n",
       "      <th>cdRPKM1</th>\n",
       "      <th>cdReads2</th>\n",
       "      <th>cdRPKM2</th>\n",
       "      <th>cdReads3</th>\n",
       "      <th>cdRPKM3</th>\n",
       "      <th>cdReads4</th>\n",
       "      <th>cdRPKM4</th>\n",
       "    </tr>\n",
       "  </thead>\n",
       "  <tbody>\n",
       "    <tr>\n",
       "      <th>0</th>\n",
       "      <td>NM_017847</td>\n",
       "      <td>ODR4</td>\n",
       "      <td>50.0</td>\n",
       "      <td>6.605436</td>\n",
       "      <td>62.0</td>\n",
       "      <td>5.568612</td>\n",
       "      <td>71.0</td>\n",
       "      <td>5.308751</td>\n",
       "      <td>30.0</td>\n",
       "      <td>2.859319</td>\n",
       "      <td>51.0</td>\n",
       "      <td>3.102104</td>\n",
       "    </tr>\n",
       "    <tr>\n",
       "      <th>1</th>\n",
       "      <td>NM_001143986</td>\n",
       "      <td>TLE6</td>\n",
       "      <td>4.0</td>\n",
       "      <td>0.419612</td>\n",
       "      <td>6.0</td>\n",
       "      <td>0.427921</td>\n",
       "      <td>3.0</td>\n",
       "      <td>0.178120</td>\n",
       "      <td>3.0</td>\n",
       "      <td>0.227049</td>\n",
       "      <td>3.0</td>\n",
       "      <td>0.144899</td>\n",
       "    </tr>\n",
       "    <tr>\n",
       "      <th>2</th>\n",
       "      <td>NM_001003803</td>\n",
       "      <td>ATP5S</td>\n",
       "      <td>29.0</td>\n",
       "      <td>8.070253</td>\n",
       "      <td>52.0</td>\n",
       "      <td>9.838214</td>\n",
       "      <td>52.0</td>\n",
       "      <td>8.190209</td>\n",
       "      <td>19.0</td>\n",
       "      <td>3.814631</td>\n",
       "      <td>22.0</td>\n",
       "      <td>2.818815</td>\n",
       "    </tr>\n",
       "    <tr>\n",
       "      <th>3</th>\n",
       "      <td>NM_001003800</td>\n",
       "      <td>BICD2</td>\n",
       "      <td>778.0</td>\n",
       "      <td>54.632204</td>\n",
       "      <td>1155.0</td>\n",
       "      <td>55.141030</td>\n",
       "      <td>1444.0</td>\n",
       "      <td>57.390343</td>\n",
       "      <td>706.0</td>\n",
       "      <td>35.767093</td>\n",
       "      <td>883.0</td>\n",
       "      <td>28.548580</td>\n",
       "    </tr>\n",
       "    <tr>\n",
       "      <th>4</th>\n",
       "      <td>NM_016649</td>\n",
       "      <td>ESF1</td>\n",
       "      <td>17.0</td>\n",
       "      <td>1.199367</td>\n",
       "      <td>26.0</td>\n",
       "      <td>1.247097</td>\n",
       "      <td>10.0</td>\n",
       "      <td>0.399306</td>\n",
       "      <td>9.0</td>\n",
       "      <td>0.458095</td>\n",
       "      <td>20.0</td>\n",
       "      <td>0.649663</td>\n",
       "    </tr>\n",
       "  </tbody>\n",
       "</table>\n",
       "</div>"
      ],
      "text/plain": [
       "         AccNum GeneName  cdReads0    cdRPKM0  cdReads1    cdRPKM1  cdReads2  \\\n",
       "0     NM_017847     ODR4      50.0   6.605436      62.0   5.568612      71.0   \n",
       "1  NM_001143986     TLE6       4.0   0.419612       6.0   0.427921       3.0   \n",
       "2  NM_001003803    ATP5S      29.0   8.070253      52.0   9.838214      52.0   \n",
       "3  NM_001003800    BICD2     778.0  54.632204    1155.0  55.141030    1444.0   \n",
       "4     NM_016649     ESF1      17.0   1.199367      26.0   1.247097      10.0   \n",
       "\n",
       "     cdRPKM2  cdReads3    cdRPKM3  cdReads4    cdRPKM4  \n",
       "0   5.308751      30.0   2.859319      51.0   3.102104  \n",
       "1   0.178120       3.0   0.227049       3.0   0.144899  \n",
       "2   8.190209      19.0   3.814631      22.0   2.818815  \n",
       "3  57.390343     706.0  35.767093     883.0  28.548580  \n",
       "4   0.399306       9.0   0.458095      20.0   0.649663  "
      ]
     },
     "execution_count": 95,
     "metadata": {},
     "output_type": "execute_result"
    }
   ],
   "source": [
    "df.head()"
   ]
  },
  {
   "cell_type": "code",
   "execution_count": 96,
   "metadata": {},
   "outputs": [
    {
     "data": {
      "text/plain": [
       "Index(['AccNum', 'GeneName', 'cdReads0', 'cdRPKM0', 'cdReads1', 'cdRPKM1',\n",
       "       'cdReads2', 'cdRPKM2', 'cdReads3', 'cdRPKM3', 'cdReads4', 'cdRPKM4'],\n",
       "      dtype='object')"
      ]
     },
     "execution_count": 96,
     "metadata": {},
     "output_type": "execute_result"
    }
   ],
   "source": [
    "df.keys()"
   ]
  },
  {
   "cell_type": "code",
   "execution_count": 97,
   "metadata": {},
   "outputs": [
    {
     "data": {
      "text/plain": [
       "(12429, 12)"
      ]
     },
     "execution_count": 97,
     "metadata": {},
     "output_type": "execute_result"
    }
   ],
   "source": [
    "df.shape"
   ]
  },
  {
   "cell_type": "code",
   "execution_count": 98,
   "metadata": {},
   "outputs": [
    {
     "name": "stdout",
     "output_type": "stream",
     "text": [
      "/Users/akankshitadash/Desktop/Bayesian Networks/RNASeq_chrE/6/AccNums/AccNum1.txt\n",
      "1182 1182\n",
      "/Users/akankshitadash/Desktop/Bayesian Networks/RNASeq_chrE/6/AccNums/AccNum2.txt\n",
      "1058 1058\n",
      "/Users/akankshitadash/Desktop/Bayesian Networks/RNASeq_chrE/6/AccNums/AccNum3.txt\n",
      "2159 2159\n",
      "/Users/akankshitadash/Desktop/Bayesian Networks/RNASeq_chrE/6/AccNums/AccNum4.txt\n",
      "2475 2475\n",
      "/Users/akankshitadash/Desktop/Bayesian Networks/RNASeq_chrE/6/AccNums/AccNum5.txt\n",
      "1322 1322\n",
      "/Users/akankshitadash/Desktop/Bayesian Networks/RNASeq_chrE/6/AccNums/AccNum6.txt\n",
      "2145 2145\n"
     ]
    }
   ],
   "source": [
    "path =  '/Users/akankshitadash/Desktop/Bayesian Networks/RNASeq_chrE/6/AccNums/'\n",
    "clusters = [[],[],[],[],[],[]]\n",
    "indices = []\n",
    "num = ['6']\n",
    "for i in num: #cluster number\n",
    "    for j in range(int(i)): #sub-cluster within clusters\n",
    "        path_load=path+'AccNum'+str(j+1)+'.txt'\n",
    "        print(path_load)\n",
    "        f = open(path_load, \"r\")\n",
    "        idx=0\n",
    "        for x in f:\n",
    "            if(not df.loc[df['AccNum'] == x[:-1]].empty):\n",
    "                idx+=1\n",
    "                list_new = np.log2(df.loc[df['AccNum'] == x[:-1]][['cdRPKM0','cdRPKM1', 'cdRPKM2', 'cdRPKM3','cdRPKM4']].values[0])\n",
    "                clusters[int(j)-int(i)].append(list_new)\n",
    "        indices.append(len(clusters[int(j)-int(i)]))\n",
    "        print(len(clusters[int(j)-int(i)]),idx)     \n",
    "        \n",
    "        "
   ]
  },
  {
   "cell_type": "code",
   "execution_count": 99,
   "metadata": {},
   "outputs": [
    {
     "name": "stdout",
     "output_type": "stream",
     "text": [
      "[1182, 1058, 2159, 2475, 1322, 2145]\n"
     ]
    }
   ],
   "source": [
    "print(indices)"
   ]
  },
  {
   "cell_type": "code",
   "execution_count": 100,
   "metadata": {},
   "outputs": [],
   "source": [
    "for i in range(1,6):\n",
    "    indices[i]+=indices[i-1]"
   ]
  },
  {
   "cell_type": "code",
   "execution_count": 101,
   "metadata": {},
   "outputs": [
    {
     "name": "stdout",
     "output_type": "stream",
     "text": [
      "[1182, 2240, 4399, 6874, 8196, 10341]\n"
     ]
    }
   ],
   "source": [
    "print(indices)"
   ]
  },
  {
   "cell_type": "code",
   "execution_count": 102,
   "metadata": {},
   "outputs": [
    {
     "data": {
      "image/png": "[encoded data removed]",
      "text/plain": [
       "<matplotlib.figure.Figure at 0x112a87dd8>"
      ]
     },
     "metadata": {},
     "output_type": "display_data"
    }
   ],
   "source": [
    "stacked = []\n",
    "for cluster in clusters:\n",
    "    for row in cluster:\n",
    "        stacked.append(row)\n",
    "\n",
    "ax = sns.heatmap(stacked,xticklabels=['cdRPKM0','cdRPKM1', 'cdRPKM2', 'cdRPKM3','cdRPKM4'],cmap=\"Greens\")\n",
    "ax.hlines(indices, *ax.get_xlim(),color='r')\n",
    "plt.savefig('/Users/akankshitadash/Desktop/Bayesian Networks/RNASeq_chrE/Heatmap6.png')\n",
    "plt.show()"
   ]
  },
  {
   "cell_type": "code",
   "execution_count": 103,
   "metadata": {},
   "outputs": [],
   "source": [
    "# def plot_heatmap(X,idx,indices,path):\n",
    "#     ax = sns.heatmap(X,xticklabels=['TE0','TE1', 'TE2', 'TE3','TE4'])\n",
    "#     plt.title('Heatmap'+str(idx))\n",
    "#     ax.hlines(indices, *ax.get_xlim())\n",
    "#     plt.savefig(path)\n",
    "#     plt.show()\n",
    "    \n",
    "# for idx,cluster in enumerate(clusters):\n",
    "#     path = '/Users/akankshitadash/Desktop/Bayesian Networks/TE_chrE/4/'+str(idx+4)\n",
    "#     plot_heatmap(cluster,idx+4,indices[idx],path)"
   ]
  }
 ],
 "metadata": {
  "kernelspec": {
   "display_name": "Python 3",
   "language": "python",
   "name": "python3"
  },
  "language_info": {
   "codemirror_mode": {
    "name": "ipython",
    "version": 3
   },
   "file_extension": ".py",
   "mimetype": "text/x-python",
   "name": "python",
   "nbconvert_exporter": "python",
   "pygments_lexer": "ipython3",
   "version": "3.6.4"
  }
 },
 "nbformat": 4,
 "nbformat_minor": 2
}
