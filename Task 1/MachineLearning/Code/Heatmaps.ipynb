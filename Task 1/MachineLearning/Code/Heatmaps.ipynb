{
 "cells": [
  {
   "cell_type": "code",
   "execution_count": 1,
   "metadata": {},
   "outputs": [],
   "source": [
    "import time\n",
    "import warnings\n",
    "\n",
    "import numpy as np\n",
    "import pandas as pd\n",
    "import matplotlib.pyplot as plt\n",
    "from constants import *\n",
    "\n",
    "from sklearn import datasets\n",
    "from sklearn.mixture import GaussianMixture as GMM\n",
    "from sklearn.model_selection import StratifiedKFold\n",
    "from sklearn.cluster import KMeans,AffinityPropagation\n",
    "\n",
    "import warnings\n",
    "from constants import *\n",
    "import math\n",
    "import seaborn as sns\n",
    "import random\n",
    "import matplotlib.pyplot as plt\n",
    "warnings.filterwarnings(\"ignore\")\n",
    "import dill"
   ]
  },
  {
   "cell_type": "code",
   "execution_count": 3,
   "metadata": {},
   "outputs": [],
   "source": [
    "df = pd.read_csv('/Users/akankshitadash/Desktop/Programs/MA4199/Task 1/MachineLearning/Code/AdjustedRPKMoutput/TE_chrE_filtered.txt',sep='\\t')\n",
    "\n",
    "\n"
   ]
  },
  {
   "cell_type": "code",
   "execution_count": 4,
   "metadata": {},
   "outputs": [
    {
     "data": {
      "text/html": [
       "<div>\n",
       "<style scoped>\n",
       "    .dataframe tbody tr th:only-of-type {\n",
       "        vertical-align: middle;\n",
       "    }\n",
       "\n",
       "    .dataframe tbody tr th {\n",
       "        vertical-align: top;\n",
       "    }\n",
       "\n",
       "    .dataframe thead th {\n",
       "        text-align: right;\n",
       "    }\n",
       "</style>\n",
       "<table border=\"1\" class=\"dataframe\">\n",
       "  <thead>\n",
       "    <tr style=\"text-align: right;\">\n",
       "      <th></th>\n",
       "      <th>AccNum</th>\n",
       "      <th>GeneName</th>\n",
       "      <th>TE0</th>\n",
       "      <th>TE1</th>\n",
       "      <th>TE2</th>\n",
       "      <th>TE3</th>\n",
       "      <th>TE4</th>\n",
       "      <th>foldTE1</th>\n",
       "      <th>foldTE2</th>\n",
       "      <th>foldTE3</th>\n",
       "      <th>foldTE4</th>\n",
       "    </tr>\n",
       "  </thead>\n",
       "  <tbody>\n",
       "    <tr>\n",
       "      <th>0</th>\n",
       "      <td>NM_017847</td>\n",
       "      <td>ODR4</td>\n",
       "      <td>1.318009</td>\n",
       "      <td>1.243997</td>\n",
       "      <td>1.416672</td>\n",
       "      <td>1.717463</td>\n",
       "      <td>1.757317</td>\n",
       "      <td>-0.074012</td>\n",
       "      <td>0.098663</td>\n",
       "      <td>0.399454</td>\n",
       "      <td>0.439308</td>\n",
       "    </tr>\n",
       "    <tr>\n",
       "      <th>1</th>\n",
       "      <td>NM_001003803</td>\n",
       "      <td>ATP5S</td>\n",
       "      <td>1.904575</td>\n",
       "      <td>1.918597</td>\n",
       "      <td>2.401017</td>\n",
       "      <td>2.690534</td>\n",
       "      <td>2.385348</td>\n",
       "      <td>0.014021</td>\n",
       "      <td>0.496441</td>\n",
       "      <td>0.785959</td>\n",
       "      <td>0.480773</td>\n",
       "    </tr>\n",
       "    <tr>\n",
       "      <th>2</th>\n",
       "      <td>NM_001003800</td>\n",
       "      <td>BICD2</td>\n",
       "      <td>-0.212253</td>\n",
       "      <td>-0.326054</td>\n",
       "      <td>-0.394399</td>\n",
       "      <td>-0.043000</td>\n",
       "      <td>0.203561</td>\n",
       "      <td>-0.113801</td>\n",
       "      <td>-0.182145</td>\n",
       "      <td>0.169253</td>\n",
       "      <td>0.415814</td>\n",
       "    </tr>\n",
       "    <tr>\n",
       "      <th>3</th>\n",
       "      <td>NM_016647</td>\n",
       "      <td>THEM6</td>\n",
       "      <td>0.057710</td>\n",
       "      <td>0.211936</td>\n",
       "      <td>0.366747</td>\n",
       "      <td>0.714460</td>\n",
       "      <td>0.559378</td>\n",
       "      <td>0.154226</td>\n",
       "      <td>0.309037</td>\n",
       "      <td>0.656751</td>\n",
       "      <td>0.501668</td>\n",
       "    </tr>\n",
       "    <tr>\n",
       "      <th>4</th>\n",
       "      <td>NM_016640</td>\n",
       "      <td>MRPS30</td>\n",
       "      <td>0.562779</td>\n",
       "      <td>0.555941</td>\n",
       "      <td>0.268715</td>\n",
       "      <td>0.379276</td>\n",
       "      <td>0.831364</td>\n",
       "      <td>-0.006838</td>\n",
       "      <td>-0.294065</td>\n",
       "      <td>-0.183503</td>\n",
       "      <td>0.268585</td>\n",
       "    </tr>\n",
       "  </tbody>\n",
       "</table>\n",
       "</div>"
      ],
      "text/plain": [
       "         AccNum GeneName       TE0       TE1       TE2       TE3       TE4  \\\n",
       "0     NM_017847     ODR4  1.318009  1.243997  1.416672  1.717463  1.757317   \n",
       "1  NM_001003803    ATP5S  1.904575  1.918597  2.401017  2.690534  2.385348   \n",
       "2  NM_001003800    BICD2 -0.212253 -0.326054 -0.394399 -0.043000  0.203561   \n",
       "3     NM_016647    THEM6  0.057710  0.211936  0.366747  0.714460  0.559378   \n",
       "4     NM_016640   MRPS30  0.562779  0.555941  0.268715  0.379276  0.831364   \n",
       "\n",
       "    foldTE1   foldTE2   foldTE3   foldTE4  \n",
       "0 -0.074012  0.098663  0.399454  0.439308  \n",
       "1  0.014021  0.496441  0.785959  0.480773  \n",
       "2 -0.113801 -0.182145  0.169253  0.415814  \n",
       "3  0.154226  0.309037  0.656751  0.501668  \n",
       "4 -0.006838 -0.294065 -0.183503  0.268585  "
      ]
     },
     "execution_count": 4,
     "metadata": {},
     "output_type": "execute_result"
    }
   ],
   "source": [
    "df.head()"
   ]
  },
  {
   "cell_type": "code",
   "execution_count": 5,
   "metadata": {},
   "outputs": [
    {
     "data": {
      "text/plain": [
       "Index(['AccNum', 'GeneName', 'TE0', 'TE1', 'TE2', 'TE3', 'TE4', 'foldTE1',\n",
       "       'foldTE2', 'foldTE3', 'foldTE4'],\n",
       "      dtype='object')"
      ]
     },
     "execution_count": 5,
     "metadata": {},
     "output_type": "execute_result"
    }
   ],
   "source": [
    "df.keys()"
   ]
  },
  {
   "cell_type": "code",
   "execution_count": 6,
   "metadata": {},
   "outputs": [
    {
     "data": {
      "text/plain": [
       "(5642, 11)"
      ]
     },
     "execution_count": 6,
     "metadata": {},
     "output_type": "execute_result"
    }
   ],
   "source": [
    "df.shape"
   ]
  },
  {
   "cell_type": "code",
   "execution_count": 35,
   "metadata": {},
   "outputs": [
    {
     "name": "stdout",
     "output_type": "stream",
     "text": [
      "/Users/akankshitadash/Desktop/TE_chrE_filtered/4/AccNums/AccNum1.txt\n",
      "913 913\n",
      "/Users/akankshitadash/Desktop/TE_chrE_filtered/4/AccNums/AccNum2.txt\n",
      "3474 3474\n",
      "/Users/akankshitadash/Desktop/TE_chrE_filtered/4/AccNums/AccNum3.txt\n",
      "286 286\n",
      "/Users/akankshitadash/Desktop/TE_chrE_filtered/4/AccNums/AccNum4.txt\n",
      "969 969\n"
     ]
    }
   ],
   "source": [
    "path =  '/Users/akankshitadash/Desktop/TE_chrE_filtered/4/AccNums/'\n",
    "clusters = [[],[],[],[]]\n",
    "indices = []\n",
    "num = ['4']\n",
    "for i in num: #cluster number\n",
    "    for j in range(int(i)): #sub-cluster within clusters\n",
    "        path_load=path+'AccNum'+str(j+1)+'.txt'\n",
    "        print(path_load)\n",
    "        f = open(path_load, \"r\")\n",
    "        idx=0\n",
    "        for x in f:\n",
    "            if(not df.loc[df['AccNum'] == x[:-1]].empty):\n",
    "                idx+=1\n",
    "                list_new = df.loc[df['AccNum'] == x[:-1]][['foldTE1',\n",
    "       'foldTE2', 'foldTE3', 'foldTE4']].values[0]\n",
    "                clusters[int(j)-int(i)].append(list_new)\n",
    "        indices.append(len(clusters[int(j)-int(i)]))\n",
    "        print(len(clusters[int(j)-int(i)]),idx)     \n",
    "        \n",
    "        "
   ]
  },
  {
   "cell_type": "code",
   "execution_count": 36,
   "metadata": {},
   "outputs": [
    {
     "name": "stdout",
     "output_type": "stream",
     "text": [
      "[913, 3474, 286, 969]\n"
     ]
    }
   ],
   "source": [
    "print(indices)"
   ]
  },
  {
   "cell_type": "code",
   "execution_count": 37,
   "metadata": {},
   "outputs": [],
   "source": [
    "for i in range(1,4):\n",
    "    indices[i]+=indices[i-1]"
   ]
  },
  {
   "cell_type": "code",
   "execution_count": 38,
   "metadata": {},
   "outputs": [
    {
     "name": "stdout",
     "output_type": "stream",
     "text": [
      "[913, 4387, 4673, 5642]\n"
     ]
    }
   ],
   "source": [
    "print(indices)"
   ]
  },
  {
   "cell_type": "code",
   "execution_count": 39,
   "metadata": {},
   "outputs": [
    {
     "data": {
      "image/png": "[encoded data removed]",
      "text/plain": [
       "<matplotlib.figure.Figure at 0x11c22cef0>"
      ]
     },
     "metadata": {},
     "output_type": "display_data"
    }
   ],
   "source": [
    "stacked = []\n",
    "for cluster in clusters:\n",
    "    for row in cluster:\n",
    "        stacked.append(row)\n",
    "\n",
    "ax = sns.heatmap(stacked,xticklabels=['foldTE1',\n",
    "       'foldTE2', 'foldTE3', 'foldTE4'])\n",
    "ax.hlines(indices, *ax.get_xlim(),color='b')\n",
    "plt.savefig('/Users/akankshitadash/Desktop/TE_chrE_filtered/Heatmap4.png')\n",
    "plt.show()"
   ]
  },
  {
   "cell_type": "code",
   "execution_count": 103,
   "metadata": {},
   "outputs": [],
   "source": [
    "# def plot_heatmap(X,idx,indices,path):\n",
    "#     ax = sns.heatmap(X,xticklabels=['TE0','TE1', 'TE2', 'TE3','TE4'])\n",
    "#     plt.title('Heatmap'+str(idx))\n",
    "#     ax.hlines(indices, *ax.get_xlim())\n",
    "#     plt.savefig(path)\n",
    "#     plt.show()\n",
    "    \n",
    "# for idx,cluster in enumerate(clusters):\n",
    "#     path = '/Users/akankshitadash/Desktop/Bayesian Networks/TE_chrE/4/'+str(idx+4)\n",
    "#     plot_heatmap(cluster,idx+4,indices[idx],path)"
   ]
  }
 ],
 "metadata": {
  "kernelspec": {
   "display_name": "Python 3",
   "language": "python",
   "name": "python3"
  },
  "language_info": {
   "codemirror_mode": {
    "name": "ipython",
    "version": 3
   },
   "file_extension": ".py",
   "mimetype": "text/x-python",
   "name": "python",
   "nbconvert_exporter": "python",
   "pygments_lexer": "ipython3",
   "version": "3.6.4"
  }
 },
 "nbformat": 4,
 "nbformat_minor": 2
}
