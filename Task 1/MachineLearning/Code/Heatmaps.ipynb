{
 "cells": [
  {
   "cell_type": "code",
   "execution_count": 1,
   "metadata": {},
   "outputs": [],
   "source": [
    "import numpy as np\n",
    "import pandas as pd\n",
    "import warnings\n",
    "import math\n",
    "import seaborn as sns\n",
    "import matplotlib.pyplot as plt\n",
    "warnings.filterwarnings(\"ignore\")"
   ]
  },
  {
   "cell_type": "code",
   "execution_count": 2,
   "metadata": {},
   "outputs": [],
   "source": [
    "df = pd.read_csv('/Users/akankshitadash/Desktop/Programs/MA4199/Task 1/MachineLearning/Code/Replicate2/TE_chrE_filtered.txt',sep='\\t')\n"
   ]
  },
  {
   "cell_type": "code",
   "execution_count": 3,
   "metadata": {},
   "outputs": [
    {
     "data": {
      "text/html": [
       "<div>\n",
       "<style scoped>\n",
       "    .dataframe tbody tr th:only-of-type {\n",
       "        vertical-align: middle;\n",
       "    }\n",
       "\n",
       "    .dataframe tbody tr th {\n",
       "        vertical-align: top;\n",
       "    }\n",
       "\n",
       "    .dataframe thead th {\n",
       "        text-align: right;\n",
       "    }\n",
       "</style>\n",
       "<table border=\"1\" class=\"dataframe\">\n",
       "  <thead>\n",
       "    <tr style=\"text-align: right;\">\n",
       "      <th></th>\n",
       "      <th>AccNum</th>\n",
       "      <th>GeneName</th>\n",
       "      <th>TE0</th>\n",
       "      <th>TE1</th>\n",
       "      <th>TE2</th>\n",
       "      <th>TE3</th>\n",
       "      <th>TE4</th>\n",
       "      <th>foldTE1</th>\n",
       "      <th>foldTE2</th>\n",
       "      <th>foldTE3</th>\n",
       "      <th>foldTE4</th>\n",
       "    </tr>\n",
       "  </thead>\n",
       "  <tbody>\n",
       "    <tr>\n",
       "      <th>0</th>\n",
       "      <td>NM_001003803</td>\n",
       "      <td>ATP5S</td>\n",
       "      <td>1.771663</td>\n",
       "      <td>1.623404</td>\n",
       "      <td>1.465394</td>\n",
       "      <td>0.647103</td>\n",
       "      <td>1.930694</td>\n",
       "      <td>-0.148259</td>\n",
       "      <td>-0.306269</td>\n",
       "      <td>-1.124560</td>\n",
       "      <td>0.159031</td>\n",
       "    </tr>\n",
       "    <tr>\n",
       "      <th>1</th>\n",
       "      <td>NM_001003800</td>\n",
       "      <td>BICD2</td>\n",
       "      <td>-0.606712</td>\n",
       "      <td>-0.590100</td>\n",
       "      <td>-0.680005</td>\n",
       "      <td>-0.491531</td>\n",
       "      <td>0.363802</td>\n",
       "      <td>0.016612</td>\n",
       "      <td>-0.073293</td>\n",
       "      <td>0.115181</td>\n",
       "      <td>0.970514</td>\n",
       "    </tr>\n",
       "    <tr>\n",
       "      <th>2</th>\n",
       "      <td>NM_016640</td>\n",
       "      <td>MRPS30</td>\n",
       "      <td>0.655493</td>\n",
       "      <td>0.615126</td>\n",
       "      <td>0.244848</td>\n",
       "      <td>0.162678</td>\n",
       "      <td>0.974128</td>\n",
       "      <td>-0.040367</td>\n",
       "      <td>-0.410645</td>\n",
       "      <td>-0.492815</td>\n",
       "      <td>0.318635</td>\n",
       "    </tr>\n",
       "    <tr>\n",
       "      <th>3</th>\n",
       "      <td>NM_001304467</td>\n",
       "      <td>EEF1AKMT2</td>\n",
       "      <td>0.139172</td>\n",
       "      <td>0.507027</td>\n",
       "      <td>0.150521</td>\n",
       "      <td>-0.456894</td>\n",
       "      <td>1.292490</td>\n",
       "      <td>0.367854</td>\n",
       "      <td>0.011348</td>\n",
       "      <td>-0.596067</td>\n",
       "      <td>1.153317</td>\n",
       "    </tr>\n",
       "    <tr>\n",
       "      <th>4</th>\n",
       "      <td>NM_001080825</td>\n",
       "      <td>TMEM120B</td>\n",
       "      <td>0.902133</td>\n",
       "      <td>1.213467</td>\n",
       "      <td>0.150521</td>\n",
       "      <td>0.884143</td>\n",
       "      <td>2.177961</td>\n",
       "      <td>0.311334</td>\n",
       "      <td>-0.751612</td>\n",
       "      <td>-0.017991</td>\n",
       "      <td>1.275828</td>\n",
       "    </tr>\n",
       "  </tbody>\n",
       "</table>\n",
       "</div>"
      ],
      "text/plain": [
       "         AccNum   GeneName       TE0       TE1       TE2       TE3       TE4  \\\n",
       "0  NM_001003803      ATP5S  1.771663  1.623404  1.465394  0.647103  1.930694   \n",
       "1  NM_001003800      BICD2 -0.606712 -0.590100 -0.680005 -0.491531  0.363802   \n",
       "2     NM_016640     MRPS30  0.655493  0.615126  0.244848  0.162678  0.974128   \n",
       "3  NM_001304467  EEF1AKMT2  0.139172  0.507027  0.150521 -0.456894  1.292490   \n",
       "4  NM_001080825   TMEM120B  0.902133  1.213467  0.150521  0.884143  2.177961   \n",
       "\n",
       "    foldTE1   foldTE2   foldTE3   foldTE4  \n",
       "0 -0.148259 -0.306269 -1.124560  0.159031  \n",
       "1  0.016612 -0.073293  0.115181  0.970514  \n",
       "2 -0.040367 -0.410645 -0.492815  0.318635  \n",
       "3  0.367854  0.011348 -0.596067  1.153317  \n",
       "4  0.311334 -0.751612 -0.017991  1.275828  "
      ]
     },
     "execution_count": 3,
     "metadata": {},
     "output_type": "execute_result"
    }
   ],
   "source": [
    "df.head()"
   ]
  },
  {
   "cell_type": "code",
   "execution_count": 4,
   "metadata": {},
   "outputs": [
    {
     "data": {
      "text/plain": [
       "Index(['AccNum', 'GeneName', 'TE0', 'TE1', 'TE2', 'TE3', 'TE4', 'foldTE1',\n",
       "       'foldTE2', 'foldTE3', 'foldTE4'],\n",
       "      dtype='object')"
      ]
     },
     "execution_count": 4,
     "metadata": {},
     "output_type": "execute_result"
    }
   ],
   "source": [
    "df.keys()"
   ]
  },
  {
   "cell_type": "code",
   "execution_count": 5,
   "metadata": {},
   "outputs": [
    {
     "data": {
      "text/plain": [
       "(6175, 11)"
      ]
     },
     "execution_count": 5,
     "metadata": {},
     "output_type": "execute_result"
    }
   ],
   "source": [
    "df.shape"
   ]
  },
  {
   "cell_type": "code",
   "execution_count": 9,
   "metadata": {},
   "outputs": [
    {
     "name": "stdout",
     "output_type": "stream",
     "text": [
      "/Users/akankshitadash/Desktop/Bayesian Networks/TE+log2foldTE/6/AccNum1.txt\n",
      "2124 2124\n",
      "/Users/akankshitadash/Desktop/Bayesian Networks/TE+log2foldTE/6/AccNum2.txt\n",
      "1091 1091\n",
      "/Users/akankshitadash/Desktop/Bayesian Networks/TE+log2foldTE/6/AccNum3.txt\n",
      "697 697\n",
      "/Users/akankshitadash/Desktop/Bayesian Networks/TE+log2foldTE/6/AccNum4.txt\n",
      "692 692\n",
      "/Users/akankshitadash/Desktop/Bayesian Networks/TE+log2foldTE/6/AccNum5.txt\n",
      "655 655\n",
      "/Users/akankshitadash/Desktop/Bayesian Networks/TE+log2foldTE/6/AccNum6.txt\n",
      "916 916\n",
      "[2124, 1091, 697, 692, 655, 916]\n",
      "[2124, 3215, 3912, 4604, 5259, 6175]\n"
     ]
    },
    {
     "data": {
      "image/png": "[encoded data removed]",
      "text/plain": [
       "<Figure size 432x288 with 2 Axes>"
      ]
     },
     "metadata": {},
     "output_type": "display_data"
    }
   ],
   "source": [
    "path_beginning =  '/Users/akankshitadash/Desktop/Bayesian Networks/TE+log2foldTE/'\n",
    "num = ['4','5','6']\n",
    "for i in num: #cluster number\n",
    "    path = path_beginning+i+'/'\n",
    "    clusters = [[] for i in range(int(i))]\n",
    "    indices = []\n",
    "    for j in range(int(i)): #sub-cluster within clusters\n",
    "        path_load=path+'AccNum'+str(j+1)+'.txt'\n",
    "        print(path_load)\n",
    "        f = open(path_load, \"r\")\n",
    "        idx=0\n",
    "        for x in f:\n",
    "            if(not df.loc[df['AccNum'] == x[:-1]].empty):\n",
    "                idx+=1\n",
    "                list_new = df.loc[df['AccNum'] == x[:-1]][['TE0', 'TE1', 'TE2', 'TE3', 'TE4', 'foldTE1',\n",
    "       'foldTE2', 'foldTE3', 'foldTE4']].values[0]\n",
    "                clusters[int(j)-int(i)].append(list_new)\n",
    "        indices.append(len(clusters[int(j)-int(i)]))\n",
    "        print(len(clusters[int(j)-int(i)]),idx)     \n",
    "    print(indices)\n",
    "    for j in range(1,int(i)):\n",
    "        indices[j]+=indices[j-1]\n",
    "    print(indices)\n",
    "    stacked = []\n",
    "    for cluster in clusters:\n",
    "        for row in cluster:\n",
    "            stacked.append(row)\n",
    "\n",
    "    ax = sns.heatmap(stacked,xticklabels=['TE0', 'TE1', 'TE2', 'TE3', 'TE4', 'foldTE1',\n",
    "       'foldTE2', 'foldTE3', 'foldTE4'])\n",
    "    ax.hlines(indices, *ax.get_xlim())\n",
    "    plt.title('Heatmap'+str(i))\n",
    "    plt.savefig(path_beginning+'Heatmap'+str(i)+'.png')\n",
    "    plt.show()"
   ]
  },
  {
   "cell_type": "code",
   "execution_count": null,
   "metadata": {},
   "outputs": [],
   "source": [
    "# print(indices)"
   ]
  },
  {
   "cell_type": "code",
   "execution_count": null,
   "metadata": {},
   "outputs": [],
   "source": [
    "# for i in range(1,int(i)):\n",
    "#     indices[i]+=indices[i-1]"
   ]
  },
  {
   "cell_type": "code",
   "execution_count": null,
   "metadata": {},
   "outputs": [],
   "source": [
    "# print(indices)"
   ]
  },
  {
   "cell_type": "code",
   "execution_count": null,
   "metadata": {},
   "outputs": [],
   "source": [
    "# stacked = []\n",
    "# for cluster in clusters:\n",
    "#     for row in cluster:\n",
    "#         stacked.append(row)\n",
    "\n",
    "# ax = sns.heatmap(stacked,xticklabels=['foldTE1',\n",
    "#        'foldTE2', 'foldTE3', 'foldTE4'])\n",
    "# ax.hlines(indices, *ax.get_xlim())\n",
    "# plt.savefig('/Users/akankshitadash/Desktop/Mock/Heatmap'+str(i)+'.png')\n",
    "# plt.show()"
   ]
  },
  {
   "cell_type": "code",
   "execution_count": null,
   "metadata": {},
   "outputs": [],
   "source": [
    "# def plot_heatmap(X,idx,indices,path):\n",
    "#     ax = sns.heatmap(X,xticklabels=['TE0','TE1', 'TE2', 'TE3','TE4'])\n",
    "#     plt.title('Heatmap'+str(idx))\n",
    "#     ax.hlines(indices, *ax.get_xlim())\n",
    "#     plt.savefig(path)\n",
    "#     plt.show()\n",
    "    \n",
    "# for idx,cluster in enumerate(clusters):\n",
    "#     path = '/Users/akankshitadash/Desktop/Bayesian Networks/TE_chrE/4/'+str(idx+4)\n",
    "#     plot_heatmap(cluster,idx+4,indices[idx],path)"
   ]
  }
 ],
 "metadata": {
  "kernelspec": {
   "display_name": "Python 3",
   "language": "python",
   "name": "python3"
  },
  "language_info": {
   "codemirror_mode": {
    "name": "ipython",
    "version": 3
   },
   "file_extension": ".py",
   "mimetype": "text/x-python",
   "name": "python",
   "nbconvert_exporter": "python",
   "pygments_lexer": "ipython3",
   "version": "3.6.4"
  }
 },
 "nbformat": 4,
 "nbformat_minor": 2
}
