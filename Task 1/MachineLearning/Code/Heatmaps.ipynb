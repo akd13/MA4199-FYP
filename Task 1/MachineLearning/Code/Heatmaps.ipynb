{
 "cells": [
  {
   "cell_type": "code",
   "execution_count": 1,
   "metadata": {},
   "outputs": [],
   "source": [
    "import numpy as np\n",
    "import pandas as pd\n",
    "import warnings\n",
    "import math\n",
    "import seaborn as sns\n",
    "import matplotlib.pyplot as plt\n",
    "warnings.filterwarnings(\"ignore\")"
   ]
  },
  {
   "cell_type": "code",
   "execution_count": 11,
   "metadata": {},
   "outputs": [],
   "source": [
    "df = pd.read_csv('/Users/akankshitadash/Desktop/Programs/MA4199/Task 1/MachineLearning/Code/'+\n",
    "                 'Replicate2/TE_chrE_filtered_mockT0added.txt',sep='\\t')\n"
   ]
  },
  {
   "cell_type": "code",
   "execution_count": 12,
   "metadata": {},
   "outputs": [
    {
     "data": {
      "text/html": [
       "<div>\n",
       "<style scoped>\n",
       "    .dataframe tbody tr th:only-of-type {\n",
       "        vertical-align: middle;\n",
       "    }\n",
       "\n",
       "    .dataframe tbody tr th {\n",
       "        vertical-align: top;\n",
       "    }\n",
       "\n",
       "    .dataframe thead th {\n",
       "        text-align: right;\n",
       "    }\n",
       "</style>\n",
       "<table border=\"1\" class=\"dataframe\">\n",
       "  <thead>\n",
       "    <tr style=\"text-align: right;\">\n",
       "      <th></th>\n",
       "      <th>AccNum</th>\n",
       "      <th>GeneName</th>\n",
       "      <th>TE0</th>\n",
       "      <th>TE1</th>\n",
       "      <th>TE2</th>\n",
       "      <th>TE3</th>\n",
       "      <th>TE4</th>\n",
       "      <th>TE5</th>\n",
       "      <th>foldTE1</th>\n",
       "      <th>foldTE2</th>\n",
       "      <th>foldTE3</th>\n",
       "      <th>foldTE4</th>\n",
       "      <th>foldTE5</th>\n",
       "    </tr>\n",
       "  </thead>\n",
       "  <tbody>\n",
       "    <tr>\n",
       "      <th>0</th>\n",
       "      <td>NM_001003803</td>\n",
       "      <td>ATP5S</td>\n",
       "      <td>1.770882</td>\n",
       "      <td>1.771663</td>\n",
       "      <td>1.623404</td>\n",
       "      <td>1.465394</td>\n",
       "      <td>0.647103</td>\n",
       "      <td>1.930694</td>\n",
       "      <td>0.000782</td>\n",
       "      <td>-0.147478</td>\n",
       "      <td>-0.305488</td>\n",
       "      <td>-1.123778</td>\n",
       "      <td>0.159812</td>\n",
       "    </tr>\n",
       "    <tr>\n",
       "      <th>1</th>\n",
       "      <td>NM_001003800</td>\n",
       "      <td>BICD2</td>\n",
       "      <td>-0.722232</td>\n",
       "      <td>-0.606712</td>\n",
       "      <td>-0.590100</td>\n",
       "      <td>-0.680005</td>\n",
       "      <td>-0.491531</td>\n",
       "      <td>0.363802</td>\n",
       "      <td>0.115520</td>\n",
       "      <td>0.132132</td>\n",
       "      <td>0.042227</td>\n",
       "      <td>0.230701</td>\n",
       "      <td>1.086034</td>\n",
       "    </tr>\n",
       "    <tr>\n",
       "      <th>2</th>\n",
       "      <td>NM_016640</td>\n",
       "      <td>MRPS30</td>\n",
       "      <td>0.402693</td>\n",
       "      <td>0.655493</td>\n",
       "      <td>0.615126</td>\n",
       "      <td>0.244848</td>\n",
       "      <td>0.162678</td>\n",
       "      <td>0.974128</td>\n",
       "      <td>0.252801</td>\n",
       "      <td>0.212433</td>\n",
       "      <td>-0.157844</td>\n",
       "      <td>-0.240015</td>\n",
       "      <td>0.571436</td>\n",
       "    </tr>\n",
       "    <tr>\n",
       "      <th>3</th>\n",
       "      <td>NM_001080825</td>\n",
       "      <td>TMEM120B</td>\n",
       "      <td>0.713396</td>\n",
       "      <td>0.902133</td>\n",
       "      <td>1.213467</td>\n",
       "      <td>0.150521</td>\n",
       "      <td>0.884143</td>\n",
       "      <td>2.177961</td>\n",
       "      <td>0.188737</td>\n",
       "      <td>0.500071</td>\n",
       "      <td>-0.562875</td>\n",
       "      <td>0.170746</td>\n",
       "      <td>1.464565</td>\n",
       "    </tr>\n",
       "    <tr>\n",
       "      <th>4</th>\n",
       "      <td>NM_001008781</td>\n",
       "      <td>FAT3</td>\n",
       "      <td>-0.859451</td>\n",
       "      <td>-0.818037</td>\n",
       "      <td>-1.006214</td>\n",
       "      <td>-0.824733</td>\n",
       "      <td>-1.089780</td>\n",
       "      <td>-0.158767</td>\n",
       "      <td>0.041414</td>\n",
       "      <td>-0.146763</td>\n",
       "      <td>0.034719</td>\n",
       "      <td>-0.230329</td>\n",
       "      <td>0.700684</td>\n",
       "    </tr>\n",
       "  </tbody>\n",
       "</table>\n",
       "</div>"
      ],
      "text/plain": [
       "         AccNum  GeneName       TE0       TE1       TE2       TE3       TE4  \\\n",
       "0  NM_001003803     ATP5S  1.770882  1.771663  1.623404  1.465394  0.647103   \n",
       "1  NM_001003800     BICD2 -0.722232 -0.606712 -0.590100 -0.680005 -0.491531   \n",
       "2     NM_016640    MRPS30  0.402693  0.655493  0.615126  0.244848  0.162678   \n",
       "3  NM_001080825  TMEM120B  0.713396  0.902133  1.213467  0.150521  0.884143   \n",
       "4  NM_001008781      FAT3 -0.859451 -0.818037 -1.006214 -0.824733 -1.089780   \n",
       "\n",
       "        TE5   foldTE1   foldTE2   foldTE3   foldTE4   foldTE5  \n",
       "0  1.930694  0.000782 -0.147478 -0.305488 -1.123778  0.159812  \n",
       "1  0.363802  0.115520  0.132132  0.042227  0.230701  1.086034  \n",
       "2  0.974128  0.252801  0.212433 -0.157844 -0.240015  0.571436  \n",
       "3  2.177961  0.188737  0.500071 -0.562875  0.170746  1.464565  \n",
       "4 -0.158767  0.041414 -0.146763  0.034719 -0.230329  0.700684  "
      ]
     },
     "execution_count": 12,
     "metadata": {},
     "output_type": "execute_result"
    }
   ],
   "source": [
    "df.head()"
   ]
  },
  {
   "cell_type": "code",
   "execution_count": 13,
   "metadata": {},
   "outputs": [
    {
     "data": {
      "text/plain": [
       "Index(['AccNum', 'GeneName', 'TE0', 'TE1', 'TE2', 'TE3', 'TE4', 'TE5',\n",
       "       'foldTE1', 'foldTE2', 'foldTE3', 'foldTE4', 'foldTE5'],\n",
       "      dtype='object')"
      ]
     },
     "execution_count": 13,
     "metadata": {},
     "output_type": "execute_result"
    }
   ],
   "source": [
    "df.keys()"
   ]
  },
  {
   "cell_type": "code",
   "execution_count": 14,
   "metadata": {},
   "outputs": [
    {
     "data": {
      "text/plain": [
       "(5801, 13)"
      ]
     },
     "execution_count": 14,
     "metadata": {},
     "output_type": "execute_result"
    }
   ],
   "source": [
    "df.shape"
   ]
  },
  {
   "cell_type": "code",
   "execution_count": 15,
   "metadata": {},
   "outputs": [
    {
     "name": "stdout",
     "output_type": "stream",
     "text": [
      "/Users/akankshitadash/Desktop/Replicate2/MockT0Added/4/AccNum1.txt\n",
      "1600 1600\n",
      "/Users/akankshitadash/Desktop/Replicate2/MockT0Added/4/AccNum2.txt\n",
      "1446 1446\n",
      "/Users/akankshitadash/Desktop/Replicate2/MockT0Added/4/AccNum3.txt\n",
      "2343 2343\n",
      "/Users/akankshitadash/Desktop/Replicate2/MockT0Added/4/AccNum4.txt\n",
      "412 412\n",
      "[1600, 1446, 2343, 412]\n",
      "[1600, 3046, 5389, 5801]\n"
     ]
    },
    {
     "data": {
      "image/png": "[encoded data removed]",
      "text/plain": [
       "<Figure size 432x288 with 2 Axes>"
      ]
     },
     "metadata": {},
     "output_type": "display_data"
    },
    {
     "name": "stdout",
     "output_type": "stream",
     "text": [
      "/Users/akankshitadash/Desktop/Replicate2/MockT0Added/5/AccNum1.txt\n",
      "283 283\n",
      "/Users/akankshitadash/Desktop/Replicate2/MockT0Added/5/AccNum2.txt\n",
      "1904 1904\n",
      "/Users/akankshitadash/Desktop/Replicate2/MockT0Added/5/AccNum3.txt\n",
      "1640 1640\n",
      "/Users/akankshitadash/Desktop/Replicate2/MockT0Added/5/AccNum4.txt\n",
      "1021 1021\n",
      "/Users/akankshitadash/Desktop/Replicate2/MockT0Added/5/AccNum5.txt\n",
      "953 953\n",
      "[283, 1904, 1640, 1021, 953]\n",
      "[283, 2187, 3827, 4848, 5801]\n"
     ]
    },
    {
     "data": {
      "image/png": "[encoded data removed]",
      "text/plain": [
       "<Figure size 432x288 with 2 Axes>"
      ]
     },
     "metadata": {},
     "output_type": "display_data"
    },
    {
     "name": "stdout",
     "output_type": "stream",
     "text": [
      "/Users/akankshitadash/Desktop/Replicate2/MockT0Added/6/AccNum1.txt\n",
      "869 869\n",
      "/Users/akankshitadash/Desktop/Replicate2/MockT0Added/6/AccNum2.txt\n",
      "933 933\n",
      "/Users/akankshitadash/Desktop/Replicate2/MockT0Added/6/AccNum3.txt\n",
      "1772 1772\n",
      "/Users/akankshitadash/Desktop/Replicate2/MockT0Added/6/AccNum4.txt\n",
      "1051 1051\n",
      "/Users/akankshitadash/Desktop/Replicate2/MockT0Added/6/AccNum5.txt\n",
      "899 899\n",
      "/Users/akankshitadash/Desktop/Replicate2/MockT0Added/6/AccNum6.txt\n",
      "277 277\n",
      "[869, 933, 1772, 1051, 899, 277]\n",
      "[869, 1802, 3574, 4625, 5524, 5801]\n"
     ]
    },
    {
     "data": {
      "image/png": "[encoded data removed]",
      "text/plain": [
       "<Figure size 432x288 with 2 Axes>"
      ]
     },
     "metadata": {},
     "output_type": "display_data"
    }
   ],
   "source": [
    "path_beginning =  '/Users/akankshitadash/Desktop/Replicate2/MockT0Added/'\n",
    "num = ['4','5','6']\n",
    "for i in num: #cluster number\n",
    "    path = path_beginning+i+'/'\n",
    "    clusters = [[] for i in range(int(i))]\n",
    "    indices = []\n",
    "    for j in range(int(i)): #sub-cluster within clusters\n",
    "        path_load=path+'AccNum'+str(j+1)+'.txt'\n",
    "        print(path_load)\n",
    "        f = open(path_load, \"r\")\n",
    "        idx=0\n",
    "        for x in f:\n",
    "            if(not df.loc[df['AccNum'] == x[:-1]].empty):\n",
    "                idx+=1\n",
    "                list_new = df.loc[df['AccNum'] == x[:-1]][['foldTE1',\n",
    "       'foldTE2', 'foldTE3', 'foldTE4','foldTE5']].values[0]\n",
    "                clusters[int(j)-int(i)].append(list_new)\n",
    "        indices.append(len(clusters[int(j)-int(i)]))\n",
    "        print(len(clusters[int(j)-int(i)]),idx)     \n",
    "    print(indices)\n",
    "    for j in range(1,int(i)):\n",
    "        indices[j]+=indices[j-1]\n",
    "    print(indices)\n",
    "    stacked = []\n",
    "    for cluster in clusters:\n",
    "        for row in cluster:\n",
    "            stacked.append(row)\n",
    "\n",
    "    ax = sns.heatmap(stacked,xticklabels=['foldTE1',\n",
    "       'foldTE2', 'foldTE3', 'foldTE4','foldTE5'])\n",
    "    ax.hlines(indices, *ax.get_xlim())\n",
    "    plt.title('Heatmap'+str(i))\n",
    "    plt.savefig(path_beginning+'Heatmap'+str(i)+'.png')\n",
    "    plt.show()"
   ]
  },
  {
   "cell_type": "code",
   "execution_count": null,
   "metadata": {},
   "outputs": [],
   "source": [
    "# print(indices)"
   ]
  },
  {
   "cell_type": "code",
   "execution_count": null,
   "metadata": {},
   "outputs": [],
   "source": [
    "# for i in range(1,int(i)):\n",
    "#     indices[i]+=indices[i-1]"
   ]
  },
  {
   "cell_type": "code",
   "execution_count": null,
   "metadata": {},
   "outputs": [],
   "source": [
    "# print(indices)"
   ]
  },
  {
   "cell_type": "code",
   "execution_count": null,
   "metadata": {},
   "outputs": [],
   "source": [
    "# stacked = []\n",
    "# for cluster in clusters:\n",
    "#     for row in cluster:\n",
    "#         stacked.append(row)\n",
    "\n",
    "# ax = sns.heatmap(stacked,xticklabels=['foldTE1',\n",
    "#        'foldTE2', 'foldTE3', 'foldTE4'])\n",
    "# ax.hlines(indices, *ax.get_xlim())\n",
    "# plt.savefig('/Users/akankshitadash/Desktop/Mock/Heatmap'+str(i)+'.png')\n",
    "# plt.show()"
   ]
  },
  {
   "cell_type": "code",
   "execution_count": null,
   "metadata": {},
   "outputs": [],
   "source": [
    "# def plot_heatmap(X,idx,indices,path):\n",
    "#     ax = sns.heatmap(X,xticklabels=['TE0','TE1', 'TE2', 'TE3','TE4'])\n",
    "#     plt.title('Heatmap'+str(idx))\n",
    "#     ax.hlines(indices, *ax.get_xlim())\n",
    "#     plt.savefig(path)\n",
    "#     plt.show()\n",
    "    \n",
    "# for idx,cluster in enumerate(clusters):\n",
    "#     path = '/Users/akankshitadash/Desktop/Bayesian Networks/TE_chrE/4/'+str(idx+4)\n",
    "#     plot_heatmap(cluster,idx+4,indices[idx],path)"
   ]
  }
 ],
 "metadata": {
  "kernelspec": {
   "display_name": "Python 3",
   "language": "python",
   "name": "python3"
  },
  "language_info": {
   "codemirror_mode": {
    "name": "ipython",
    "version": 3
   },
   "file_extension": ".py",
   "mimetype": "text/x-python",
   "name": "python",
   "nbconvert_exporter": "python",
   "pygments_lexer": "ipython3",
   "version": "3.6.4"
  }
 },
 "nbformat": 4,
 "nbformat_minor": 2
}
