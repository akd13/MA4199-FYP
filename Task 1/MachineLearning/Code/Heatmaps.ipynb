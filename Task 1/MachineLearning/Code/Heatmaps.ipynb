{
 "cells": [
  {
   "cell_type": "code",
   "execution_count": null,
   "metadata": {},
   "outputs": [],
   "source": [
    "import numpy as np\n",
    "import pandas as pd\n",
    "import warnings\n",
    "import math\n",
    "import seaborn as sns\n",
    "import matplotlib.pyplot as plt\n",
    "warnings.filterwarnings(\"ignore\")"
   ]
  },
  {
   "cell_type": "code",
   "execution_count": null,
   "metadata": {},
   "outputs": [],
   "source": [
    "df = pd.read_csv('/Users/akankshitadash/Desktop/Programs/MA4199/Task 1/MachineLearning/Code/AdjustedRPKMoutput/TE_chrE_filtered_mockT0.txt',sep='\\t')\n"
   ]
  },
  {
   "cell_type": "code",
   "execution_count": null,
   "metadata": {},
   "outputs": [],
   "source": [
    "df.head()"
   ]
  },
  {
   "cell_type": "code",
   "execution_count": null,
   "metadata": {},
   "outputs": [],
   "source": [
    "df.keys()"
   ]
  },
  {
   "cell_type": "code",
   "execution_count": null,
   "metadata": {},
   "outputs": [],
   "source": [
    "df.shape"
   ]
  },
  {
   "cell_type": "code",
   "execution_count": null,
   "metadata": {},
   "outputs": [],
   "source": [
    "path_beginning =  '/Users/akankshitadash/Desktop/Mock/'\n",
    "num = ['4','5','6']\n",
    "for i in num: #cluster number\n",
    "    path = path_beginning+i+'/'\n",
    "    clusters = [[] for i in range(int(i))]\n",
    "    indices = []\n",
    "    for j in range(int(i)): #sub-cluster within clusters\n",
    "        path_load=path+'AccNum'+str(j+1)+'.txt'\n",
    "        print(path_load)\n",
    "        f = open(path_load, \"r\")\n",
    "        idx=0\n",
    "        for x in f:\n",
    "            if(not df.loc[df['AccNum'] == x[:-1]].empty):\n",
    "                idx+=1\n",
    "                list_new = df.loc[df['AccNum'] == x[:-1]][['foldTE1',\n",
    "       'foldTE2', 'foldTE3', 'foldTE4']].values[0]\n",
    "                clusters[int(j)-int(i)].append(list_new)\n",
    "        indices.append(len(clusters[int(j)-int(i)]))\n",
    "        print(len(clusters[int(j)-int(i)]),idx)     \n",
    "    print(indices)\n",
    "    for j in range(1,int(i)):\n",
    "        indices[j]+=indices[j-1]\n",
    "    print(indices)\n",
    "    stacked = []\n",
    "    for cluster in clusters:\n",
    "        for row in cluster:\n",
    "            stacked.append(row)\n",
    "\n",
    "    ax = sns.heatmap(stacked,xticklabels=['foldTE1','foldTE2', 'foldTE3', 'foldTE4'])\n",
    "    ax.hlines(indices, *ax.get_xlim())\n",
    "    plt.title('Heatmap'+str(i))\n",
    "    plt.savefig(path_beginning+'Heatmap'+str(i)+'.png')\n",
    "    plt.show()"
   ]
  },
  {
   "cell_type": "code",
   "execution_count": null,
   "metadata": {},
   "outputs": [],
   "source": [
    "# print(indices)"
   ]
  },
  {
   "cell_type": "code",
   "execution_count": null,
   "metadata": {},
   "outputs": [],
   "source": [
    "# for i in range(1,int(i)):\n",
    "#     indices[i]+=indices[i-1]"
   ]
  },
  {
   "cell_type": "code",
   "execution_count": null,
   "metadata": {},
   "outputs": [],
   "source": [
    "# print(indices)"
   ]
  },
  {
   "cell_type": "code",
   "execution_count": null,
   "metadata": {},
   "outputs": [],
   "source": [
    "# stacked = []\n",
    "# for cluster in clusters:\n",
    "#     for row in cluster:\n",
    "#         stacked.append(row)\n",
    "\n",
    "# ax = sns.heatmap(stacked,xticklabels=['foldTE1',\n",
    "#        'foldTE2', 'foldTE3', 'foldTE4'])\n",
    "# ax.hlines(indices, *ax.get_xlim())\n",
    "# plt.savefig('/Users/akankshitadash/Desktop/Mock/Heatmap'+str(i)+'.png')\n",
    "# plt.show()"
   ]
  },
  {
   "cell_type": "code",
   "execution_count": null,
   "metadata": {},
   "outputs": [],
   "source": [
    "# def plot_heatmap(X,idx,indices,path):\n",
    "#     ax = sns.heatmap(X,xticklabels=['TE0','TE1', 'TE2', 'TE3','TE4'])\n",
    "#     plt.title('Heatmap'+str(idx))\n",
    "#     ax.hlines(indices, *ax.get_xlim())\n",
    "#     plt.savefig(path)\n",
    "#     plt.show()\n",
    "    \n",
    "# for idx,cluster in enumerate(clusters):\n",
    "#     path = '/Users/akankshitadash/Desktop/Bayesian Networks/TE_chrE/4/'+str(idx+4)\n",
    "#     plot_heatmap(cluster,idx+4,indices[idx],path)"
   ]
  }
 ],
 "metadata": {
  "kernelspec": {
   "display_name": "Python 3",
   "language": "python",
   "name": "python3"
  },
  "language_info": {
   "codemirror_mode": {
    "name": "ipython",
    "version": 3
   },
   "file_extension": ".py",
   "mimetype": "text/x-python",
   "name": "python",
   "nbconvert_exporter": "python",
   "pygments_lexer": "ipython3",
   "version": "3.6.4"
  }
 },
 "nbformat": 4,
 "nbformat_minor": 2
}
