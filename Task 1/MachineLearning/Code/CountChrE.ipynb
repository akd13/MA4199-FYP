{
 "cells": [
  {
   "cell_type": "code",
   "execution_count": 1,
   "metadata": {},
   "outputs": [],
   "source": [
    "import pandas as pd"
   ]
  },
  {
   "cell_type": "code",
   "execution_count": 29,
   "metadata": {},
   "outputs": [],
   "source": [
    "bl_files = list(range(18,35))\n",
    "bl_files.append(36)\n",
    "genes = ['ATCACG-s_6_1_sequence/TempBL/ATCACG']"
   ]
  },
  {
   "cell_type": "code",
   "execution_count": 31,
   "metadata": {},
   "outputs": [
    {
     "ename": "SyntaxError",
     "evalue": "Missing parentheses in call to 'print'. Did you mean print(sum)? (<ipython-input-31-8f5f6cfe608f>, line 8)",
     "output_type": "error",
     "traceback": [
      "\u001b[0;36m  File \u001b[0;32m\"<ipython-input-31-8f5f6cfe608f>\"\u001b[0;36m, line \u001b[0;32m8\u001b[0m\n\u001b[0;31m    print sum\u001b[0m\n\u001b[0m            ^\u001b[0m\n\u001b[0;31mSyntaxError\u001b[0m\u001b[0;31m:\u001b[0m Missing parentheses in call to 'print'. Did you mean print(sum)?\n"
     ]
    }
   ],
   "source": [
    "for gene in genes:\n",
    "    sum=0\n",
    "    for b in bl_files:\n",
    "        path = gene +'-s_6_1_genome.'+str(b)+'.bl'\n",
    "        df = pd.read_csv(path,sep='\\t',header=None)\n",
    "        df_new=df[df[1]=='chrE']\n",
    "        sum+=df[df[1]=='chrE'].count(axis=0).values[0]\n",
    "    print(\"Gene\",gene,\"has sum\",sum) "
   ]
  },
  {
   "cell_type": "code",
   "execution_count": null,
   "metadata": {},
   "outputs": [],
   "source": []
  }
 ],
 "metadata": {
  "kernelspec": {
   "display_name": "Python 3",
   "language": "python",
   "name": "python3"
  },
  "language_info": {
   "codemirror_mode": {
    "name": "ipython",
    "version": 3
   },
   "file_extension": ".py",
   "mimetype": "text/x-python",
   "name": "python",
   "nbconvert_exporter": "python",
   "pygments_lexer": "ipython3",
   "version": "3.6.4"
  }
 },
 "nbformat": 4,
 "nbformat_minor": 2
}
