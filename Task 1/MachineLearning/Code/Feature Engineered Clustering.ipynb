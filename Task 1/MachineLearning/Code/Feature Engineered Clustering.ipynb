{
 "cells": [
  {
   "cell_type": "code",
   "execution_count": 2,
   "metadata": {
    "scrolled": true
   },
   "outputs": [],
   "source": [
    "import pandas as pd\n",
    "import numpy as np\n",
    "from functools import reduce\n",
    "import matplotlib.mlab as mlab\n",
    "import matplotlib.pyplot as plt\n",
    "import math\n",
    "import seaborn as sns\n",
    "\n",
    "from sklearn.mixture import GaussianMixture as GMM\n",
    "from sklearn.cluster import KMeans\n",
    "\n",
    "from sklearn.model_selection import StratifiedKFold\n",
    "from sklearn.cluster import KMeans,AffinityPropagation"
   ]
  },
  {
   "cell_type": "code",
   "execution_count": 3,
   "metadata": {
    "scrolled": true
   },
   "outputs": [],
   "source": [
    "def gmm(X,k):\n",
    "    gmm = GMM(n_components=k, covariance_type='full')\n",
    "    gmm.fit(X)\n",
    "    X_predicted = [ [] for i in range(k)]\n",
    "    for x in X:\n",
    "        X_predicted[gmm.predict([x])[0]].append(x)\n",
    "    return X_predicted"
   ]
  },
  {
   "cell_type": "code",
   "execution_count": 4,
   "metadata": {
    "scrolled": false
   },
   "outputs": [],
   "source": [
    "def kmeans(X,k):\n",
    "    kmeans = KMeans(n_clusters=k, init='k-means++')\n",
    "    kmeans.fit(X)\n",
    "    X_predicted = [ [] for i in range(k)]\n",
    "    for x in X:\n",
    "        X_predicted[kmeans.predict([x])[0]].append(x.tolist())\n",
    "    return X_predicted"
   ]
  },
  {
   "cell_type": "code",
   "execution_count": 10,
   "metadata": {
    "scrolled": true
   },
   "outputs": [],
   "source": [
    "RNASeq_path = 'Replicate2/RNASeq_chrE_mockT0added.txt' \n",
    "RPF_path = 'Replicate2/RPF_chrE_mockT0added.txt'"
   ]
  },
  {
   "cell_type": "code",
   "execution_count": 11,
   "metadata": {
    "scrolled": true
   },
   "outputs": [],
   "source": [
    "RNASeq = pd.read_csv(RNASeq_path, sep='\\t')\n",
    "RPF = pd.read_csv(RPF_path, sep='\\t')"
   ]
  },
  {
   "cell_type": "code",
   "execution_count": 12,
   "metadata": {
    "scrolled": true
   },
   "outputs": [
    {
     "data": {
      "text/html": [
       "<div>\n",
       "<style scoped>\n",
       "    .dataframe tbody tr th:only-of-type {\n",
       "        vertical-align: middle;\n",
       "    }\n",
       "\n",
       "    .dataframe tbody tr th {\n",
       "        vertical-align: top;\n",
       "    }\n",
       "\n",
       "    .dataframe thead th {\n",
       "        text-align: right;\n",
       "    }\n",
       "</style>\n",
       "<table border=\"1\" class=\"dataframe\">\n",
       "  <thead>\n",
       "    <tr style=\"text-align: right;\">\n",
       "      <th></th>\n",
       "      <th>AccNum</th>\n",
       "      <th>GeneName</th>\n",
       "      <th>cdReads0</th>\n",
       "      <th>cdRPKM0</th>\n",
       "      <th>cdReads1</th>\n",
       "      <th>cdRPKM1</th>\n",
       "      <th>cdReads2</th>\n",
       "      <th>cdRPKM2</th>\n",
       "      <th>cdReads3</th>\n",
       "      <th>cdRPKM3</th>\n",
       "      <th>cdReads4</th>\n",
       "      <th>cdRPKM4</th>\n",
       "      <th>cdReads5</th>\n",
       "      <th>cdRPKM5</th>\n",
       "    </tr>\n",
       "  </thead>\n",
       "  <tbody>\n",
       "    <tr>\n",
       "      <th>0</th>\n",
       "      <td>NM_017847</td>\n",
       "      <td>ODR4</td>\n",
       "      <td>65.0</td>\n",
       "      <td>6.602898</td>\n",
       "      <td>38.0</td>\n",
       "      <td>4.059277</td>\n",
       "      <td>70.0</td>\n",
       "      <td>6.543270</td>\n",
       "      <td>63.0</td>\n",
       "      <td>5.507023</td>\n",
       "      <td>38.0</td>\n",
       "      <td>2.443294</td>\n",
       "      <td>48.0</td>\n",
       "      <td>2.633165</td>\n",
       "    </tr>\n",
       "    <tr>\n",
       "      <th>1</th>\n",
       "      <td>NM_001003803</td>\n",
       "      <td>ATP5S</td>\n",
       "      <td>41.0</td>\n",
       "      <td>8.773294</td>\n",
       "      <td>38.0</td>\n",
       "      <td>8.550792</td>\n",
       "      <td>51.0</td>\n",
       "      <td>10.042101</td>\n",
       "      <td>41.0</td>\n",
       "      <td>7.549494</td>\n",
       "      <td>33.0</td>\n",
       "      <td>4.469549</td>\n",
       "      <td>21.0</td>\n",
       "      <td>2.426687</td>\n",
       "    </tr>\n",
       "    <tr>\n",
       "      <th>2</th>\n",
       "      <td>NM_001003800</td>\n",
       "      <td>BICD2</td>\n",
       "      <td>1082.0</td>\n",
       "      <td>58.423302</td>\n",
       "      <td>944.0</td>\n",
       "      <td>53.601229</td>\n",
       "      <td>1126.0</td>\n",
       "      <td>55.946484</td>\n",
       "      <td>1067.0</td>\n",
       "      <td>49.576787</td>\n",
       "      <td>711.0</td>\n",
       "      <td>24.299615</td>\n",
       "      <td>752.0</td>\n",
       "      <td>21.927660</td>\n",
       "    </tr>\n",
       "    <tr>\n",
       "      <th>3</th>\n",
       "      <td>NM_016649</td>\n",
       "      <td>ESF1</td>\n",
       "      <td>45.0</td>\n",
       "      <td>2.441212</td>\n",
       "      <td>19.0</td>\n",
       "      <td>1.083903</td>\n",
       "      <td>53.0</td>\n",
       "      <td>2.645723</td>\n",
       "      <td>33.0</td>\n",
       "      <td>1.540501</td>\n",
       "      <td>29.0</td>\n",
       "      <td>0.995777</td>\n",
       "      <td>27.0</td>\n",
       "      <td>0.790993</td>\n",
       "    </tr>\n",
       "    <tr>\n",
       "      <th>4</th>\n",
       "      <td>NM_016647</td>\n",
       "      <td>THEM6</td>\n",
       "      <td>200.0</td>\n",
       "      <td>44.229936</td>\n",
       "      <td>174.0</td>\n",
       "      <td>40.464994</td>\n",
       "      <td>161.0</td>\n",
       "      <td>32.763309</td>\n",
       "      <td>124.0</td>\n",
       "      <td>23.597344</td>\n",
       "      <td>65.0</td>\n",
       "      <td>9.098517</td>\n",
       "      <td>69.0</td>\n",
       "      <td>8.240452</td>\n",
       "    </tr>\n",
       "  </tbody>\n",
       "</table>\n",
       "</div>"
      ],
      "text/plain": [
       "         AccNum GeneName  cdReads0    cdRPKM0  cdReads1    cdRPKM1  cdReads2  \\\n",
       "0     NM_017847     ODR4      65.0   6.602898      38.0   4.059277      70.0   \n",
       "1  NM_001003803    ATP5S      41.0   8.773294      38.0   8.550792      51.0   \n",
       "2  NM_001003800    BICD2    1082.0  58.423302     944.0  53.601229    1126.0   \n",
       "3     NM_016649     ESF1      45.0   2.441212      19.0   1.083903      53.0   \n",
       "4     NM_016647    THEM6     200.0  44.229936     174.0  40.464994     161.0   \n",
       "\n",
       "     cdRPKM2  cdReads3    cdRPKM3  cdReads4    cdRPKM4  cdReads5    cdRPKM5  \n",
       "0   6.543270      63.0   5.507023      38.0   2.443294      48.0   2.633165  \n",
       "1  10.042101      41.0   7.549494      33.0   4.469549      21.0   2.426687  \n",
       "2  55.946484    1067.0  49.576787     711.0  24.299615     752.0  21.927660  \n",
       "3   2.645723      33.0   1.540501      29.0   0.995777      27.0   0.790993  \n",
       "4  32.763309     124.0  23.597344      65.0   9.098517      69.0   8.240452  "
      ]
     },
     "execution_count": 12,
     "metadata": {},
     "output_type": "execute_result"
    }
   ],
   "source": [
    "RNASeq.head()"
   ]
  },
  {
   "cell_type": "code",
   "execution_count": 13,
   "metadata": {
    "scrolled": true
   },
   "outputs": [
    {
     "data": {
      "text/html": [
       "<div>\n",
       "<style scoped>\n",
       "    .dataframe tbody tr th:only-of-type {\n",
       "        vertical-align: middle;\n",
       "    }\n",
       "\n",
       "    .dataframe tbody tr th {\n",
       "        vertical-align: top;\n",
       "    }\n",
       "\n",
       "    .dataframe thead th {\n",
       "        text-align: right;\n",
       "    }\n",
       "</style>\n",
       "<table border=\"1\" class=\"dataframe\">\n",
       "  <thead>\n",
       "    <tr style=\"text-align: right;\">\n",
       "      <th></th>\n",
       "      <th>AccNum</th>\n",
       "      <th>GeneName</th>\n",
       "      <th>cdReads0</th>\n",
       "      <th>cdRPKM0</th>\n",
       "      <th>cdReads1</th>\n",
       "      <th>cdRPKM1</th>\n",
       "      <th>cdReads2</th>\n",
       "      <th>cdRPKM2</th>\n",
       "      <th>cdReads3</th>\n",
       "      <th>cdRPKM3</th>\n",
       "      <th>cdReads4</th>\n",
       "      <th>cdRPKM4</th>\n",
       "      <th>cdReads5</th>\n",
       "      <th>cdRPKM5</th>\n",
       "    </tr>\n",
       "  </thead>\n",
       "  <tbody>\n",
       "    <tr>\n",
       "      <th>0</th>\n",
       "      <td>NM_017847</td>\n",
       "      <td>ODR4</td>\n",
       "      <td>194.0</td>\n",
       "      <td>24.619391</td>\n",
       "      <td>178.0</td>\n",
       "      <td>22.843822</td>\n",
       "      <td>189.0</td>\n",
       "      <td>22.942286</td>\n",
       "      <td>83.0</td>\n",
       "      <td>16.106297</td>\n",
       "      <td>44.0</td>\n",
       "      <td>5.221536</td>\n",
       "      <td>55.0</td>\n",
       "      <td>10.502382</td>\n",
       "    </tr>\n",
       "    <tr>\n",
       "      <th>1</th>\n",
       "      <td>NM_001003803</td>\n",
       "      <td>ATP5S</td>\n",
       "      <td>112.0</td>\n",
       "      <td>29.939962</td>\n",
       "      <td>108.0</td>\n",
       "      <td>29.196458</td>\n",
       "      <td>121.0</td>\n",
       "      <td>30.939829</td>\n",
       "      <td>51.0</td>\n",
       "      <td>20.847089</td>\n",
       "      <td>28.0</td>\n",
       "      <td>6.999408</td>\n",
       "      <td>23.0</td>\n",
       "      <td>9.251467</td>\n",
       "    </tr>\n",
       "    <tr>\n",
       "      <th>2</th>\n",
       "      <td>NM_001003800</td>\n",
       "      <td>BICD2</td>\n",
       "      <td>525.0</td>\n",
       "      <td>35.413798</td>\n",
       "      <td>516.0</td>\n",
       "      <td>35.199468</td>\n",
       "      <td>576.0</td>\n",
       "      <td>37.165074</td>\n",
       "      <td>300.0</td>\n",
       "      <td>30.944003</td>\n",
       "      <td>274.0</td>\n",
       "      <td>17.283584</td>\n",
       "      <td>278.0</td>\n",
       "      <td>28.216787</td>\n",
       "    </tr>\n",
       "    <tr>\n",
       "      <th>3</th>\n",
       "      <td>NM_016649</td>\n",
       "      <td>ESF1</td>\n",
       "      <td>259.0</td>\n",
       "      <td>17.552830</td>\n",
       "      <td>261.0</td>\n",
       "      <td>17.887971</td>\n",
       "      <td>194.0</td>\n",
       "      <td>12.576171</td>\n",
       "      <td>88.0</td>\n",
       "      <td>9.119522</td>\n",
       "      <td>83.0</td>\n",
       "      <td>5.260118</td>\n",
       "      <td>66.0</td>\n",
       "      <td>6.730400</td>\n",
       "    </tr>\n",
       "    <tr>\n",
       "      <th>4</th>\n",
       "      <td>NM_016647</td>\n",
       "      <td>THEM6</td>\n",
       "      <td>110.0</td>\n",
       "      <td>30.390187</td>\n",
       "      <td>109.0</td>\n",
       "      <td>30.453722</td>\n",
       "      <td>95.0</td>\n",
       "      <td>25.105195</td>\n",
       "      <td>74.0</td>\n",
       "      <td>31.261833</td>\n",
       "      <td>44.0</td>\n",
       "      <td>11.367459</td>\n",
       "      <td>28.0</td>\n",
       "      <td>11.639874</td>\n",
       "    </tr>\n",
       "  </tbody>\n",
       "</table>\n",
       "</div>"
      ],
      "text/plain": [
       "         AccNum GeneName  cdReads0    cdRPKM0  cdReads1    cdRPKM1  cdReads2  \\\n",
       "0     NM_017847     ODR4     194.0  24.619391     178.0  22.843822     189.0   \n",
       "1  NM_001003803    ATP5S     112.0  29.939962     108.0  29.196458     121.0   \n",
       "2  NM_001003800    BICD2     525.0  35.413798     516.0  35.199468     576.0   \n",
       "3     NM_016649     ESF1     259.0  17.552830     261.0  17.887971     194.0   \n",
       "4     NM_016647    THEM6     110.0  30.390187     109.0  30.453722      95.0   \n",
       "\n",
       "     cdRPKM2  cdReads3    cdRPKM3  cdReads4    cdRPKM4  cdReads5    cdRPKM5  \n",
       "0  22.942286      83.0  16.106297      44.0   5.221536      55.0  10.502382  \n",
       "1  30.939829      51.0  20.847089      28.0   6.999408      23.0   9.251467  \n",
       "2  37.165074     300.0  30.944003     274.0  17.283584     278.0  28.216787  \n",
       "3  12.576171      88.0   9.119522      83.0   5.260118      66.0   6.730400  \n",
       "4  25.105195      74.0  31.261833      44.0  11.367459      28.0  11.639874  "
      ]
     },
     "execution_count": 13,
     "metadata": {},
     "output_type": "execute_result"
    }
   ],
   "source": [
    "RPF.head()"
   ]
  },
  {
   "cell_type": "markdown",
   "metadata": {},
   "source": [
    "### Filter for cdReads>=10"
   ]
  },
  {
   "cell_type": "code",
   "execution_count": 14,
   "metadata": {
    "scrolled": true
   },
   "outputs": [],
   "source": [
    "RNASeq = RNASeq[(RNASeq['cdReads0'] >= 10) & (RNASeq['cdReads1'] >= 10) \n",
    "                & (RNASeq['cdReads2'] >= 10)& (RNASeq['cdReads3'] >= 10)\n",
    "                & (RNASeq['cdReads4'] >= 10)& (RNASeq['cdReads5'] >= 10)]\n",
    "RPF = RPF[(RPF['cdReads0'] >= 10) \n",
    "          & (RPF['cdReads1'] >= 10) \n",
    "          & (RPF['cdReads2'] >= 10)\n",
    "          & (RPF['cdReads3'] >= 10)\n",
    "          & (RPF['cdReads4'] >= 10)& (RPF['cdReads5'] >= 10)]"
   ]
  },
  {
   "cell_type": "markdown",
   "metadata": {},
   "source": [
    "### Apply log2"
   ]
  },
  {
   "cell_type": "code",
   "execution_count": 15,
   "metadata": {
    "scrolled": true
   },
   "outputs": [],
   "source": [
    "RNASeq[['cdRPKM0', 'cdRPKM1', 'cdRPKM2', 'cdRPKM3', 'cdRPKM4','cdRPKM5']] = RNASeq[['cdRPKM0', \n",
    "                                                                          'cdRPKM1', \n",
    "                                                                          'cdRPKM2', \n",
    "                                                                          'cdRPKM3', 'cdRPKM4','cdRPKM5'\n",
    "                                                                               ]].apply(np.log2)"
   ]
  },
  {
   "cell_type": "code",
   "execution_count": 16,
   "metadata": {
    "scrolled": true
   },
   "outputs": [],
   "source": [
    "RPF[['cdRPKM0', 'cdRPKM1', 'cdRPKM2', 'cdRPKM3', 'cdRPKM4','cdRPKM5']] = RPF[['cdRPKM0', \n",
    "                                                                    'cdRPKM1', \n",
    "                                                                    'cdRPKM2', \n",
    "                                                                    'cdRPKM3', 'cdRPKM4','cdRPKM5']].apply(np.log2)"
   ]
  },
  {
   "cell_type": "code",
   "execution_count": 17,
   "metadata": {
    "scrolled": true
   },
   "outputs": [],
   "source": [
    "RNASeq['log2cdRPKM1']=RNASeq['cdRPKM1']-RNASeq['cdRPKM0']\n",
    "RNASeq['log2cdRPKM2']=RNASeq['cdRPKM2']-RNASeq['cdRPKM0']\n",
    "RNASeq['log2cdRPKM3']=RNASeq['cdRPKM3']-RNASeq['cdRPKM0']\n",
    "RNASeq['log2cdRPKM4']=RNASeq['cdRPKM4']-RNASeq['cdRPKM0']\n",
    "RNASeq['log2cdRPKM5']=RNASeq['cdRPKM5']-RNASeq['cdRPKM0']"
   ]
  },
  {
   "cell_type": "code",
   "execution_count": 18,
   "metadata": {
    "scrolled": true
   },
   "outputs": [],
   "source": [
    "RPF['log2cdRPKM1']=RPF['cdRPKM1']-RPF['cdRPKM0']\n",
    "RPF['log2cdRPKM2']=RPF['cdRPKM2']-RPF['cdRPKM0']\n",
    "RPF['log2cdRPKM3']=RPF['cdRPKM3']-RPF['cdRPKM0']\n",
    "RPF['log2cdRPKM4']=RPF['cdRPKM4']-RPF['cdRPKM0']\n",
    "RPF['log2cdRPKM5']=RPF['cdRPKM5']-RPF['cdRPKM0']"
   ]
  },
  {
   "cell_type": "code",
   "execution_count": 19,
   "metadata": {},
   "outputs": [
    {
     "data": {
      "text/html": [
       "<div>\n",
       "<style scoped>\n",
       "    .dataframe tbody tr th:only-of-type {\n",
       "        vertical-align: middle;\n",
       "    }\n",
       "\n",
       "    .dataframe tbody tr th {\n",
       "        vertical-align: top;\n",
       "    }\n",
       "\n",
       "    .dataframe thead th {\n",
       "        text-align: right;\n",
       "    }\n",
       "</style>\n",
       "<table border=\"1\" class=\"dataframe\">\n",
       "  <thead>\n",
       "    <tr style=\"text-align: right;\">\n",
       "      <th></th>\n",
       "      <th>AccNum</th>\n",
       "      <th>GeneName</th>\n",
       "      <th>cdReads0</th>\n",
       "      <th>cdRPKM0</th>\n",
       "      <th>cdReads1</th>\n",
       "      <th>cdRPKM1</th>\n",
       "      <th>cdReads2</th>\n",
       "      <th>cdRPKM2</th>\n",
       "      <th>cdReads3</th>\n",
       "      <th>cdRPKM3</th>\n",
       "      <th>cdReads4</th>\n",
       "      <th>cdRPKM4</th>\n",
       "      <th>cdReads5</th>\n",
       "      <th>cdRPKM5</th>\n",
       "      <th>log2cdRPKM1</th>\n",
       "      <th>log2cdRPKM2</th>\n",
       "      <th>log2cdRPKM3</th>\n",
       "      <th>log2cdRPKM4</th>\n",
       "      <th>log2cdRPKM5</th>\n",
       "    </tr>\n",
       "  </thead>\n",
       "  <tbody>\n",
       "    <tr>\n",
       "      <th>0</th>\n",
       "      <td>NM_017847</td>\n",
       "      <td>ODR4</td>\n",
       "      <td>65.0</td>\n",
       "      <td>2.723099</td>\n",
       "      <td>38.0</td>\n",
       "      <td>2.021223</td>\n",
       "      <td>70.0</td>\n",
       "      <td>2.710012</td>\n",
       "      <td>63.0</td>\n",
       "      <td>2.461273</td>\n",
       "      <td>38.0</td>\n",
       "      <td>1.288828</td>\n",
       "      <td>48.0</td>\n",
       "      <td>1.396798</td>\n",
       "      <td>-0.701876</td>\n",
       "      <td>-0.013088</td>\n",
       "      <td>-0.261827</td>\n",
       "      <td>-1.434272</td>\n",
       "      <td>-1.326301</td>\n",
       "    </tr>\n",
       "    <tr>\n",
       "      <th>1</th>\n",
       "      <td>NM_001003803</td>\n",
       "      <td>ATP5S</td>\n",
       "      <td>41.0</td>\n",
       "      <td>3.133119</td>\n",
       "      <td>38.0</td>\n",
       "      <td>3.096058</td>\n",
       "      <td>51.0</td>\n",
       "      <td>3.327989</td>\n",
       "      <td>41.0</td>\n",
       "      <td>2.916380</td>\n",
       "      <td>33.0</td>\n",
       "      <td>2.160129</td>\n",
       "      <td>21.0</td>\n",
       "      <td>1.278988</td>\n",
       "      <td>-0.037061</td>\n",
       "      <td>0.194871</td>\n",
       "      <td>-0.216739</td>\n",
       "      <td>-0.972989</td>\n",
       "      <td>-1.854131</td>\n",
       "    </tr>\n",
       "    <tr>\n",
       "      <th>2</th>\n",
       "      <td>NM_001003800</td>\n",
       "      <td>BICD2</td>\n",
       "      <td>1082.0</td>\n",
       "      <td>5.868472</td>\n",
       "      <td>944.0</td>\n",
       "      <td>5.744194</td>\n",
       "      <td>1126.0</td>\n",
       "      <td>5.805976</td>\n",
       "      <td>1067.0</td>\n",
       "      <td>5.631593</td>\n",
       "      <td>711.0</td>\n",
       "      <td>4.602862</td>\n",
       "      <td>752.0</td>\n",
       "      <td>4.454680</td>\n",
       "      <td>-0.124278</td>\n",
       "      <td>-0.062496</td>\n",
       "      <td>-0.236879</td>\n",
       "      <td>-1.265610</td>\n",
       "      <td>-1.413792</td>\n",
       "    </tr>\n",
       "    <tr>\n",
       "      <th>3</th>\n",
       "      <td>NM_016649</td>\n",
       "      <td>ESF1</td>\n",
       "      <td>45.0</td>\n",
       "      <td>1.287598</td>\n",
       "      <td>19.0</td>\n",
       "      <td>0.116236</td>\n",
       "      <td>53.0</td>\n",
       "      <td>1.403662</td>\n",
       "      <td>33.0</td>\n",
       "      <td>0.623400</td>\n",
       "      <td>29.0</td>\n",
       "      <td>-0.006106</td>\n",
       "      <td>27.0</td>\n",
       "      <td>-0.338264</td>\n",
       "      <td>-1.171362</td>\n",
       "      <td>0.116065</td>\n",
       "      <td>-0.664198</td>\n",
       "      <td>-1.293703</td>\n",
       "      <td>-1.625862</td>\n",
       "    </tr>\n",
       "    <tr>\n",
       "      <th>4</th>\n",
       "      <td>NM_016647</td>\n",
       "      <td>THEM6</td>\n",
       "      <td>200.0</td>\n",
       "      <td>5.466951</td>\n",
       "      <td>174.0</td>\n",
       "      <td>5.338602</td>\n",
       "      <td>161.0</td>\n",
       "      <td>5.034009</td>\n",
       "      <td>124.0</td>\n",
       "      <td>4.560553</td>\n",
       "      <td>65.0</td>\n",
       "      <td>3.185631</td>\n",
       "      <td>69.0</td>\n",
       "      <td>3.042723</td>\n",
       "      <td>-0.128349</td>\n",
       "      <td>-0.432942</td>\n",
       "      <td>-0.906399</td>\n",
       "      <td>-2.281320</td>\n",
       "      <td>-2.424228</td>\n",
       "    </tr>\n",
       "  </tbody>\n",
       "</table>\n",
       "</div>"
      ],
      "text/plain": [
       "         AccNum GeneName  cdReads0   cdRPKM0  cdReads1   cdRPKM1  cdReads2  \\\n",
       "0     NM_017847     ODR4      65.0  2.723099      38.0  2.021223      70.0   \n",
       "1  NM_001003803    ATP5S      41.0  3.133119      38.0  3.096058      51.0   \n",
       "2  NM_001003800    BICD2    1082.0  5.868472     944.0  5.744194    1126.0   \n",
       "3     NM_016649     ESF1      45.0  1.287598      19.0  0.116236      53.0   \n",
       "4     NM_016647    THEM6     200.0  5.466951     174.0  5.338602     161.0   \n",
       "\n",
       "    cdRPKM2  cdReads3   cdRPKM3  cdReads4   cdRPKM4  cdReads5   cdRPKM5  \\\n",
       "0  2.710012      63.0  2.461273      38.0  1.288828      48.0  1.396798   \n",
       "1  3.327989      41.0  2.916380      33.0  2.160129      21.0  1.278988   \n",
       "2  5.805976    1067.0  5.631593     711.0  4.602862     752.0  4.454680   \n",
       "3  1.403662      33.0  0.623400      29.0 -0.006106      27.0 -0.338264   \n",
       "4  5.034009     124.0  4.560553      65.0  3.185631      69.0  3.042723   \n",
       "\n",
       "   log2cdRPKM1  log2cdRPKM2  log2cdRPKM3  log2cdRPKM4  log2cdRPKM5  \n",
       "0    -0.701876    -0.013088    -0.261827    -1.434272    -1.326301  \n",
       "1    -0.037061     0.194871    -0.216739    -0.972989    -1.854131  \n",
       "2    -0.124278    -0.062496    -0.236879    -1.265610    -1.413792  \n",
       "3    -1.171362     0.116065    -0.664198    -1.293703    -1.625862  \n",
       "4    -0.128349    -0.432942    -0.906399    -2.281320    -2.424228  "
      ]
     },
     "execution_count": 19,
     "metadata": {},
     "output_type": "execute_result"
    }
   ],
   "source": [
    "RNASeq.head()"
   ]
  },
  {
   "cell_type": "code",
   "execution_count": 20,
   "metadata": {},
   "outputs": [
    {
     "data": {
      "text/html": [
       "<div>\n",
       "<style scoped>\n",
       "    .dataframe tbody tr th:only-of-type {\n",
       "        vertical-align: middle;\n",
       "    }\n",
       "\n",
       "    .dataframe tbody tr th {\n",
       "        vertical-align: top;\n",
       "    }\n",
       "\n",
       "    .dataframe thead th {\n",
       "        text-align: right;\n",
       "    }\n",
       "</style>\n",
       "<table border=\"1\" class=\"dataframe\">\n",
       "  <thead>\n",
       "    <tr style=\"text-align: right;\">\n",
       "      <th></th>\n",
       "      <th>AccNum</th>\n",
       "      <th>GeneName</th>\n",
       "      <th>cdReads0</th>\n",
       "      <th>cdRPKM0</th>\n",
       "      <th>cdReads1</th>\n",
       "      <th>cdRPKM1</th>\n",
       "      <th>cdReads2</th>\n",
       "      <th>cdRPKM2</th>\n",
       "      <th>cdReads3</th>\n",
       "      <th>cdRPKM3</th>\n",
       "      <th>cdReads4</th>\n",
       "      <th>cdRPKM4</th>\n",
       "      <th>cdReads5</th>\n",
       "      <th>cdRPKM5</th>\n",
       "      <th>log2cdRPKM1</th>\n",
       "      <th>log2cdRPKM2</th>\n",
       "      <th>log2cdRPKM3</th>\n",
       "      <th>log2cdRPKM4</th>\n",
       "      <th>log2cdRPKM5</th>\n",
       "    </tr>\n",
       "  </thead>\n",
       "  <tbody>\n",
       "    <tr>\n",
       "      <th>0</th>\n",
       "      <td>NM_017847</td>\n",
       "      <td>ODR4</td>\n",
       "      <td>194.0</td>\n",
       "      <td>4.621723</td>\n",
       "      <td>178.0</td>\n",
       "      <td>4.513732</td>\n",
       "      <td>189.0</td>\n",
       "      <td>4.519937</td>\n",
       "      <td>83.0</td>\n",
       "      <td>4.009553</td>\n",
       "      <td>44.0</td>\n",
       "      <td>2.384474</td>\n",
       "      <td>55.0</td>\n",
       "      <td>3.392645</td>\n",
       "      <td>-0.107991</td>\n",
       "      <td>-0.101786</td>\n",
       "      <td>-0.612170</td>\n",
       "      <td>-2.237249</td>\n",
       "      <td>-1.229078</td>\n",
       "    </tr>\n",
       "    <tr>\n",
       "      <th>1</th>\n",
       "      <td>NM_001003803</td>\n",
       "      <td>ATP5S</td>\n",
       "      <td>112.0</td>\n",
       "      <td>4.904000</td>\n",
       "      <td>108.0</td>\n",
       "      <td>4.867721</td>\n",
       "      <td>121.0</td>\n",
       "      <td>4.951393</td>\n",
       "      <td>51.0</td>\n",
       "      <td>4.381774</td>\n",
       "      <td>28.0</td>\n",
       "      <td>2.807233</td>\n",
       "      <td>23.0</td>\n",
       "      <td>3.209682</td>\n",
       "      <td>-0.036279</td>\n",
       "      <td>0.047393</td>\n",
       "      <td>-0.522226</td>\n",
       "      <td>-2.096768</td>\n",
       "      <td>-1.694318</td>\n",
       "    </tr>\n",
       "    <tr>\n",
       "      <th>2</th>\n",
       "      <td>NM_001003800</td>\n",
       "      <td>BICD2</td>\n",
       "      <td>525.0</td>\n",
       "      <td>5.146240</td>\n",
       "      <td>516.0</td>\n",
       "      <td>5.137482</td>\n",
       "      <td>576.0</td>\n",
       "      <td>5.215876</td>\n",
       "      <td>300.0</td>\n",
       "      <td>4.951588</td>\n",
       "      <td>274.0</td>\n",
       "      <td>4.111330</td>\n",
       "      <td>278.0</td>\n",
       "      <td>4.818482</td>\n",
       "      <td>-0.008758</td>\n",
       "      <td>0.069636</td>\n",
       "      <td>-0.194652</td>\n",
       "      <td>-1.034909</td>\n",
       "      <td>-0.327758</td>\n",
       "    </tr>\n",
       "    <tr>\n",
       "      <th>3</th>\n",
       "      <td>NM_016649</td>\n",
       "      <td>ESF1</td>\n",
       "      <td>259.0</td>\n",
       "      <td>4.133632</td>\n",
       "      <td>261.0</td>\n",
       "      <td>4.160918</td>\n",
       "      <td>194.0</td>\n",
       "      <td>3.652621</td>\n",
       "      <td>88.0</td>\n",
       "      <td>3.188958</td>\n",
       "      <td>83.0</td>\n",
       "      <td>2.395095</td>\n",
       "      <td>66.0</td>\n",
       "      <td>2.750692</td>\n",
       "      <td>0.027286</td>\n",
       "      <td>-0.481011</td>\n",
       "      <td>-0.944673</td>\n",
       "      <td>-1.738537</td>\n",
       "      <td>-1.382940</td>\n",
       "    </tr>\n",
       "    <tr>\n",
       "      <th>4</th>\n",
       "      <td>NM_016647</td>\n",
       "      <td>THEM6</td>\n",
       "      <td>110.0</td>\n",
       "      <td>4.925534</td>\n",
       "      <td>109.0</td>\n",
       "      <td>4.928547</td>\n",
       "      <td>95.0</td>\n",
       "      <td>4.649914</td>\n",
       "      <td>74.0</td>\n",
       "      <td>4.966330</td>\n",
       "      <td>44.0</td>\n",
       "      <td>3.506838</td>\n",
       "      <td>28.0</td>\n",
       "      <td>3.541004</td>\n",
       "      <td>0.003013</td>\n",
       "      <td>-0.275620</td>\n",
       "      <td>0.040797</td>\n",
       "      <td>-1.418696</td>\n",
       "      <td>-1.384530</td>\n",
       "    </tr>\n",
       "  </tbody>\n",
       "</table>\n",
       "</div>"
      ],
      "text/plain": [
       "         AccNum GeneName  cdReads0   cdRPKM0  cdReads1   cdRPKM1  cdReads2  \\\n",
       "0     NM_017847     ODR4     194.0  4.621723     178.0  4.513732     189.0   \n",
       "1  NM_001003803    ATP5S     112.0  4.904000     108.0  4.867721     121.0   \n",
       "2  NM_001003800    BICD2     525.0  5.146240     516.0  5.137482     576.0   \n",
       "3     NM_016649     ESF1     259.0  4.133632     261.0  4.160918     194.0   \n",
       "4     NM_016647    THEM6     110.0  4.925534     109.0  4.928547      95.0   \n",
       "\n",
       "    cdRPKM2  cdReads3   cdRPKM3  cdReads4   cdRPKM4  cdReads5   cdRPKM5  \\\n",
       "0  4.519937      83.0  4.009553      44.0  2.384474      55.0  3.392645   \n",
       "1  4.951393      51.0  4.381774      28.0  2.807233      23.0  3.209682   \n",
       "2  5.215876     300.0  4.951588     274.0  4.111330     278.0  4.818482   \n",
       "3  3.652621      88.0  3.188958      83.0  2.395095      66.0  2.750692   \n",
       "4  4.649914      74.0  4.966330      44.0  3.506838      28.0  3.541004   \n",
       "\n",
       "   log2cdRPKM1  log2cdRPKM2  log2cdRPKM3  log2cdRPKM4  log2cdRPKM5  \n",
       "0    -0.107991    -0.101786    -0.612170    -2.237249    -1.229078  \n",
       "1    -0.036279     0.047393    -0.522226    -2.096768    -1.694318  \n",
       "2    -0.008758     0.069636    -0.194652    -1.034909    -0.327758  \n",
       "3     0.027286    -0.481011    -0.944673    -1.738537    -1.382940  \n",
       "4     0.003013    -0.275620     0.040797    -1.418696    -1.384530  "
      ]
     },
     "execution_count": 20,
     "metadata": {},
     "output_type": "execute_result"
    }
   ],
   "source": [
    "RPF.head()"
   ]
  },
  {
   "cell_type": "markdown",
   "metadata": {},
   "source": [
    "# TE"
   ]
  },
  {
   "cell_type": "markdown",
   "metadata": {},
   "source": [
    "### ONLY RUN FOR MEDIAN NORMALIZATION"
   ]
  },
  {
   "cell_type": "code",
   "execution_count": 21,
   "metadata": {
    "scrolled": false
   },
   "outputs": [],
   "source": [
    "RNASeq['log2cdRPKM1']-=np.median(RNASeq['log2cdRPKM1'])\n",
    "RNASeq['log2cdRPKM2']-=np.median(RNASeq['log2cdRPKM2'])\n",
    "RNASeq['log2cdRPKM3']-=np.median(RNASeq['log2cdRPKM3'])\n",
    "RNASeq['log2cdRPKM4']-=np.median(RNASeq['log2cdRPKM4'])\n",
    "RNASeq['log2cdRPKM5']-=np.median(RNASeq['log2cdRPKM5'])"
   ]
  },
  {
   "cell_type": "code",
   "execution_count": 22,
   "metadata": {
    "scrolled": true
   },
   "outputs": [],
   "source": [
    "filteredRNASeq = RNASeq[(RNASeq['log2cdRPKM1'] <= 0.5) \n",
    "                        & (RNASeq['log2cdRPKM2'] <= 0.5)\n",
    "                        & (RNASeq['log2cdRPKM3'] <= 0.5)\n",
    "                        & (RNASeq['log2cdRPKM4'] <= 0.5)\n",
    "                       & (RNASeq['log2cdRPKM5'] <= 0.5)]\n",
    "filteredRNASeq = filteredRNASeq[(filteredRNASeq['log2cdRPKM1'] >= -0.5) \n",
    "                                & (filteredRNASeq['log2cdRPKM2'] >= -0.5)\n",
    "                                & (filteredRNASeq['log2cdRPKM3'] >= -0.5)\n",
    "                                & (filteredRNASeq['log2cdRPKM4'] >= -0.5)\n",
    "                               & (filteredRNASeq['log2cdRPKM5'] >= -0.5)]"
   ]
  },
  {
   "cell_type": "code",
   "execution_count": 23,
   "metadata": {
    "scrolled": false
   },
   "outputs": [
    {
     "data": {
      "text/plain": [
       "(6090, 19)"
      ]
     },
     "execution_count": 23,
     "metadata": {},
     "output_type": "execute_result"
    }
   ],
   "source": [
    "filteredRNASeq.shape"
   ]
  },
  {
   "cell_type": "code",
   "execution_count": 24,
   "metadata": {},
   "outputs": [
    {
     "data": {
      "text/html": [
       "<div>\n",
       "<style scoped>\n",
       "    .dataframe tbody tr th:only-of-type {\n",
       "        vertical-align: middle;\n",
       "    }\n",
       "\n",
       "    .dataframe tbody tr th {\n",
       "        vertical-align: top;\n",
       "    }\n",
       "\n",
       "    .dataframe thead th {\n",
       "        text-align: right;\n",
       "    }\n",
       "</style>\n",
       "<table border=\"1\" class=\"dataframe\">\n",
       "  <thead>\n",
       "    <tr style=\"text-align: right;\">\n",
       "      <th></th>\n",
       "      <th>AccNum</th>\n",
       "      <th>GeneName</th>\n",
       "      <th>cdReads0</th>\n",
       "      <th>cdRPKM0</th>\n",
       "      <th>cdReads1</th>\n",
       "      <th>cdRPKM1</th>\n",
       "      <th>cdReads2</th>\n",
       "      <th>cdRPKM2</th>\n",
       "      <th>cdReads3</th>\n",
       "      <th>cdRPKM3</th>\n",
       "      <th>cdReads4</th>\n",
       "      <th>cdRPKM4</th>\n",
       "      <th>cdReads5</th>\n",
       "      <th>cdRPKM5</th>\n",
       "      <th>log2cdRPKM1</th>\n",
       "      <th>log2cdRPKM2</th>\n",
       "      <th>log2cdRPKM3</th>\n",
       "      <th>log2cdRPKM4</th>\n",
       "      <th>log2cdRPKM5</th>\n",
       "    </tr>\n",
       "  </thead>\n",
       "  <tbody>\n",
       "    <tr>\n",
       "      <th>1</th>\n",
       "      <td>NM_001003803</td>\n",
       "      <td>ATP5S</td>\n",
       "      <td>41.0</td>\n",
       "      <td>3.133119</td>\n",
       "      <td>38.0</td>\n",
       "      <td>3.096058</td>\n",
       "      <td>51.0</td>\n",
       "      <td>3.327989</td>\n",
       "      <td>41.0</td>\n",
       "      <td>2.916380</td>\n",
       "      <td>33.0</td>\n",
       "      <td>2.160129</td>\n",
       "      <td>21.0</td>\n",
       "      <td>1.278988</td>\n",
       "      <td>0.010445</td>\n",
       "      <td>0.274601</td>\n",
       "      <td>0.168953</td>\n",
       "      <td>0.443472</td>\n",
       "      <td>-0.021818</td>\n",
       "    </tr>\n",
       "    <tr>\n",
       "      <th>2</th>\n",
       "      <td>NM_001003800</td>\n",
       "      <td>BICD2</td>\n",
       "      <td>1082.0</td>\n",
       "      <td>5.868472</td>\n",
       "      <td>944.0</td>\n",
       "      <td>5.744194</td>\n",
       "      <td>1126.0</td>\n",
       "      <td>5.805976</td>\n",
       "      <td>1067.0</td>\n",
       "      <td>5.631593</td>\n",
       "      <td>711.0</td>\n",
       "      <td>4.602862</td>\n",
       "      <td>752.0</td>\n",
       "      <td>4.454680</td>\n",
       "      <td>-0.076772</td>\n",
       "      <td>0.017234</td>\n",
       "      <td>0.148813</td>\n",
       "      <td>0.150851</td>\n",
       "      <td>0.418521</td>\n",
       "    </tr>\n",
       "    <tr>\n",
       "      <th>6</th>\n",
       "      <td>NM_016640</td>\n",
       "      <td>MRPS30</td>\n",
       "      <td>378.0</td>\n",
       "      <td>5.311337</td>\n",
       "      <td>315.0</td>\n",
       "      <td>5.120866</td>\n",
       "      <td>312.0</td>\n",
       "      <td>4.914494</td>\n",
       "      <td>296.0</td>\n",
       "      <td>4.741809</td>\n",
       "      <td>216.0</td>\n",
       "      <td>3.844151</td>\n",
       "      <td>202.0</td>\n",
       "      <td>3.518410</td>\n",
       "      <td>-0.142965</td>\n",
       "      <td>-0.317113</td>\n",
       "      <td>-0.183836</td>\n",
       "      <td>-0.050725</td>\n",
       "      <td>0.039386</td>\n",
       "    </tr>\n",
       "    <tr>\n",
       "      <th>9</th>\n",
       "      <td>NM_001080825</td>\n",
       "      <td>TMEM120B</td>\n",
       "      <td>48.0</td>\n",
       "      <td>2.706026</td>\n",
       "      <td>36.0</td>\n",
       "      <td>2.363552</td>\n",
       "      <td>42.0</td>\n",
       "      <td>2.393378</td>\n",
       "      <td>46.0</td>\n",
       "      <td>2.427886</td>\n",
       "      <td>23.0</td>\n",
       "      <td>0.984794</td>\n",
       "      <td>20.0</td>\n",
       "      <td>0.554095</td>\n",
       "      <td>-0.294968</td>\n",
       "      <td>-0.232917</td>\n",
       "      <td>0.107552</td>\n",
       "      <td>-0.304770</td>\n",
       "      <td>-0.319618</td>\n",
       "    </tr>\n",
       "    <tr>\n",
       "      <th>10</th>\n",
       "      <td>NM_001008781</td>\n",
       "      <td>FAT3</td>\n",
       "      <td>2287.0</td>\n",
       "      <td>4.535510</td>\n",
       "      <td>2135.0</td>\n",
       "      <td>4.508853</td>\n",
       "      <td>2538.0</td>\n",
       "      <td>4.565743</td>\n",
       "      <td>1734.0</td>\n",
       "      <td>3.919418</td>\n",
       "      <td>1261.0</td>\n",
       "      <td>3.016790</td>\n",
       "      <td>1123.0</td>\n",
       "      <td>2.620515</td>\n",
       "      <td>0.020849</td>\n",
       "      <td>0.109963</td>\n",
       "      <td>-0.230399</td>\n",
       "      <td>-0.102258</td>\n",
       "      <td>-0.082682</td>\n",
       "    </tr>\n",
       "  </tbody>\n",
       "</table>\n",
       "</div>"
      ],
      "text/plain": [
       "          AccNum  GeneName  cdReads0   cdRPKM0  cdReads1   cdRPKM1  cdReads2  \\\n",
       "1   NM_001003803     ATP5S      41.0  3.133119      38.0  3.096058      51.0   \n",
       "2   NM_001003800     BICD2    1082.0  5.868472     944.0  5.744194    1126.0   \n",
       "6      NM_016640    MRPS30     378.0  5.311337     315.0  5.120866     312.0   \n",
       "9   NM_001080825  TMEM120B      48.0  2.706026      36.0  2.363552      42.0   \n",
       "10  NM_001008781      FAT3    2287.0  4.535510    2135.0  4.508853    2538.0   \n",
       "\n",
       "     cdRPKM2  cdReads3   cdRPKM3  cdReads4   cdRPKM4  cdReads5   cdRPKM5  \\\n",
       "1   3.327989      41.0  2.916380      33.0  2.160129      21.0  1.278988   \n",
       "2   5.805976    1067.0  5.631593     711.0  4.602862     752.0  4.454680   \n",
       "6   4.914494     296.0  4.741809     216.0  3.844151     202.0  3.518410   \n",
       "9   2.393378      46.0  2.427886      23.0  0.984794      20.0  0.554095   \n",
       "10  4.565743    1734.0  3.919418    1261.0  3.016790    1123.0  2.620515   \n",
       "\n",
       "    log2cdRPKM1  log2cdRPKM2  log2cdRPKM3  log2cdRPKM4  log2cdRPKM5  \n",
       "1      0.010445     0.274601     0.168953     0.443472    -0.021818  \n",
       "2     -0.076772     0.017234     0.148813     0.150851     0.418521  \n",
       "6     -0.142965    -0.317113    -0.183836    -0.050725     0.039386  \n",
       "9     -0.294968    -0.232917     0.107552    -0.304770    -0.319618  \n",
       "10     0.020849     0.109963    -0.230399    -0.102258    -0.082682  "
      ]
     },
     "execution_count": 24,
     "metadata": {},
     "output_type": "execute_result"
    }
   ],
   "source": [
    "filteredRNASeq.head()"
   ]
  },
  {
   "cell_type": "code",
   "execution_count": 25,
   "metadata": {
    "scrolled": true
   },
   "outputs": [],
   "source": [
    "TE = reduce(lambda left,right: pd.merge(left,right,on=['AccNum','GeneName']), [RPF,filteredRNASeq])"
   ]
  },
  {
   "cell_type": "code",
   "execution_count": 26,
   "metadata": {},
   "outputs": [
    {
     "data": {
      "text/plain": [
       "(5801, 36)"
      ]
     },
     "execution_count": 26,
     "metadata": {},
     "output_type": "execute_result"
    }
   ],
   "source": [
    "TE.shape"
   ]
  },
  {
   "cell_type": "code",
   "execution_count": 27,
   "metadata": {},
   "outputs": [
    {
     "data": {
      "text/html": [
       "<div>\n",
       "<style scoped>\n",
       "    .dataframe tbody tr th:only-of-type {\n",
       "        vertical-align: middle;\n",
       "    }\n",
       "\n",
       "    .dataframe tbody tr th {\n",
       "        vertical-align: top;\n",
       "    }\n",
       "\n",
       "    .dataframe thead th {\n",
       "        text-align: right;\n",
       "    }\n",
       "</style>\n",
       "<table border=\"1\" class=\"dataframe\">\n",
       "  <thead>\n",
       "    <tr style=\"text-align: right;\">\n",
       "      <th></th>\n",
       "      <th>AccNum</th>\n",
       "      <th>GeneName</th>\n",
       "      <th>cdReads0_x</th>\n",
       "      <th>cdRPKM0_x</th>\n",
       "      <th>cdReads1_x</th>\n",
       "      <th>cdRPKM1_x</th>\n",
       "      <th>cdReads2_x</th>\n",
       "      <th>cdRPKM2_x</th>\n",
       "      <th>cdReads3_x</th>\n",
       "      <th>cdRPKM3_x</th>\n",
       "      <th>...</th>\n",
       "      <th>cdRPKM3_y</th>\n",
       "      <th>cdReads4_y</th>\n",
       "      <th>cdRPKM4_y</th>\n",
       "      <th>cdReads5_y</th>\n",
       "      <th>cdRPKM5_y</th>\n",
       "      <th>log2cdRPKM1_y</th>\n",
       "      <th>log2cdRPKM2_y</th>\n",
       "      <th>log2cdRPKM3_y</th>\n",
       "      <th>log2cdRPKM4_y</th>\n",
       "      <th>log2cdRPKM5_y</th>\n",
       "    </tr>\n",
       "  </thead>\n",
       "  <tbody>\n",
       "    <tr>\n",
       "      <th>0</th>\n",
       "      <td>NM_001003803</td>\n",
       "      <td>ATP5S</td>\n",
       "      <td>112.0</td>\n",
       "      <td>4.904000</td>\n",
       "      <td>108.0</td>\n",
       "      <td>4.867721</td>\n",
       "      <td>121.0</td>\n",
       "      <td>4.951393</td>\n",
       "      <td>51.0</td>\n",
       "      <td>4.381774</td>\n",
       "      <td>...</td>\n",
       "      <td>2.916380</td>\n",
       "      <td>33.0</td>\n",
       "      <td>2.160129</td>\n",
       "      <td>21.0</td>\n",
       "      <td>1.278988</td>\n",
       "      <td>0.010445</td>\n",
       "      <td>0.274601</td>\n",
       "      <td>0.168953</td>\n",
       "      <td>0.443472</td>\n",
       "      <td>-0.021818</td>\n",
       "    </tr>\n",
       "    <tr>\n",
       "      <th>1</th>\n",
       "      <td>NM_001003800</td>\n",
       "      <td>BICD2</td>\n",
       "      <td>525.0</td>\n",
       "      <td>5.146240</td>\n",
       "      <td>516.0</td>\n",
       "      <td>5.137482</td>\n",
       "      <td>576.0</td>\n",
       "      <td>5.215876</td>\n",
       "      <td>300.0</td>\n",
       "      <td>4.951588</td>\n",
       "      <td>...</td>\n",
       "      <td>5.631593</td>\n",
       "      <td>711.0</td>\n",
       "      <td>4.602862</td>\n",
       "      <td>752.0</td>\n",
       "      <td>4.454680</td>\n",
       "      <td>-0.076772</td>\n",
       "      <td>0.017234</td>\n",
       "      <td>0.148813</td>\n",
       "      <td>0.150851</td>\n",
       "      <td>0.418521</td>\n",
       "    </tr>\n",
       "    <tr>\n",
       "      <th>2</th>\n",
       "      <td>NM_016640</td>\n",
       "      <td>MRPS30</td>\n",
       "      <td>400.0</td>\n",
       "      <td>5.714030</td>\n",
       "      <td>413.0</td>\n",
       "      <td>5.776360</td>\n",
       "      <td>368.0</td>\n",
       "      <td>5.529620</td>\n",
       "      <td>158.0</td>\n",
       "      <td>4.986657</td>\n",
       "      <td>...</td>\n",
       "      <td>4.741809</td>\n",
       "      <td>216.0</td>\n",
       "      <td>3.844151</td>\n",
       "      <td>202.0</td>\n",
       "      <td>3.518410</td>\n",
       "      <td>-0.142965</td>\n",
       "      <td>-0.317113</td>\n",
       "      <td>-0.183836</td>\n",
       "      <td>-0.050725</td>\n",
       "      <td>0.039386</td>\n",
       "    </tr>\n",
       "    <tr>\n",
       "      <th>3</th>\n",
       "      <td>NM_001080825</td>\n",
       "      <td>TMEM120B</td>\n",
       "      <td>63.0</td>\n",
       "      <td>3.419422</td>\n",
       "      <td>56.0</td>\n",
       "      <td>3.265685</td>\n",
       "      <td>75.0</td>\n",
       "      <td>3.606845</td>\n",
       "      <td>23.0</td>\n",
       "      <td>2.578407</td>\n",
       "      <td>...</td>\n",
       "      <td>2.427886</td>\n",
       "      <td>23.0</td>\n",
       "      <td>0.984794</td>\n",
       "      <td>20.0</td>\n",
       "      <td>0.554095</td>\n",
       "      <td>-0.294968</td>\n",
       "      <td>-0.232917</td>\n",
       "      <td>0.107552</td>\n",
       "      <td>-0.304770</td>\n",
       "      <td>-0.319618</td>\n",
       "    </tr>\n",
       "    <tr>\n",
       "      <th>4</th>\n",
       "      <td>NM_001008781</td>\n",
       "      <td>FAT3</td>\n",
       "      <td>1009.0</td>\n",
       "      <td>3.676058</td>\n",
       "      <td>1008.0</td>\n",
       "      <td>3.690816</td>\n",
       "      <td>973.0</td>\n",
       "      <td>3.559528</td>\n",
       "      <td>441.0</td>\n",
       "      <td>3.094686</td>\n",
       "      <td>...</td>\n",
       "      <td>3.919418</td>\n",
       "      <td>1261.0</td>\n",
       "      <td>3.016790</td>\n",
       "      <td>1123.0</td>\n",
       "      <td>2.620515</td>\n",
       "      <td>0.020849</td>\n",
       "      <td>0.109963</td>\n",
       "      <td>-0.230399</td>\n",
       "      <td>-0.102258</td>\n",
       "      <td>-0.082682</td>\n",
       "    </tr>\n",
       "  </tbody>\n",
       "</table>\n",
       "<p>5 rows × 36 columns</p>\n",
       "</div>"
      ],
      "text/plain": [
       "         AccNum  GeneName  cdReads0_x  cdRPKM0_x  cdReads1_x  cdRPKM1_x  \\\n",
       "0  NM_001003803     ATP5S       112.0   4.904000       108.0   4.867721   \n",
       "1  NM_001003800     BICD2       525.0   5.146240       516.0   5.137482   \n",
       "2     NM_016640    MRPS30       400.0   5.714030       413.0   5.776360   \n",
       "3  NM_001080825  TMEM120B        63.0   3.419422        56.0   3.265685   \n",
       "4  NM_001008781      FAT3      1009.0   3.676058      1008.0   3.690816   \n",
       "\n",
       "   cdReads2_x  cdRPKM2_x  cdReads3_x  cdRPKM3_x      ...        cdRPKM3_y  \\\n",
       "0       121.0   4.951393        51.0   4.381774      ...         2.916380   \n",
       "1       576.0   5.215876       300.0   4.951588      ...         5.631593   \n",
       "2       368.0   5.529620       158.0   4.986657      ...         4.741809   \n",
       "3        75.0   3.606845        23.0   2.578407      ...         2.427886   \n",
       "4       973.0   3.559528       441.0   3.094686      ...         3.919418   \n",
       "\n",
       "   cdReads4_y  cdRPKM4_y  cdReads5_y  cdRPKM5_y  log2cdRPKM1_y  log2cdRPKM2_y  \\\n",
       "0        33.0   2.160129        21.0   1.278988       0.010445       0.274601   \n",
       "1       711.0   4.602862       752.0   4.454680      -0.076772       0.017234   \n",
       "2       216.0   3.844151       202.0   3.518410      -0.142965      -0.317113   \n",
       "3        23.0   0.984794        20.0   0.554095      -0.294968      -0.232917   \n",
       "4      1261.0   3.016790      1123.0   2.620515       0.020849       0.109963   \n",
       "\n",
       "   log2cdRPKM3_y  log2cdRPKM4_y  log2cdRPKM5_y  \n",
       "0       0.168953       0.443472      -0.021818  \n",
       "1       0.148813       0.150851       0.418521  \n",
       "2      -0.183836      -0.050725       0.039386  \n",
       "3       0.107552      -0.304770      -0.319618  \n",
       "4      -0.230399      -0.102258      -0.082682  \n",
       "\n",
       "[5 rows x 36 columns]"
      ]
     },
     "execution_count": 27,
     "metadata": {},
     "output_type": "execute_result"
    }
   ],
   "source": [
    "TE.head()"
   ]
  },
  {
   "cell_type": "code",
   "execution_count": 28,
   "metadata": {
    "scrolled": true
   },
   "outputs": [],
   "source": [
    "TE['cdRPKM0_x'] = TE['cdRPKM0_x']-TE['cdRPKM0_y']\n",
    "TE['cdRPKM1_x'] = TE['cdRPKM1_x']-TE['cdRPKM1_y']\n",
    "TE['cdRPKM2_x'] = TE['cdRPKM2_x']-TE['cdRPKM2_y']\n",
    "TE['cdRPKM3_x'] = TE['cdRPKM3_x']-TE['cdRPKM3_y']\n",
    "TE['cdRPKM4_x'] = TE['cdRPKM4_x']-TE['cdRPKM4_y']\n",
    "TE['cdRPKM5_x'] = TE['cdRPKM5_x']-TE['cdRPKM5_y']\n",
    "\n",
    "for i in range(0,6):\n",
    "    TE.rename(columns={'cdRPKM'+str(i)+'_x':'TE'+str(i)}, inplace=True)\n",
    "TE = TE[['AccNum', 'GeneName','TE0','TE1','TE2','TE3','TE4','TE5']]"
   ]
  },
  {
   "cell_type": "code",
   "execution_count": 29,
   "metadata": {
    "scrolled": true
   },
   "outputs": [],
   "source": [
    "TE['foldTE1']=TE['TE1']-TE['TE0']\n",
    "TE['foldTE2']=TE['TE2']-TE['TE0']\n",
    "TE['foldTE3']=TE['TE3']-TE['TE0']\n",
    "TE['foldTE4']=TE['TE4']-TE['TE0']\n",
    "TE['foldTE5']=TE['TE5']-TE['TE0']"
   ]
  },
  {
   "cell_type": "code",
   "execution_count": 30,
   "metadata": {
    "scrolled": true
   },
   "outputs": [
    {
     "data": {
      "text/html": [
       "<div>\n",
       "<style scoped>\n",
       "    .dataframe tbody tr th:only-of-type {\n",
       "        vertical-align: middle;\n",
       "    }\n",
       "\n",
       "    .dataframe tbody tr th {\n",
       "        vertical-align: top;\n",
       "    }\n",
       "\n",
       "    .dataframe thead th {\n",
       "        text-align: right;\n",
       "    }\n",
       "</style>\n",
       "<table border=\"1\" class=\"dataframe\">\n",
       "  <thead>\n",
       "    <tr style=\"text-align: right;\">\n",
       "      <th></th>\n",
       "      <th>AccNum</th>\n",
       "      <th>GeneName</th>\n",
       "      <th>TE0</th>\n",
       "      <th>TE1</th>\n",
       "      <th>TE2</th>\n",
       "      <th>TE3</th>\n",
       "      <th>TE4</th>\n",
       "      <th>TE5</th>\n",
       "      <th>foldTE1</th>\n",
       "      <th>foldTE2</th>\n",
       "      <th>foldTE3</th>\n",
       "      <th>foldTE4</th>\n",
       "      <th>foldTE5</th>\n",
       "    </tr>\n",
       "  </thead>\n",
       "  <tbody>\n",
       "    <tr>\n",
       "      <th>0</th>\n",
       "      <td>NM_001003803</td>\n",
       "      <td>ATP5S</td>\n",
       "      <td>1.770882</td>\n",
       "      <td>1.771663</td>\n",
       "      <td>1.623404</td>\n",
       "      <td>1.465394</td>\n",
       "      <td>0.647103</td>\n",
       "      <td>1.930694</td>\n",
       "      <td>0.000782</td>\n",
       "      <td>-0.147478</td>\n",
       "      <td>-0.305488</td>\n",
       "      <td>-1.123778</td>\n",
       "      <td>0.159812</td>\n",
       "    </tr>\n",
       "    <tr>\n",
       "      <th>1</th>\n",
       "      <td>NM_001003800</td>\n",
       "      <td>BICD2</td>\n",
       "      <td>-0.722232</td>\n",
       "      <td>-0.606712</td>\n",
       "      <td>-0.590100</td>\n",
       "      <td>-0.680005</td>\n",
       "      <td>-0.491531</td>\n",
       "      <td>0.363802</td>\n",
       "      <td>0.115520</td>\n",
       "      <td>0.132132</td>\n",
       "      <td>0.042227</td>\n",
       "      <td>0.230701</td>\n",
       "      <td>1.086034</td>\n",
       "    </tr>\n",
       "    <tr>\n",
       "      <th>2</th>\n",
       "      <td>NM_016640</td>\n",
       "      <td>MRPS30</td>\n",
       "      <td>0.402693</td>\n",
       "      <td>0.655493</td>\n",
       "      <td>0.615126</td>\n",
       "      <td>0.244848</td>\n",
       "      <td>0.162678</td>\n",
       "      <td>0.974128</td>\n",
       "      <td>0.252801</td>\n",
       "      <td>0.212433</td>\n",
       "      <td>-0.157844</td>\n",
       "      <td>-0.240015</td>\n",
       "      <td>0.571436</td>\n",
       "    </tr>\n",
       "    <tr>\n",
       "      <th>3</th>\n",
       "      <td>NM_001080825</td>\n",
       "      <td>TMEM120B</td>\n",
       "      <td>0.713396</td>\n",
       "      <td>0.902133</td>\n",
       "      <td>1.213467</td>\n",
       "      <td>0.150521</td>\n",
       "      <td>0.884143</td>\n",
       "      <td>2.177961</td>\n",
       "      <td>0.188737</td>\n",
       "      <td>0.500071</td>\n",
       "      <td>-0.562875</td>\n",
       "      <td>0.170746</td>\n",
       "      <td>1.464565</td>\n",
       "    </tr>\n",
       "    <tr>\n",
       "      <th>4</th>\n",
       "      <td>NM_001008781</td>\n",
       "      <td>FAT3</td>\n",
       "      <td>-0.859451</td>\n",
       "      <td>-0.818037</td>\n",
       "      <td>-1.006214</td>\n",
       "      <td>-0.824733</td>\n",
       "      <td>-1.089780</td>\n",
       "      <td>-0.158767</td>\n",
       "      <td>0.041414</td>\n",
       "      <td>-0.146763</td>\n",
       "      <td>0.034719</td>\n",
       "      <td>-0.230329</td>\n",
       "      <td>0.700684</td>\n",
       "    </tr>\n",
       "  </tbody>\n",
       "</table>\n",
       "</div>"
      ],
      "text/plain": [
       "         AccNum  GeneName       TE0       TE1       TE2       TE3       TE4  \\\n",
       "0  NM_001003803     ATP5S  1.770882  1.771663  1.623404  1.465394  0.647103   \n",
       "1  NM_001003800     BICD2 -0.722232 -0.606712 -0.590100 -0.680005 -0.491531   \n",
       "2     NM_016640    MRPS30  0.402693  0.655493  0.615126  0.244848  0.162678   \n",
       "3  NM_001080825  TMEM120B  0.713396  0.902133  1.213467  0.150521  0.884143   \n",
       "4  NM_001008781      FAT3 -0.859451 -0.818037 -1.006214 -0.824733 -1.089780   \n",
       "\n",
       "        TE5   foldTE1   foldTE2   foldTE3   foldTE4   foldTE5  \n",
       "0  1.930694  0.000782 -0.147478 -0.305488 -1.123778  0.159812  \n",
       "1  0.363802  0.115520  0.132132  0.042227  0.230701  1.086034  \n",
       "2  0.974128  0.252801  0.212433 -0.157844 -0.240015  0.571436  \n",
       "3  2.177961  0.188737  0.500071 -0.562875  0.170746  1.464565  \n",
       "4 -0.158767  0.041414 -0.146763  0.034719 -0.230329  0.700684  "
      ]
     },
     "execution_count": 30,
     "metadata": {},
     "output_type": "execute_result"
    }
   ],
   "source": [
    "TE.head()"
   ]
  },
  {
   "cell_type": "code",
   "execution_count": 31,
   "metadata": {
    "scrolled": true
   },
   "outputs": [
    {
     "data": {
      "text/plain": [
       "Index(['AccNum', 'GeneName', 'TE0', 'TE1', 'TE2', 'TE3', 'TE4', 'TE5',\n",
       "       'foldTE1', 'foldTE2', 'foldTE3', 'foldTE4', 'foldTE5'],\n",
       "      dtype='object')"
      ]
     },
     "execution_count": 31,
     "metadata": {},
     "output_type": "execute_result"
    }
   ],
   "source": [
    "TE.keys()"
   ]
  },
  {
   "cell_type": "code",
   "execution_count": 36,
   "metadata": {
    "scrolled": true
   },
   "outputs": [
    {
     "data": {
      "text/plain": [
       "(5801, 13)"
      ]
     },
     "execution_count": 36,
     "metadata": {},
     "output_type": "execute_result"
    }
   ],
   "source": [
    "TE.shape"
   ]
  },
  {
   "cell_type": "code",
   "execution_count": 37,
   "metadata": {},
   "outputs": [],
   "source": [
    "TE.to_csv('Replicate2/TE_chrE_filtered_mockT0added.txt',sep='\\t',index=False)"
   ]
  },
  {
   "cell_type": "code",
   "execution_count": null,
   "metadata": {},
   "outputs": [],
   "source": [
    "TE.head()"
   ]
  },
  {
   "cell_type": "code",
   "execution_count": 32,
   "metadata": {},
   "outputs": [],
   "source": [
    "X = TE[['foldTE1',\n",
    "       'foldTE2', 'foldTE3', 'foldTE4','foldTE5']].values"
   ]
  },
  {
   "cell_type": "code",
   "execution_count": 33,
   "metadata": {},
   "outputs": [
    {
     "data": {
      "text/plain": [
       "array([[ 7.81569213e-04, -1.47477741e-01, -3.05487608e-01,\n",
       "        -1.12377837e+00,  1.59812365e-01],\n",
       "       [ 1.15519875e-01,  1.32132342e-01,  4.22273735e-02,\n",
       "         2.30701248e-01,  1.08603414e+00],\n",
       "       [ 2.52800685e-01,  2.12433253e-01, -1.57844410e-01,\n",
       "        -2.40014523e-01,  5.71435515e-01],\n",
       "       [ 1.88736996e-01,  5.00071126e-01, -5.62875450e-01,\n",
       "         1.70746320e-01,  1.46456495e+00],\n",
       "       [ 4.14142582e-02, -1.46762887e-01,  3.47188262e-02,\n",
       "        -2.30329139e-01,  7.00684411e-01]])"
      ]
     },
     "execution_count": 33,
     "metadata": {},
     "output_type": "execute_result"
    }
   ],
   "source": [
    "X[:5]"
   ]
  },
  {
   "cell_type": "code",
   "execution_count": 35,
   "metadata": {
    "scrolled": false
   },
   "outputs": [
    {
     "name": "stdout",
     "output_type": "stream",
     "text": [
      "1600\n",
      "1600 1600\n",
      "1446\n",
      "1446 1446\n",
      "2343\n",
      "2343 2343\n",
      "412\n",
      "412 412\n",
      "283\n",
      "283 283\n",
      "1904\n",
      "1904 1904\n",
      "1640\n",
      "1640 1640\n",
      "1021\n",
      "1021 1021\n",
      "953\n",
      "953 953\n",
      "869\n",
      "869 869\n",
      "933\n",
      "933 933\n",
      "1772\n",
      "1772 1772\n",
      "1051\n",
      "1051 1051\n",
      "899\n",
      "899 899\n",
      "277\n",
      "277 277\n"
     ]
    }
   ],
   "source": [
    "# def plot_heatmap(X,idx):\n",
    "#     plt.subplot(3, 2, idx+1)\n",
    "# #     plt.figure()\n",
    "#     sns.heatmap(X,xticklabels=['foldTE1',\n",
    "#        'foldTE2', 'foldTE3', 'foldTE4'])\n",
    "#     plt.title('Heatmap'+str(idx+1))\n",
    "\n",
    "# list_nums = [5]   \n",
    "# for num in list_nums:\n",
    "#     clusters = kmeans(X,num)\n",
    "#     idx=0\n",
    "#     for cluster in clusters:\n",
    "#         print(len(cluster))\n",
    "#         plot_heatmap(cluster)\n",
    "#         idx+=1\n",
    "        \n",
    "list_nums = [4,5,6]\n",
    "for num in list_nums:\n",
    "    clusters = kmeans(X,num) \n",
    "    for idx,cluster in enumerate(clusters):\n",
    "        print(len(cluster))\n",
    "        genes=[]\n",
    "        acc_nums=[]\n",
    "        for row in cluster:\n",
    "            temp = TE.loc[(TE['foldTE1'] == row[0])& (TE['foldTE2']== row[1])\n",
    "                          & (TE['foldTE3']== row[2])]\n",
    "            if(not temp.empty):\n",
    "                genes.append(temp['GeneName'].values[0])\n",
    "                acc_nums.append(temp['AccNum'].values[0])\n",
    "        print(len(cluster),len(genes))\n",
    "        with open('/Users/akankshitadash/Desktop/Replicate2/MockT0Added/'+str(num)+\n",
    "                  '/Gene'+str(idx+1)+'.txt','w') as f:\n",
    "            for gene in genes:\n",
    "                f.write(\"%s\\n\" % gene)\n",
    "        with open('/Users/akankshitadash/Desktop/Replicate2/MockT0Added/'+str(num)+\n",
    "                  '/AccNum'+str(idx+1)+'.txt','w') as f:\n",
    "            for acc_num in acc_nums:\n",
    "                f.write(\"%s\\n\" % acc_num)\n"
   ]
  },
  {
   "cell_type": "code",
   "execution_count": null,
   "metadata": {
    "scrolled": true
   },
   "outputs": [],
   "source": [
    "# def plot_heatmap(X):\n",
    "#     plt.figure()\n",
    "#     sns.heatmap(X,xticklabels=['TE0', 'TE1', 'TE2', 'TE3', 'TE4', 'foldTE1',\n",
    "#        'foldTE2', 'foldTE3', 'foldTE4'])\n",
    "#     plt.title('Heatmap')\n",
    "#     plt.savefig('NonChrE/KMeansOutputTE/Heatmap'+str(len(X)))\n",
    "#     plt.show()\n",
    "\n",
    "# list_nums = [5]   \n",
    "# for num in list_nums:\n",
    "#     clusters = kmeans(X,num)\n",
    "#     idx=0\n",
    "#     for cluster in clusters:\n",
    "#         print(len(cluster))\n",
    "#         plot_heatmap(cluster)\n",
    "#         idx+=1"
   ]
  },
  {
   "cell_type": "markdown",
   "metadata": {},
   "source": [
    "# RPF"
   ]
  },
  {
   "cell_type": "code",
   "execution_count": null,
   "metadata": {
    "scrolled": true
   },
   "outputs": [],
   "source": [
    "RPF.keys()"
   ]
  },
  {
   "cell_type": "code",
   "execution_count": null,
   "metadata": {
    "scrolled": false
   },
   "outputs": [],
   "source": [
    "RPF.head()"
   ]
  },
  {
   "cell_type": "code",
   "execution_count": null,
   "metadata": {
    "scrolled": false
   },
   "outputs": [],
   "source": [
    "RPF_new = reduce(lambda left,right: pd.merge(left,right,on=['AccNum','GeneName']), [RPF,filteredRNASeq])"
   ]
  },
  {
   "cell_type": "code",
   "execution_count": null,
   "metadata": {
    "scrolled": false
   },
   "outputs": [],
   "source": [
    "RPF_new.head()\n",
    "for i in range(0,5):\n",
    "    RPF_new.rename(columns={'cdRPKM'+str(i)+'_x':'cdRPKM'+str(i)}, inplace=True)\n",
    "RPF_new = RPF_new[['AccNum', 'GeneName','cdRPKM0','cdRPKM1','cdRPKM2','cdRPKM3','cdRPKM4']]"
   ]
  },
  {
   "cell_type": "code",
   "execution_count": null,
   "metadata": {
    "scrolled": false
   },
   "outputs": [],
   "source": [
    "RPF_new.to_csv('/Users/akankshitadash/Desktop/RPF_NonchrE.txt',sep='\\t',index=False)"
   ]
  },
  {
   "cell_type": "code",
   "execution_count": null,
   "metadata": {
    "scrolled": false
   },
   "outputs": [],
   "source": [
    "RPF_new.shape"
   ]
  },
  {
   "cell_type": "code",
   "execution_count": null,
   "metadata": {
    "scrolled": true
   },
   "outputs": [],
   "source": [
    "X = RPF_new[['cdRPKM0', 'cdRPKM1', 'cdRPKM2', 'cdRPKM3', 'cdRPKM4']].values"
   ]
  },
  {
   "cell_type": "code",
   "execution_count": null,
   "metadata": {
    "scrolled": false
   },
   "outputs": [],
   "source": [
    "list_nums = [4,5,6]\n",
    "for num in list_nums:\n",
    "    clusters = kmeans(X,num)\n",
    "    for cluster in clusters:\n",
    "        print(len(cluster))\n",
    "    for idx,cluster in enumerate(clusters):\n",
    "        genes=[]\n",
    "        acc_nums=[]\n",
    "        for row_nd in cluster:\n",
    "            row = row_nd[0].tolist()\n",
    "            temp = RPF.loc[(RPF['cdRPKM0'] == row[0])& (RPF['cdRPKM1']== row[1]) & (RPF['cdRPKM2']== row[2])]\n",
    "            if(not temp.empty):\n",
    "                genes.append(temp['GeneName'].values[0])\n",
    "                acc_nums.append(temp['AccNum'].values[0])\n",
    "        print(len(cluster),len(genes))\n",
    "        with open('NonChrE/KMeansOutputRPF/'+str(num)+'/Gene'+str(idx+1)+'.txt','w') as f:\n",
    "            for gene in genes:\n",
    "                f.write(\"%s\\n\" % gene)\n",
    "        with open('NonChrE/KMeansOutputRPF/'+str(num)+'/AccNum'+str(idx+1)+'.txt','w') as f:\n",
    "            for acc_num in acc_nums:\n",
    "                f.write(\"%s\\n\" % acc_num)"
   ]
  },
  {
   "cell_type": "code",
   "execution_count": null,
   "metadata": {
    "scrolled": false
   },
   "outputs": [],
   "source": [
    "import random\n",
    "def plot_heatmap(X):\n",
    "    plt.figure()\n",
    "    sns.heatmap(X,xticklabels=['cdRPKM0', 'cdRPKM1', 'cdRPKM2', 'cdRPKM3', 'cdRPKM4'])\n",
    "    plt.title('Heatmap')\n",
    "    plt.savefig('NonChrE/KMeansOutputRPF/Heatmap'+str(len(X)))\n",
    "    plt.show()\n",
    "\n",
    "list_nums = [5]   \n",
    "for num in list_nums:\n",
    "    clusters = kmeans(X,num)\n",
    "    idx=0\n",
    "    for cluster in clusters:\n",
    "        print(len(cluster))\n",
    "        plot_heatmap(cluster)\n",
    "        idx+=1"
   ]
  },
  {
   "cell_type": "code",
   "execution_count": null,
   "metadata": {
    "scrolled": false
   },
   "outputs": [],
   "source": [
    "RNASeq['log2cdRPKM1']"
   ]
  },
  {
   "cell_type": "markdown",
   "metadata": {},
   "source": [
    "# Median Normalize"
   ]
  },
  {
   "cell_type": "code",
   "execution_count": null,
   "metadata": {
    "scrolled": true
   },
   "outputs": [],
   "source": [
    "plt.hist(RPF['log2cdRPKM1'], bins = np.arange(-2.0,2.0,0.1))\n",
    "print(np.median(RPF['log2cdRPKM1']))\n",
    "plt.xlabel('log2fold values RPF')\n",
    "plt.ylabel('Frequency')\n",
    "plt.title('log2fold: 2 hpi/0hpi')\n",
    "# plt.axis(-2,2)\n",
    "plt.grid(True)\n",
    "\n",
    "plt.show()"
   ]
  },
  {
   "cell_type": "code",
   "execution_count": null,
   "metadata": {
    "scrolled": true
   },
   "outputs": [],
   "source": [
    "plt.hist(RPF['log2cdRPKM2'], bins = np.arange(-2.0,2.0,0.1))\n",
    "print(np.median(RPF['log2cdRPKM2']))\n",
    "\n",
    "plt.xlabel('log2fold values RPF')\n",
    "plt.ylabel('Frequency')\n",
    "plt.title('log2fold: 4 hpi/0hpi')\n",
    "# plt.axis(-2,2)\n",
    "plt.grid(True)\n",
    "\n",
    "plt.show()"
   ]
  },
  {
   "cell_type": "code",
   "execution_count": null,
   "metadata": {
    "scrolled": true
   },
   "outputs": [],
   "source": [
    "\n",
    "plt.hist(RPF['log2cdRPKM3'], bins = np.arange(-2.0,2.0,0.1))\n",
    "print(np.median(RPF['log2cdRPKM3']))\n",
    "\n",
    "\n",
    "plt.xlabel('log2fold values RPF')\n",
    "plt.ylabel('Frequency')\n",
    "plt.title('log2fold: 6 hpi/0hpi')\n",
    "# plt.axis(-2,2)\n",
    "plt.grid(True)\n",
    "\n",
    "plt.show()"
   ]
  },
  {
   "cell_type": "code",
   "execution_count": null,
   "metadata": {
    "scrolled": true
   },
   "outputs": [],
   "source": [
    "\n",
    "plt.hist(RPF['log2cdRPKM4'], bins = np.arange(-2.0,2.0,0.1))\n",
    "print(np.median(RPF['log2cdRPKM4']))\n",
    "\n",
    "plt.xlabel('log2fold values RPF')\n",
    "plt.ylabel('Frequency')\n",
    "plt.title('log2fold: 8 hpi/0hpi')\n",
    "# plt.axis(-2,2)\n",
    "plt.grid(True)\n",
    "\n",
    "plt.show()"
   ]
  },
  {
   "cell_type": "code",
   "execution_count": null,
   "metadata": {
    "scrolled": true
   },
   "outputs": [],
   "source": [
    "RNASeq_2['log2cdRPKM1']=RNASeq_2['cdRPKM1']-RNASeq_2['cdRPKM0']\n",
    "RNASeq_2['log2cdRPKM2']=RNASeq_2['cdRPKM2']-RNASeq_2['cdRPKM0']\n",
    "RNASeq_2['log2cdRPKM3']=RNASeq_2['cdRPKM3']-RNASeq_2['cdRPKM0']\n",
    "RNASeq_2['log2cdRPKM4']=RNASeq_2['cdRPKM4']-RNASeq_2['cdRPKM0']"
   ]
  },
  {
   "cell_type": "code",
   "execution_count": null,
   "metadata": {
    "scrolled": true
   },
   "outputs": [],
   "source": [
    "RNASeq.head(5)"
   ]
  },
  {
   "cell_type": "code",
   "execution_count": null,
   "metadata": {
    "scrolled": true
   },
   "outputs": [],
   "source": [
    "RNASeq_2.head(5)"
   ]
  },
  {
   "cell_type": "code",
   "execution_count": null,
   "metadata": {
    "scrolled": true
   },
   "outputs": [],
   "source": [
    "filteredRNASeq = RNASeq_2[(RNASeq_2['log2cdRPKM1'] <= 0.5) \n",
    "                        & (RNASeq_2['log2cdRPKM2'] <= 0.5)\n",
    "                        & (RNASeq_2['log2cdRPKM3'] <= 0.5)\n",
    "                        & (RNASeq_2['log2cdRPKM4'] <= 0.5)]\n",
    "filteredRNASeq = filteredRNASeq[(filteredRNASeq['log2cdRPKM1'] >= -0.5) \n",
    "                                & (filteredRNASeq['log2cdRPKM2'] >= -0.5)\n",
    "                                & (filteredRNASeq['log2cdRPKM3'] >= -0.5)\n",
    "                                & (filteredRNASeq['log2cdRPKM4'] >= -0.5)]\n",
    "\n"
   ]
  },
  {
   "cell_type": "code",
   "execution_count": null,
   "metadata": {
    "scrolled": true
   },
   "outputs": [],
   "source": [
    "filteredRNASeq = RNASeq[(RNASeq['log2cdRPKM1'] <= 0.5) \n",
    "                        & (RNASeq['log2cdRPKM2'] <= 0.5)\n",
    "                        & (RNASeq['log2cdRPKM3'] <= 0.5)\n",
    "                        & (RNASeq['log2cdRPKM4'] <= 0.5)]\n",
    "filteredRNASeq = filteredRNASeq[(filteredRNASeq['log2cdRPKM1'] >= -0.5) \n",
    "                                & (filteredRNASeq['log2cdRPKM2'] >= -0.5)\n",
    "                                & (filteredRNASeq['log2cdRPKM3'] >= -0.5)\n",
    "                                & (filteredRNASeq['log2cdRPKM4'] >= -0.5)]\n",
    "\n"
   ]
  },
  {
   "cell_type": "code",
   "execution_count": null,
   "metadata": {
    "scrolled": true
   },
   "outputs": [],
   "source": [
    "filteredRNASeq.head(5)"
   ]
  },
  {
   "cell_type": "code",
   "execution_count": null,
   "metadata": {
    "scrolled": true
   },
   "outputs": [],
   "source": [
    "print(filteredRNASeq.shape)"
   ]
  },
  {
   "cell_type": "code",
   "execution_count": null,
   "metadata": {
    "scrolled": true
   },
   "outputs": [],
   "source": [
    "TE = reduce(lambda left,right: pd.merge(left,right,on=['AccNum','GeneName']), [RPF,RNASeq])\n",
    "TE.head()"
   ]
  },
  {
   "cell_type": "code",
   "execution_count": null,
   "metadata": {
    "scrolled": true
   },
   "outputs": [],
   "source": [
    "TE.shape"
   ]
  },
  {
   "cell_type": "code",
   "execution_count": null,
   "metadata": {
    "scrolled": true
   },
   "outputs": [],
   "source": [
    "TE['cdRPKM0_x'] = TE['cdRPKM0_x']-TE['cdRPKM0_y']\n",
    "TE['cdRPKM1_x'] = TE['cdRPKM1_x']-TE['cdRPKM1_y']\n",
    "TE['cdRPKM2_x'] = TE['cdRPKM2_x']-TE['cdRPKM2_y']\n",
    "TE['cdRPKM3_x'] = TE['cdRPKM3_x']-TE['cdRPKM3_y']\n",
    "TE['cdRPKM4_x'] = TE['cdRPKM4_x']-TE['cdRPKM4_y']\n",
    "for i in range(0,5):\n",
    "    TE.rename(columns={'cdRPKM'+str(i)+'_x':'TE'+str(i)}, inplace=True)\n",
    "TE = TE[['AccNum', 'GeneName','TE0','TE1','TE2','TE3','TE4']]\n",
    "TE.head()"
   ]
  },
  {
   "cell_type": "code",
   "execution_count": null,
   "metadata": {
    "scrolled": true
   },
   "outputs": [],
   "source": [
    "TE['foldTE1']=TE['TE1']-TE['TE0']\n",
    "TE['foldTE2']=TE['TE2']-TE['TE0']\n",
    "TE['foldTE3']=TE['TE3']-TE['TE0']\n",
    "TE['foldTE4']=TE['TE4']-TE['TE0']"
   ]
  },
  {
   "cell_type": "code",
   "execution_count": null,
   "metadata": {
    "scrolled": true
   },
   "outputs": [],
   "source": [
    "TE.head(5)"
   ]
  },
  {
   "cell_type": "code",
   "execution_count": null,
   "metadata": {
    "scrolled": true
   },
   "outputs": [],
   "source": [
    "plt.hist(TE['foldTE1'], bins = np.arange(-2.0,2.0,0.1))\n",
    "\n",
    "\n",
    "plt.xlabel('log2fold values TE')\n",
    "plt.ylabel('Frequency')\n",
    "plt.title('log2fold: 2 hpi/0hpi')\n",
    "# plt.axis(-2,2)\n",
    "plt.grid(True)\n",
    "\n",
    "plt.show()"
   ]
  },
  {
   "cell_type": "code",
   "execution_count": null,
   "metadata": {
    "scrolled": true
   },
   "outputs": [],
   "source": [
    "plt.hist(TE['foldTE2'], bins = np.arange(-2.0,2.0,0.1))\n",
    "\n",
    "\n",
    "plt.xlabel('log2fold values TE')\n",
    "plt.ylabel('Frequency')\n",
    "plt.title('log2fold: 4 hpi/0hpi')\n",
    "# plt.axis(-2,2)\n",
    "plt.grid(True)\n",
    "\n",
    "plt.show()"
   ]
  },
  {
   "cell_type": "code",
   "execution_count": null,
   "metadata": {
    "scrolled": true
   },
   "outputs": [],
   "source": [
    "plt.hist(TE['foldTE3'], bins = np.arange(-2.0,2.0,0.1))\n",
    "\n",
    "\n",
    "plt.xlabel('log2fold values TE')\n",
    "plt.ylabel('Frequency')\n",
    "plt.title('log2fold: 6 hpi/0hpi')\n",
    "# plt.axis(-2,2)\n",
    "plt.grid(True)\n",
    "\n",
    "plt.show()"
   ]
  },
  {
   "cell_type": "code",
   "execution_count": null,
   "metadata": {
    "scrolled": true
   },
   "outputs": [],
   "source": [
    "plt.hist(TE['foldTE4'], bins = np.arange(-2.0,2.0,0.1))\n",
    "\n",
    "\n",
    "plt.xlabel('log2fold values TE')\n",
    "plt.ylabel('Frequency')\n",
    "plt.title('log2fold: 8 hpi/0hpi')\n",
    "# plt.axis(-2,2)\n",
    "plt.grid(True)\n",
    "\n",
    "plt.show()"
   ]
  },
  {
   "cell_type": "code",
   "execution_count": null,
   "metadata": {
    "scrolled": true
   },
   "outputs": [],
   "source": [
    "TE.to_csv('/Users/akankshitadash/Desktop/TE_medianNormalize.txt',sep='\\t',index=False)"
   ]
  },
  {
   "cell_type": "code",
   "execution_count": null,
   "metadata": {
    "scrolled": true
   },
   "outputs": [],
   "source": [
    "previous = 'AdjustedRPKMOutput/RPF_chrE/geneTXCD_RPKMoutput_EVadjusted_ReadOutput_'\n",
    "timepoints = ['ATCACG-s_7_1_genome.txt','TTAGGC-s_7_1_genome.txt',\n",
    "             'CAGATC-s_7_1_genome.txt','GCCAAT-s_7_1_genome.txt',\n",
    "             'CTTGTA-s_7_1_genome.txt'\n",
    "            ]\n",
    "dataframes = []\n",
    "for idx,file in enumerate(timepoints):\n",
    "    df = pd.read_csv(previous+file, sep=\"\t\", na_values=['-'])\n",
    "    df = df.dropna(how='any')\n",
    "    df = df[['AccNum', 'GeneName','cdReads',\n",
    "       'cdRPKM']]\n",
    "    df.rename(columns={'cdRPKM':'cdRPKM'+str(idx), 'cdReads':'cdReads'+str(idx)}, inplace=True)\n",
    "    dataframes.append(df)"
   ]
  },
  {
   "cell_type": "code",
   "execution_count": null,
   "metadata": {
    "scrolled": true
   },
   "outputs": [],
   "source": [
    "previous = 'AdjustedRPKMOutput/RNASeq_chrE/geneTXCD_RPKMoutput_EVadjusted_ReadOutput_'\n",
    "timepoints = ['ATCACG-s_6_1_genome.txt','TTAGGC-s_6_1_genome.txt',\n",
    "             'CAGATC-s_6_1_genome.txt','GCCAAT-s_6_1_genome.txt',\n",
    "             'CTTGTA-s_6_1_genome.txt'\n",
    "            ]\n",
    "dataframes = []\n",
    "for idx,file in enumerate(timepoints):\n",
    "    df = pd.read_csv(previous+file, sep=\"\t\", na_values=['-'])\n",
    "    df = df.dropna(how='any')\n",
    "    df = df[['AccNum', 'GeneName','cdReads',\n",
    "       'cdRPKM']]\n",
    "    df.rename(columns={'cdRPKM':'cdRPKM'+str(idx), 'cdReads':'cdReads'+str(idx)}, inplace=True)\n",
    "    dataframes.append(df)"
   ]
  },
  {
   "cell_type": "code",
   "execution_count": null,
   "metadata": {
    "scrolled": true
   },
   "outputs": [],
   "source": [
    "df_rnaseq = reduce(lambda left,right: pd.merge(left,right,on=['AccNum','GeneName']), dataframes)\n",
    "df_rnaseq.to_csv('AdjustedRPKMOutput/RNASeq_chrE.txt',sep='\\t',index=False)"
   ]
  },
  {
   "cell_type": "code",
   "execution_count": null,
   "metadata": {
    "scrolled": true
   },
   "outputs": [],
   "source": []
  }
 ],
 "metadata": {
  "kernelspec": {
   "display_name": "Python 3",
   "language": "python",
   "name": "python3"
  },
  "language_info": {
   "codemirror_mode": {
    "name": "ipython",
    "version": 3
   },
   "file_extension": ".py",
   "mimetype": "text/x-python",
   "name": "python",
   "nbconvert_exporter": "python",
   "pygments_lexer": "ipython3",
   "version": "3.6.4"
  }
 },
 "nbformat": 4,
 "nbformat_minor": 2
}
