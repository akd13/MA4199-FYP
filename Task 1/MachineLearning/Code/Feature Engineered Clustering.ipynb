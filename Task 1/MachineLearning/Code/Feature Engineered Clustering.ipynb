{
 "cells": [
  {
   "cell_type": "code",
   "execution_count": 1,
   "metadata": {
    "scrolled": true
   },
   "outputs": [],
   "source": [
    "import pandas as pd\n",
    "import numpy as np\n",
    "from functools import reduce\n",
    "import matplotlib.mlab as mlab\n",
    "import matplotlib.pyplot as plt\n",
    "import math\n",
    "import seaborn as sns\n",
    "\n",
    "from sklearn.mixture import GaussianMixture as GMM\n",
    "from sklearn.cluster import KMeans\n",
    "\n",
    "from sklearn.model_selection import StratifiedKFold\n",
    "from sklearn.cluster import KMeans,AffinityPropagation"
   ]
  },
  {
   "cell_type": "code",
   "execution_count": 2,
   "metadata": {
    "scrolled": true
   },
   "outputs": [],
   "source": [
    "def gmm(X,k):\n",
    "    gmm = GMM(n_components=k, covariance_type='full')\n",
    "    gmm.fit(X)\n",
    "    X_predicted = [ [] for i in range(k)]\n",
    "    for x in X:\n",
    "        X_predicted[gmm.predict([x])[0]].append(x)\n",
    "    return X_predicted"
   ]
  },
  {
   "cell_type": "code",
   "execution_count": 3,
   "metadata": {
    "scrolled": false
   },
   "outputs": [],
   "source": [
    "def kmeans(X,k):\n",
    "    kmeans = KMeans(n_clusters=k, init='k-means++')\n",
    "    kmeans.fit(X)\n",
    "    X_predicted = [ [] for i in range(k)]\n",
    "    for x in X:\n",
    "        X_predicted[kmeans.predict([x])[0]].append(x.tolist())\n",
    "    return X_predicted"
   ]
  },
  {
   "cell_type": "code",
   "execution_count": 4,
   "metadata": {
    "scrolled": true
   },
   "outputs": [],
   "source": [
    "RNASeq_path = 'AdjustedRPKMOutput/RNASeq_chrE_mockT0.txt' \n",
    "RPF_path = 'AdjustedRPKMOutput/RPF_chrE_mockT0.txt'"
   ]
  },
  {
   "cell_type": "code",
   "execution_count": 5,
   "metadata": {
    "scrolled": true
   },
   "outputs": [],
   "source": [
    "RNASeq = pd.read_csv(RNASeq_path, sep='\\t')\n",
    "RPF = pd.read_csv(RPF_path, sep='\\t')"
   ]
  },
  {
   "cell_type": "code",
   "execution_count": 6,
   "metadata": {
    "scrolled": true
   },
   "outputs": [
    {
     "data": {
      "text/html": [
       "<div>\n",
       "<style scoped>\n",
       "    .dataframe tbody tr th:only-of-type {\n",
       "        vertical-align: middle;\n",
       "    }\n",
       "\n",
       "    .dataframe tbody tr th {\n",
       "        vertical-align: top;\n",
       "    }\n",
       "\n",
       "    .dataframe thead th {\n",
       "        text-align: right;\n",
       "    }\n",
       "</style>\n",
       "<table border=\"1\" class=\"dataframe\">\n",
       "  <thead>\n",
       "    <tr style=\"text-align: right;\">\n",
       "      <th></th>\n",
       "      <th>AccNum</th>\n",
       "      <th>GeneName</th>\n",
       "      <th>cdReads0</th>\n",
       "      <th>cdRPKM0</th>\n",
       "      <th>cdReads1</th>\n",
       "      <th>cdRPKM1</th>\n",
       "      <th>cdReads2</th>\n",
       "      <th>cdRPKM2</th>\n",
       "      <th>cdReads3</th>\n",
       "      <th>cdRPKM3</th>\n",
       "      <th>cdReads4</th>\n",
       "      <th>cdRPKM4</th>\n",
       "    </tr>\n",
       "  </thead>\n",
       "  <tbody>\n",
       "    <tr>\n",
       "      <th>0</th>\n",
       "      <td>NM_017847</td>\n",
       "      <td>ODR4</td>\n",
       "      <td>50.0</td>\n",
       "      <td>6.672930</td>\n",
       "      <td>62.0</td>\n",
       "      <td>5.568612</td>\n",
       "      <td>71.0</td>\n",
       "      <td>5.308751</td>\n",
       "      <td>30.0</td>\n",
       "      <td>2.859319</td>\n",
       "      <td>51.0</td>\n",
       "      <td>3.102104</td>\n",
       "    </tr>\n",
       "    <tr>\n",
       "      <th>1</th>\n",
       "      <td>NM_001143986</td>\n",
       "      <td>TLE6</td>\n",
       "      <td>1.0</td>\n",
       "      <td>0.105975</td>\n",
       "      <td>6.0</td>\n",
       "      <td>0.427921</td>\n",
       "      <td>3.0</td>\n",
       "      <td>0.178120</td>\n",
       "      <td>3.0</td>\n",
       "      <td>0.227049</td>\n",
       "      <td>3.0</td>\n",
       "      <td>0.144899</td>\n",
       "    </tr>\n",
       "    <tr>\n",
       "      <th>2</th>\n",
       "      <td>NM_001003803</td>\n",
       "      <td>ATP5S</td>\n",
       "      <td>41.0</td>\n",
       "      <td>11.526251</td>\n",
       "      <td>52.0</td>\n",
       "      <td>9.838214</td>\n",
       "      <td>52.0</td>\n",
       "      <td>8.190209</td>\n",
       "      <td>19.0</td>\n",
       "      <td>3.814631</td>\n",
       "      <td>22.0</td>\n",
       "      <td>2.818815</td>\n",
       "    </tr>\n",
       "    <tr>\n",
       "      <th>3</th>\n",
       "      <td>NM_001003800</td>\n",
       "      <td>BICD2</td>\n",
       "      <td>789.0</td>\n",
       "      <td>55.970762</td>\n",
       "      <td>1155.0</td>\n",
       "      <td>55.141030</td>\n",
       "      <td>1444.0</td>\n",
       "      <td>57.390343</td>\n",
       "      <td>706.0</td>\n",
       "      <td>35.767093</td>\n",
       "      <td>883.0</td>\n",
       "      <td>28.548580</td>\n",
       "    </tr>\n",
       "    <tr>\n",
       "      <th>4</th>\n",
       "      <td>NM_016649</td>\n",
       "      <td>ESF1</td>\n",
       "      <td>22.0</td>\n",
       "      <td>1.567982</td>\n",
       "      <td>26.0</td>\n",
       "      <td>1.247097</td>\n",
       "      <td>10.0</td>\n",
       "      <td>0.399306</td>\n",
       "      <td>9.0</td>\n",
       "      <td>0.458095</td>\n",
       "      <td>20.0</td>\n",
       "      <td>0.649663</td>\n",
       "    </tr>\n",
       "  </tbody>\n",
       "</table>\n",
       "</div>"
      ],
      "text/plain": [
       "         AccNum GeneName  cdReads0    cdRPKM0  cdReads1    cdRPKM1  cdReads2  \\\n",
       "0     NM_017847     ODR4      50.0   6.672930      62.0   5.568612      71.0   \n",
       "1  NM_001143986     TLE6       1.0   0.105975       6.0   0.427921       3.0   \n",
       "2  NM_001003803    ATP5S      41.0  11.526251      52.0   9.838214      52.0   \n",
       "3  NM_001003800    BICD2     789.0  55.970762    1155.0  55.141030    1444.0   \n",
       "4     NM_016649     ESF1      22.0   1.567982      26.0   1.247097      10.0   \n",
       "\n",
       "     cdRPKM2  cdReads3    cdRPKM3  cdReads4    cdRPKM4  \n",
       "0   5.308751      30.0   2.859319      51.0   3.102104  \n",
       "1   0.178120       3.0   0.227049       3.0   0.144899  \n",
       "2   8.190209      19.0   3.814631      22.0   2.818815  \n",
       "3  57.390343     706.0  35.767093     883.0  28.548580  \n",
       "4   0.399306       9.0   0.458095      20.0   0.649663  "
      ]
     },
     "execution_count": 6,
     "metadata": {},
     "output_type": "execute_result"
    }
   ],
   "source": [
    "RNASeq.head()"
   ]
  },
  {
   "cell_type": "code",
   "execution_count": 7,
   "metadata": {
    "scrolled": true
   },
   "outputs": [
    {
     "data": {
      "text/html": [
       "<div>\n",
       "<style scoped>\n",
       "    .dataframe tbody tr th:only-of-type {\n",
       "        vertical-align: middle;\n",
       "    }\n",
       "\n",
       "    .dataframe tbody tr th {\n",
       "        vertical-align: top;\n",
       "    }\n",
       "\n",
       "    .dataframe thead th {\n",
       "        text-align: right;\n",
       "    }\n",
       "</style>\n",
       "<table border=\"1\" class=\"dataframe\">\n",
       "  <thead>\n",
       "    <tr style=\"text-align: right;\">\n",
       "      <th></th>\n",
       "      <th>AccNum</th>\n",
       "      <th>GeneName</th>\n",
       "      <th>cdReads0</th>\n",
       "      <th>cdRPKM0</th>\n",
       "      <th>cdReads1</th>\n",
       "      <th>cdRPKM1</th>\n",
       "      <th>cdReads2</th>\n",
       "      <th>cdRPKM2</th>\n",
       "      <th>cdReads3</th>\n",
       "      <th>cdRPKM3</th>\n",
       "      <th>cdReads4</th>\n",
       "      <th>cdRPKM4</th>\n",
       "    </tr>\n",
       "  </thead>\n",
       "  <tbody>\n",
       "    <tr>\n",
       "      <th>0</th>\n",
       "      <td>NM_017847</td>\n",
       "      <td>ODR4</td>\n",
       "      <td>86.0</td>\n",
       "      <td>13.722243</td>\n",
       "      <td>62.0</td>\n",
       "      <td>13.189469</td>\n",
       "      <td>49.0</td>\n",
       "      <td>14.172717</td>\n",
       "      <td>37.0</td>\n",
       "      <td>9.403085</td>\n",
       "      <td>39.0</td>\n",
       "      <td>10.487249</td>\n",
       "    </tr>\n",
       "    <tr>\n",
       "      <th>1</th>\n",
       "      <td>NM_001143986</td>\n",
       "      <td>TLE6</td>\n",
       "      <td>2.0</td>\n",
       "      <td>0.253404</td>\n",
       "      <td>2.0</td>\n",
       "      <td>0.337849</td>\n",
       "      <td>2.0</td>\n",
       "      <td>0.459350</td>\n",
       "      <td>1.0</td>\n",
       "      <td>0.201802</td>\n",
       "      <td>1.0</td>\n",
       "      <td>0.213527</td>\n",
       "    </tr>\n",
       "    <tr>\n",
       "      <th>2</th>\n",
       "      <td>NM_001003803</td>\n",
       "      <td>ATP5S</td>\n",
       "      <td>99.0</td>\n",
       "      <td>33.275110</td>\n",
       "      <td>83.0</td>\n",
       "      <td>37.193868</td>\n",
       "      <td>71.0</td>\n",
       "      <td>43.258655</td>\n",
       "      <td>46.0</td>\n",
       "      <td>24.625447</td>\n",
       "      <td>26.0</td>\n",
       "      <td>14.727463</td>\n",
       "    </tr>\n",
       "    <tr>\n",
       "      <th>3</th>\n",
       "      <td>NM_001003800</td>\n",
       "      <td>BICD2</td>\n",
       "      <td>512.0</td>\n",
       "      <td>43.424443</td>\n",
       "      <td>389.0</td>\n",
       "      <td>43.986848</td>\n",
       "      <td>284.0</td>\n",
       "      <td>43.662942</td>\n",
       "      <td>257.0</td>\n",
       "      <td>34.716778</td>\n",
       "      <td>230.0</td>\n",
       "      <td>32.874747</td>\n",
       "    </tr>\n",
       "    <tr>\n",
       "      <th>4</th>\n",
       "      <td>NM_016649</td>\n",
       "      <td>ESF1</td>\n",
       "      <td>84.0</td>\n",
       "      <td>7.157770</td>\n",
       "      <td>52.0</td>\n",
       "      <td>5.907596</td>\n",
       "      <td>41.0</td>\n",
       "      <td>6.333047</td>\n",
       "      <td>26.0</td>\n",
       "      <td>3.528692</td>\n",
       "      <td>26.0</td>\n",
       "      <td>3.733723</td>\n",
       "    </tr>\n",
       "  </tbody>\n",
       "</table>\n",
       "</div>"
      ],
      "text/plain": [
       "         AccNum GeneName  cdReads0    cdRPKM0  cdReads1    cdRPKM1  cdReads2  \\\n",
       "0     NM_017847     ODR4      86.0  13.722243      62.0  13.189469      49.0   \n",
       "1  NM_001143986     TLE6       2.0   0.253404       2.0   0.337849       2.0   \n",
       "2  NM_001003803    ATP5S      99.0  33.275110      83.0  37.193868      71.0   \n",
       "3  NM_001003800    BICD2     512.0  43.424443     389.0  43.986848     284.0   \n",
       "4     NM_016649     ESF1      84.0   7.157770      52.0   5.907596      41.0   \n",
       "\n",
       "     cdRPKM2  cdReads3    cdRPKM3  cdReads4    cdRPKM4  \n",
       "0  14.172717      37.0   9.403085      39.0  10.487249  \n",
       "1   0.459350       1.0   0.201802       1.0   0.213527  \n",
       "2  43.258655      46.0  24.625447      26.0  14.727463  \n",
       "3  43.662942     257.0  34.716778     230.0  32.874747  \n",
       "4   6.333047      26.0   3.528692      26.0   3.733723  "
      ]
     },
     "execution_count": 7,
     "metadata": {},
     "output_type": "execute_result"
    }
   ],
   "source": [
    "RPF.head()"
   ]
  },
  {
   "cell_type": "code",
   "execution_count": 8,
   "metadata": {
    "scrolled": true
   },
   "outputs": [],
   "source": [
    "RNASeq = RNASeq[(RNASeq['cdReads0'] >= 10) & (RNASeq['cdReads1'] >= 10) & (RNASeq['cdReads2'] >= 10)& (RNASeq['cdReads3'] >= 10)& (RNASeq['cdReads4'] >= 10)]\n",
    "RPF = RPF[(RPF['cdReads0'] >= 10) & (RPF['cdReads1'] >= 10) & (RPF['cdReads2'] >= 10)& (RPF['cdReads3'] >= 10)& (RPF['cdReads4'] >= 10)]"
   ]
  },
  {
   "cell_type": "code",
   "execution_count": 9,
   "metadata": {
    "scrolled": true
   },
   "outputs": [],
   "source": [
    "RNASeq[['cdRPKM0', 'cdRPKM1', 'cdRPKM2', 'cdRPKM3', 'cdRPKM4']] = RNASeq[['cdRPKM0', 'cdRPKM1', 'cdRPKM2', 'cdRPKM3', 'cdRPKM4']].apply(np.log2)"
   ]
  },
  {
   "cell_type": "code",
   "execution_count": 10,
   "metadata": {
    "scrolled": true
   },
   "outputs": [],
   "source": [
    "RPF[['cdRPKM0', 'cdRPKM1', 'cdRPKM2', 'cdRPKM3', 'cdRPKM4']] = RPF[['cdRPKM0', 'cdRPKM1', 'cdRPKM2', 'cdRPKM3', 'cdRPKM4']].apply(np.log2)"
   ]
  },
  {
   "cell_type": "code",
   "execution_count": 11,
   "metadata": {
    "scrolled": true
   },
   "outputs": [],
   "source": [
    "RNASeq['log2cdRPKM1']=RNASeq['cdRPKM1']-RNASeq['cdRPKM0']\n",
    "RNASeq['log2cdRPKM2']=RNASeq['cdRPKM2']-RNASeq['cdRPKM0']\n",
    "RNASeq['log2cdRPKM3']=RNASeq['cdRPKM3']-RNASeq['cdRPKM0']\n",
    "RNASeq['log2cdRPKM4']=RNASeq['cdRPKM4']-RNASeq['cdRPKM0']"
   ]
  },
  {
   "cell_type": "code",
   "execution_count": 12,
   "metadata": {
    "scrolled": true
   },
   "outputs": [],
   "source": [
    "RPF['log2cdRPKM1']=RPF['cdRPKM1']-RPF['cdRPKM0']\n",
    "RPF['log2cdRPKM2']=RPF['cdRPKM2']-RPF['cdRPKM0']\n",
    "RPF['log2cdRPKM3']=RPF['cdRPKM3']-RPF['cdRPKM0']\n",
    "RPF['log2cdRPKM4']=RPF['cdRPKM4']-RPF['cdRPKM0']"
   ]
  },
  {
   "cell_type": "markdown",
   "metadata": {},
   "source": [
    "# TE"
   ]
  },
  {
   "cell_type": "markdown",
   "metadata": {},
   "source": [
    "### ONLY RUN FOR MEDIAN NORMALIZATION"
   ]
  },
  {
   "cell_type": "code",
   "execution_count": 15,
   "metadata": {
    "scrolled": false
   },
   "outputs": [],
   "source": [
    "RNASeq['log2cdRPKM1']-=np.median(RNASeq['log2cdRPKM1'])\n",
    "RNASeq['log2cdRPKM2']-=np.median(RNASeq['log2cdRPKM2'])\n",
    "RNASeq['log2cdRPKM3']-=np.median(RNASeq['log2cdRPKM3'])\n",
    "RNASeq['log2cdRPKM4']-=np.median(RNASeq['log2cdRPKM4'])"
   ]
  },
  {
   "cell_type": "code",
   "execution_count": 16,
   "metadata": {
    "scrolled": true
   },
   "outputs": [],
   "source": [
    "filteredRNASeq = RNASeq[(RNASeq['log2cdRPKM1'] <= 0.5) \n",
    "                        & (RNASeq['log2cdRPKM2'] <= 0.5)\n",
    "                        & (RNASeq['log2cdRPKM3'] <= 0.5)\n",
    "                        & (RNASeq['log2cdRPKM4'] <= 0.5)]\n",
    "filteredRNASeq = filteredRNASeq[(filteredRNASeq['log2cdRPKM1'] >= -0.5) \n",
    "                                & (filteredRNASeq['log2cdRPKM2'] >= -0.5)\n",
    "                                & (filteredRNASeq['log2cdRPKM3'] >= -0.5)\n",
    "                                & (filteredRNASeq['log2cdRPKM4'] >= -0.5)]"
   ]
  },
  {
   "cell_type": "code",
   "execution_count": 17,
   "metadata": {
    "scrolled": false
   },
   "outputs": [
    {
     "data": {
      "text/plain": [
       "(6239, 16)"
      ]
     },
     "execution_count": 17,
     "metadata": {},
     "output_type": "execute_result"
    }
   ],
   "source": [
    "filteredRNASeq.shape"
   ]
  },
  {
   "cell_type": "code",
   "execution_count": 18,
   "metadata": {},
   "outputs": [
    {
     "data": {
      "text/html": [
       "<div>\n",
       "<style scoped>\n",
       "    .dataframe tbody tr th:only-of-type {\n",
       "        vertical-align: middle;\n",
       "    }\n",
       "\n",
       "    .dataframe tbody tr th {\n",
       "        vertical-align: top;\n",
       "    }\n",
       "\n",
       "    .dataframe thead th {\n",
       "        text-align: right;\n",
       "    }\n",
       "</style>\n",
       "<table border=\"1\" class=\"dataframe\">\n",
       "  <thead>\n",
       "    <tr style=\"text-align: right;\">\n",
       "      <th></th>\n",
       "      <th>AccNum</th>\n",
       "      <th>GeneName</th>\n",
       "      <th>cdReads0</th>\n",
       "      <th>cdRPKM0</th>\n",
       "      <th>cdReads1</th>\n",
       "      <th>cdRPKM1</th>\n",
       "      <th>cdReads2</th>\n",
       "      <th>cdRPKM2</th>\n",
       "      <th>cdReads3</th>\n",
       "      <th>cdRPKM3</th>\n",
       "      <th>cdReads4</th>\n",
       "      <th>cdRPKM4</th>\n",
       "      <th>log2cdRPKM1</th>\n",
       "      <th>log2cdRPKM2</th>\n",
       "      <th>log2cdRPKM3</th>\n",
       "      <th>log2cdRPKM4</th>\n",
       "    </tr>\n",
       "  </thead>\n",
       "  <tbody>\n",
       "    <tr>\n",
       "      <th>0</th>\n",
       "      <td>NM_017847</td>\n",
       "      <td>ODR4</td>\n",
       "      <td>50.0</td>\n",
       "      <td>2.738320</td>\n",
       "      <td>62.0</td>\n",
       "      <td>2.477318</td>\n",
       "      <td>71.0</td>\n",
       "      <td>2.408372</td>\n",
       "      <td>30.0</td>\n",
       "      <td>1.515671</td>\n",
       "      <td>51.0</td>\n",
       "      <td>1.633247</td>\n",
       "      <td>-0.218460</td>\n",
       "      <td>-0.127981</td>\n",
       "      <td>-0.245112</td>\n",
       "      <td>0.328171</td>\n",
       "    </tr>\n",
       "    <tr>\n",
       "      <th>3</th>\n",
       "      <td>NM_001003800</td>\n",
       "      <td>BICD2</td>\n",
       "      <td>789.0</td>\n",
       "      <td>5.806601</td>\n",
       "      <td>1155.0</td>\n",
       "      <td>5.785054</td>\n",
       "      <td>1444.0</td>\n",
       "      <td>5.842736</td>\n",
       "      <td>706.0</td>\n",
       "      <td>5.160561</td>\n",
       "      <td>883.0</td>\n",
       "      <td>4.835347</td>\n",
       "      <td>0.020996</td>\n",
       "      <td>0.238101</td>\n",
       "      <td>0.331496</td>\n",
       "      <td>0.461990</td>\n",
       "    </tr>\n",
       "    <tr>\n",
       "      <th>5</th>\n",
       "      <td>NM_016647</td>\n",
       "      <td>THEM6</td>\n",
       "      <td>137.0</td>\n",
       "      <td>5.314860</td>\n",
       "      <td>182.0</td>\n",
       "      <td>5.153280</td>\n",
       "      <td>219.0</td>\n",
       "      <td>5.155776</td>\n",
       "      <td>91.0</td>\n",
       "      <td>4.238939</td>\n",
       "      <td>99.0</td>\n",
       "      <td>3.712542</td>\n",
       "      <td>-0.119037</td>\n",
       "      <td>0.042883</td>\n",
       "      <td>-0.098384</td>\n",
       "      <td>-0.169074</td>\n",
       "    </tr>\n",
       "    <tr>\n",
       "      <th>8</th>\n",
       "      <td>NM_016640</td>\n",
       "      <td>MRPS30</td>\n",
       "      <td>246.0</td>\n",
       "      <td>5.085342</td>\n",
       "      <td>348.0</td>\n",
       "      <td>5.014428</td>\n",
       "      <td>411.0</td>\n",
       "      <td>4.989983</td>\n",
       "      <td>205.0</td>\n",
       "      <td>4.336624</td>\n",
       "      <td>241.0</td>\n",
       "      <td>3.922074</td>\n",
       "      <td>-0.028371</td>\n",
       "      <td>0.106608</td>\n",
       "      <td>0.228819</td>\n",
       "      <td>0.269977</td>\n",
       "    </tr>\n",
       "    <tr>\n",
       "      <th>14</th>\n",
       "      <td>NM_001253384</td>\n",
       "      <td>RPL15</td>\n",
       "      <td>98.0</td>\n",
       "      <td>5.349072</td>\n",
       "      <td>147.0</td>\n",
       "      <td>5.362692</td>\n",
       "      <td>121.0</td>\n",
       "      <td>4.817387</td>\n",
       "      <td>60.0</td>\n",
       "      <td>4.155570</td>\n",
       "      <td>67.0</td>\n",
       "      <td>3.666809</td>\n",
       "      <td>0.056163</td>\n",
       "      <td>-0.329719</td>\n",
       "      <td>-0.215966</td>\n",
       "      <td>-0.249019</td>\n",
       "    </tr>\n",
       "  </tbody>\n",
       "</table>\n",
       "</div>"
      ],
      "text/plain": [
       "          AccNum GeneName  cdReads0   cdRPKM0  cdReads1   cdRPKM1  cdReads2  \\\n",
       "0      NM_017847     ODR4      50.0  2.738320      62.0  2.477318      71.0   \n",
       "3   NM_001003800    BICD2     789.0  5.806601    1155.0  5.785054    1444.0   \n",
       "5      NM_016647    THEM6     137.0  5.314860     182.0  5.153280     219.0   \n",
       "8      NM_016640   MRPS30     246.0  5.085342     348.0  5.014428     411.0   \n",
       "14  NM_001253384    RPL15      98.0  5.349072     147.0  5.362692     121.0   \n",
       "\n",
       "     cdRPKM2  cdReads3   cdRPKM3  cdReads4   cdRPKM4  log2cdRPKM1  \\\n",
       "0   2.408372      30.0  1.515671      51.0  1.633247    -0.218460   \n",
       "3   5.842736     706.0  5.160561     883.0  4.835347     0.020996   \n",
       "5   5.155776      91.0  4.238939      99.0  3.712542    -0.119037   \n",
       "8   4.989983     205.0  4.336624     241.0  3.922074    -0.028371   \n",
       "14  4.817387      60.0  4.155570      67.0  3.666809     0.056163   \n",
       "\n",
       "    log2cdRPKM2  log2cdRPKM3  log2cdRPKM4  \n",
       "0     -0.127981    -0.245112     0.328171  \n",
       "3      0.238101     0.331496     0.461990  \n",
       "5      0.042883    -0.098384    -0.169074  \n",
       "8      0.106608     0.228819     0.269977  \n",
       "14    -0.329719    -0.215966    -0.249019  "
      ]
     },
     "execution_count": 18,
     "metadata": {},
     "output_type": "execute_result"
    }
   ],
   "source": [
    "filteredRNASeq.head()"
   ]
  },
  {
   "cell_type": "code",
   "execution_count": 19,
   "metadata": {
    "scrolled": true
   },
   "outputs": [],
   "source": [
    "TE = reduce(lambda left,right: pd.merge(left,right,on=['AccNum','GeneName']), [RPF,filteredRNASeq])"
   ]
  },
  {
   "cell_type": "code",
   "execution_count": 20,
   "metadata": {},
   "outputs": [
    {
     "data": {
      "text/plain": [
       "(5766, 30)"
      ]
     },
     "execution_count": 20,
     "metadata": {},
     "output_type": "execute_result"
    }
   ],
   "source": [
    "TE.shape"
   ]
  },
  {
   "cell_type": "code",
   "execution_count": 21,
   "metadata": {},
   "outputs": [
    {
     "data": {
      "text/html": [
       "<div>\n",
       "<style scoped>\n",
       "    .dataframe tbody tr th:only-of-type {\n",
       "        vertical-align: middle;\n",
       "    }\n",
       "\n",
       "    .dataframe tbody tr th {\n",
       "        vertical-align: top;\n",
       "    }\n",
       "\n",
       "    .dataframe thead th {\n",
       "        text-align: right;\n",
       "    }\n",
       "</style>\n",
       "<table border=\"1\" class=\"dataframe\">\n",
       "  <thead>\n",
       "    <tr style=\"text-align: right;\">\n",
       "      <th></th>\n",
       "      <th>AccNum</th>\n",
       "      <th>GeneName</th>\n",
       "      <th>cdReads0</th>\n",
       "      <th>cdRPKM0</th>\n",
       "      <th>cdReads1</th>\n",
       "      <th>cdRPKM1</th>\n",
       "      <th>cdReads2</th>\n",
       "      <th>cdRPKM2</th>\n",
       "      <th>cdReads3</th>\n",
       "      <th>cdRPKM3</th>\n",
       "      <th>cdReads4</th>\n",
       "      <th>cdRPKM4</th>\n",
       "      <th>log2cdRPKM1</th>\n",
       "      <th>log2cdRPKM2</th>\n",
       "      <th>log2cdRPKM3</th>\n",
       "      <th>log2cdRPKM4</th>\n",
       "    </tr>\n",
       "  </thead>\n",
       "  <tbody>\n",
       "    <tr>\n",
       "      <th>0</th>\n",
       "      <td>NM_017847</td>\n",
       "      <td>ODR4</td>\n",
       "      <td>86.0</td>\n",
       "      <td>3.778444</td>\n",
       "      <td>62.0</td>\n",
       "      <td>3.721315</td>\n",
       "      <td>49.0</td>\n",
       "      <td>3.825044</td>\n",
       "      <td>37.0</td>\n",
       "      <td>3.233134</td>\n",
       "      <td>39.0</td>\n",
       "      <td>3.390564</td>\n",
       "      <td>-0.057130</td>\n",
       "      <td>0.046600</td>\n",
       "      <td>-0.545310</td>\n",
       "      <td>-0.387880</td>\n",
       "    </tr>\n",
       "    <tr>\n",
       "      <th>2</th>\n",
       "      <td>NM_001003803</td>\n",
       "      <td>ATP5S</td>\n",
       "      <td>99.0</td>\n",
       "      <td>5.056372</td>\n",
       "      <td>83.0</td>\n",
       "      <td>5.216993</td>\n",
       "      <td>71.0</td>\n",
       "      <td>5.434917</td>\n",
       "      <td>46.0</td>\n",
       "      <td>4.622078</td>\n",
       "      <td>26.0</td>\n",
       "      <td>3.880437</td>\n",
       "      <td>0.160621</td>\n",
       "      <td>0.378545</td>\n",
       "      <td>-0.434294</td>\n",
       "      <td>-1.175934</td>\n",
       "    </tr>\n",
       "    <tr>\n",
       "      <th>3</th>\n",
       "      <td>NM_001003800</td>\n",
       "      <td>BICD2</td>\n",
       "      <td>512.0</td>\n",
       "      <td>5.440435</td>\n",
       "      <td>389.0</td>\n",
       "      <td>5.459000</td>\n",
       "      <td>284.0</td>\n",
       "      <td>5.448337</td>\n",
       "      <td>257.0</td>\n",
       "      <td>5.117561</td>\n",
       "      <td>230.0</td>\n",
       "      <td>5.038908</td>\n",
       "      <td>0.018565</td>\n",
       "      <td>0.007902</td>\n",
       "      <td>-0.322874</td>\n",
       "      <td>-0.401528</td>\n",
       "    </tr>\n",
       "    <tr>\n",
       "      <th>4</th>\n",
       "      <td>NM_016649</td>\n",
       "      <td>ESF1</td>\n",
       "      <td>84.0</td>\n",
       "      <td>2.839510</td>\n",
       "      <td>52.0</td>\n",
       "      <td>2.562571</td>\n",
       "      <td>41.0</td>\n",
       "      <td>2.662900</td>\n",
       "      <td>26.0</td>\n",
       "      <td>1.819134</td>\n",
       "      <td>26.0</td>\n",
       "      <td>1.900615</td>\n",
       "      <td>-0.276939</td>\n",
       "      <td>-0.176611</td>\n",
       "      <td>-1.020377</td>\n",
       "      <td>-0.938895</td>\n",
       "    </tr>\n",
       "    <tr>\n",
       "      <th>5</th>\n",
       "      <td>NM_016647</td>\n",
       "      <td>THEM6</td>\n",
       "      <td>87.0</td>\n",
       "      <td>4.917487</td>\n",
       "      <td>89.0</td>\n",
       "      <td>5.365215</td>\n",
       "      <td>73.0</td>\n",
       "      <td>5.522523</td>\n",
       "      <td>56.0</td>\n",
       "      <td>4.953399</td>\n",
       "      <td>33.0</td>\n",
       "      <td>4.271920</td>\n",
       "      <td>0.447728</td>\n",
       "      <td>0.605036</td>\n",
       "      <td>0.035913</td>\n",
       "      <td>-0.645567</td>\n",
       "    </tr>\n",
       "  </tbody>\n",
       "</table>\n",
       "</div>"
      ],
      "text/plain": [
       "         AccNum GeneName  cdReads0   cdRPKM0  cdReads1   cdRPKM1  cdReads2  \\\n",
       "0     NM_017847     ODR4      86.0  3.778444      62.0  3.721315      49.0   \n",
       "2  NM_001003803    ATP5S      99.0  5.056372      83.0  5.216993      71.0   \n",
       "3  NM_001003800    BICD2     512.0  5.440435     389.0  5.459000     284.0   \n",
       "4     NM_016649     ESF1      84.0  2.839510      52.0  2.562571      41.0   \n",
       "5     NM_016647    THEM6      87.0  4.917487      89.0  5.365215      73.0   \n",
       "\n",
       "    cdRPKM2  cdReads3   cdRPKM3  cdReads4   cdRPKM4  log2cdRPKM1  log2cdRPKM2  \\\n",
       "0  3.825044      37.0  3.233134      39.0  3.390564    -0.057130     0.046600   \n",
       "2  5.434917      46.0  4.622078      26.0  3.880437     0.160621     0.378545   \n",
       "3  5.448337     257.0  5.117561     230.0  5.038908     0.018565     0.007902   \n",
       "4  2.662900      26.0  1.819134      26.0  1.900615    -0.276939    -0.176611   \n",
       "5  5.522523      56.0  4.953399      33.0  4.271920     0.447728     0.605036   \n",
       "\n",
       "   log2cdRPKM3  log2cdRPKM4  \n",
       "0    -0.545310    -0.387880  \n",
       "2    -0.434294    -1.175934  \n",
       "3    -0.322874    -0.401528  \n",
       "4    -1.020377    -0.938895  \n",
       "5     0.035913    -0.645567  "
      ]
     },
     "execution_count": 21,
     "metadata": {},
     "output_type": "execute_result"
    }
   ],
   "source": [
    "RPF.head()"
   ]
  },
  {
   "cell_type": "code",
   "execution_count": 22,
   "metadata": {},
   "outputs": [
    {
     "data": {
      "text/html": [
       "<div>\n",
       "<style scoped>\n",
       "    .dataframe tbody tr th:only-of-type {\n",
       "        vertical-align: middle;\n",
       "    }\n",
       "\n",
       "    .dataframe tbody tr th {\n",
       "        vertical-align: top;\n",
       "    }\n",
       "\n",
       "    .dataframe thead th {\n",
       "        text-align: right;\n",
       "    }\n",
       "</style>\n",
       "<table border=\"1\" class=\"dataframe\">\n",
       "  <thead>\n",
       "    <tr style=\"text-align: right;\">\n",
       "      <th></th>\n",
       "      <th>AccNum</th>\n",
       "      <th>GeneName</th>\n",
       "      <th>cdReads0_x</th>\n",
       "      <th>cdRPKM0_x</th>\n",
       "      <th>cdReads1_x</th>\n",
       "      <th>cdRPKM1_x</th>\n",
       "      <th>cdReads2_x</th>\n",
       "      <th>cdRPKM2_x</th>\n",
       "      <th>cdReads3_x</th>\n",
       "      <th>cdRPKM3_x</th>\n",
       "      <th>...</th>\n",
       "      <th>cdReads2_y</th>\n",
       "      <th>cdRPKM2_y</th>\n",
       "      <th>cdReads3_y</th>\n",
       "      <th>cdRPKM3_y</th>\n",
       "      <th>cdReads4_y</th>\n",
       "      <th>cdRPKM4_y</th>\n",
       "      <th>log2cdRPKM1_y</th>\n",
       "      <th>log2cdRPKM2_y</th>\n",
       "      <th>log2cdRPKM3_y</th>\n",
       "      <th>log2cdRPKM4_y</th>\n",
       "    </tr>\n",
       "  </thead>\n",
       "  <tbody>\n",
       "    <tr>\n",
       "      <th>0</th>\n",
       "      <td>NM_017847</td>\n",
       "      <td>ODR4</td>\n",
       "      <td>86.0</td>\n",
       "      <td>3.778444</td>\n",
       "      <td>62.0</td>\n",
       "      <td>3.721315</td>\n",
       "      <td>49.0</td>\n",
       "      <td>3.825044</td>\n",
       "      <td>37.0</td>\n",
       "      <td>3.233134</td>\n",
       "      <td>...</td>\n",
       "      <td>71.0</td>\n",
       "      <td>2.408372</td>\n",
       "      <td>30.0</td>\n",
       "      <td>1.515671</td>\n",
       "      <td>51.0</td>\n",
       "      <td>1.633247</td>\n",
       "      <td>-0.218460</td>\n",
       "      <td>-0.127981</td>\n",
       "      <td>-0.245112</td>\n",
       "      <td>0.328171</td>\n",
       "    </tr>\n",
       "    <tr>\n",
       "      <th>1</th>\n",
       "      <td>NM_001003800</td>\n",
       "      <td>BICD2</td>\n",
       "      <td>512.0</td>\n",
       "      <td>5.440435</td>\n",
       "      <td>389.0</td>\n",
       "      <td>5.459000</td>\n",
       "      <td>284.0</td>\n",
       "      <td>5.448337</td>\n",
       "      <td>257.0</td>\n",
       "      <td>5.117561</td>\n",
       "      <td>...</td>\n",
       "      <td>1444.0</td>\n",
       "      <td>5.842736</td>\n",
       "      <td>706.0</td>\n",
       "      <td>5.160561</td>\n",
       "      <td>883.0</td>\n",
       "      <td>4.835347</td>\n",
       "      <td>0.020996</td>\n",
       "      <td>0.238101</td>\n",
       "      <td>0.331496</td>\n",
       "      <td>0.461990</td>\n",
       "    </tr>\n",
       "    <tr>\n",
       "      <th>2</th>\n",
       "      <td>NM_016647</td>\n",
       "      <td>THEM6</td>\n",
       "      <td>87.0</td>\n",
       "      <td>4.917487</td>\n",
       "      <td>89.0</td>\n",
       "      <td>5.365215</td>\n",
       "      <td>73.0</td>\n",
       "      <td>5.522523</td>\n",
       "      <td>56.0</td>\n",
       "      <td>4.953399</td>\n",
       "      <td>...</td>\n",
       "      <td>219.0</td>\n",
       "      <td>5.155776</td>\n",
       "      <td>91.0</td>\n",
       "      <td>4.238939</td>\n",
       "      <td>99.0</td>\n",
       "      <td>3.712542</td>\n",
       "      <td>-0.119037</td>\n",
       "      <td>0.042883</td>\n",
       "      <td>-0.098384</td>\n",
       "      <td>-0.169074</td>\n",
       "    </tr>\n",
       "    <tr>\n",
       "      <th>3</th>\n",
       "      <td>NM_016640</td>\n",
       "      <td>MRPS30</td>\n",
       "      <td>300.0</td>\n",
       "      <td>5.629361</td>\n",
       "      <td>216.0</td>\n",
       "      <td>5.570369</td>\n",
       "      <td>128.0</td>\n",
       "      <td>5.258698</td>\n",
       "      <td>100.0</td>\n",
       "      <td>4.715900</td>\n",
       "      <td>...</td>\n",
       "      <td>411.0</td>\n",
       "      <td>4.989983</td>\n",
       "      <td>205.0</td>\n",
       "      <td>4.336624</td>\n",
       "      <td>241.0</td>\n",
       "      <td>3.922074</td>\n",
       "      <td>-0.028371</td>\n",
       "      <td>0.106608</td>\n",
       "      <td>0.228819</td>\n",
       "      <td>0.269977</td>\n",
       "    </tr>\n",
       "    <tr>\n",
       "      <th>4</th>\n",
       "      <td>NM_001253384</td>\n",
       "      <td>RPL15</td>\n",
       "      <td>145.0</td>\n",
       "      <td>6.171987</td>\n",
       "      <td>90.0</td>\n",
       "      <td>5.898869</td>\n",
       "      <td>28.0</td>\n",
       "      <td>4.657588</td>\n",
       "      <td>21.0</td>\n",
       "      <td>4.055896</td>\n",
       "      <td>...</td>\n",
       "      <td>121.0</td>\n",
       "      <td>4.817387</td>\n",
       "      <td>60.0</td>\n",
       "      <td>4.155570</td>\n",
       "      <td>67.0</td>\n",
       "      <td>3.666809</td>\n",
       "      <td>0.056163</td>\n",
       "      <td>-0.329719</td>\n",
       "      <td>-0.215966</td>\n",
       "      <td>-0.249019</td>\n",
       "    </tr>\n",
       "  </tbody>\n",
       "</table>\n",
       "<p>5 rows × 30 columns</p>\n",
       "</div>"
      ],
      "text/plain": [
       "         AccNum GeneName  cdReads0_x  cdRPKM0_x  cdReads1_x  cdRPKM1_x  \\\n",
       "0     NM_017847     ODR4        86.0   3.778444        62.0   3.721315   \n",
       "1  NM_001003800    BICD2       512.0   5.440435       389.0   5.459000   \n",
       "2     NM_016647    THEM6        87.0   4.917487        89.0   5.365215   \n",
       "3     NM_016640   MRPS30       300.0   5.629361       216.0   5.570369   \n",
       "4  NM_001253384    RPL15       145.0   6.171987        90.0   5.898869   \n",
       "\n",
       "   cdReads2_x  cdRPKM2_x  cdReads3_x  cdRPKM3_x      ...        cdReads2_y  \\\n",
       "0        49.0   3.825044        37.0   3.233134      ...              71.0   \n",
       "1       284.0   5.448337       257.0   5.117561      ...            1444.0   \n",
       "2        73.0   5.522523        56.0   4.953399      ...             219.0   \n",
       "3       128.0   5.258698       100.0   4.715900      ...             411.0   \n",
       "4        28.0   4.657588        21.0   4.055896      ...             121.0   \n",
       "\n",
       "   cdRPKM2_y  cdReads3_y  cdRPKM3_y  cdReads4_y  cdRPKM4_y  log2cdRPKM1_y  \\\n",
       "0   2.408372        30.0   1.515671        51.0   1.633247      -0.218460   \n",
       "1   5.842736       706.0   5.160561       883.0   4.835347       0.020996   \n",
       "2   5.155776        91.0   4.238939        99.0   3.712542      -0.119037   \n",
       "3   4.989983       205.0   4.336624       241.0   3.922074      -0.028371   \n",
       "4   4.817387        60.0   4.155570        67.0   3.666809       0.056163   \n",
       "\n",
       "   log2cdRPKM2_y  log2cdRPKM3_y  log2cdRPKM4_y  \n",
       "0      -0.127981      -0.245112       0.328171  \n",
       "1       0.238101       0.331496       0.461990  \n",
       "2       0.042883      -0.098384      -0.169074  \n",
       "3       0.106608       0.228819       0.269977  \n",
       "4      -0.329719      -0.215966      -0.249019  \n",
       "\n",
       "[5 rows x 30 columns]"
      ]
     },
     "execution_count": 22,
     "metadata": {},
     "output_type": "execute_result"
    }
   ],
   "source": [
    "TE.head()"
   ]
  },
  {
   "cell_type": "code",
   "execution_count": 23,
   "metadata": {
    "scrolled": true
   },
   "outputs": [],
   "source": [
    "TE['cdRPKM0_x'] = TE['cdRPKM0_x']-TE['cdRPKM0_y']\n",
    "TE['cdRPKM1_x'] = TE['cdRPKM1_x']-TE['cdRPKM1_y']\n",
    "TE['cdRPKM2_x'] = TE['cdRPKM2_x']-TE['cdRPKM2_y']\n",
    "TE['cdRPKM3_x'] = TE['cdRPKM3_x']-TE['cdRPKM3_y']\n",
    "TE['cdRPKM4_x'] = TE['cdRPKM4_x']-TE['cdRPKM4_y']\n",
    "for i in range(0,5):\n",
    "    TE.rename(columns={'cdRPKM'+str(i)+'_x':'TE'+str(i)}, inplace=True)\n",
    "TE = TE[['AccNum', 'GeneName','TE0','TE1','TE2','TE3','TE4']]"
   ]
  },
  {
   "cell_type": "code",
   "execution_count": 24,
   "metadata": {
    "scrolled": true
   },
   "outputs": [],
   "source": [
    "TE['foldTE1']=TE['TE1']-TE['TE0']\n",
    "TE['foldTE2']=TE['TE2']-TE['TE0']\n",
    "TE['foldTE3']=TE['TE3']-TE['TE0']\n",
    "TE['foldTE4']=TE['TE4']-TE['TE0']"
   ]
  },
  {
   "cell_type": "code",
   "execution_count": 26,
   "metadata": {
    "scrolled": true
   },
   "outputs": [
    {
     "data": {
      "text/html": [
       "<div>\n",
       "<style scoped>\n",
       "    .dataframe tbody tr th:only-of-type {\n",
       "        vertical-align: middle;\n",
       "    }\n",
       "\n",
       "    .dataframe tbody tr th {\n",
       "        vertical-align: top;\n",
       "    }\n",
       "\n",
       "    .dataframe thead th {\n",
       "        text-align: right;\n",
       "    }\n",
       "</style>\n",
       "<table border=\"1\" class=\"dataframe\">\n",
       "  <thead>\n",
       "    <tr style=\"text-align: right;\">\n",
       "      <th></th>\n",
       "      <th>AccNum</th>\n",
       "      <th>GeneName</th>\n",
       "      <th>TE0</th>\n",
       "      <th>TE1</th>\n",
       "      <th>TE2</th>\n",
       "      <th>TE3</th>\n",
       "      <th>TE4</th>\n",
       "      <th>foldTE1</th>\n",
       "      <th>foldTE2</th>\n",
       "      <th>foldTE3</th>\n",
       "      <th>foldTE4</th>\n",
       "    </tr>\n",
       "  </thead>\n",
       "  <tbody>\n",
       "    <tr>\n",
       "      <th>0</th>\n",
       "      <td>NM_017847</td>\n",
       "      <td>ODR4</td>\n",
       "      <td>1.040124</td>\n",
       "      <td>1.243997</td>\n",
       "      <td>1.416672</td>\n",
       "      <td>1.717463</td>\n",
       "      <td>1.757317</td>\n",
       "      <td>0.203873</td>\n",
       "      <td>0.376548</td>\n",
       "      <td>0.677339</td>\n",
       "      <td>0.717193</td>\n",
       "    </tr>\n",
       "    <tr>\n",
       "      <th>1</th>\n",
       "      <td>NM_001003800</td>\n",
       "      <td>BICD2</td>\n",
       "      <td>-0.366166</td>\n",
       "      <td>-0.326054</td>\n",
       "      <td>-0.394399</td>\n",
       "      <td>-0.043000</td>\n",
       "      <td>0.203561</td>\n",
       "      <td>0.040112</td>\n",
       "      <td>-0.028233</td>\n",
       "      <td>0.323166</td>\n",
       "      <td>0.569727</td>\n",
       "    </tr>\n",
       "    <tr>\n",
       "      <th>2</th>\n",
       "      <td>NM_016647</td>\n",
       "      <td>THEM6</td>\n",
       "      <td>-0.397373</td>\n",
       "      <td>0.211936</td>\n",
       "      <td>0.366747</td>\n",
       "      <td>0.714460</td>\n",
       "      <td>0.559378</td>\n",
       "      <td>0.609309</td>\n",
       "      <td>0.764120</td>\n",
       "      <td>1.111833</td>\n",
       "      <td>0.956751</td>\n",
       "    </tr>\n",
       "    <tr>\n",
       "      <th>3</th>\n",
       "      <td>NM_016640</td>\n",
       "      <td>MRPS30</td>\n",
       "      <td>0.544020</td>\n",
       "      <td>0.555941</td>\n",
       "      <td>0.268715</td>\n",
       "      <td>0.379276</td>\n",
       "      <td>0.831364</td>\n",
       "      <td>0.011921</td>\n",
       "      <td>-0.275305</td>\n",
       "      <td>-0.164744</td>\n",
       "      <td>0.287344</td>\n",
       "    </tr>\n",
       "    <tr>\n",
       "      <th>4</th>\n",
       "      <td>NM_001253384</td>\n",
       "      <td>RPL15</td>\n",
       "      <td>0.822915</td>\n",
       "      <td>0.536178</td>\n",
       "      <td>-0.159799</td>\n",
       "      <td>-0.099673</td>\n",
       "      <td>0.722107</td>\n",
       "      <td>-0.286737</td>\n",
       "      <td>-0.982714</td>\n",
       "      <td>-0.922588</td>\n",
       "      <td>-0.100807</td>\n",
       "    </tr>\n",
       "  </tbody>\n",
       "</table>\n",
       "</div>"
      ],
      "text/plain": [
       "         AccNum GeneName       TE0       TE1       TE2       TE3       TE4  \\\n",
       "0     NM_017847     ODR4  1.040124  1.243997  1.416672  1.717463  1.757317   \n",
       "1  NM_001003800    BICD2 -0.366166 -0.326054 -0.394399 -0.043000  0.203561   \n",
       "2     NM_016647    THEM6 -0.397373  0.211936  0.366747  0.714460  0.559378   \n",
       "3     NM_016640   MRPS30  0.544020  0.555941  0.268715  0.379276  0.831364   \n",
       "4  NM_001253384    RPL15  0.822915  0.536178 -0.159799 -0.099673  0.722107   \n",
       "\n",
       "    foldTE1   foldTE2   foldTE3   foldTE4  \n",
       "0  0.203873  0.376548  0.677339  0.717193  \n",
       "1  0.040112 -0.028233  0.323166  0.569727  \n",
       "2  0.609309  0.764120  1.111833  0.956751  \n",
       "3  0.011921 -0.275305 -0.164744  0.287344  \n",
       "4 -0.286737 -0.982714 -0.922588 -0.100807  "
      ]
     },
     "execution_count": 26,
     "metadata": {},
     "output_type": "execute_result"
    }
   ],
   "source": [
    "TE.head()"
   ]
  },
  {
   "cell_type": "code",
   "execution_count": 27,
   "metadata": {
    "scrolled": true
   },
   "outputs": [
    {
     "data": {
      "text/plain": [
       "Index(['AccNum', 'GeneName', 'TE0', 'TE1', 'TE2', 'TE3', 'TE4', 'foldTE1',\n",
       "       'foldTE2', 'foldTE3', 'foldTE4'],\n",
       "      dtype='object')"
      ]
     },
     "execution_count": 27,
     "metadata": {},
     "output_type": "execute_result"
    }
   ],
   "source": [
    "TE.keys()"
   ]
  },
  {
   "cell_type": "code",
   "execution_count": 28,
   "metadata": {
    "scrolled": true
   },
   "outputs": [
    {
     "data": {
      "text/plain": [
       "(5766, 11)"
      ]
     },
     "execution_count": 28,
     "metadata": {},
     "output_type": "execute_result"
    }
   ],
   "source": [
    "TE.shape"
   ]
  },
  {
   "cell_type": "code",
   "execution_count": 29,
   "metadata": {},
   "outputs": [],
   "source": [
    "TE.to_csv('AdjustedRPKMOutput/TE_chrE_filtered_mockT0.txt',sep='\\t',index=False)"
   ]
  },
  {
   "cell_type": "code",
   "execution_count": 35,
   "metadata": {},
   "outputs": [
    {
     "data": {
      "text/html": [
       "<div>\n",
       "<style scoped>\n",
       "    .dataframe tbody tr th:only-of-type {\n",
       "        vertical-align: middle;\n",
       "    }\n",
       "\n",
       "    .dataframe tbody tr th {\n",
       "        vertical-align: top;\n",
       "    }\n",
       "\n",
       "    .dataframe thead th {\n",
       "        text-align: right;\n",
       "    }\n",
       "</style>\n",
       "<table border=\"1\" class=\"dataframe\">\n",
       "  <thead>\n",
       "    <tr style=\"text-align: right;\">\n",
       "      <th></th>\n",
       "      <th>AccNum</th>\n",
       "      <th>GeneName</th>\n",
       "      <th>TE0</th>\n",
       "      <th>TE1</th>\n",
       "      <th>TE2</th>\n",
       "      <th>TE3</th>\n",
       "      <th>TE4</th>\n",
       "      <th>foldTE1</th>\n",
       "      <th>foldTE2</th>\n",
       "      <th>foldTE3</th>\n",
       "      <th>foldTE4</th>\n",
       "    </tr>\n",
       "  </thead>\n",
       "  <tbody>\n",
       "    <tr>\n",
       "      <th>0</th>\n",
       "      <td>NM_017847</td>\n",
       "      <td>ODR4</td>\n",
       "      <td>1.040124</td>\n",
       "      <td>1.243997</td>\n",
       "      <td>1.416672</td>\n",
       "      <td>1.717463</td>\n",
       "      <td>1.757317</td>\n",
       "      <td>0.203873</td>\n",
       "      <td>0.376548</td>\n",
       "      <td>0.677339</td>\n",
       "      <td>0.717193</td>\n",
       "    </tr>\n",
       "    <tr>\n",
       "      <th>1</th>\n",
       "      <td>NM_001003800</td>\n",
       "      <td>BICD2</td>\n",
       "      <td>-0.366166</td>\n",
       "      <td>-0.326054</td>\n",
       "      <td>-0.394399</td>\n",
       "      <td>-0.043000</td>\n",
       "      <td>0.203561</td>\n",
       "      <td>0.040112</td>\n",
       "      <td>-0.028233</td>\n",
       "      <td>0.323166</td>\n",
       "      <td>0.569727</td>\n",
       "    </tr>\n",
       "    <tr>\n",
       "      <th>2</th>\n",
       "      <td>NM_016647</td>\n",
       "      <td>THEM6</td>\n",
       "      <td>-0.397373</td>\n",
       "      <td>0.211936</td>\n",
       "      <td>0.366747</td>\n",
       "      <td>0.714460</td>\n",
       "      <td>0.559378</td>\n",
       "      <td>0.609309</td>\n",
       "      <td>0.764120</td>\n",
       "      <td>1.111833</td>\n",
       "      <td>0.956751</td>\n",
       "    </tr>\n",
       "    <tr>\n",
       "      <th>3</th>\n",
       "      <td>NM_016640</td>\n",
       "      <td>MRPS30</td>\n",
       "      <td>0.544020</td>\n",
       "      <td>0.555941</td>\n",
       "      <td>0.268715</td>\n",
       "      <td>0.379276</td>\n",
       "      <td>0.831364</td>\n",
       "      <td>0.011921</td>\n",
       "      <td>-0.275305</td>\n",
       "      <td>-0.164744</td>\n",
       "      <td>0.287344</td>\n",
       "    </tr>\n",
       "    <tr>\n",
       "      <th>4</th>\n",
       "      <td>NM_001253384</td>\n",
       "      <td>RPL15</td>\n",
       "      <td>0.822915</td>\n",
       "      <td>0.536178</td>\n",
       "      <td>-0.159799</td>\n",
       "      <td>-0.099673</td>\n",
       "      <td>0.722107</td>\n",
       "      <td>-0.286737</td>\n",
       "      <td>-0.982714</td>\n",
       "      <td>-0.922588</td>\n",
       "      <td>-0.100807</td>\n",
       "    </tr>\n",
       "  </tbody>\n",
       "</table>\n",
       "</div>"
      ],
      "text/plain": [
       "         AccNum GeneName       TE0       TE1       TE2       TE3       TE4  \\\n",
       "0     NM_017847     ODR4  1.040124  1.243997  1.416672  1.717463  1.757317   \n",
       "1  NM_001003800    BICD2 -0.366166 -0.326054 -0.394399 -0.043000  0.203561   \n",
       "2     NM_016647    THEM6 -0.397373  0.211936  0.366747  0.714460  0.559378   \n",
       "3     NM_016640   MRPS30  0.544020  0.555941  0.268715  0.379276  0.831364   \n",
       "4  NM_001253384    RPL15  0.822915  0.536178 -0.159799 -0.099673  0.722107   \n",
       "\n",
       "    foldTE1   foldTE2   foldTE3   foldTE4  \n",
       "0  0.203873  0.376548  0.677339  0.717193  \n",
       "1  0.040112 -0.028233  0.323166  0.569727  \n",
       "2  0.609309  0.764120  1.111833  0.956751  \n",
       "3  0.011921 -0.275305 -0.164744  0.287344  \n",
       "4 -0.286737 -0.982714 -0.922588 -0.100807  "
      ]
     },
     "execution_count": 35,
     "metadata": {},
     "output_type": "execute_result"
    }
   ],
   "source": [
    "TE.head()"
   ]
  },
  {
   "cell_type": "code",
   "execution_count": 36,
   "metadata": {},
   "outputs": [],
   "source": [
    "X = TE[['foldTE1',\n",
    "       'foldTE2', 'foldTE3', 'foldTE4']].values"
   ]
  },
  {
   "cell_type": "code",
   "execution_count": 37,
   "metadata": {},
   "outputs": [
    {
     "data": {
      "text/plain": [
       "array([[ 0.20387279,  0.37654797,  0.67733875,  0.71719324],\n",
       "       [ 0.04011205, -0.02823261,  0.32316621,  0.56972684],\n",
       "       [ 0.60930873,  0.7641199 ,  1.11183341,  0.95675102],\n",
       "       [ 0.01192117, -0.27530496, -0.16474355,  0.28734425],\n",
       "       [-0.28673714, -0.98271375, -0.92258788, -0.10080732]])"
      ]
     },
     "execution_count": 37,
     "metadata": {},
     "output_type": "execute_result"
    }
   ],
   "source": [
    "X[:5]"
   ]
  },
  {
   "cell_type": "code",
   "execution_count": 38,
   "metadata": {
    "scrolled": false
   },
   "outputs": [
    {
     "name": "stdout",
     "output_type": "stream",
     "text": [
      "2332\n",
      "2332 2332\n",
      "1698\n",
      "1698 1698\n",
      "1211\n",
      "1211 1211\n",
      "525\n",
      "525 525\n"
     ]
    },
    {
     "data": {
      "text/plain": [
       "<Figure size 1080x1080 with 0 Axes>"
      ]
     },
     "metadata": {},
     "output_type": "display_data"
    },
    {
     "name": "stdout",
     "output_type": "stream",
     "text": [
      "1732\n",
      "1732 1732\n",
      "370\n",
      "370 370\n",
      "1142\n",
      "1142 1142\n",
      "759\n",
      "759 759\n",
      "1763\n",
      "1763 1763\n"
     ]
    },
    {
     "data": {
      "text/plain": [
       "<Figure size 1080x1080 with 0 Axes>"
      ]
     },
     "metadata": {},
     "output_type": "display_data"
    },
    {
     "name": "stdout",
     "output_type": "stream",
     "text": [
      "923\n",
      "923 923\n",
      "1661\n",
      "1661 1661\n",
      "296\n",
      "296 296\n",
      "988\n",
      "988 988\n",
      "751\n",
      "751 751\n",
      "1147\n",
      "1147 1147\n"
     ]
    },
    {
     "data": {
      "text/plain": [
       "<Figure size 1080x1080 with 0 Axes>"
      ]
     },
     "metadata": {},
     "output_type": "display_data"
    }
   ],
   "source": [
    "# def plot_heatmap(X,idx):\n",
    "#     plt.subplot(3, 2, idx+1)\n",
    "# #     plt.figure()\n",
    "#     sns.heatmap(X,xticklabels=['foldTE1',\n",
    "#        'foldTE2', 'foldTE3', 'foldTE4'])\n",
    "#     plt.title('Heatmap'+str(idx+1))\n",
    "\n",
    "# list_nums = [5]   \n",
    "# for num in list_nums:\n",
    "#     clusters = kmeans(X,num)\n",
    "#     idx=0\n",
    "#     for cluster in clusters:\n",
    "#         print(len(cluster))\n",
    "#         plot_heatmap(cluster)\n",
    "#         idx+=1\n",
    "        \n",
    "list_nums = [4,5,6]\n",
    "for num in list_nums:\n",
    "    clusters = kmeans(X,num) \n",
    "    f = plt.figure(figsize=(15,15))    \n",
    "    for idx,cluster in enumerate(clusters):\n",
    "        print(len(cluster))\n",
    "#         plot_heatmap(cluster,idx)\n",
    "        genes=[]\n",
    "        acc_nums=[]\n",
    "        for row in cluster:\n",
    "            temp = TE.loc[(TE['foldTE1'] == row[0])& (TE['foldTE2']== row[1]) & (TE['foldTE3']== row[2])]\n",
    "            if(not temp.empty):\n",
    "                genes.append(temp['GeneName'].values[0])\n",
    "                acc_nums.append(temp['AccNum'].values[0])\n",
    "        print(len(cluster),len(genes))\n",
    "        with open('/Users/akankshitadash/Desktop/Mock/'+str(num)+'/Gene'+str(idx+1)+'.txt','w') as f:\n",
    "            for gene in genes:\n",
    "                f.write(\"%s\\n\" % gene)\n",
    "        with open('/Users/akankshitadash/Desktop/Mock/'+str(num)+'/AccNum'+str(idx+1)+'.txt','w') as f:\n",
    "            for acc_num in acc_nums:\n",
    "                f.write(\"%s\\n\" % acc_num)\n",
    "#     plt.savefig('/Users/akankshitadash/Desktop/Heatmap'+str(num))\n",
    "    #plt.show()"
   ]
  },
  {
   "cell_type": "code",
   "execution_count": null,
   "metadata": {
    "scrolled": true
   },
   "outputs": [],
   "source": [
    "# def plot_heatmap(X):\n",
    "#     plt.figure()\n",
    "#     sns.heatmap(X,xticklabels=['TE0', 'TE1', 'TE2', 'TE3', 'TE4', 'foldTE1',\n",
    "#        'foldTE2', 'foldTE3', 'foldTE4'])\n",
    "#     plt.title('Heatmap')\n",
    "#     plt.savefig('NonChrE/KMeansOutputTE/Heatmap'+str(len(X)))\n",
    "#     plt.show()\n",
    "\n",
    "# list_nums = [5]   \n",
    "# for num in list_nums:\n",
    "#     clusters = kmeans(X,num)\n",
    "#     idx=0\n",
    "#     for cluster in clusters:\n",
    "#         print(len(cluster))\n",
    "#         plot_heatmap(cluster)\n",
    "#         idx+=1"
   ]
  },
  {
   "cell_type": "markdown",
   "metadata": {},
   "source": [
    "# RPF"
   ]
  },
  {
   "cell_type": "code",
   "execution_count": 75,
   "metadata": {
    "scrolled": true
   },
   "outputs": [
    {
     "data": {
      "text/plain": [
       "Index(['AccNum', 'GeneName', 'cdReads0', 'cdRPKM0', 'cdReads1', 'cdRPKM1',\n",
       "       'cdReads2', 'cdRPKM2', 'cdReads3', 'cdRPKM3', 'cdReads4', 'cdRPKM4',\n",
       "       'log2cdRPKM1', 'log2cdRPKM2', 'log2cdRPKM3', 'log2cdRPKM4'],\n",
       "      dtype='object')"
      ]
     },
     "execution_count": 75,
     "metadata": {},
     "output_type": "execute_result"
    }
   ],
   "source": [
    "RPF.keys()"
   ]
  },
  {
   "cell_type": "code",
   "execution_count": 76,
   "metadata": {
    "scrolled": false
   },
   "outputs": [
    {
     "data": {
      "text/html": [
       "<div>\n",
       "<style scoped>\n",
       "    .dataframe tbody tr th:only-of-type {\n",
       "        vertical-align: middle;\n",
       "    }\n",
       "\n",
       "    .dataframe tbody tr th {\n",
       "        vertical-align: top;\n",
       "    }\n",
       "\n",
       "    .dataframe thead th {\n",
       "        text-align: right;\n",
       "    }\n",
       "</style>\n",
       "<table border=\"1\" class=\"dataframe\">\n",
       "  <thead>\n",
       "    <tr style=\"text-align: right;\">\n",
       "      <th></th>\n",
       "      <th>AccNum</th>\n",
       "      <th>GeneName</th>\n",
       "      <th>cdReads0</th>\n",
       "      <th>cdRPKM0</th>\n",
       "      <th>cdReads1</th>\n",
       "      <th>cdRPKM1</th>\n",
       "      <th>cdReads2</th>\n",
       "      <th>cdRPKM2</th>\n",
       "      <th>cdReads3</th>\n",
       "      <th>cdRPKM3</th>\n",
       "      <th>cdReads4</th>\n",
       "      <th>cdRPKM4</th>\n",
       "      <th>log2cdRPKM1</th>\n",
       "      <th>log2cdRPKM2</th>\n",
       "      <th>log2cdRPKM3</th>\n",
       "      <th>log2cdRPKM4</th>\n",
       "    </tr>\n",
       "  </thead>\n",
       "  <tbody>\n",
       "    <tr>\n",
       "      <th>0</th>\n",
       "      <td>NM_017847</td>\n",
       "      <td>ODR4</td>\n",
       "      <td>93.0</td>\n",
       "      <td>4.041663</td>\n",
       "      <td>62.0</td>\n",
       "      <td>3.721315</td>\n",
       "      <td>49.0</td>\n",
       "      <td>3.825044</td>\n",
       "      <td>37.0</td>\n",
       "      <td>3.233134</td>\n",
       "      <td>39.0</td>\n",
       "      <td>3.390564</td>\n",
       "      <td>-0.320348</td>\n",
       "      <td>-0.216618</td>\n",
       "      <td>-0.808529</td>\n",
       "      <td>-0.651098</td>\n",
       "    </tr>\n",
       "    <tr>\n",
       "      <th>2</th>\n",
       "      <td>NM_001003803</td>\n",
       "      <td>ATP5S</td>\n",
       "      <td>81.0</td>\n",
       "      <td>4.917189</td>\n",
       "      <td>83.0</td>\n",
       "      <td>5.216993</td>\n",
       "      <td>71.0</td>\n",
       "      <td>5.434917</td>\n",
       "      <td>46.0</td>\n",
       "      <td>4.622078</td>\n",
       "      <td>26.0</td>\n",
       "      <td>3.880437</td>\n",
       "      <td>0.299804</td>\n",
       "      <td>0.517728</td>\n",
       "      <td>-0.295111</td>\n",
       "      <td>-1.036752</td>\n",
       "    </tr>\n",
       "    <tr>\n",
       "      <th>3</th>\n",
       "      <td>NM_001003800</td>\n",
       "      <td>BICD2</td>\n",
       "      <td>501.0</td>\n",
       "      <td>5.559427</td>\n",
       "      <td>389.0</td>\n",
       "      <td>5.459000</td>\n",
       "      <td>284.0</td>\n",
       "      <td>5.448337</td>\n",
       "      <td>257.0</td>\n",
       "      <td>5.117561</td>\n",
       "      <td>230.0</td>\n",
       "      <td>5.038908</td>\n",
       "      <td>-0.100426</td>\n",
       "      <td>-0.111089</td>\n",
       "      <td>-0.441865</td>\n",
       "      <td>-0.520519</td>\n",
       "    </tr>\n",
       "    <tr>\n",
       "      <th>4</th>\n",
       "      <td>NM_016649</td>\n",
       "      <td>ESF1</td>\n",
       "      <td>69.0</td>\n",
       "      <td>2.706042</td>\n",
       "      <td>52.0</td>\n",
       "      <td>2.562571</td>\n",
       "      <td>41.0</td>\n",
       "      <td>2.662900</td>\n",
       "      <td>26.0</td>\n",
       "      <td>1.819134</td>\n",
       "      <td>26.0</td>\n",
       "      <td>1.900615</td>\n",
       "      <td>-0.143471</td>\n",
       "      <td>-0.043142</td>\n",
       "      <td>-0.886908</td>\n",
       "      <td>-0.805427</td>\n",
       "    </tr>\n",
       "    <tr>\n",
       "      <th>5</th>\n",
       "      <td>NM_016647</td>\n",
       "      <td>THEM6</td>\n",
       "      <td>132.0</td>\n",
       "      <td>5.669262</td>\n",
       "      <td>89.0</td>\n",
       "      <td>5.365215</td>\n",
       "      <td>73.0</td>\n",
       "      <td>5.522523</td>\n",
       "      <td>56.0</td>\n",
       "      <td>4.953399</td>\n",
       "      <td>33.0</td>\n",
       "      <td>4.271920</td>\n",
       "      <td>-0.304046</td>\n",
       "      <td>-0.146739</td>\n",
       "      <td>-0.715862</td>\n",
       "      <td>-1.397342</td>\n",
       "    </tr>\n",
       "  </tbody>\n",
       "</table>\n",
       "</div>"
      ],
      "text/plain": [
       "         AccNum GeneName  cdReads0   cdRPKM0  cdReads1   cdRPKM1  cdReads2  \\\n",
       "0     NM_017847     ODR4      93.0  4.041663      62.0  3.721315      49.0   \n",
       "2  NM_001003803    ATP5S      81.0  4.917189      83.0  5.216993      71.0   \n",
       "3  NM_001003800    BICD2     501.0  5.559427     389.0  5.459000     284.0   \n",
       "4     NM_016649     ESF1      69.0  2.706042      52.0  2.562571      41.0   \n",
       "5     NM_016647    THEM6     132.0  5.669262      89.0  5.365215      73.0   \n",
       "\n",
       "    cdRPKM2  cdReads3   cdRPKM3  cdReads4   cdRPKM4  log2cdRPKM1  log2cdRPKM2  \\\n",
       "0  3.825044      37.0  3.233134      39.0  3.390564    -0.320348    -0.216618   \n",
       "2  5.434917      46.0  4.622078      26.0  3.880437     0.299804     0.517728   \n",
       "3  5.448337     257.0  5.117561     230.0  5.038908    -0.100426    -0.111089   \n",
       "4  2.662900      26.0  1.819134      26.0  1.900615    -0.143471    -0.043142   \n",
       "5  5.522523      56.0  4.953399      33.0  4.271920    -0.304046    -0.146739   \n",
       "\n",
       "   log2cdRPKM3  log2cdRPKM4  \n",
       "0    -0.808529    -0.651098  \n",
       "2    -0.295111    -1.036752  \n",
       "3    -0.441865    -0.520519  \n",
       "4    -0.886908    -0.805427  \n",
       "5    -0.715862    -1.397342  "
      ]
     },
     "execution_count": 76,
     "metadata": {},
     "output_type": "execute_result"
    }
   ],
   "source": [
    "RPF.head()"
   ]
  },
  {
   "cell_type": "code",
   "execution_count": 77,
   "metadata": {
    "scrolled": false
   },
   "outputs": [],
   "source": [
    "RPF_new = reduce(lambda left,right: pd.merge(left,right,on=['AccNum','GeneName']), [RPF,filteredRNASeq])"
   ]
  },
  {
   "cell_type": "code",
   "execution_count": 78,
   "metadata": {
    "scrolled": false
   },
   "outputs": [],
   "source": [
    "RPF_new.head()\n",
    "for i in range(0,5):\n",
    "    RPF_new.rename(columns={'cdRPKM'+str(i)+'_x':'cdRPKM'+str(i)}, inplace=True)\n",
    "RPF_new = RPF_new[['AccNum', 'GeneName','cdRPKM0','cdRPKM1','cdRPKM2','cdRPKM3','cdRPKM4']]"
   ]
  },
  {
   "cell_type": "code",
   "execution_count": 107,
   "metadata": {
    "scrolled": false
   },
   "outputs": [],
   "source": [
    "RPF_new.to_csv('/Users/akankshitadash/Desktop/RPF_NonchrE.txt',sep='\\t',index=False)"
   ]
  },
  {
   "cell_type": "code",
   "execution_count": 108,
   "metadata": {
    "scrolled": false
   },
   "outputs": [
    {
     "data": {
      "text/plain": [
       "(5642, 7)"
      ]
     },
     "execution_count": 108,
     "metadata": {},
     "output_type": "execute_result"
    }
   ],
   "source": [
    "RPF_new.shape"
   ]
  },
  {
   "cell_type": "code",
   "execution_count": null,
   "metadata": {
    "scrolled": true
   },
   "outputs": [],
   "source": [
    "X = RPF_new[['cdRPKM0', 'cdRPKM1', 'cdRPKM2', 'cdRPKM3', 'cdRPKM4']].values"
   ]
  },
  {
   "cell_type": "code",
   "execution_count": null,
   "metadata": {
    "scrolled": false
   },
   "outputs": [],
   "source": [
    "list_nums = [4,5,6]\n",
    "for num in list_nums:\n",
    "    clusters = kmeans(X,num)\n",
    "    for cluster in clusters:\n",
    "        print(len(cluster))\n",
    "    for idx,cluster in enumerate(clusters):\n",
    "        genes=[]\n",
    "        acc_nums=[]\n",
    "        for row_nd in cluster:\n",
    "            row = row_nd[0].tolist()\n",
    "            temp = RPF.loc[(RPF['cdRPKM0'] == row[0])& (RPF['cdRPKM1']== row[1]) & (RPF['cdRPKM2']== row[2])]\n",
    "            if(not temp.empty):\n",
    "                genes.append(temp['GeneName'].values[0])\n",
    "                acc_nums.append(temp['AccNum'].values[0])\n",
    "        print(len(cluster),len(genes))\n",
    "        with open('NonChrE/KMeansOutputRPF/'+str(num)+'/Gene'+str(idx+1)+'.txt','w') as f:\n",
    "            for gene in genes:\n",
    "                f.write(\"%s\\n\" % gene)\n",
    "        with open('NonChrE/KMeansOutputRPF/'+str(num)+'/AccNum'+str(idx+1)+'.txt','w') as f:\n",
    "            for acc_num in acc_nums:\n",
    "                f.write(\"%s\\n\" % acc_num)"
   ]
  },
  {
   "cell_type": "code",
   "execution_count": null,
   "metadata": {
    "scrolled": false
   },
   "outputs": [],
   "source": [
    "import random\n",
    "def plot_heatmap(X):\n",
    "    plt.figure()\n",
    "    sns.heatmap(X,xticklabels=['cdRPKM0', 'cdRPKM1', 'cdRPKM2', 'cdRPKM3', 'cdRPKM4'])\n",
    "    plt.title('Heatmap')\n",
    "    plt.savefig('NonChrE/KMeansOutputRPF/Heatmap'+str(len(X)))\n",
    "    plt.show()\n",
    "\n",
    "list_nums = [5]   \n",
    "for num in list_nums:\n",
    "    clusters = kmeans(X,num)\n",
    "    idx=0\n",
    "    for cluster in clusters:\n",
    "        print(len(cluster))\n",
    "        plot_heatmap(cluster)\n",
    "        idx+=1"
   ]
  },
  {
   "cell_type": "code",
   "execution_count": null,
   "metadata": {
    "scrolled": false
   },
   "outputs": [],
   "source": [
    "RNASeq['log2cdRPKM1']"
   ]
  },
  {
   "cell_type": "markdown",
   "metadata": {},
   "source": [
    "# Median Normalize"
   ]
  },
  {
   "cell_type": "code",
   "execution_count": 27,
   "metadata": {
    "scrolled": true
   },
   "outputs": [
    {
     "name": "stdout",
     "output_type": "stream",
     "text": [
      "-0.0141017899809\n"
     ]
    },
    {
     "data": {
      "image/png": "[encoded data removed]",
      "text/plain": [
       "<matplotlib.figure.Figure at 0x11333cc50>"
      ]
     },
     "metadata": {},
     "output_type": "display_data"
    }
   ],
   "source": [
    "plt.hist(RPF['log2cdRPKM1'], bins = np.arange(-2.0,2.0,0.1))\n",
    "print(np.median(RPF['log2cdRPKM1']))\n",
    "plt.xlabel('log2fold values RPF')\n",
    "plt.ylabel('Frequency')\n",
    "plt.title('log2fold: 2 hpi/0hpi')\n",
    "# plt.axis(-2,2)\n",
    "plt.grid(True)\n",
    "\n",
    "plt.show()"
   ]
  },
  {
   "cell_type": "code",
   "execution_count": 28,
   "metadata": {
    "scrolled": true
   },
   "outputs": [
    {
     "name": "stdout",
     "output_type": "stream",
     "text": [
      "-0.160924884532\n"
     ]
    },
    {
     "data": {
      "image/png": "[encoded data removed]",
      "text/plain": [
       "<matplotlib.figure.Figure at 0x11345d3c8>"
      ]
     },
     "metadata": {},
     "output_type": "display_data"
    }
   ],
   "source": [
    "plt.hist(RPF['log2cdRPKM2'], bins = np.arange(-2.0,2.0,0.1))\n",
    "print(np.median(RPF['log2cdRPKM2']))\n",
    "\n",
    "plt.xlabel('log2fold values RPF')\n",
    "plt.ylabel('Frequency')\n",
    "plt.title('log2fold: 4 hpi/0hpi')\n",
    "# plt.axis(-2,2)\n",
    "plt.grid(True)\n",
    "\n",
    "plt.show()"
   ]
  },
  {
   "cell_type": "code",
   "execution_count": 29,
   "metadata": {
    "scrolled": true
   },
   "outputs": [
    {
     "name": "stdout",
     "output_type": "stream",
     "text": [
      "-0.78138590165\n"
     ]
    },
    {
     "data": {
      "image/png": "[encoded data removed]",
      "text/plain": [
       "<matplotlib.figure.Figure at 0x1134aaa20>"
      ]
     },
     "metadata": {},
     "output_type": "display_data"
    }
   ],
   "source": [
    "\n",
    "plt.hist(RPF['log2cdRPKM3'], bins = np.arange(-2.0,2.0,0.1))\n",
    "print(np.median(RPF['log2cdRPKM3']))\n",
    "\n",
    "\n",
    "plt.xlabel('log2fold values RPF')\n",
    "plt.ylabel('Frequency')\n",
    "plt.title('log2fold: 6 hpi/0hpi')\n",
    "# plt.axis(-2,2)\n",
    "plt.grid(True)\n",
    "\n",
    "plt.show()"
   ]
  },
  {
   "cell_type": "code",
   "execution_count": 30,
   "metadata": {
    "scrolled": true
   },
   "outputs": [
    {
     "name": "stdout",
     "output_type": "stream",
     "text": [
      "-0.895368741896\n"
     ]
    },
    {
     "data": {
      "image/png": "[encoded data removed]",
      "text/plain": [
       "<matplotlib.figure.Figure at 0x1136c95c0>"
      ]
     },
     "metadata": {},
     "output_type": "display_data"
    }
   ],
   "source": [
    "\n",
    "plt.hist(RPF['log2cdRPKM4'], bins = np.arange(-2.0,2.0,0.1))\n",
    "print(np.median(RPF['log2cdRPKM4']))\n",
    "\n",
    "plt.xlabel('log2fold values RPF')\n",
    "plt.ylabel('Frequency')\n",
    "plt.title('log2fold: 8 hpi/0hpi')\n",
    "# plt.axis(-2,2)\n",
    "plt.grid(True)\n",
    "\n",
    "plt.show()"
   ]
  },
  {
   "cell_type": "code",
   "execution_count": null,
   "metadata": {
    "scrolled": true
   },
   "outputs": [],
   "source": [
    "RNASeq_2['log2cdRPKM1']=RNASeq_2['cdRPKM1']-RNASeq_2['cdRPKM0']\n",
    "RNASeq_2['log2cdRPKM2']=RNASeq_2['cdRPKM2']-RNASeq_2['cdRPKM0']\n",
    "RNASeq_2['log2cdRPKM3']=RNASeq_2['cdRPKM3']-RNASeq_2['cdRPKM0']\n",
    "RNASeq_2['log2cdRPKM4']=RNASeq_2['cdRPKM4']-RNASeq_2['cdRPKM0']"
   ]
  },
  {
   "cell_type": "code",
   "execution_count": null,
   "metadata": {
    "scrolled": true
   },
   "outputs": [],
   "source": [
    "RNASeq.head(5)"
   ]
  },
  {
   "cell_type": "code",
   "execution_count": null,
   "metadata": {
    "scrolled": true
   },
   "outputs": [],
   "source": [
    "RNASeq_2.head(5)"
   ]
  },
  {
   "cell_type": "code",
   "execution_count": null,
   "metadata": {
    "scrolled": true
   },
   "outputs": [],
   "source": [
    "filteredRNASeq = RNASeq_2[(RNASeq_2['log2cdRPKM1'] <= 0.5) \n",
    "                        & (RNASeq_2['log2cdRPKM2'] <= 0.5)\n",
    "                        & (RNASeq_2['log2cdRPKM3'] <= 0.5)\n",
    "                        & (RNASeq_2['log2cdRPKM4'] <= 0.5)]\n",
    "filteredRNASeq = filteredRNASeq[(filteredRNASeq['log2cdRPKM1'] >= -0.5) \n",
    "                                & (filteredRNASeq['log2cdRPKM2'] >= -0.5)\n",
    "                                & (filteredRNASeq['log2cdRPKM3'] >= -0.5)\n",
    "                                & (filteredRNASeq['log2cdRPKM4'] >= -0.5)]\n",
    "\n"
   ]
  },
  {
   "cell_type": "code",
   "execution_count": null,
   "metadata": {
    "scrolled": true
   },
   "outputs": [],
   "source": [
    "filteredRNASeq = RNASeq[(RNASeq['log2cdRPKM1'] <= 0.5) \n",
    "                        & (RNASeq['log2cdRPKM2'] <= 0.5)\n",
    "                        & (RNASeq['log2cdRPKM3'] <= 0.5)\n",
    "                        & (RNASeq['log2cdRPKM4'] <= 0.5)]\n",
    "filteredRNASeq = filteredRNASeq[(filteredRNASeq['log2cdRPKM1'] >= -0.5) \n",
    "                                & (filteredRNASeq['log2cdRPKM2'] >= -0.5)\n",
    "                                & (filteredRNASeq['log2cdRPKM3'] >= -0.5)\n",
    "                                & (filteredRNASeq['log2cdRPKM4'] >= -0.5)]\n",
    "\n"
   ]
  },
  {
   "cell_type": "code",
   "execution_count": null,
   "metadata": {
    "scrolled": true
   },
   "outputs": [],
   "source": [
    "filteredRNASeq.head(5)"
   ]
  },
  {
   "cell_type": "code",
   "execution_count": null,
   "metadata": {
    "scrolled": true
   },
   "outputs": [],
   "source": [
    "print(filteredRNASeq.shape)"
   ]
  },
  {
   "cell_type": "code",
   "execution_count": null,
   "metadata": {
    "scrolled": true
   },
   "outputs": [],
   "source": [
    "TE = reduce(lambda left,right: pd.merge(left,right,on=['AccNum','GeneName']), [RPF,RNASeq])\n",
    "TE.head()"
   ]
  },
  {
   "cell_type": "code",
   "execution_count": null,
   "metadata": {
    "scrolled": true
   },
   "outputs": [],
   "source": [
    "TE.shape"
   ]
  },
  {
   "cell_type": "code",
   "execution_count": null,
   "metadata": {
    "scrolled": true
   },
   "outputs": [],
   "source": [
    "TE['cdRPKM0_x'] = TE['cdRPKM0_x']-TE['cdRPKM0_y']\n",
    "TE['cdRPKM1_x'] = TE['cdRPKM1_x']-TE['cdRPKM1_y']\n",
    "TE['cdRPKM2_x'] = TE['cdRPKM2_x']-TE['cdRPKM2_y']\n",
    "TE['cdRPKM3_x'] = TE['cdRPKM3_x']-TE['cdRPKM3_y']\n",
    "TE['cdRPKM4_x'] = TE['cdRPKM4_x']-TE['cdRPKM4_y']\n",
    "for i in range(0,5):\n",
    "    TE.rename(columns={'cdRPKM'+str(i)+'_x':'TE'+str(i)}, inplace=True)\n",
    "TE = TE[['AccNum', 'GeneName','TE0','TE1','TE2','TE3','TE4']]\n",
    "TE.head()"
   ]
  },
  {
   "cell_type": "code",
   "execution_count": null,
   "metadata": {
    "scrolled": true
   },
   "outputs": [],
   "source": [
    "TE['foldTE1']=TE['TE1']-TE['TE0']\n",
    "TE['foldTE2']=TE['TE2']-TE['TE0']\n",
    "TE['foldTE3']=TE['TE3']-TE['TE0']\n",
    "TE['foldTE4']=TE['TE4']-TE['TE0']"
   ]
  },
  {
   "cell_type": "code",
   "execution_count": null,
   "metadata": {
    "scrolled": true
   },
   "outputs": [],
   "source": [
    "TE.head(5)"
   ]
  },
  {
   "cell_type": "code",
   "execution_count": null,
   "metadata": {
    "scrolled": true
   },
   "outputs": [],
   "source": [
    "plt.hist(TE['foldTE1'], bins = np.arange(-2.0,2.0,0.1))\n",
    "\n",
    "\n",
    "plt.xlabel('log2fold values TE')\n",
    "plt.ylabel('Frequency')\n",
    "plt.title('log2fold: 2 hpi/0hpi')\n",
    "# plt.axis(-2,2)\n",
    "plt.grid(True)\n",
    "\n",
    "plt.show()"
   ]
  },
  {
   "cell_type": "code",
   "execution_count": null,
   "metadata": {
    "scrolled": true
   },
   "outputs": [],
   "source": [
    "plt.hist(TE['foldTE2'], bins = np.arange(-2.0,2.0,0.1))\n",
    "\n",
    "\n",
    "plt.xlabel('log2fold values TE')\n",
    "plt.ylabel('Frequency')\n",
    "plt.title('log2fold: 4 hpi/0hpi')\n",
    "# plt.axis(-2,2)\n",
    "plt.grid(True)\n",
    "\n",
    "plt.show()"
   ]
  },
  {
   "cell_type": "code",
   "execution_count": null,
   "metadata": {
    "scrolled": true
   },
   "outputs": [],
   "source": [
    "plt.hist(TE['foldTE3'], bins = np.arange(-2.0,2.0,0.1))\n",
    "\n",
    "\n",
    "plt.xlabel('log2fold values TE')\n",
    "plt.ylabel('Frequency')\n",
    "plt.title('log2fold: 6 hpi/0hpi')\n",
    "# plt.axis(-2,2)\n",
    "plt.grid(True)\n",
    "\n",
    "plt.show()"
   ]
  },
  {
   "cell_type": "code",
   "execution_count": null,
   "metadata": {
    "scrolled": true
   },
   "outputs": [],
   "source": [
    "plt.hist(TE['foldTE4'], bins = np.arange(-2.0,2.0,0.1))\n",
    "\n",
    "\n",
    "plt.xlabel('log2fold values TE')\n",
    "plt.ylabel('Frequency')\n",
    "plt.title('log2fold: 8 hpi/0hpi')\n",
    "# plt.axis(-2,2)\n",
    "plt.grid(True)\n",
    "\n",
    "plt.show()"
   ]
  },
  {
   "cell_type": "code",
   "execution_count": null,
   "metadata": {
    "scrolled": true
   },
   "outputs": [],
   "source": [
    "TE.to_csv('/Users/akankshitadash/Desktop/TE_medianNormalize.txt',sep='\\t',index=False)"
   ]
  },
  {
   "cell_type": "code",
   "execution_count": null,
   "metadata": {
    "scrolled": true
   },
   "outputs": [],
   "source": [
    "previous = 'AdjustedRPKMOutput/RPF_chrE/geneTXCD_RPKMoutput_EVadjusted_ReadOutput_'\n",
    "timepoints = ['ATCACG-s_7_1_genome.txt','TTAGGC-s_7_1_genome.txt',\n",
    "             'CAGATC-s_7_1_genome.txt','GCCAAT-s_7_1_genome.txt',\n",
    "             'CTTGTA-s_7_1_genome.txt'\n",
    "            ]\n",
    "dataframes = []\n",
    "for idx,file in enumerate(timepoints):\n",
    "    df = pd.read_csv(previous+file, sep=\"\t\", na_values=['-'])\n",
    "    df = df.dropna(how='any')\n",
    "    df = df[['AccNum', 'GeneName','cdReads',\n",
    "       'cdRPKM']]\n",
    "    df.rename(columns={'cdRPKM':'cdRPKM'+str(idx), 'cdReads':'cdReads'+str(idx)}, inplace=True)\n",
    "    dataframes.append(df)"
   ]
  },
  {
   "cell_type": "code",
   "execution_count": null,
   "metadata": {
    "scrolled": true
   },
   "outputs": [],
   "source": [
    "previous = 'AdjustedRPKMOutput/RNASeq_chrE/geneTXCD_RPKMoutput_EVadjusted_ReadOutput_'\n",
    "timepoints = ['ATCACG-s_6_1_genome.txt','TTAGGC-s_6_1_genome.txt',\n",
    "             'CAGATC-s_6_1_genome.txt','GCCAAT-s_6_1_genome.txt',\n",
    "             'CTTGTA-s_6_1_genome.txt'\n",
    "            ]\n",
    "dataframes = []\n",
    "for idx,file in enumerate(timepoints):\n",
    "    df = pd.read_csv(previous+file, sep=\"\t\", na_values=['-'])\n",
    "    df = df.dropna(how='any')\n",
    "    df = df[['AccNum', 'GeneName','cdReads',\n",
    "       'cdRPKM']]\n",
    "    df.rename(columns={'cdRPKM':'cdRPKM'+str(idx), 'cdReads':'cdReads'+str(idx)}, inplace=True)\n",
    "    dataframes.append(df)"
   ]
  },
  {
   "cell_type": "code",
   "execution_count": null,
   "metadata": {
    "scrolled": true
   },
   "outputs": [],
   "source": [
    "df_rnaseq = reduce(lambda left,right: pd.merge(left,right,on=['AccNum','GeneName']), dataframes)\n",
    "df_rnaseq.to_csv('AdjustedRPKMOutput/RNASeq_chrE.txt',sep='\\t',index=False)"
   ]
  },
  {
   "cell_type": "code",
   "execution_count": null,
   "metadata": {
    "scrolled": true
   },
   "outputs": [],
   "source": []
  }
 ],
 "metadata": {
  "kernelspec": {
   "display_name": "Python 3",
   "language": "python",
   "name": "python3"
  },
  "language_info": {
   "codemirror_mode": {
    "name": "ipython",
    "version": 3
   },
   "file_extension": ".py",
   "mimetype": "text/x-python",
   "name": "python",
   "nbconvert_exporter": "python",
   "pygments_lexer": "ipython3",
   "version": "3.6.4"
  }
 },
 "nbformat": 4,
 "nbformat_minor": 2
}
