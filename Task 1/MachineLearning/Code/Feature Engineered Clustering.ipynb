{
 "cells": [
  {
   "cell_type": "code",
   "execution_count": 2,
   "metadata": {
    "scrolled": true
   },
   "outputs": [],
   "source": [
    "import pandas as pd\n",
    "import numpy as np\n",
    "from functools import reduce\n",
    "import matplotlib.mlab as mlab\n",
    "import matplotlib.pyplot as plt\n",
    "import math\n",
    "import seaborn as sns\n",
    "\n",
    "from sklearn.mixture import GaussianMixture as GMM\n",
    "from sklearn.cluster import KMeans\n",
    "\n",
    "from sklearn.model_selection import StratifiedKFold\n",
    "from sklearn.cluster import KMeans,AffinityPropagation"
   ]
  },
  {
   "cell_type": "code",
   "execution_count": 3,
   "metadata": {
    "scrolled": true
   },
   "outputs": [],
   "source": [
    "def gmm(X,k):\n",
    "    gmm = GMM(n_components=k, covariance_type='full')\n",
    "    gmm.fit(X)\n",
    "    X_predicted = [ [] for i in range(k)]\n",
    "    for x in X:\n",
    "        X_predicted[gmm.predict([x])[0]].append(x)\n",
    "    return X_predicted"
   ]
  },
  {
   "cell_type": "code",
   "execution_count": 4,
   "metadata": {
    "scrolled": false
   },
   "outputs": [],
   "source": [
    "def kmeans(X,k):\n",
    "    kmeans = KMeans(n_clusters=k, init='k-means++')\n",
    "    kmeans.fit(X)\n",
    "    X_predicted = [ [] for i in range(k)]\n",
    "    for x in X:\n",
    "        X_predicted[kmeans.predict([x])[0]].append(x.tolist())\n",
    "    return X_predicted"
   ]
  },
  {
   "cell_type": "code",
   "execution_count": 5,
   "metadata": {
    "scrolled": true
   },
   "outputs": [],
   "source": [
    "RNASeq_path = 'Replicate2/RNASeq_chrE.txt' \n",
    "RPF_path = 'Replicate2/RPF_chrE.txt'"
   ]
  },
  {
   "cell_type": "code",
   "execution_count": 6,
   "metadata": {
    "scrolled": true
   },
   "outputs": [],
   "source": [
    "RNASeq = pd.read_csv(RNASeq_path, sep='\\t')\n",
    "RPF = pd.read_csv(RPF_path, sep='\\t')"
   ]
  },
  {
   "cell_type": "code",
   "execution_count": 7,
   "metadata": {
    "scrolled": true
   },
   "outputs": [
    {
     "data": {
      "text/html": [
       "<div>\n",
       "<style scoped>\n",
       "    .dataframe tbody tr th:only-of-type {\n",
       "        vertical-align: middle;\n",
       "    }\n",
       "\n",
       "    .dataframe tbody tr th {\n",
       "        vertical-align: top;\n",
       "    }\n",
       "\n",
       "    .dataframe thead th {\n",
       "        text-align: right;\n",
       "    }\n",
       "</style>\n",
       "<table border=\"1\" class=\"dataframe\">\n",
       "  <thead>\n",
       "    <tr style=\"text-align: right;\">\n",
       "      <th></th>\n",
       "      <th>AccNum</th>\n",
       "      <th>GeneName</th>\n",
       "      <th>cdReads0</th>\n",
       "      <th>cdRPKM0</th>\n",
       "      <th>cdReads1</th>\n",
       "      <th>cdRPKM1</th>\n",
       "      <th>cdReads2</th>\n",
       "      <th>cdRPKM2</th>\n",
       "      <th>cdReads3</th>\n",
       "      <th>cdRPKM3</th>\n",
       "      <th>cdReads4</th>\n",
       "      <th>cdRPKM4</th>\n",
       "    </tr>\n",
       "  </thead>\n",
       "  <tbody>\n",
       "    <tr>\n",
       "      <th>0</th>\n",
       "      <td>NM_017847</td>\n",
       "      <td>ODR4</td>\n",
       "      <td>38.0</td>\n",
       "      <td>4.059277</td>\n",
       "      <td>70.0</td>\n",
       "      <td>6.543270</td>\n",
       "      <td>63.0</td>\n",
       "      <td>5.507023</td>\n",
       "      <td>38.0</td>\n",
       "      <td>2.443294</td>\n",
       "      <td>48.0</td>\n",
       "      <td>2.633165</td>\n",
       "    </tr>\n",
       "    <tr>\n",
       "      <th>1</th>\n",
       "      <td>NM_001003803</td>\n",
       "      <td>ATP5S</td>\n",
       "      <td>38.0</td>\n",
       "      <td>8.550792</td>\n",
       "      <td>51.0</td>\n",
       "      <td>10.042101</td>\n",
       "      <td>41.0</td>\n",
       "      <td>7.549494</td>\n",
       "      <td>33.0</td>\n",
       "      <td>4.469549</td>\n",
       "      <td>21.0</td>\n",
       "      <td>2.426687</td>\n",
       "    </tr>\n",
       "    <tr>\n",
       "      <th>2</th>\n",
       "      <td>NM_001003800</td>\n",
       "      <td>BICD2</td>\n",
       "      <td>944.0</td>\n",
       "      <td>53.601229</td>\n",
       "      <td>1126.0</td>\n",
       "      <td>55.946484</td>\n",
       "      <td>1067.0</td>\n",
       "      <td>49.576787</td>\n",
       "      <td>711.0</td>\n",
       "      <td>24.299615</td>\n",
       "      <td>752.0</td>\n",
       "      <td>21.927660</td>\n",
       "    </tr>\n",
       "    <tr>\n",
       "      <th>3</th>\n",
       "      <td>NM_016649</td>\n",
       "      <td>ESF1</td>\n",
       "      <td>19.0</td>\n",
       "      <td>1.083903</td>\n",
       "      <td>53.0</td>\n",
       "      <td>2.645723</td>\n",
       "      <td>33.0</td>\n",
       "      <td>1.540501</td>\n",
       "      <td>29.0</td>\n",
       "      <td>0.995777</td>\n",
       "      <td>27.0</td>\n",
       "      <td>0.790993</td>\n",
       "    </tr>\n",
       "    <tr>\n",
       "      <th>4</th>\n",
       "      <td>NM_016647</td>\n",
       "      <td>THEM6</td>\n",
       "      <td>174.0</td>\n",
       "      <td>40.464994</td>\n",
       "      <td>161.0</td>\n",
       "      <td>32.763309</td>\n",
       "      <td>124.0</td>\n",
       "      <td>23.597344</td>\n",
       "      <td>65.0</td>\n",
       "      <td>9.098517</td>\n",
       "      <td>69.0</td>\n",
       "      <td>8.240452</td>\n",
       "    </tr>\n",
       "  </tbody>\n",
       "</table>\n",
       "</div>"
      ],
      "text/plain": [
       "         AccNum GeneName  cdReads0    cdRPKM0  cdReads1    cdRPKM1  cdReads2  \\\n",
       "0     NM_017847     ODR4      38.0   4.059277      70.0   6.543270      63.0   \n",
       "1  NM_001003803    ATP5S      38.0   8.550792      51.0  10.042101      41.0   \n",
       "2  NM_001003800    BICD2     944.0  53.601229    1126.0  55.946484    1067.0   \n",
       "3     NM_016649     ESF1      19.0   1.083903      53.0   2.645723      33.0   \n",
       "4     NM_016647    THEM6     174.0  40.464994     161.0  32.763309     124.0   \n",
       "\n",
       "     cdRPKM2  cdReads3    cdRPKM3  cdReads4    cdRPKM4  \n",
       "0   5.507023      38.0   2.443294      48.0   2.633165  \n",
       "1   7.549494      33.0   4.469549      21.0   2.426687  \n",
       "2  49.576787     711.0  24.299615     752.0  21.927660  \n",
       "3   1.540501      29.0   0.995777      27.0   0.790993  \n",
       "4  23.597344      65.0   9.098517      69.0   8.240452  "
      ]
     },
     "execution_count": 7,
     "metadata": {},
     "output_type": "execute_result"
    }
   ],
   "source": [
    "RNASeq.head()"
   ]
  },
  {
   "cell_type": "code",
   "execution_count": 8,
   "metadata": {
    "scrolled": true
   },
   "outputs": [
    {
     "data": {
      "text/html": [
       "<div>\n",
       "<style scoped>\n",
       "    .dataframe tbody tr th:only-of-type {\n",
       "        vertical-align: middle;\n",
       "    }\n",
       "\n",
       "    .dataframe tbody tr th {\n",
       "        vertical-align: top;\n",
       "    }\n",
       "\n",
       "    .dataframe thead th {\n",
       "        text-align: right;\n",
       "    }\n",
       "</style>\n",
       "<table border=\"1\" class=\"dataframe\">\n",
       "  <thead>\n",
       "    <tr style=\"text-align: right;\">\n",
       "      <th></th>\n",
       "      <th>AccNum</th>\n",
       "      <th>GeneName</th>\n",
       "      <th>cdReads0</th>\n",
       "      <th>cdRPKM0</th>\n",
       "      <th>cdReads1</th>\n",
       "      <th>cdRPKM1</th>\n",
       "      <th>cdReads2</th>\n",
       "      <th>cdRPKM2</th>\n",
       "      <th>cdReads3</th>\n",
       "      <th>cdRPKM3</th>\n",
       "      <th>cdReads4</th>\n",
       "      <th>cdRPKM4</th>\n",
       "    </tr>\n",
       "  </thead>\n",
       "  <tbody>\n",
       "    <tr>\n",
       "      <th>0</th>\n",
       "      <td>NM_017847</td>\n",
       "      <td>ODR4</td>\n",
       "      <td>178.0</td>\n",
       "      <td>22.843822</td>\n",
       "      <td>189.0</td>\n",
       "      <td>22.942286</td>\n",
       "      <td>83.0</td>\n",
       "      <td>16.106297</td>\n",
       "      <td>44.0</td>\n",
       "      <td>5.221536</td>\n",
       "      <td>55.0</td>\n",
       "      <td>10.502382</td>\n",
       "    </tr>\n",
       "    <tr>\n",
       "      <th>1</th>\n",
       "      <td>NM_001003803</td>\n",
       "      <td>ATP5S</td>\n",
       "      <td>108.0</td>\n",
       "      <td>29.196458</td>\n",
       "      <td>121.0</td>\n",
       "      <td>30.939829</td>\n",
       "      <td>51.0</td>\n",
       "      <td>20.847089</td>\n",
       "      <td>28.0</td>\n",
       "      <td>6.999408</td>\n",
       "      <td>23.0</td>\n",
       "      <td>9.251467</td>\n",
       "    </tr>\n",
       "    <tr>\n",
       "      <th>2</th>\n",
       "      <td>NM_001003800</td>\n",
       "      <td>BICD2</td>\n",
       "      <td>516.0</td>\n",
       "      <td>35.199468</td>\n",
       "      <td>576.0</td>\n",
       "      <td>37.165074</td>\n",
       "      <td>300.0</td>\n",
       "      <td>30.944003</td>\n",
       "      <td>274.0</td>\n",
       "      <td>17.283584</td>\n",
       "      <td>278.0</td>\n",
       "      <td>28.216787</td>\n",
       "    </tr>\n",
       "    <tr>\n",
       "      <th>3</th>\n",
       "      <td>NM_016649</td>\n",
       "      <td>ESF1</td>\n",
       "      <td>261.0</td>\n",
       "      <td>17.887971</td>\n",
       "      <td>194.0</td>\n",
       "      <td>12.576171</td>\n",
       "      <td>88.0</td>\n",
       "      <td>9.119522</td>\n",
       "      <td>83.0</td>\n",
       "      <td>5.260118</td>\n",
       "      <td>66.0</td>\n",
       "      <td>6.730400</td>\n",
       "    </tr>\n",
       "    <tr>\n",
       "      <th>4</th>\n",
       "      <td>NM_016647</td>\n",
       "      <td>THEM6</td>\n",
       "      <td>109.0</td>\n",
       "      <td>30.453722</td>\n",
       "      <td>95.0</td>\n",
       "      <td>25.105195</td>\n",
       "      <td>74.0</td>\n",
       "      <td>31.261833</td>\n",
       "      <td>44.0</td>\n",
       "      <td>11.367459</td>\n",
       "      <td>28.0</td>\n",
       "      <td>11.639874</td>\n",
       "    </tr>\n",
       "  </tbody>\n",
       "</table>\n",
       "</div>"
      ],
      "text/plain": [
       "         AccNum GeneName  cdReads0    cdRPKM0  cdReads1    cdRPKM1  cdReads2  \\\n",
       "0     NM_017847     ODR4     178.0  22.843822     189.0  22.942286      83.0   \n",
       "1  NM_001003803    ATP5S     108.0  29.196458     121.0  30.939829      51.0   \n",
       "2  NM_001003800    BICD2     516.0  35.199468     576.0  37.165074     300.0   \n",
       "3     NM_016649     ESF1     261.0  17.887971     194.0  12.576171      88.0   \n",
       "4     NM_016647    THEM6     109.0  30.453722      95.0  25.105195      74.0   \n",
       "\n",
       "     cdRPKM2  cdReads3    cdRPKM3  cdReads4    cdRPKM4  \n",
       "0  16.106297      44.0   5.221536      55.0  10.502382  \n",
       "1  20.847089      28.0   6.999408      23.0   9.251467  \n",
       "2  30.944003     274.0  17.283584     278.0  28.216787  \n",
       "3   9.119522      83.0   5.260118      66.0   6.730400  \n",
       "4  31.261833      44.0  11.367459      28.0  11.639874  "
      ]
     },
     "execution_count": 8,
     "metadata": {},
     "output_type": "execute_result"
    }
   ],
   "source": [
    "RPF.head()"
   ]
  },
  {
   "cell_type": "markdown",
   "metadata": {},
   "source": [
    "### Filter for cdReads>=10"
   ]
  },
  {
   "cell_type": "code",
   "execution_count": null,
   "metadata": {
    "scrolled": true
   },
   "outputs": [],
   "source": [
    "RNASeq = RNASeq[(RNASeq['cdReads0'] >= 10) & (RNASeq['cdReads1'] >= 10) \n",
    "                & (RNASeq['cdReads2'] >= 10)& (RNASeq['cdReads3'] >= 10)\n",
    "                & (RNASeq['cdReads4'] >= 10)]\n",
    "RPF = RPF[(RPF['cdReads0'] >= 10) \n",
    "          & (RPF['cdReads1'] >= 10) \n",
    "          & (RPF['cdReads2'] >= 10)\n",
    "          & (RPF['cdReads3'] >= 10)& (RPF['cdReads4'] >= 10)]"
   ]
  },
  {
   "cell_type": "markdown",
   "metadata": {},
   "source": [
    "### Apply log2"
   ]
  },
  {
   "cell_type": "code",
   "execution_count": 10,
   "metadata": {
    "scrolled": true
   },
   "outputs": [],
   "source": [
    "RNASeq[['cdRPKM0', 'cdRPKM1', 'cdRPKM2', 'cdRPKM3', 'cdRPKM4']] = RNASeq[['cdRPKM0', \n",
    "                                                                          'cdRPKM1', \n",
    "                                                                          'cdRPKM2', \n",
    "                                                                          'cdRPKM3', 'cdRPKM4']].apply(np.log2)"
   ]
  },
  {
   "cell_type": "code",
   "execution_count": 11,
   "metadata": {
    "scrolled": true
   },
   "outputs": [],
   "source": [
    "RPF[['cdRPKM0', 'cdRPKM1', 'cdRPKM2', 'cdRPKM3', 'cdRPKM4']] = RPF[['cdRPKM0', \n",
    "                                                                    'cdRPKM1', \n",
    "                                                                    'cdRPKM2', \n",
    "                                                                    'cdRPKM3', 'cdRPKM4']].apply(np.log2)"
   ]
  },
  {
   "cell_type": "code",
   "execution_count": 12,
   "metadata": {
    "scrolled": true
   },
   "outputs": [],
   "source": [
    "RNASeq['log2cdRPKM1']=RNASeq['cdRPKM1']-RNASeq['cdRPKM0']\n",
    "RNASeq['log2cdRPKM2']=RNASeq['cdRPKM2']-RNASeq['cdRPKM0']\n",
    "RNASeq['log2cdRPKM3']=RNASeq['cdRPKM3']-RNASeq['cdRPKM0']\n",
    "RNASeq['log2cdRPKM4']=RNASeq['cdRPKM4']-RNASeq['cdRPKM0']"
   ]
  },
  {
   "cell_type": "code",
   "execution_count": 13,
   "metadata": {
    "scrolled": true
   },
   "outputs": [],
   "source": [
    "RPF['log2cdRPKM1']=RPF['cdRPKM1']-RPF['cdRPKM0']\n",
    "RPF['log2cdRPKM2']=RPF['cdRPKM2']-RPF['cdRPKM0']\n",
    "RPF['log2cdRPKM3']=RPF['cdRPKM3']-RPF['cdRPKM0']\n",
    "RPF['log2cdRPKM4']=RPF['cdRPKM4']-RPF['cdRPKM0']"
   ]
  },
  {
   "cell_type": "code",
   "execution_count": 14,
   "metadata": {},
   "outputs": [
    {
     "data": {
      "text/html": [
       "<div>\n",
       "<style scoped>\n",
       "    .dataframe tbody tr th:only-of-type {\n",
       "        vertical-align: middle;\n",
       "    }\n",
       "\n",
       "    .dataframe tbody tr th {\n",
       "        vertical-align: top;\n",
       "    }\n",
       "\n",
       "    .dataframe thead th {\n",
       "        text-align: right;\n",
       "    }\n",
       "</style>\n",
       "<table border=\"1\" class=\"dataframe\">\n",
       "  <thead>\n",
       "    <tr style=\"text-align: right;\">\n",
       "      <th></th>\n",
       "      <th>AccNum</th>\n",
       "      <th>GeneName</th>\n",
       "      <th>cdReads0</th>\n",
       "      <th>cdRPKM0</th>\n",
       "      <th>cdReads1</th>\n",
       "      <th>cdRPKM1</th>\n",
       "      <th>cdReads2</th>\n",
       "      <th>cdRPKM2</th>\n",
       "      <th>cdReads3</th>\n",
       "      <th>cdRPKM3</th>\n",
       "      <th>cdReads4</th>\n",
       "      <th>cdRPKM4</th>\n",
       "      <th>log2cdRPKM1</th>\n",
       "      <th>log2cdRPKM2</th>\n",
       "      <th>log2cdRPKM3</th>\n",
       "      <th>log2cdRPKM4</th>\n",
       "    </tr>\n",
       "  </thead>\n",
       "  <tbody>\n",
       "    <tr>\n",
       "      <th>0</th>\n",
       "      <td>NM_017847</td>\n",
       "      <td>ODR4</td>\n",
       "      <td>38.0</td>\n",
       "      <td>2.021223</td>\n",
       "      <td>70.0</td>\n",
       "      <td>2.710012</td>\n",
       "      <td>63.0</td>\n",
       "      <td>2.461273</td>\n",
       "      <td>38.0</td>\n",
       "      <td>1.288828</td>\n",
       "      <td>48.0</td>\n",
       "      <td>1.396798</td>\n",
       "      <td>0.688789</td>\n",
       "      <td>0.440050</td>\n",
       "      <td>-0.732395</td>\n",
       "      <td>-0.624425</td>\n",
       "    </tr>\n",
       "    <tr>\n",
       "      <th>1</th>\n",
       "      <td>NM_001003803</td>\n",
       "      <td>ATP5S</td>\n",
       "      <td>38.0</td>\n",
       "      <td>3.096058</td>\n",
       "      <td>51.0</td>\n",
       "      <td>3.327989</td>\n",
       "      <td>41.0</td>\n",
       "      <td>2.916380</td>\n",
       "      <td>33.0</td>\n",
       "      <td>2.160129</td>\n",
       "      <td>21.0</td>\n",
       "      <td>1.278988</td>\n",
       "      <td>0.231931</td>\n",
       "      <td>-0.179678</td>\n",
       "      <td>-0.935929</td>\n",
       "      <td>-1.817070</td>\n",
       "    </tr>\n",
       "    <tr>\n",
       "      <th>2</th>\n",
       "      <td>NM_001003800</td>\n",
       "      <td>BICD2</td>\n",
       "      <td>944.0</td>\n",
       "      <td>5.744194</td>\n",
       "      <td>1126.0</td>\n",
       "      <td>5.805976</td>\n",
       "      <td>1067.0</td>\n",
       "      <td>5.631593</td>\n",
       "      <td>711.0</td>\n",
       "      <td>4.602862</td>\n",
       "      <td>752.0</td>\n",
       "      <td>4.454680</td>\n",
       "      <td>0.061781</td>\n",
       "      <td>-0.112601</td>\n",
       "      <td>-1.141333</td>\n",
       "      <td>-1.289514</td>\n",
       "    </tr>\n",
       "    <tr>\n",
       "      <th>3</th>\n",
       "      <td>NM_016649</td>\n",
       "      <td>ESF1</td>\n",
       "      <td>19.0</td>\n",
       "      <td>0.116236</td>\n",
       "      <td>53.0</td>\n",
       "      <td>1.403662</td>\n",
       "      <td>33.0</td>\n",
       "      <td>0.623400</td>\n",
       "      <td>29.0</td>\n",
       "      <td>-0.006106</td>\n",
       "      <td>27.0</td>\n",
       "      <td>-0.338264</td>\n",
       "      <td>1.287426</td>\n",
       "      <td>0.507164</td>\n",
       "      <td>-0.122342</td>\n",
       "      <td>-0.454500</td>\n",
       "    </tr>\n",
       "    <tr>\n",
       "      <th>4</th>\n",
       "      <td>NM_016647</td>\n",
       "      <td>THEM6</td>\n",
       "      <td>174.0</td>\n",
       "      <td>5.338602</td>\n",
       "      <td>161.0</td>\n",
       "      <td>5.034009</td>\n",
       "      <td>124.0</td>\n",
       "      <td>4.560553</td>\n",
       "      <td>65.0</td>\n",
       "      <td>3.185631</td>\n",
       "      <td>69.0</td>\n",
       "      <td>3.042723</td>\n",
       "      <td>-0.304593</td>\n",
       "      <td>-0.778050</td>\n",
       "      <td>-2.152971</td>\n",
       "      <td>-2.295879</td>\n",
       "    </tr>\n",
       "  </tbody>\n",
       "</table>\n",
       "</div>"
      ],
      "text/plain": [
       "         AccNum GeneName  cdReads0   cdRPKM0  cdReads1   cdRPKM1  cdReads2  \\\n",
       "0     NM_017847     ODR4      38.0  2.021223      70.0  2.710012      63.0   \n",
       "1  NM_001003803    ATP5S      38.0  3.096058      51.0  3.327989      41.0   \n",
       "2  NM_001003800    BICD2     944.0  5.744194    1126.0  5.805976    1067.0   \n",
       "3     NM_016649     ESF1      19.0  0.116236      53.0  1.403662      33.0   \n",
       "4     NM_016647    THEM6     174.0  5.338602     161.0  5.034009     124.0   \n",
       "\n",
       "    cdRPKM2  cdReads3   cdRPKM3  cdReads4   cdRPKM4  log2cdRPKM1  log2cdRPKM2  \\\n",
       "0  2.461273      38.0  1.288828      48.0  1.396798     0.688789     0.440050   \n",
       "1  2.916380      33.0  2.160129      21.0  1.278988     0.231931    -0.179678   \n",
       "2  5.631593     711.0  4.602862     752.0  4.454680     0.061781    -0.112601   \n",
       "3  0.623400      29.0 -0.006106      27.0 -0.338264     1.287426     0.507164   \n",
       "4  4.560553      65.0  3.185631      69.0  3.042723    -0.304593    -0.778050   \n",
       "\n",
       "   log2cdRPKM3  log2cdRPKM4  \n",
       "0    -0.732395    -0.624425  \n",
       "1    -0.935929    -1.817070  \n",
       "2    -1.141333    -1.289514  \n",
       "3    -0.122342    -0.454500  \n",
       "4    -2.152971    -2.295879  "
      ]
     },
     "execution_count": 14,
     "metadata": {},
     "output_type": "execute_result"
    }
   ],
   "source": [
    "RNASeq.head()"
   ]
  },
  {
   "cell_type": "code",
   "execution_count": 15,
   "metadata": {},
   "outputs": [
    {
     "data": {
      "text/html": [
       "<div>\n",
       "<style scoped>\n",
       "    .dataframe tbody tr th:only-of-type {\n",
       "        vertical-align: middle;\n",
       "    }\n",
       "\n",
       "    .dataframe tbody tr th {\n",
       "        vertical-align: top;\n",
       "    }\n",
       "\n",
       "    .dataframe thead th {\n",
       "        text-align: right;\n",
       "    }\n",
       "</style>\n",
       "<table border=\"1\" class=\"dataframe\">\n",
       "  <thead>\n",
       "    <tr style=\"text-align: right;\">\n",
       "      <th></th>\n",
       "      <th>AccNum</th>\n",
       "      <th>GeneName</th>\n",
       "      <th>cdReads0</th>\n",
       "      <th>cdRPKM0</th>\n",
       "      <th>cdReads1</th>\n",
       "      <th>cdRPKM1</th>\n",
       "      <th>cdReads2</th>\n",
       "      <th>cdRPKM2</th>\n",
       "      <th>cdReads3</th>\n",
       "      <th>cdRPKM3</th>\n",
       "      <th>cdReads4</th>\n",
       "      <th>cdRPKM4</th>\n",
       "      <th>log2cdRPKM1</th>\n",
       "      <th>log2cdRPKM2</th>\n",
       "      <th>log2cdRPKM3</th>\n",
       "      <th>log2cdRPKM4</th>\n",
       "    </tr>\n",
       "  </thead>\n",
       "  <tbody>\n",
       "    <tr>\n",
       "      <th>0</th>\n",
       "      <td>NM_017847</td>\n",
       "      <td>ODR4</td>\n",
       "      <td>178.0</td>\n",
       "      <td>4.513732</td>\n",
       "      <td>189.0</td>\n",
       "      <td>4.519937</td>\n",
       "      <td>83.0</td>\n",
       "      <td>4.009553</td>\n",
       "      <td>44.0</td>\n",
       "      <td>2.384474</td>\n",
       "      <td>55.0</td>\n",
       "      <td>3.392645</td>\n",
       "      <td>0.006205</td>\n",
       "      <td>-0.504179</td>\n",
       "      <td>-2.129258</td>\n",
       "      <td>-1.121087</td>\n",
       "    </tr>\n",
       "    <tr>\n",
       "      <th>1</th>\n",
       "      <td>NM_001003803</td>\n",
       "      <td>ATP5S</td>\n",
       "      <td>108.0</td>\n",
       "      <td>4.867721</td>\n",
       "      <td>121.0</td>\n",
       "      <td>4.951393</td>\n",
       "      <td>51.0</td>\n",
       "      <td>4.381774</td>\n",
       "      <td>28.0</td>\n",
       "      <td>2.807233</td>\n",
       "      <td>23.0</td>\n",
       "      <td>3.209682</td>\n",
       "      <td>0.083672</td>\n",
       "      <td>-0.485947</td>\n",
       "      <td>-2.060489</td>\n",
       "      <td>-1.658039</td>\n",
       "    </tr>\n",
       "    <tr>\n",
       "      <th>2</th>\n",
       "      <td>NM_001003800</td>\n",
       "      <td>BICD2</td>\n",
       "      <td>516.0</td>\n",
       "      <td>5.137482</td>\n",
       "      <td>576.0</td>\n",
       "      <td>5.215876</td>\n",
       "      <td>300.0</td>\n",
       "      <td>4.951588</td>\n",
       "      <td>274.0</td>\n",
       "      <td>4.111330</td>\n",
       "      <td>278.0</td>\n",
       "      <td>4.818482</td>\n",
       "      <td>0.078394</td>\n",
       "      <td>-0.185894</td>\n",
       "      <td>-1.026151</td>\n",
       "      <td>-0.319000</td>\n",
       "    </tr>\n",
       "    <tr>\n",
       "      <th>3</th>\n",
       "      <td>NM_016649</td>\n",
       "      <td>ESF1</td>\n",
       "      <td>261.0</td>\n",
       "      <td>4.160918</td>\n",
       "      <td>194.0</td>\n",
       "      <td>3.652621</td>\n",
       "      <td>88.0</td>\n",
       "      <td>3.188958</td>\n",
       "      <td>83.0</td>\n",
       "      <td>2.395095</td>\n",
       "      <td>66.0</td>\n",
       "      <td>2.750692</td>\n",
       "      <td>-0.508297</td>\n",
       "      <td>-0.971960</td>\n",
       "      <td>-1.765823</td>\n",
       "      <td>-1.410226</td>\n",
       "    </tr>\n",
       "    <tr>\n",
       "      <th>4</th>\n",
       "      <td>NM_016647</td>\n",
       "      <td>THEM6</td>\n",
       "      <td>109.0</td>\n",
       "      <td>4.928547</td>\n",
       "      <td>95.0</td>\n",
       "      <td>4.649914</td>\n",
       "      <td>74.0</td>\n",
       "      <td>4.966330</td>\n",
       "      <td>44.0</td>\n",
       "      <td>3.506838</td>\n",
       "      <td>28.0</td>\n",
       "      <td>3.541004</td>\n",
       "      <td>-0.278633</td>\n",
       "      <td>0.037784</td>\n",
       "      <td>-1.421709</td>\n",
       "      <td>-1.387543</td>\n",
       "    </tr>\n",
       "  </tbody>\n",
       "</table>\n",
       "</div>"
      ],
      "text/plain": [
       "         AccNum GeneName  cdReads0   cdRPKM0  cdReads1   cdRPKM1  cdReads2  \\\n",
       "0     NM_017847     ODR4     178.0  4.513732     189.0  4.519937      83.0   \n",
       "1  NM_001003803    ATP5S     108.0  4.867721     121.0  4.951393      51.0   \n",
       "2  NM_001003800    BICD2     516.0  5.137482     576.0  5.215876     300.0   \n",
       "3     NM_016649     ESF1     261.0  4.160918     194.0  3.652621      88.0   \n",
       "4     NM_016647    THEM6     109.0  4.928547      95.0  4.649914      74.0   \n",
       "\n",
       "    cdRPKM2  cdReads3   cdRPKM3  cdReads4   cdRPKM4  log2cdRPKM1  log2cdRPKM2  \\\n",
       "0  4.009553      44.0  2.384474      55.0  3.392645     0.006205    -0.504179   \n",
       "1  4.381774      28.0  2.807233      23.0  3.209682     0.083672    -0.485947   \n",
       "2  4.951588     274.0  4.111330     278.0  4.818482     0.078394    -0.185894   \n",
       "3  3.188958      83.0  2.395095      66.0  2.750692    -0.508297    -0.971960   \n",
       "4  4.966330      44.0  3.506838      28.0  3.541004    -0.278633     0.037784   \n",
       "\n",
       "   log2cdRPKM3  log2cdRPKM4  \n",
       "0    -2.129258    -1.121087  \n",
       "1    -2.060489    -1.658039  \n",
       "2    -1.026151    -0.319000  \n",
       "3    -1.765823    -1.410226  \n",
       "4    -1.421709    -1.387543  "
      ]
     },
     "execution_count": 15,
     "metadata": {},
     "output_type": "execute_result"
    }
   ],
   "source": [
    "RPF.head()"
   ]
  },
  {
   "cell_type": "markdown",
   "metadata": {},
   "source": [
    "# TE"
   ]
  },
  {
   "cell_type": "markdown",
   "metadata": {},
   "source": [
    "### ONLY RUN FOR MEDIAN NORMALIZATION"
   ]
  },
  {
   "cell_type": "code",
   "execution_count": 18,
   "metadata": {
    "scrolled": false
   },
   "outputs": [],
   "source": [
    "RNASeq['log2cdRPKM1']-=np.median(RNASeq['log2cdRPKM1'])\n",
    "RNASeq['log2cdRPKM2']-=np.median(RNASeq['log2cdRPKM2'])\n",
    "RNASeq['log2cdRPKM3']-=np.median(RNASeq['log2cdRPKM3'])\n",
    "RNASeq['log2cdRPKM4']-=np.median(RNASeq['log2cdRPKM4'])"
   ]
  },
  {
   "cell_type": "code",
   "execution_count": 19,
   "metadata": {
    "scrolled": true
   },
   "outputs": [],
   "source": [
    "filteredRNASeq = RNASeq[(RNASeq['log2cdRPKM1'] <= 0.5) \n",
    "                        & (RNASeq['log2cdRPKM2'] <= 0.5)\n",
    "                        & (RNASeq['log2cdRPKM3'] <= 0.5)\n",
    "                        & (RNASeq['log2cdRPKM4'] <= 0.5)]\n",
    "filteredRNASeq = filteredRNASeq[(filteredRNASeq['log2cdRPKM1'] >= -0.5) \n",
    "                                & (filteredRNASeq['log2cdRPKM2'] >= -0.5)\n",
    "                                & (filteredRNASeq['log2cdRPKM3'] >= -0.5)\n",
    "                                & (filteredRNASeq['log2cdRPKM4'] >= -0.5)]"
   ]
  },
  {
   "cell_type": "code",
   "execution_count": 20,
   "metadata": {
    "scrolled": false
   },
   "outputs": [
    {
     "data": {
      "text/plain": [
       "(6199, 16)"
      ]
     },
     "execution_count": 20,
     "metadata": {},
     "output_type": "execute_result"
    }
   ],
   "source": [
    "filteredRNASeq.shape"
   ]
  },
  {
   "cell_type": "code",
   "execution_count": 21,
   "metadata": {},
   "outputs": [
    {
     "data": {
      "text/html": [
       "<div>\n",
       "<style scoped>\n",
       "    .dataframe tbody tr th:only-of-type {\n",
       "        vertical-align: middle;\n",
       "    }\n",
       "\n",
       "    .dataframe tbody tr th {\n",
       "        vertical-align: top;\n",
       "    }\n",
       "\n",
       "    .dataframe thead th {\n",
       "        text-align: right;\n",
       "    }\n",
       "</style>\n",
       "<table border=\"1\" class=\"dataframe\">\n",
       "  <thead>\n",
       "    <tr style=\"text-align: right;\">\n",
       "      <th></th>\n",
       "      <th>AccNum</th>\n",
       "      <th>GeneName</th>\n",
       "      <th>cdReads0</th>\n",
       "      <th>cdRPKM0</th>\n",
       "      <th>cdReads1</th>\n",
       "      <th>cdRPKM1</th>\n",
       "      <th>cdReads2</th>\n",
       "      <th>cdRPKM2</th>\n",
       "      <th>cdReads3</th>\n",
       "      <th>cdRPKM3</th>\n",
       "      <th>cdReads4</th>\n",
       "      <th>cdRPKM4</th>\n",
       "      <th>log2cdRPKM1</th>\n",
       "      <th>log2cdRPKM2</th>\n",
       "      <th>log2cdRPKM3</th>\n",
       "      <th>log2cdRPKM4</th>\n",
       "    </tr>\n",
       "  </thead>\n",
       "  <tbody>\n",
       "    <tr>\n",
       "      <th>1</th>\n",
       "      <td>NM_001003803</td>\n",
       "      <td>ATP5S</td>\n",
       "      <td>38.0</td>\n",
       "      <td>3.096058</td>\n",
       "      <td>51.0</td>\n",
       "      <td>3.327989</td>\n",
       "      <td>41.0</td>\n",
       "      <td>2.916380</td>\n",
       "      <td>33.0</td>\n",
       "      <td>2.160129</td>\n",
       "      <td>21.0</td>\n",
       "      <td>1.278988</td>\n",
       "      <td>0.267619</td>\n",
       "      <td>0.146942</td>\n",
       "      <td>0.438254</td>\n",
       "      <td>-0.042023</td>\n",
       "    </tr>\n",
       "    <tr>\n",
       "      <th>2</th>\n",
       "      <td>NM_001003800</td>\n",
       "      <td>BICD2</td>\n",
       "      <td>944.0</td>\n",
       "      <td>5.744194</td>\n",
       "      <td>1126.0</td>\n",
       "      <td>5.805976</td>\n",
       "      <td>1067.0</td>\n",
       "      <td>5.631593</td>\n",
       "      <td>711.0</td>\n",
       "      <td>4.602862</td>\n",
       "      <td>752.0</td>\n",
       "      <td>4.454680</td>\n",
       "      <td>0.097469</td>\n",
       "      <td>0.214019</td>\n",
       "      <td>0.232850</td>\n",
       "      <td>0.485533</td>\n",
       "    </tr>\n",
       "    <tr>\n",
       "      <th>7</th>\n",
       "      <td>NM_016640</td>\n",
       "      <td>MRPS30</td>\n",
       "      <td>315.0</td>\n",
       "      <td>5.120866</td>\n",
       "      <td>312.0</td>\n",
       "      <td>4.914494</td>\n",
       "      <td>296.0</td>\n",
       "      <td>4.741809</td>\n",
       "      <td>216.0</td>\n",
       "      <td>3.844151</td>\n",
       "      <td>202.0</td>\n",
       "      <td>3.518410</td>\n",
       "      <td>-0.170685</td>\n",
       "      <td>-0.052437</td>\n",
       "      <td>0.097466</td>\n",
       "      <td>0.172590</td>\n",
       "    </tr>\n",
       "    <tr>\n",
       "      <th>9</th>\n",
       "      <td>NM_001304467</td>\n",
       "      <td>EEF1AKMT2</td>\n",
       "      <td>60.0</td>\n",
       "      <td>3.768442</td>\n",
       "      <td>53.0</td>\n",
       "      <td>3.396905</td>\n",
       "      <td>46.0</td>\n",
       "      <td>3.095810</td>\n",
       "      <td>38.0</td>\n",
       "      <td>2.377083</td>\n",
       "      <td>27.0</td>\n",
       "      <td>1.654979</td>\n",
       "      <td>-0.335849</td>\n",
       "      <td>-0.346011</td>\n",
       "      <td>-0.017176</td>\n",
       "      <td>-0.338416</td>\n",
       "    </tr>\n",
       "    <tr>\n",
       "      <th>10</th>\n",
       "      <td>NM_001080825</td>\n",
       "      <td>TMEM120B</td>\n",
       "      <td>36.0</td>\n",
       "      <td>2.363552</td>\n",
       "      <td>42.0</td>\n",
       "      <td>2.393378</td>\n",
       "      <td>46.0</td>\n",
       "      <td>2.427886</td>\n",
       "      <td>23.0</td>\n",
       "      <td>0.984794</td>\n",
       "      <td>20.0</td>\n",
       "      <td>0.554095</td>\n",
       "      <td>0.065514</td>\n",
       "      <td>0.390954</td>\n",
       "      <td>-0.004576</td>\n",
       "      <td>-0.034410</td>\n",
       "    </tr>\n",
       "  </tbody>\n",
       "</table>\n",
       "</div>"
      ],
      "text/plain": [
       "          AccNum   GeneName  cdReads0   cdRPKM0  cdReads1   cdRPKM1  cdReads2  \\\n",
       "1   NM_001003803      ATP5S      38.0  3.096058      51.0  3.327989      41.0   \n",
       "2   NM_001003800      BICD2     944.0  5.744194    1126.0  5.805976    1067.0   \n",
       "7      NM_016640     MRPS30     315.0  5.120866     312.0  4.914494     296.0   \n",
       "9   NM_001304467  EEF1AKMT2      60.0  3.768442      53.0  3.396905      46.0   \n",
       "10  NM_001080825   TMEM120B      36.0  2.363552      42.0  2.393378      46.0   \n",
       "\n",
       "     cdRPKM2  cdReads3   cdRPKM3  cdReads4   cdRPKM4  log2cdRPKM1  \\\n",
       "1   2.916380      33.0  2.160129      21.0  1.278988     0.267619   \n",
       "2   5.631593     711.0  4.602862     752.0  4.454680     0.097469   \n",
       "7   4.741809     216.0  3.844151     202.0  3.518410    -0.170685   \n",
       "9   3.095810      38.0  2.377083      27.0  1.654979    -0.335849   \n",
       "10  2.427886      23.0  0.984794      20.0  0.554095     0.065514   \n",
       "\n",
       "    log2cdRPKM2  log2cdRPKM3  log2cdRPKM4  \n",
       "1      0.146942     0.438254    -0.042023  \n",
       "2      0.214019     0.232850     0.485533  \n",
       "7     -0.052437     0.097466     0.172590  \n",
       "9     -0.346011    -0.017176    -0.338416  \n",
       "10     0.390954    -0.004576    -0.034410  "
      ]
     },
     "execution_count": 21,
     "metadata": {},
     "output_type": "execute_result"
    }
   ],
   "source": [
    "filteredRNASeq.head()"
   ]
  },
  {
   "cell_type": "code",
   "execution_count": 22,
   "metadata": {
    "scrolled": true
   },
   "outputs": [],
   "source": [
    "TE = reduce(lambda left,right: pd.merge(left,right,on=['AccNum','GeneName']), [RPF,filteredRNASeq])"
   ]
  },
  {
   "cell_type": "code",
   "execution_count": 23,
   "metadata": {},
   "outputs": [
    {
     "data": {
      "text/plain": [
       "(6175, 30)"
      ]
     },
     "execution_count": 23,
     "metadata": {},
     "output_type": "execute_result"
    }
   ],
   "source": [
    "TE.shape"
   ]
  },
  {
   "cell_type": "code",
   "execution_count": 24,
   "metadata": {},
   "outputs": [
    {
     "data": {
      "text/html": [
       "<div>\n",
       "<style scoped>\n",
       "    .dataframe tbody tr th:only-of-type {\n",
       "        vertical-align: middle;\n",
       "    }\n",
       "\n",
       "    .dataframe tbody tr th {\n",
       "        vertical-align: top;\n",
       "    }\n",
       "\n",
       "    .dataframe thead th {\n",
       "        text-align: right;\n",
       "    }\n",
       "</style>\n",
       "<table border=\"1\" class=\"dataframe\">\n",
       "  <thead>\n",
       "    <tr style=\"text-align: right;\">\n",
       "      <th></th>\n",
       "      <th>AccNum</th>\n",
       "      <th>GeneName</th>\n",
       "      <th>cdReads0_x</th>\n",
       "      <th>cdRPKM0_x</th>\n",
       "      <th>cdReads1_x</th>\n",
       "      <th>cdRPKM1_x</th>\n",
       "      <th>cdReads2_x</th>\n",
       "      <th>cdRPKM2_x</th>\n",
       "      <th>cdReads3_x</th>\n",
       "      <th>cdRPKM3_x</th>\n",
       "      <th>...</th>\n",
       "      <th>cdReads2_y</th>\n",
       "      <th>cdRPKM2_y</th>\n",
       "      <th>cdReads3_y</th>\n",
       "      <th>cdRPKM3_y</th>\n",
       "      <th>cdReads4_y</th>\n",
       "      <th>cdRPKM4_y</th>\n",
       "      <th>log2cdRPKM1_y</th>\n",
       "      <th>log2cdRPKM2_y</th>\n",
       "      <th>log2cdRPKM3_y</th>\n",
       "      <th>log2cdRPKM4_y</th>\n",
       "    </tr>\n",
       "  </thead>\n",
       "  <tbody>\n",
       "    <tr>\n",
       "      <th>0</th>\n",
       "      <td>NM_001003803</td>\n",
       "      <td>ATP5S</td>\n",
       "      <td>108.0</td>\n",
       "      <td>4.867721</td>\n",
       "      <td>121.0</td>\n",
       "      <td>4.951393</td>\n",
       "      <td>51.0</td>\n",
       "      <td>4.381774</td>\n",
       "      <td>28.0</td>\n",
       "      <td>2.807233</td>\n",
       "      <td>...</td>\n",
       "      <td>41.0</td>\n",
       "      <td>2.916380</td>\n",
       "      <td>33.0</td>\n",
       "      <td>2.160129</td>\n",
       "      <td>21.0</td>\n",
       "      <td>1.278988</td>\n",
       "      <td>0.267619</td>\n",
       "      <td>0.146942</td>\n",
       "      <td>0.438254</td>\n",
       "      <td>-0.042023</td>\n",
       "    </tr>\n",
       "    <tr>\n",
       "      <th>1</th>\n",
       "      <td>NM_001003800</td>\n",
       "      <td>BICD2</td>\n",
       "      <td>516.0</td>\n",
       "      <td>5.137482</td>\n",
       "      <td>576.0</td>\n",
       "      <td>5.215876</td>\n",
       "      <td>300.0</td>\n",
       "      <td>4.951588</td>\n",
       "      <td>274.0</td>\n",
       "      <td>4.111330</td>\n",
       "      <td>...</td>\n",
       "      <td>1067.0</td>\n",
       "      <td>5.631593</td>\n",
       "      <td>711.0</td>\n",
       "      <td>4.602862</td>\n",
       "      <td>752.0</td>\n",
       "      <td>4.454680</td>\n",
       "      <td>0.097469</td>\n",
       "      <td>0.214019</td>\n",
       "      <td>0.232850</td>\n",
       "      <td>0.485533</td>\n",
       "    </tr>\n",
       "    <tr>\n",
       "      <th>2</th>\n",
       "      <td>NM_016640</td>\n",
       "      <td>MRPS30</td>\n",
       "      <td>413.0</td>\n",
       "      <td>5.776360</td>\n",
       "      <td>368.0</td>\n",
       "      <td>5.529620</td>\n",
       "      <td>158.0</td>\n",
       "      <td>4.986657</td>\n",
       "      <td>131.0</td>\n",
       "      <td>4.006829</td>\n",
       "      <td>...</td>\n",
       "      <td>296.0</td>\n",
       "      <td>4.741809</td>\n",
       "      <td>216.0</td>\n",
       "      <td>3.844151</td>\n",
       "      <td>202.0</td>\n",
       "      <td>3.518410</td>\n",
       "      <td>-0.170685</td>\n",
       "      <td>-0.052437</td>\n",
       "      <td>0.097466</td>\n",
       "      <td>0.172590</td>\n",
       "    </tr>\n",
       "    <tr>\n",
       "      <th>3</th>\n",
       "      <td>NM_001304467</td>\n",
       "      <td>EEF1AKMT2</td>\n",
       "      <td>55.0</td>\n",
       "      <td>3.907614</td>\n",
       "      <td>58.0</td>\n",
       "      <td>3.903932</td>\n",
       "      <td>23.0</td>\n",
       "      <td>3.246331</td>\n",
       "      <td>15.0</td>\n",
       "      <td>1.920189</td>\n",
       "      <td>...</td>\n",
       "      <td>46.0</td>\n",
       "      <td>3.095810</td>\n",
       "      <td>38.0</td>\n",
       "      <td>2.377083</td>\n",
       "      <td>27.0</td>\n",
       "      <td>1.654979</td>\n",
       "      <td>-0.335849</td>\n",
       "      <td>-0.346011</td>\n",
       "      <td>-0.017176</td>\n",
       "      <td>-0.338416</td>\n",
       "    </tr>\n",
       "    <tr>\n",
       "      <th>4</th>\n",
       "      <td>NM_001080825</td>\n",
       "      <td>TMEM120B</td>\n",
       "      <td>56.0</td>\n",
       "      <td>3.265685</td>\n",
       "      <td>75.0</td>\n",
       "      <td>3.606845</td>\n",
       "      <td>23.0</td>\n",
       "      <td>2.578407</td>\n",
       "      <td>23.0</td>\n",
       "      <td>1.868936</td>\n",
       "      <td>...</td>\n",
       "      <td>46.0</td>\n",
       "      <td>2.427886</td>\n",
       "      <td>23.0</td>\n",
       "      <td>0.984794</td>\n",
       "      <td>20.0</td>\n",
       "      <td>0.554095</td>\n",
       "      <td>0.065514</td>\n",
       "      <td>0.390954</td>\n",
       "      <td>-0.004576</td>\n",
       "      <td>-0.034410</td>\n",
       "    </tr>\n",
       "  </tbody>\n",
       "</table>\n",
       "<p>5 rows × 30 columns</p>\n",
       "</div>"
      ],
      "text/plain": [
       "         AccNum   GeneName  cdReads0_x  cdRPKM0_x  cdReads1_x  cdRPKM1_x  \\\n",
       "0  NM_001003803      ATP5S       108.0   4.867721       121.0   4.951393   \n",
       "1  NM_001003800      BICD2       516.0   5.137482       576.0   5.215876   \n",
       "2     NM_016640     MRPS30       413.0   5.776360       368.0   5.529620   \n",
       "3  NM_001304467  EEF1AKMT2        55.0   3.907614        58.0   3.903932   \n",
       "4  NM_001080825   TMEM120B        56.0   3.265685        75.0   3.606845   \n",
       "\n",
       "   cdReads2_x  cdRPKM2_x  cdReads3_x  cdRPKM3_x      ...        cdReads2_y  \\\n",
       "0        51.0   4.381774        28.0   2.807233      ...              41.0   \n",
       "1       300.0   4.951588       274.0   4.111330      ...            1067.0   \n",
       "2       158.0   4.986657       131.0   4.006829      ...             296.0   \n",
       "3        23.0   3.246331        15.0   1.920189      ...              46.0   \n",
       "4        23.0   2.578407        23.0   1.868936      ...              46.0   \n",
       "\n",
       "   cdRPKM2_y  cdReads3_y  cdRPKM3_y  cdReads4_y  cdRPKM4_y  log2cdRPKM1_y  \\\n",
       "0   2.916380        33.0   2.160129        21.0   1.278988       0.267619   \n",
       "1   5.631593       711.0   4.602862       752.0   4.454680       0.097469   \n",
       "2   4.741809       216.0   3.844151       202.0   3.518410      -0.170685   \n",
       "3   3.095810        38.0   2.377083        27.0   1.654979      -0.335849   \n",
       "4   2.427886        23.0   0.984794        20.0   0.554095       0.065514   \n",
       "\n",
       "   log2cdRPKM2_y  log2cdRPKM3_y  log2cdRPKM4_y  \n",
       "0       0.146942       0.438254      -0.042023  \n",
       "1       0.214019       0.232850       0.485533  \n",
       "2      -0.052437       0.097466       0.172590  \n",
       "3      -0.346011      -0.017176      -0.338416  \n",
       "4       0.390954      -0.004576      -0.034410  \n",
       "\n",
       "[5 rows x 30 columns]"
      ]
     },
     "execution_count": 24,
     "metadata": {},
     "output_type": "execute_result"
    }
   ],
   "source": [
    "TE.head()"
   ]
  },
  {
   "cell_type": "code",
   "execution_count": 25,
   "metadata": {
    "scrolled": true
   },
   "outputs": [],
   "source": [
    "TE['cdRPKM0_x'] = TE['cdRPKM0_x']-TE['cdRPKM0_y']\n",
    "TE['cdRPKM1_x'] = TE['cdRPKM1_x']-TE['cdRPKM1_y']\n",
    "TE['cdRPKM2_x'] = TE['cdRPKM2_x']-TE['cdRPKM2_y']\n",
    "TE['cdRPKM3_x'] = TE['cdRPKM3_x']-TE['cdRPKM3_y']\n",
    "TE['cdRPKM4_x'] = TE['cdRPKM4_x']-TE['cdRPKM4_y']\n",
    "for i in range(0,5):\n",
    "    TE.rename(columns={'cdRPKM'+str(i)+'_x':'TE'+str(i)}, inplace=True)\n",
    "TE = TE[['AccNum', 'GeneName','TE0','TE1','TE2','TE3','TE4']]"
   ]
  },
  {
   "cell_type": "code",
   "execution_count": 26,
   "metadata": {
    "scrolled": true
   },
   "outputs": [],
   "source": [
    "TE['foldTE1']=TE['TE1']-TE['TE0']\n",
    "TE['foldTE2']=TE['TE2']-TE['TE0']\n",
    "TE['foldTE3']=TE['TE3']-TE['TE0']\n",
    "TE['foldTE4']=TE['TE4']-TE['TE0']"
   ]
  },
  {
   "cell_type": "code",
   "execution_count": 27,
   "metadata": {
    "scrolled": true
   },
   "outputs": [
    {
     "data": {
      "text/html": [
       "<div>\n",
       "<style scoped>\n",
       "    .dataframe tbody tr th:only-of-type {\n",
       "        vertical-align: middle;\n",
       "    }\n",
       "\n",
       "    .dataframe tbody tr th {\n",
       "        vertical-align: top;\n",
       "    }\n",
       "\n",
       "    .dataframe thead th {\n",
       "        text-align: right;\n",
       "    }\n",
       "</style>\n",
       "<table border=\"1\" class=\"dataframe\">\n",
       "  <thead>\n",
       "    <tr style=\"text-align: right;\">\n",
       "      <th></th>\n",
       "      <th>AccNum</th>\n",
       "      <th>GeneName</th>\n",
       "      <th>TE0</th>\n",
       "      <th>TE1</th>\n",
       "      <th>TE2</th>\n",
       "      <th>TE3</th>\n",
       "      <th>TE4</th>\n",
       "      <th>foldTE1</th>\n",
       "      <th>foldTE2</th>\n",
       "      <th>foldTE3</th>\n",
       "      <th>foldTE4</th>\n",
       "    </tr>\n",
       "  </thead>\n",
       "  <tbody>\n",
       "    <tr>\n",
       "      <th>0</th>\n",
       "      <td>NM_001003803</td>\n",
       "      <td>ATP5S</td>\n",
       "      <td>1.771663</td>\n",
       "      <td>1.623404</td>\n",
       "      <td>1.465394</td>\n",
       "      <td>0.647103</td>\n",
       "      <td>1.930694</td>\n",
       "      <td>-0.148259</td>\n",
       "      <td>-0.306269</td>\n",
       "      <td>-1.124560</td>\n",
       "      <td>0.159031</td>\n",
       "    </tr>\n",
       "    <tr>\n",
       "      <th>1</th>\n",
       "      <td>NM_001003800</td>\n",
       "      <td>BICD2</td>\n",
       "      <td>-0.606712</td>\n",
       "      <td>-0.590100</td>\n",
       "      <td>-0.680005</td>\n",
       "      <td>-0.491531</td>\n",
       "      <td>0.363802</td>\n",
       "      <td>0.016612</td>\n",
       "      <td>-0.073293</td>\n",
       "      <td>0.115181</td>\n",
       "      <td>0.970514</td>\n",
       "    </tr>\n",
       "    <tr>\n",
       "      <th>2</th>\n",
       "      <td>NM_016640</td>\n",
       "      <td>MRPS30</td>\n",
       "      <td>0.655493</td>\n",
       "      <td>0.615126</td>\n",
       "      <td>0.244848</td>\n",
       "      <td>0.162678</td>\n",
       "      <td>0.974128</td>\n",
       "      <td>-0.040367</td>\n",
       "      <td>-0.410645</td>\n",
       "      <td>-0.492815</td>\n",
       "      <td>0.318635</td>\n",
       "    </tr>\n",
       "    <tr>\n",
       "      <th>3</th>\n",
       "      <td>NM_001304467</td>\n",
       "      <td>EEF1AKMT2</td>\n",
       "      <td>0.139172</td>\n",
       "      <td>0.507027</td>\n",
       "      <td>0.150521</td>\n",
       "      <td>-0.456894</td>\n",
       "      <td>1.292490</td>\n",
       "      <td>0.367854</td>\n",
       "      <td>0.011348</td>\n",
       "      <td>-0.596067</td>\n",
       "      <td>1.153317</td>\n",
       "    </tr>\n",
       "    <tr>\n",
       "      <th>4</th>\n",
       "      <td>NM_001080825</td>\n",
       "      <td>TMEM120B</td>\n",
       "      <td>0.902133</td>\n",
       "      <td>1.213467</td>\n",
       "      <td>0.150521</td>\n",
       "      <td>0.884143</td>\n",
       "      <td>2.177961</td>\n",
       "      <td>0.311334</td>\n",
       "      <td>-0.751612</td>\n",
       "      <td>-0.017991</td>\n",
       "      <td>1.275828</td>\n",
       "    </tr>\n",
       "  </tbody>\n",
       "</table>\n",
       "</div>"
      ],
      "text/plain": [
       "         AccNum   GeneName       TE0       TE1       TE2       TE3       TE4  \\\n",
       "0  NM_001003803      ATP5S  1.771663  1.623404  1.465394  0.647103  1.930694   \n",
       "1  NM_001003800      BICD2 -0.606712 -0.590100 -0.680005 -0.491531  0.363802   \n",
       "2     NM_016640     MRPS30  0.655493  0.615126  0.244848  0.162678  0.974128   \n",
       "3  NM_001304467  EEF1AKMT2  0.139172  0.507027  0.150521 -0.456894  1.292490   \n",
       "4  NM_001080825   TMEM120B  0.902133  1.213467  0.150521  0.884143  2.177961   \n",
       "\n",
       "    foldTE1   foldTE2   foldTE3   foldTE4  \n",
       "0 -0.148259 -0.306269 -1.124560  0.159031  \n",
       "1  0.016612 -0.073293  0.115181  0.970514  \n",
       "2 -0.040367 -0.410645 -0.492815  0.318635  \n",
       "3  0.367854  0.011348 -0.596067  1.153317  \n",
       "4  0.311334 -0.751612 -0.017991  1.275828  "
      ]
     },
     "execution_count": 27,
     "metadata": {},
     "output_type": "execute_result"
    }
   ],
   "source": [
    "TE.head()"
   ]
  },
  {
   "cell_type": "code",
   "execution_count": 28,
   "metadata": {
    "scrolled": true
   },
   "outputs": [
    {
     "data": {
      "text/plain": [
       "Index(['AccNum', 'GeneName', 'TE0', 'TE1', 'TE2', 'TE3', 'TE4', 'foldTE1',\n",
       "       'foldTE2', 'foldTE3', 'foldTE4'],\n",
       "      dtype='object')"
      ]
     },
     "execution_count": 28,
     "metadata": {},
     "output_type": "execute_result"
    }
   ],
   "source": [
    "TE.keys()"
   ]
  },
  {
   "cell_type": "code",
   "execution_count": 29,
   "metadata": {
    "scrolled": true
   },
   "outputs": [
    {
     "data": {
      "text/plain": [
       "(6175, 11)"
      ]
     },
     "execution_count": 29,
     "metadata": {},
     "output_type": "execute_result"
    }
   ],
   "source": [
    "TE.shape"
   ]
  },
  {
   "cell_type": "code",
   "execution_count": 30,
   "metadata": {},
   "outputs": [],
   "source": [
    "TE.to_csv('Replicate2/TE_chrE_filtered.txt',sep='\\t',index=False)"
   ]
  },
  {
   "cell_type": "code",
   "execution_count": 31,
   "metadata": {},
   "outputs": [
    {
     "data": {
      "text/html": [
       "<div>\n",
       "<style scoped>\n",
       "    .dataframe tbody tr th:only-of-type {\n",
       "        vertical-align: middle;\n",
       "    }\n",
       "\n",
       "    .dataframe tbody tr th {\n",
       "        vertical-align: top;\n",
       "    }\n",
       "\n",
       "    .dataframe thead th {\n",
       "        text-align: right;\n",
       "    }\n",
       "</style>\n",
       "<table border=\"1\" class=\"dataframe\">\n",
       "  <thead>\n",
       "    <tr style=\"text-align: right;\">\n",
       "      <th></th>\n",
       "      <th>AccNum</th>\n",
       "      <th>GeneName</th>\n",
       "      <th>TE0</th>\n",
       "      <th>TE1</th>\n",
       "      <th>TE2</th>\n",
       "      <th>TE3</th>\n",
       "      <th>TE4</th>\n",
       "      <th>foldTE1</th>\n",
       "      <th>foldTE2</th>\n",
       "      <th>foldTE3</th>\n",
       "      <th>foldTE4</th>\n",
       "    </tr>\n",
       "  </thead>\n",
       "  <tbody>\n",
       "    <tr>\n",
       "      <th>0</th>\n",
       "      <td>NM_001003803</td>\n",
       "      <td>ATP5S</td>\n",
       "      <td>1.771663</td>\n",
       "      <td>1.623404</td>\n",
       "      <td>1.465394</td>\n",
       "      <td>0.647103</td>\n",
       "      <td>1.930694</td>\n",
       "      <td>-0.148259</td>\n",
       "      <td>-0.306269</td>\n",
       "      <td>-1.124560</td>\n",
       "      <td>0.159031</td>\n",
       "    </tr>\n",
       "    <tr>\n",
       "      <th>1</th>\n",
       "      <td>NM_001003800</td>\n",
       "      <td>BICD2</td>\n",
       "      <td>-0.606712</td>\n",
       "      <td>-0.590100</td>\n",
       "      <td>-0.680005</td>\n",
       "      <td>-0.491531</td>\n",
       "      <td>0.363802</td>\n",
       "      <td>0.016612</td>\n",
       "      <td>-0.073293</td>\n",
       "      <td>0.115181</td>\n",
       "      <td>0.970514</td>\n",
       "    </tr>\n",
       "    <tr>\n",
       "      <th>2</th>\n",
       "      <td>NM_016640</td>\n",
       "      <td>MRPS30</td>\n",
       "      <td>0.655493</td>\n",
       "      <td>0.615126</td>\n",
       "      <td>0.244848</td>\n",
       "      <td>0.162678</td>\n",
       "      <td>0.974128</td>\n",
       "      <td>-0.040367</td>\n",
       "      <td>-0.410645</td>\n",
       "      <td>-0.492815</td>\n",
       "      <td>0.318635</td>\n",
       "    </tr>\n",
       "    <tr>\n",
       "      <th>3</th>\n",
       "      <td>NM_001304467</td>\n",
       "      <td>EEF1AKMT2</td>\n",
       "      <td>0.139172</td>\n",
       "      <td>0.507027</td>\n",
       "      <td>0.150521</td>\n",
       "      <td>-0.456894</td>\n",
       "      <td>1.292490</td>\n",
       "      <td>0.367854</td>\n",
       "      <td>0.011348</td>\n",
       "      <td>-0.596067</td>\n",
       "      <td>1.153317</td>\n",
       "    </tr>\n",
       "    <tr>\n",
       "      <th>4</th>\n",
       "      <td>NM_001080825</td>\n",
       "      <td>TMEM120B</td>\n",
       "      <td>0.902133</td>\n",
       "      <td>1.213467</td>\n",
       "      <td>0.150521</td>\n",
       "      <td>0.884143</td>\n",
       "      <td>2.177961</td>\n",
       "      <td>0.311334</td>\n",
       "      <td>-0.751612</td>\n",
       "      <td>-0.017991</td>\n",
       "      <td>1.275828</td>\n",
       "    </tr>\n",
       "  </tbody>\n",
       "</table>\n",
       "</div>"
      ],
      "text/plain": [
       "         AccNum   GeneName       TE0       TE1       TE2       TE3       TE4  \\\n",
       "0  NM_001003803      ATP5S  1.771663  1.623404  1.465394  0.647103  1.930694   \n",
       "1  NM_001003800      BICD2 -0.606712 -0.590100 -0.680005 -0.491531  0.363802   \n",
       "2     NM_016640     MRPS30  0.655493  0.615126  0.244848  0.162678  0.974128   \n",
       "3  NM_001304467  EEF1AKMT2  0.139172  0.507027  0.150521 -0.456894  1.292490   \n",
       "4  NM_001080825   TMEM120B  0.902133  1.213467  0.150521  0.884143  2.177961   \n",
       "\n",
       "    foldTE1   foldTE2   foldTE3   foldTE4  \n",
       "0 -0.148259 -0.306269 -1.124560  0.159031  \n",
       "1  0.016612 -0.073293  0.115181  0.970514  \n",
       "2 -0.040367 -0.410645 -0.492815  0.318635  \n",
       "3  0.367854  0.011348 -0.596067  1.153317  \n",
       "4  0.311334 -0.751612 -0.017991  1.275828  "
      ]
     },
     "execution_count": 31,
     "metadata": {},
     "output_type": "execute_result"
    }
   ],
   "source": [
    "TE.head()"
   ]
  },
  {
   "cell_type": "code",
   "execution_count": 32,
   "metadata": {},
   "outputs": [],
   "source": [
    "X = TE[['foldTE1',\n",
    "       'foldTE2', 'foldTE3', 'foldTE4']].values"
   ]
  },
  {
   "cell_type": "code",
   "execution_count": 33,
   "metadata": {},
   "outputs": [
    {
     "data": {
      "text/plain": [
       "array([[-0.14825931, -0.30626918, -1.12455994,  0.1590308 ],\n",
       "       [ 0.01661247, -0.0732925 ,  0.11518137,  0.97051427],\n",
       "       [-0.04036743, -0.4106451 , -0.49281521,  0.31863483],\n",
       "       [ 0.36785421,  0.01134836, -0.59606679,  1.15331714],\n",
       "       [ 0.31133413, -0.75161245, -0.01799068,  1.27582795]])"
      ]
     },
     "execution_count": 33,
     "metadata": {},
     "output_type": "execute_result"
    }
   ],
   "source": [
    "X[:5]"
   ]
  },
  {
   "cell_type": "code",
   "execution_count": 34,
   "metadata": {
    "scrolled": false
   },
   "outputs": [
    {
     "name": "stdout",
     "output_type": "stream",
     "text": [
      "1686\n",
      "1686 1686\n",
      "1393\n",
      "1393 1393\n",
      "447\n",
      "447 447\n",
      "2649\n",
      "2649 2649\n",
      "2105\n",
      "2105 2105\n",
      "253\n",
      "253 253\n",
      "1030\n",
      "1030 1030\n",
      "1831\n",
      "1831 1831\n",
      "956\n",
      "956 956\n",
      "1199\n",
      "1199 1199\n",
      "960\n",
      "960 960\n",
      "240\n",
      "240 240\n",
      "873\n",
      "873 873\n",
      "2018\n",
      "2018 2018\n",
      "885\n",
      "885 885\n"
     ]
    }
   ],
   "source": [
    "# def plot_heatmap(X,idx):\n",
    "#     plt.subplot(3, 2, idx+1)\n",
    "# #     plt.figure()\n",
    "#     sns.heatmap(X,xticklabels=['foldTE1',\n",
    "#        'foldTE2', 'foldTE3', 'foldTE4'])\n",
    "#     plt.title('Heatmap'+str(idx+1))\n",
    "\n",
    "# list_nums = [5]   \n",
    "# for num in list_nums:\n",
    "#     clusters = kmeans(X,num)\n",
    "#     idx=0\n",
    "#     for cluster in clusters:\n",
    "#         print(len(cluster))\n",
    "#         plot_heatmap(cluster)\n",
    "#         idx+=1\n",
    "        \n",
    "list_nums = [4,5,6]\n",
    "for num in list_nums:\n",
    "    clusters = kmeans(X,num) \n",
    "    for idx,cluster in enumerate(clusters):\n",
    "        print(len(cluster))\n",
    "        genes=[]\n",
    "        acc_nums=[]\n",
    "        for row in cluster:\n",
    "            temp = TE.loc[(TE['foldTE1'] == row[0])& (TE['foldTE2']== row[1])\n",
    "                          & (TE['foldTE3']== row[2])]\n",
    "            if(not temp.empty):\n",
    "                genes.append(temp['GeneName'].values[0])\n",
    "                acc_nums.append(temp['AccNum'].values[0])\n",
    "        print(len(cluster),len(genes))\n",
    "        with open('/Users/akankshitadash/Desktop/Replicate2/'+str(num)+\n",
    "                  '/Gene'+str(idx+1)+'.txt','w') as f:\n",
    "            for gene in genes:\n",
    "                f.write(\"%s\\n\" % gene)\n",
    "        with open('/Users/akankshitadash/Desktop/Replicate2/'+str(num)+\n",
    "                  '/AccNum'+str(idx+1)+'.txt','w') as f:\n",
    "            for acc_num in acc_nums:\n",
    "                f.write(\"%s\\n\" % acc_num)\n"
   ]
  },
  {
   "cell_type": "code",
   "execution_count": null,
   "metadata": {
    "scrolled": true
   },
   "outputs": [],
   "source": [
    "# def plot_heatmap(X):\n",
    "#     plt.figure()\n",
    "#     sns.heatmap(X,xticklabels=['TE0', 'TE1', 'TE2', 'TE3', 'TE4', 'foldTE1',\n",
    "#        'foldTE2', 'foldTE3', 'foldTE4'])\n",
    "#     plt.title('Heatmap')\n",
    "#     plt.savefig('NonChrE/KMeansOutputTE/Heatmap'+str(len(X)))\n",
    "#     plt.show()\n",
    "\n",
    "# list_nums = [5]   \n",
    "# for num in list_nums:\n",
    "#     clusters = kmeans(X,num)\n",
    "#     idx=0\n",
    "#     for cluster in clusters:\n",
    "#         print(len(cluster))\n",
    "#         plot_heatmap(cluster)\n",
    "#         idx+=1"
   ]
  },
  {
   "cell_type": "markdown",
   "metadata": {},
   "source": [
    "# RPF"
   ]
  },
  {
   "cell_type": "code",
   "execution_count": null,
   "metadata": {
    "scrolled": true
   },
   "outputs": [],
   "source": [
    "RPF.keys()"
   ]
  },
  {
   "cell_type": "code",
   "execution_count": null,
   "metadata": {
    "scrolled": false
   },
   "outputs": [],
   "source": [
    "RPF.head()"
   ]
  },
  {
   "cell_type": "code",
   "execution_count": null,
   "metadata": {
    "scrolled": false
   },
   "outputs": [],
   "source": [
    "RPF_new = reduce(lambda left,right: pd.merge(left,right,on=['AccNum','GeneName']), [RPF,filteredRNASeq])"
   ]
  },
  {
   "cell_type": "code",
   "execution_count": null,
   "metadata": {
    "scrolled": false
   },
   "outputs": [],
   "source": [
    "RPF_new.head()\n",
    "for i in range(0,5):\n",
    "    RPF_new.rename(columns={'cdRPKM'+str(i)+'_x':'cdRPKM'+str(i)}, inplace=True)\n",
    "RPF_new = RPF_new[['AccNum', 'GeneName','cdRPKM0','cdRPKM1','cdRPKM2','cdRPKM3','cdRPKM4']]"
   ]
  },
  {
   "cell_type": "code",
   "execution_count": null,
   "metadata": {
    "scrolled": false
   },
   "outputs": [],
   "source": [
    "RPF_new.to_csv('/Users/akankshitadash/Desktop/RPF_NonchrE.txt',sep='\\t',index=False)"
   ]
  },
  {
   "cell_type": "code",
   "execution_count": null,
   "metadata": {
    "scrolled": false
   },
   "outputs": [],
   "source": [
    "RPF_new.shape"
   ]
  },
  {
   "cell_type": "code",
   "execution_count": null,
   "metadata": {
    "scrolled": true
   },
   "outputs": [],
   "source": [
    "X = RPF_new[['cdRPKM0', 'cdRPKM1', 'cdRPKM2', 'cdRPKM3', 'cdRPKM4']].values"
   ]
  },
  {
   "cell_type": "code",
   "execution_count": null,
   "metadata": {
    "scrolled": false
   },
   "outputs": [],
   "source": [
    "list_nums = [4,5,6]\n",
    "for num in list_nums:\n",
    "    clusters = kmeans(X,num)\n",
    "    for cluster in clusters:\n",
    "        print(len(cluster))\n",
    "    for idx,cluster in enumerate(clusters):\n",
    "        genes=[]\n",
    "        acc_nums=[]\n",
    "        for row_nd in cluster:\n",
    "            row = row_nd[0].tolist()\n",
    "            temp = RPF.loc[(RPF['cdRPKM0'] == row[0])& (RPF['cdRPKM1']== row[1]) & (RPF['cdRPKM2']== row[2])]\n",
    "            if(not temp.empty):\n",
    "                genes.append(temp['GeneName'].values[0])\n",
    "                acc_nums.append(temp['AccNum'].values[0])\n",
    "        print(len(cluster),len(genes))\n",
    "        with open('NonChrE/KMeansOutputRPF/'+str(num)+'/Gene'+str(idx+1)+'.txt','w') as f:\n",
    "            for gene in genes:\n",
    "                f.write(\"%s\\n\" % gene)\n",
    "        with open('NonChrE/KMeansOutputRPF/'+str(num)+'/AccNum'+str(idx+1)+'.txt','w') as f:\n",
    "            for acc_num in acc_nums:\n",
    "                f.write(\"%s\\n\" % acc_num)"
   ]
  },
  {
   "cell_type": "code",
   "execution_count": null,
   "metadata": {
    "scrolled": false
   },
   "outputs": [],
   "source": [
    "import random\n",
    "def plot_heatmap(X):\n",
    "    plt.figure()\n",
    "    sns.heatmap(X,xticklabels=['cdRPKM0', 'cdRPKM1', 'cdRPKM2', 'cdRPKM3', 'cdRPKM4'])\n",
    "    plt.title('Heatmap')\n",
    "    plt.savefig('NonChrE/KMeansOutputRPF/Heatmap'+str(len(X)))\n",
    "    plt.show()\n",
    "\n",
    "list_nums = [5]   \n",
    "for num in list_nums:\n",
    "    clusters = kmeans(X,num)\n",
    "    idx=0\n",
    "    for cluster in clusters:\n",
    "        print(len(cluster))\n",
    "        plot_heatmap(cluster)\n",
    "        idx+=1"
   ]
  },
  {
   "cell_type": "code",
   "execution_count": null,
   "metadata": {
    "scrolled": false
   },
   "outputs": [],
   "source": [
    "RNASeq['log2cdRPKM1']"
   ]
  },
  {
   "cell_type": "markdown",
   "metadata": {},
   "source": [
    "# Median Normalize"
   ]
  },
  {
   "cell_type": "code",
   "execution_count": null,
   "metadata": {
    "scrolled": true
   },
   "outputs": [],
   "source": [
    "plt.hist(RPF['log2cdRPKM1'], bins = np.arange(-2.0,2.0,0.1))\n",
    "print(np.median(RPF['log2cdRPKM1']))\n",
    "plt.xlabel('log2fold values RPF')\n",
    "plt.ylabel('Frequency')\n",
    "plt.title('log2fold: 2 hpi/0hpi')\n",
    "# plt.axis(-2,2)\n",
    "plt.grid(True)\n",
    "\n",
    "plt.show()"
   ]
  },
  {
   "cell_type": "code",
   "execution_count": null,
   "metadata": {
    "scrolled": true
   },
   "outputs": [],
   "source": [
    "plt.hist(RPF['log2cdRPKM2'], bins = np.arange(-2.0,2.0,0.1))\n",
    "print(np.median(RPF['log2cdRPKM2']))\n",
    "\n",
    "plt.xlabel('log2fold values RPF')\n",
    "plt.ylabel('Frequency')\n",
    "plt.title('log2fold: 4 hpi/0hpi')\n",
    "# plt.axis(-2,2)\n",
    "plt.grid(True)\n",
    "\n",
    "plt.show()"
   ]
  },
  {
   "cell_type": "code",
   "execution_count": null,
   "metadata": {
    "scrolled": true
   },
   "outputs": [],
   "source": [
    "\n",
    "plt.hist(RPF['log2cdRPKM3'], bins = np.arange(-2.0,2.0,0.1))\n",
    "print(np.median(RPF['log2cdRPKM3']))\n",
    "\n",
    "\n",
    "plt.xlabel('log2fold values RPF')\n",
    "plt.ylabel('Frequency')\n",
    "plt.title('log2fold: 6 hpi/0hpi')\n",
    "# plt.axis(-2,2)\n",
    "plt.grid(True)\n",
    "\n",
    "plt.show()"
   ]
  },
  {
   "cell_type": "code",
   "execution_count": null,
   "metadata": {
    "scrolled": true
   },
   "outputs": [],
   "source": [
    "\n",
    "plt.hist(RPF['log2cdRPKM4'], bins = np.arange(-2.0,2.0,0.1))\n",
    "print(np.median(RPF['log2cdRPKM4']))\n",
    "\n",
    "plt.xlabel('log2fold values RPF')\n",
    "plt.ylabel('Frequency')\n",
    "plt.title('log2fold: 8 hpi/0hpi')\n",
    "# plt.axis(-2,2)\n",
    "plt.grid(True)\n",
    "\n",
    "plt.show()"
   ]
  },
  {
   "cell_type": "code",
   "execution_count": null,
   "metadata": {
    "scrolled": true
   },
   "outputs": [],
   "source": [
    "RNASeq_2['log2cdRPKM1']=RNASeq_2['cdRPKM1']-RNASeq_2['cdRPKM0']\n",
    "RNASeq_2['log2cdRPKM2']=RNASeq_2['cdRPKM2']-RNASeq_2['cdRPKM0']\n",
    "RNASeq_2['log2cdRPKM3']=RNASeq_2['cdRPKM3']-RNASeq_2['cdRPKM0']\n",
    "RNASeq_2['log2cdRPKM4']=RNASeq_2['cdRPKM4']-RNASeq_2['cdRPKM0']"
   ]
  },
  {
   "cell_type": "code",
   "execution_count": null,
   "metadata": {
    "scrolled": true
   },
   "outputs": [],
   "source": [
    "RNASeq.head(5)"
   ]
  },
  {
   "cell_type": "code",
   "execution_count": null,
   "metadata": {
    "scrolled": true
   },
   "outputs": [],
   "source": [
    "RNASeq_2.head(5)"
   ]
  },
  {
   "cell_type": "code",
   "execution_count": null,
   "metadata": {
    "scrolled": true
   },
   "outputs": [],
   "source": [
    "filteredRNASeq = RNASeq_2[(RNASeq_2['log2cdRPKM1'] <= 0.5) \n",
    "                        & (RNASeq_2['log2cdRPKM2'] <= 0.5)\n",
    "                        & (RNASeq_2['log2cdRPKM3'] <= 0.5)\n",
    "                        & (RNASeq_2['log2cdRPKM4'] <= 0.5)]\n",
    "filteredRNASeq = filteredRNASeq[(filteredRNASeq['log2cdRPKM1'] >= -0.5) \n",
    "                                & (filteredRNASeq['log2cdRPKM2'] >= -0.5)\n",
    "                                & (filteredRNASeq['log2cdRPKM3'] >= -0.5)\n",
    "                                & (filteredRNASeq['log2cdRPKM4'] >= -0.5)]\n",
    "\n"
   ]
  },
  {
   "cell_type": "code",
   "execution_count": null,
   "metadata": {
    "scrolled": true
   },
   "outputs": [],
   "source": [
    "filteredRNASeq = RNASeq[(RNASeq['log2cdRPKM1'] <= 0.5) \n",
    "                        & (RNASeq['log2cdRPKM2'] <= 0.5)\n",
    "                        & (RNASeq['log2cdRPKM3'] <= 0.5)\n",
    "                        & (RNASeq['log2cdRPKM4'] <= 0.5)]\n",
    "filteredRNASeq = filteredRNASeq[(filteredRNASeq['log2cdRPKM1'] >= -0.5) \n",
    "                                & (filteredRNASeq['log2cdRPKM2'] >= -0.5)\n",
    "                                & (filteredRNASeq['log2cdRPKM3'] >= -0.5)\n",
    "                                & (filteredRNASeq['log2cdRPKM4'] >= -0.5)]\n",
    "\n"
   ]
  },
  {
   "cell_type": "code",
   "execution_count": null,
   "metadata": {
    "scrolled": true
   },
   "outputs": [],
   "source": [
    "filteredRNASeq.head(5)"
   ]
  },
  {
   "cell_type": "code",
   "execution_count": null,
   "metadata": {
    "scrolled": true
   },
   "outputs": [],
   "source": [
    "print(filteredRNASeq.shape)"
   ]
  },
  {
   "cell_type": "code",
   "execution_count": null,
   "metadata": {
    "scrolled": true
   },
   "outputs": [],
   "source": [
    "TE = reduce(lambda left,right: pd.merge(left,right,on=['AccNum','GeneName']), [RPF,RNASeq])\n",
    "TE.head()"
   ]
  },
  {
   "cell_type": "code",
   "execution_count": null,
   "metadata": {
    "scrolled": true
   },
   "outputs": [],
   "source": [
    "TE.shape"
   ]
  },
  {
   "cell_type": "code",
   "execution_count": null,
   "metadata": {
    "scrolled": true
   },
   "outputs": [],
   "source": [
    "TE['cdRPKM0_x'] = TE['cdRPKM0_x']-TE['cdRPKM0_y']\n",
    "TE['cdRPKM1_x'] = TE['cdRPKM1_x']-TE['cdRPKM1_y']\n",
    "TE['cdRPKM2_x'] = TE['cdRPKM2_x']-TE['cdRPKM2_y']\n",
    "TE['cdRPKM3_x'] = TE['cdRPKM3_x']-TE['cdRPKM3_y']\n",
    "TE['cdRPKM4_x'] = TE['cdRPKM4_x']-TE['cdRPKM4_y']\n",
    "for i in range(0,5):\n",
    "    TE.rename(columns={'cdRPKM'+str(i)+'_x':'TE'+str(i)}, inplace=True)\n",
    "TE = TE[['AccNum', 'GeneName','TE0','TE1','TE2','TE3','TE4']]\n",
    "TE.head()"
   ]
  },
  {
   "cell_type": "code",
   "execution_count": null,
   "metadata": {
    "scrolled": true
   },
   "outputs": [],
   "source": [
    "TE['foldTE1']=TE['TE1']-TE['TE0']\n",
    "TE['foldTE2']=TE['TE2']-TE['TE0']\n",
    "TE['foldTE3']=TE['TE3']-TE['TE0']\n",
    "TE['foldTE4']=TE['TE4']-TE['TE0']"
   ]
  },
  {
   "cell_type": "code",
   "execution_count": null,
   "metadata": {
    "scrolled": true
   },
   "outputs": [],
   "source": [
    "TE.head(5)"
   ]
  },
  {
   "cell_type": "code",
   "execution_count": null,
   "metadata": {
    "scrolled": true
   },
   "outputs": [],
   "source": [
    "plt.hist(TE['foldTE1'], bins = np.arange(-2.0,2.0,0.1))\n",
    "\n",
    "\n",
    "plt.xlabel('log2fold values TE')\n",
    "plt.ylabel('Frequency')\n",
    "plt.title('log2fold: 2 hpi/0hpi')\n",
    "# plt.axis(-2,2)\n",
    "plt.grid(True)\n",
    "\n",
    "plt.show()"
   ]
  },
  {
   "cell_type": "code",
   "execution_count": null,
   "metadata": {
    "scrolled": true
   },
   "outputs": [],
   "source": [
    "plt.hist(TE['foldTE2'], bins = np.arange(-2.0,2.0,0.1))\n",
    "\n",
    "\n",
    "plt.xlabel('log2fold values TE')\n",
    "plt.ylabel('Frequency')\n",
    "plt.title('log2fold: 4 hpi/0hpi')\n",
    "# plt.axis(-2,2)\n",
    "plt.grid(True)\n",
    "\n",
    "plt.show()"
   ]
  },
  {
   "cell_type": "code",
   "execution_count": null,
   "metadata": {
    "scrolled": true
   },
   "outputs": [],
   "source": [
    "plt.hist(TE['foldTE3'], bins = np.arange(-2.0,2.0,0.1))\n",
    "\n",
    "\n",
    "plt.xlabel('log2fold values TE')\n",
    "plt.ylabel('Frequency')\n",
    "plt.title('log2fold: 6 hpi/0hpi')\n",
    "# plt.axis(-2,2)\n",
    "plt.grid(True)\n",
    "\n",
    "plt.show()"
   ]
  },
  {
   "cell_type": "code",
   "execution_count": null,
   "metadata": {
    "scrolled": true
   },
   "outputs": [],
   "source": [
    "plt.hist(TE['foldTE4'], bins = np.arange(-2.0,2.0,0.1))\n",
    "\n",
    "\n",
    "plt.xlabel('log2fold values TE')\n",
    "plt.ylabel('Frequency')\n",
    "plt.title('log2fold: 8 hpi/0hpi')\n",
    "# plt.axis(-2,2)\n",
    "plt.grid(True)\n",
    "\n",
    "plt.show()"
   ]
  },
  {
   "cell_type": "code",
   "execution_count": null,
   "metadata": {
    "scrolled": true
   },
   "outputs": [],
   "source": [
    "TE.to_csv('/Users/akankshitadash/Desktop/TE_medianNormalize.txt',sep='\\t',index=False)"
   ]
  },
  {
   "cell_type": "code",
   "execution_count": null,
   "metadata": {
    "scrolled": true
   },
   "outputs": [],
   "source": [
    "previous = 'AdjustedRPKMOutput/RPF_chrE/geneTXCD_RPKMoutput_EVadjusted_ReadOutput_'\n",
    "timepoints = ['ATCACG-s_7_1_genome.txt','TTAGGC-s_7_1_genome.txt',\n",
    "             'CAGATC-s_7_1_genome.txt','GCCAAT-s_7_1_genome.txt',\n",
    "             'CTTGTA-s_7_1_genome.txt'\n",
    "            ]\n",
    "dataframes = []\n",
    "for idx,file in enumerate(timepoints):\n",
    "    df = pd.read_csv(previous+file, sep=\"\t\", na_values=['-'])\n",
    "    df = df.dropna(how='any')\n",
    "    df = df[['AccNum', 'GeneName','cdReads',\n",
    "       'cdRPKM']]\n",
    "    df.rename(columns={'cdRPKM':'cdRPKM'+str(idx), 'cdReads':'cdReads'+str(idx)}, inplace=True)\n",
    "    dataframes.append(df)"
   ]
  },
  {
   "cell_type": "code",
   "execution_count": null,
   "metadata": {
    "scrolled": true
   },
   "outputs": [],
   "source": [
    "previous = 'AdjustedRPKMOutput/RNASeq_chrE/geneTXCD_RPKMoutput_EVadjusted_ReadOutput_'\n",
    "timepoints = ['ATCACG-s_6_1_genome.txt','TTAGGC-s_6_1_genome.txt',\n",
    "             'CAGATC-s_6_1_genome.txt','GCCAAT-s_6_1_genome.txt',\n",
    "             'CTTGTA-s_6_1_genome.txt'\n",
    "            ]\n",
    "dataframes = []\n",
    "for idx,file in enumerate(timepoints):\n",
    "    df = pd.read_csv(previous+file, sep=\"\t\", na_values=['-'])\n",
    "    df = df.dropna(how='any')\n",
    "    df = df[['AccNum', 'GeneName','cdReads',\n",
    "       'cdRPKM']]\n",
    "    df.rename(columns={'cdRPKM':'cdRPKM'+str(idx), 'cdReads':'cdReads'+str(idx)}, inplace=True)\n",
    "    dataframes.append(df)"
   ]
  },
  {
   "cell_type": "code",
   "execution_count": null,
   "metadata": {
    "scrolled": true
   },
   "outputs": [],
   "source": [
    "df_rnaseq = reduce(lambda left,right: pd.merge(left,right,on=['AccNum','GeneName']), dataframes)\n",
    "df_rnaseq.to_csv('AdjustedRPKMOutput/RNASeq_chrE.txt',sep='\\t',index=False)"
   ]
  },
  {
   "cell_type": "code",
   "execution_count": null,
   "metadata": {
    "scrolled": true
   },
   "outputs": [],
   "source": []
  }
 ],
 "metadata": {
  "kernelspec": {
   "display_name": "Python 3",
   "language": "python",
   "name": "python3"
  },
  "language_info": {
   "codemirror_mode": {
    "name": "ipython",
    "version": 3
   },
   "file_extension": ".py",
   "mimetype": "text/x-python",
   "name": "python",
   "nbconvert_exporter": "python",
   "pygments_lexer": "ipython3",
   "version": "3.6.4"
  }
 },
 "nbformat": 4,
 "nbformat_minor": 2
}
