{
 "cells": [
  {
   "cell_type": "code",
   "execution_count": 1,
   "metadata": {},
   "outputs": [],
   "source": [
    "import numpy as np\n",
    "import pandas as pd\n",
    "from pomegranate import *\n",
    "import random\n",
    "import os\n",
    "import itertools\n",
    "from functools import reduce"
   ]
  },
  {
   "cell_type": "markdown",
   "metadata": {},
   "source": [
    "### Methods"
   ]
  },
  {
   "cell_type": "code",
   "execution_count": 2,
   "metadata": {},
   "outputs": [],
   "source": [
    "def init(K,X):\n",
    "    \"\"\"This method initializes the models for EM\n",
    "    \n",
    "    K: Number of clusters\n",
    "    X: Data\n",
    "    \n",
    "    Return: x_k, models,alpha_k, indices_array, CML\n",
    "    \"\"\"\n",
    "    LENGTH, DIMENSION = X.shape\n",
    "    models = []\n",
    "    x_k = [[] for i in range(K)] #initialize K empty data arrays\n",
    "    alpha_k = []\n",
    "    indices_array = [[] for i in range(K)]\n",
    "    print(\"**************** K =\", K ,\"************************\")\n",
    "\n",
    "\n",
    "    # Sequences for initial CL Multinet Estimation\n",
    "    # Make K subsets of data\n",
    "    for i in range(LENGTH):\n",
    "        random_integer = random.randint(0,K-1)\n",
    "        x_k[random_integer].append(X[i])\n",
    "        indices_array[random_integer].append(i)\n",
    "\n",
    "    for i in range(K):\n",
    "        print(\"Length of model\",i+1,\":\",len(x_k[i]))\n",
    "        alpha_k.append(len(x_k[i])/LENGTH)\n",
    "        model = BayesianNetwork.from_samples(x_k[i],algorithm='chow-liu') \n",
    "        models.append(model)\n",
    "\n",
    "    print(\"Initial Model Structures\",alpha_k)\n",
    "    for model in models:\n",
    "        print(model.structure)\n",
    "\n",
    "    print(\"Initial Alphas\",alpha_k)\n",
    "\n",
    "    CML = 0\n",
    "\n",
    "    for i in range(K):\n",
    "        x = x_k[i]\n",
    "        model = models[i]\n",
    "        CML+=sum(np.log(model.probability(x)))+len(x)*np.log(alpha_k[i])\n",
    "    print(\"Initial CML\",CML)\n",
    "    \n",
    "    return x_k,models,alpha_k,indices_array,CML\n",
    "           \n",
    "def e_step(K,X,x_k,models,alpha_k,indices_array):\n",
    "    \"\"\"This method performs the E step in EM for the mth iteration\n",
    "    \n",
    "    K: Number of clusters\n",
    "    X: Data\n",
    "    x_k: Previously classified data in the (m-1)th step\n",
    "    models: models from the (m-1)th step\n",
    "    alpha_k: alphas from the previous step\n",
    "    indices_array: current indices of the original data (for each cluster)\n",
    "    \n",
    "    Return: x_k,models, alpha_k,indices_array\n",
    "    \"\"\"\n",
    "    x_k_temp = [[] for i in range(K)] #initialize K empty data arrays for C step (assign)\n",
    "    indices_array = [[] for i in range(K)]\n",
    "\n",
    "    #E Step: Calculate each point's posterior probability for K clusters (trees)\n",
    "    for idx_first,x in enumerate(X):\n",
    "        model_prob = []\n",
    "        for idx,model in enumerate(models): # K trees\n",
    "            try:\n",
    "                model_prob.append(model.probability(x))\n",
    "            except KeyError: #if a point doesn't exist in a tree, then the probability is zero\n",
    "                model_prob.append(0)\n",
    "        total = [a*b for a,b in zip(model_prob,alpha_k)]\n",
    "        max_prob_idx = total.index(max(total)) #return index of the max posterior probability\n",
    "        x_k_temp[max_prob_idx].append(x)\n",
    "        indices_array[max_prob_idx].append(idx_first)\n",
    "\n",
    "    #C step: Assign data-points to the trees that maximize their posterior probability\n",
    "    x_k = x_k_temp\n",
    "    alpha_k = [len(x_k[i])/LENGTH for i in range(K)]\n",
    "    models = []\n",
    "    for j in range(K):\n",
    "        model = BayesianNetwork.from_samples(x_k[j],algorithm='chow-liu') \n",
    "        models.append(model)\n",
    "        \n",
    "    return x_k,models, alpha_k,indices_array\n",
    "\n",
    "def m_step(K,x_k, models, alpha_k,CML):\n",
    "    \"\"\"This method performs the M step in EM for the mth iteration\n",
    "    \n",
    "    K: Number of clusters\n",
    "    x_k: Previously classified data in the (m-1)th step\n",
    "    models: models from the (m-1)th step\n",
    "    alpha_k: alphas from the previous step\n",
    "    CML: Classification Maximum Likelihood    \n",
    "    \n",
    "    Return: x_k,models, alpha_k,indices_array\n",
    "    \"\"\"\n",
    "    #M step: Calculate the CML criterion and re-estimate parameters\n",
    "    init_CML = CML\n",
    "    CML=0\n",
    "    for j in range(K):\n",
    "        x = x_k[j]\n",
    "        model = models[j]\n",
    "        CML+=sum(np.log(model.probability(x)))+len(x)*np.log(alpha_k[j])\n",
    "    return CML, models\n",
    "\n",
    "# def s_step(K,X):\n",
    "\n",
    "#     LENGTH, DIMENSION = X.shape\n",
    "    \n",
    "#     #S Step\n",
    "#     x_k = [[] for i in range(K)] #initialize K empty data arrays\n",
    "#     #S step: Assign data-points randomly\n",
    "#     for j in range(LENGTH):\n",
    "#         x_k[random.randint(0,K-1)].append(X[j])\n",
    "#     alpha_k = [len(x_k[k])/LENGTH for k in range(K)]\n",
    "#     models = []\n",
    "#     for j in range(K):\n",
    "#         model = BayesianNetwork.from_samples(x_k[j],algorithm='chow-liu') \n",
    "#         models.append(model)\n",
    "\n",
    "#     #M step: Calculate the CML criterion and re-estimate parameters\n",
    "#     init_CML = CML\n",
    "#     CML=0\n",
    "#     for j in range(K):\n",
    "#         x = x_k[j]\n",
    "#         model = models[j]\n",
    "#         CML+=sum(np.log(model.probability(x)))+len(x)*np.log(alpha_k[j])\n",
    "#     print(\"New CML is:\", CML)   \n",
    "\n",
    "\n",
    "def save(indices_array, path):\n",
    "    \"\"\"This method saves the clustered data\n",
    "    \n",
    "    indices_array: array of the indices (of the original data) for each cluster\n",
    "    path: path to save to, sample: '/Users/akankshitadash/Desktop/Bayesian Networks1/RPF_chrE/'\n",
    "    Directory should already exist, and contain subdirectories of Genes/ and AccNum/\n",
    "    \n",
    "    Return: x_k,models, alpha_k,indices_array\n",
    "    \"\"\"\n",
    "    for idx,indices in enumerate(indices_array):\n",
    "        genes=[]\n",
    "        acc_nums=[]\n",
    "        for index in indices:\n",
    "            genes.append(df.iloc[index]['GeneName'])\n",
    "            acc_nums.append(df.iloc[index]['AccNum'])\n",
    "        print(len(indices),len(genes),len(acc_nums))\n",
    "    #             os.mkdir('/Users/akankshitadash/Desktop/Bayesian Networks/'+str(len(indices_array)))\n",
    "    #             os.mkdir('/Users/akankshitadash/Desktop/Bayesian Networks/'+str(len(indices_array))+'/Genes/')\n",
    "    #             os.mkdir('/Users/akankshitadash/Desktop/Bayesian Networks/'+str(len(indices_array))+'/AccNums/')\n",
    "        with open(path+str(len(indices_array))+'/Genes/Gene'+str(idx+1)+'.txt','w') as f:\n",
    "            for gene in genes:\n",
    "                f.write(\"%s\\n\" % gene)\n",
    "        with open(path+str(len(indices_array))+'/AccNums/AccNum'+str(idx+1)+'.txt','w') as f:\n",
    "            for acc_num in acc_nums:\n",
    "                f.write(\"%s\\n\" % acc_num)\n",
    "    \n",
    "def em(K,X,path):    \n",
    "    \"\"\"This method performs EM\n",
    "    \n",
    "    K: Number of clusters\n",
    "    X: Discrete data\n",
    "    path: path to save to\n",
    "    Return: None\n",
    "    \"\"\"\n",
    "    \n",
    "    x_k,models,alpha_k,indices_array,CML = init(K,X) #initialize K models\n",
    "    prev_CML = CML\n",
    "    \n",
    "    for i in range(100): #start with 100 iterations of EM\n",
    "        x_k, models, alpha_k,indices_array = e_step(K,X,x_k,models,alpha_k,indices_array)\n",
    "        CML, models = m_step(K,x_k, models, alpha_k,CML)\n",
    "        if(prev_CML==CML):\n",
    "            break\n",
    "        else:\n",
    "            prev_CML = CML\n",
    "            print(\"CML is\",CML)\n",
    "    save(indices_array,path)"
   ]
  },
  {
   "cell_type": "code",
   "execution_count": 3,
   "metadata": {},
   "outputs": [],
   "source": [
    "# df_rnaseq = pd.read_csv('AdjustedRPKMOutput/RNASeq_chrE.txt',sep='\\t')\n",
    "# df_rpf = pd.read_csv('AdjustedRPKMOutput/RPF_chrE.txt',sep='\\t')\n",
    "# df_rnaseq = df_rnaseq[(df_rnaseq['cdReads0'] >= 10) & (df_rnaseq['cdReads1'] >= 10) & (df_rnaseq['cdReads2'] >= 10)& (df_rnaseq['cdReads3'] >= 10)& (df_rnaseq['cdReads4'] >= 10)]\n",
    "# df_rpf = df_rpf[(df_rpf['cdReads0'] >= 10) & (df_rpf['cdReads1'] >= 10) & (df_rpf['cdReads2'] >= 10)& (df_rpf['cdReads3'] >= 10)& (df_rpf['cdReads4'] >= 10)]\n",
    "# df_TE = reduce(lambda left,right: pd.merge(left,right,on=['AccNum','GeneName']), [df_rpf,df_rnaseq])\n",
    "# df_TE[['cdRPKM0_x']] = df_TE[['cdRPKM0_x']].div(df_TE['cdRPKM0_y'].values,axis=0)\n",
    "# df_TE[['cdRPKM1_x']] = df_TE[['cdRPKM1_x']].div(df_TE['cdRPKM1_y'].values,axis=0)\n",
    "# df_TE[['cdRPKM2_x']] = df_TE[['cdRPKM2_x']].div(df_TE['cdRPKM2_y'].values,axis=0)\n",
    "# df_TE[['cdRPKM3_x']] = df_TE[['cdRPKM3_x']].div(df_TE['cdRPKM3_y'].values,axis=0)\n",
    "# df_TE[['cdRPKM4_x']] = df_TE[['cdRPKM4_x']].div(df_TE['cdRPKM4_y'].values,axis=0)\n",
    "# for i in range(0,5):\n",
    "#     df_TE.rename(columns={'cdRPKM'+str(i)+'_x':'TE'+str(i)}, inplace=True)\n",
    "# df_TE = df_TE[['AccNum','GeneName','TE0','TE1','TE2','TE3','TE4']]\n",
    "# df_TE.to_csv('AdjustedRPKMOutput/TE_chrE.txt',sep='\\t')"
   ]
  },
  {
   "cell_type": "markdown",
   "metadata": {},
   "source": [
    "### Read Data"
   ]
  },
  {
   "cell_type": "code",
   "execution_count": 4,
   "metadata": {},
   "outputs": [],
   "source": [
    "path = 'AdjustedRPKMOutput/TE_chrE_filtered.txt'\n",
    "df = pd.read_csv(path,sep='\\t')"
   ]
  },
  {
   "cell_type": "code",
   "execution_count": 5,
   "metadata": {},
   "outputs": [
    {
     "data": {
      "text/html": [
       "<div>\n",
       "<style scoped>\n",
       "    .dataframe tbody tr th:only-of-type {\n",
       "        vertical-align: middle;\n",
       "    }\n",
       "\n",
       "    .dataframe tbody tr th {\n",
       "        vertical-align: top;\n",
       "    }\n",
       "\n",
       "    .dataframe thead th {\n",
       "        text-align: right;\n",
       "    }\n",
       "</style>\n",
       "<table border=\"1\" class=\"dataframe\">\n",
       "  <thead>\n",
       "    <tr style=\"text-align: right;\">\n",
       "      <th></th>\n",
       "      <th>AccNum</th>\n",
       "      <th>GeneName</th>\n",
       "      <th>TE0</th>\n",
       "      <th>TE1</th>\n",
       "      <th>TE2</th>\n",
       "      <th>TE3</th>\n",
       "      <th>TE4</th>\n",
       "      <th>foldTE1</th>\n",
       "      <th>foldTE2</th>\n",
       "      <th>foldTE3</th>\n",
       "      <th>foldTE4</th>\n",
       "    </tr>\n",
       "  </thead>\n",
       "  <tbody>\n",
       "    <tr>\n",
       "      <th>0</th>\n",
       "      <td>NM_017847</td>\n",
       "      <td>ODR4</td>\n",
       "      <td>1.318009</td>\n",
       "      <td>1.243997</td>\n",
       "      <td>1.416672</td>\n",
       "      <td>1.717463</td>\n",
       "      <td>1.757317</td>\n",
       "      <td>-0.074012</td>\n",
       "      <td>0.098663</td>\n",
       "      <td>0.399454</td>\n",
       "      <td>0.439308</td>\n",
       "    </tr>\n",
       "    <tr>\n",
       "      <th>1</th>\n",
       "      <td>NM_001003803</td>\n",
       "      <td>ATP5S</td>\n",
       "      <td>1.904575</td>\n",
       "      <td>1.918597</td>\n",
       "      <td>2.401017</td>\n",
       "      <td>2.690534</td>\n",
       "      <td>2.385348</td>\n",
       "      <td>0.014021</td>\n",
       "      <td>0.496441</td>\n",
       "      <td>0.785959</td>\n",
       "      <td>0.480773</td>\n",
       "    </tr>\n",
       "    <tr>\n",
       "      <th>2</th>\n",
       "      <td>NM_001003800</td>\n",
       "      <td>BICD2</td>\n",
       "      <td>-0.212253</td>\n",
       "      <td>-0.326054</td>\n",
       "      <td>-0.394399</td>\n",
       "      <td>-0.043000</td>\n",
       "      <td>0.203561</td>\n",
       "      <td>-0.113801</td>\n",
       "      <td>-0.182145</td>\n",
       "      <td>0.169253</td>\n",
       "      <td>0.415814</td>\n",
       "    </tr>\n",
       "    <tr>\n",
       "      <th>3</th>\n",
       "      <td>NM_016647</td>\n",
       "      <td>THEM6</td>\n",
       "      <td>0.057710</td>\n",
       "      <td>0.211936</td>\n",
       "      <td>0.366747</td>\n",
       "      <td>0.714460</td>\n",
       "      <td>0.559378</td>\n",
       "      <td>0.154226</td>\n",
       "      <td>0.309037</td>\n",
       "      <td>0.656751</td>\n",
       "      <td>0.501668</td>\n",
       "    </tr>\n",
       "    <tr>\n",
       "      <th>4</th>\n",
       "      <td>NM_016640</td>\n",
       "      <td>MRPS30</td>\n",
       "      <td>0.562779</td>\n",
       "      <td>0.555941</td>\n",
       "      <td>0.268715</td>\n",
       "      <td>0.379276</td>\n",
       "      <td>0.831364</td>\n",
       "      <td>-0.006838</td>\n",
       "      <td>-0.294065</td>\n",
       "      <td>-0.183503</td>\n",
       "      <td>0.268585</td>\n",
       "    </tr>\n",
       "  </tbody>\n",
       "</table>\n",
       "</div>"
      ],
      "text/plain": [
       "         AccNum GeneName       TE0       TE1       TE2       TE3       TE4  \\\n",
       "0     NM_017847     ODR4  1.318009  1.243997  1.416672  1.717463  1.757317   \n",
       "1  NM_001003803    ATP5S  1.904575  1.918597  2.401017  2.690534  2.385348   \n",
       "2  NM_001003800    BICD2 -0.212253 -0.326054 -0.394399 -0.043000  0.203561   \n",
       "3     NM_016647    THEM6  0.057710  0.211936  0.366747  0.714460  0.559378   \n",
       "4     NM_016640   MRPS30  0.562779  0.555941  0.268715  0.379276  0.831364   \n",
       "\n",
       "    foldTE1   foldTE2   foldTE3   foldTE4  \n",
       "0 -0.074012  0.098663  0.399454  0.439308  \n",
       "1  0.014021  0.496441  0.785959  0.480773  \n",
       "2 -0.113801 -0.182145  0.169253  0.415814  \n",
       "3  0.154226  0.309037  0.656751  0.501668  \n",
       "4 -0.006838 -0.294065 -0.183503  0.268585  "
      ]
     },
     "execution_count": 5,
     "metadata": {},
     "output_type": "execute_result"
    }
   ],
   "source": [
    "df.head(5)"
   ]
  },
  {
   "cell_type": "code",
   "execution_count": 6,
   "metadata": {},
   "outputs": [
    {
     "data": {
      "text/plain": [
       "Index(['AccNum', 'GeneName', 'TE0', 'TE1', 'TE2', 'TE3', 'TE4', 'foldTE1',\n",
       "       'foldTE2', 'foldTE3', 'foldTE4'],\n",
       "      dtype='object')"
      ]
     },
     "execution_count": 6,
     "metadata": {},
     "output_type": "execute_result"
    }
   ],
   "source": [
    "df.keys()"
   ]
  },
  {
   "cell_type": "code",
   "execution_count": 7,
   "metadata": {},
   "outputs": [],
   "source": [
    "X = df[['foldTE1',\n",
    "       'foldTE2', 'foldTE3', 'foldTE4']].values.round()"
   ]
  },
  {
   "cell_type": "code",
   "execution_count": 8,
   "metadata": {},
   "outputs": [
    {
     "name": "stdout",
     "output_type": "stream",
     "text": [
      "(5642, 4)\n"
     ]
    }
   ],
   "source": [
    "print(X.shape)"
   ]
  },
  {
   "cell_type": "code",
   "execution_count": 9,
   "metadata": {},
   "outputs": [],
   "source": [
    "LENGTH, DIMENSION = X.shape"
   ]
  },
  {
   "cell_type": "code",
   "execution_count": 10,
   "metadata": {},
   "outputs": [
    {
     "name": "stdout",
     "output_type": "stream",
     "text": [
      "-2.0\n"
     ]
    }
   ],
   "source": [
    "print(np.min(X))"
   ]
  },
  {
   "cell_type": "code",
   "execution_count": 11,
   "metadata": {},
   "outputs": [
    {
     "name": "stdout",
     "output_type": "stream",
     "text": [
      "4.0\n"
     ]
    }
   ],
   "source": [
    "print(np.max(X))"
   ]
  },
  {
   "cell_type": "markdown",
   "metadata": {},
   "source": [
    "#### Digitize the data"
   ]
  },
  {
   "cell_type": "code",
   "execution_count": 12,
   "metadata": {},
   "outputs": [
    {
     "name": "stdout",
     "output_type": "stream",
     "text": [
      "[-2.   -1.94 -1.88 -1.82 -1.76 -1.7  -1.64 -1.58 -1.52 -1.46 -1.4  -1.34\n",
      " -1.28 -1.22 -1.16 -1.1  -1.04 -0.98 -0.92 -0.86 -0.8  -0.74 -0.68 -0.62\n",
      " -0.56 -0.5  -0.44 -0.38 -0.32 -0.26 -0.2  -0.14 -0.08 -0.02  0.04  0.1\n",
      "  0.16  0.22  0.28  0.34  0.4   0.46  0.52  0.58  0.64  0.7   0.76  0.82\n",
      "  0.88  0.94  1.    1.06  1.12  1.18  1.24  1.3   1.36  1.42  1.48  1.54\n",
      "  1.6   1.66  1.72  1.78  1.84  1.9   1.96  2.02  2.08  2.14  2.2   2.26\n",
      "  2.32  2.38  2.44  2.5   2.56  2.62  2.68  2.74  2.8   2.86  2.92  2.98\n",
      "  3.04  3.1   3.16  3.22  3.28  3.34  3.4   3.46  3.52  3.58  3.64  3.7\n",
      "  3.76  3.82  3.88  3.94  4.    4.06]\n"
     ]
    }
   ],
   "source": [
    "bin_size = 100 #state number of bins here, multiple of 5\n",
    "step = (np.max(X)-np.min(X))/bin_size\n",
    "bins = np.arange(np.min(X),np.max(X)+0.1,step)\n",
    "print(bins)\n",
    "X = np.digitize(X,bins)"
   ]
  },
  {
   "cell_type": "code",
   "execution_count": 13,
   "metadata": {},
   "outputs": [
    {
     "name": "stdout",
     "output_type": "stream",
     "text": [
      "[[34 34 34 34]\n",
      " [34 34 50 34]\n",
      " [34 34 34 34]\n",
      " [34 34 50 50]\n",
      " [34 34 34 34]]\n"
     ]
    }
   ],
   "source": [
    "print(X[:5])"
   ]
  },
  {
   "cell_type": "markdown",
   "metadata": {},
   "source": [
    "### Sample network"
   ]
  },
  {
   "cell_type": "code",
   "execution_count": 14,
   "metadata": {},
   "outputs": [],
   "source": [
    "model = BayesianNetwork.from_samples(X,algorithm='chow-liu')"
   ]
  },
  {
   "cell_type": "code",
   "execution_count": 15,
   "metadata": {},
   "outputs": [
    {
     "data": {
      "text/plain": [
       "((), (0,), (1,), (2,))"
      ]
     },
     "execution_count": 15,
     "metadata": {},
     "output_type": "execute_result"
    }
   ],
   "source": [
    "model.structure"
   ]
  },
  {
   "cell_type": "markdown",
   "metadata": {},
   "source": [
    "### Perform EM"
   ]
  },
  {
   "cell_type": "code",
   "execution_count": 17,
   "metadata": {},
   "outputs": [
    {
     "name": "stdout",
     "output_type": "stream",
     "text": [
      "**************** K = 4 ************************\n",
      "Length of model 1 : 1417\n",
      "Length of model 2 : 1430\n",
      "Length of model 3 : 1404\n",
      "Length of model 4 : 1391\n",
      "Initial Model Structures [0.2511520737327189, 0.2534562211981567, 0.2488479262672811, 0.2465437788018433]\n",
      "((), (0,), (1,), (2,))\n",
      "((), (0,), (1,), (2,))\n",
      "((), (0,), (1,), (2,))\n",
      "((), (0,), (1,), (2,))\n",
      "Initial Alphas [0.2511520737327189, 0.2534562211981567, 0.2488479262672811, 0.2465437788018433]\n",
      "Initial CML -23468.70964036546\n",
      "CML is -15735.81127315852\n",
      "CML is -15668.846703084157\n",
      "913 913 913\n",
      "3474 3474 3474\n",
      "286 286 286\n",
      "969 969 969\n",
      "**************** K = 5 ************************\n",
      "Length of model 1 : 1099\n",
      "Length of model 2 : 1139\n",
      "Length of model 3 : 1148\n",
      "Length of model 4 : 1137\n",
      "Length of model 5 : 1119\n",
      "Initial Model Structures [0.19478908188585609, 0.20187876639489544, 0.20347394540942929, 0.20152428216944346, 0.19833392414037576]\n",
      "((), (0,), (1,), (2,))\n",
      "((), (0,), (1,), (2,))\n",
      "((), (0,), (1,), (2,))\n",
      "((), (0,), (1,), (2,))\n",
      "((), (0,), (1,), (2,))\n",
      "Initial Alphas [0.19478908188585609, 0.20187876639489544, 0.20347394540942929, 0.20152428216944346, 0.19833392414037576]\n",
      "Initial CML -24709.981870323085\n",
      "CML is -15968.274953501925\n",
      "CML is -15924.408330366488\n",
      "CML is -15902.606817320813\n",
      "CML is -15886.974075847975\n",
      "1093 1093 1093\n",
      "2945 2945 2945\n",
      "1025 1025 1025\n",
      "241 241 241\n",
      "338 338 338\n",
      "**************** K = 6 ************************\n",
      "Length of model 1 : 885\n",
      "Length of model 2 : 938\n",
      "Length of model 3 : 976\n",
      "Length of model 4 : 933\n",
      "Length of model 5 : 1002\n",
      "Length of model 6 : 908\n",
      "Initial Model Structures [0.15685926976249556, 0.1662531017369727, 0.1729883020205601, 0.16536689117334277, 0.17759659695143565, 0.1609358383551932]\n",
      "((), (0,), (1,), (1,))\n",
      "((), (0,), (1,), (2,))\n",
      "((), (0,), (1,), (2,))\n",
      "((), (0,), (1,), (2,))\n",
      "((), (0,), (1,), (2,))\n",
      "((), (0,), (1,), (2,))\n",
      "Initial Alphas [0.15685926976249556, 0.1662531017369727, 0.1729883020205601, 0.16536689117334277, 0.17759659695143565, 0.1609358383551932]\n",
      "Initial CML -25692.016205264306\n",
      "CML is -16203.071109611887\n",
      "CML is -16060.360532730809\n",
      "1699 1699 1699\n",
      "512 512 512\n",
      "2421 2421 2421\n",
      "307 307 307\n",
      "607 607 607\n",
      "96 96 96\n"
     ]
    }
   ],
   "source": [
    "path = '/Users/akankshitadash/Desktop/TE_chrE_filtered/'\n",
    "for k in range(4,7):\n",
    "    em(k,X,path)"
   ]
  },
  {
   "cell_type": "code",
   "execution_count": null,
   "metadata": {},
   "outputs": [],
   "source": []
  }
 ],
 "metadata": {
  "kernelspec": {
   "display_name": "Python 3",
   "language": "python",
   "name": "python3"
  },
  "language_info": {
   "codemirror_mode": {
    "name": "ipython",
    "version": 3
   },
   "file_extension": ".py",
   "mimetype": "text/x-python",
   "name": "python",
   "nbconvert_exporter": "python",
   "pygments_lexer": "ipython3",
   "version": "3.6.4"
  }
 },
 "nbformat": 4,
 "nbformat_minor": 2
}
