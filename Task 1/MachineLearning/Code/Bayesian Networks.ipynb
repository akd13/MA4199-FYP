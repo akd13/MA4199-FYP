{
 "cells": [
  {
   "cell_type": "code",
   "execution_count": 1,
   "metadata": {},
   "outputs": [],
   "source": [
    "import numpy as np\n",
    "import pandas as pd\n",
    "from pomegranate import *\n",
    "import random\n",
    "import os\n",
    "import itertools\n",
    "from functools import reduce"
   ]
  },
  {
   "cell_type": "markdown",
   "metadata": {},
   "source": [
    "### Methods"
   ]
  },
  {
   "cell_type": "code",
   "execution_count": 34,
   "metadata": {},
   "outputs": [],
   "source": [
    "def init(K,X):\n",
    "    \"\"\"This method initializes the models for EM\n",
    "    \n",
    "    K: Number of clusters\n",
    "    X: Data\n",
    "    \n",
    "    Return: x_k, models,alpha_k, indices_array, CML\n",
    "    \"\"\"\n",
    "    LENGTH, DIMENSION = X.shape\n",
    "    models = []\n",
    "    x_k = [[] for i in range(K)] #initialize K empty data arrays\n",
    "    alpha_k = []\n",
    "    indices_array = [[] for i in range(K)]\n",
    "    print(\"**************** K =\", K ,\"************************\")\n",
    "\n",
    "\n",
    "    # Sequences for initial CL Multinet Estimation\n",
    "    # Make K subsets of data\n",
    "    for i in range(LENGTH):\n",
    "        random_integer = random.randint(0,K-1)\n",
    "        x_k[random_integer].append(X[i])\n",
    "        indices_array[random_integer].append(i)\n",
    "\n",
    "    for i in range(K):\n",
    "        print(\"Length of model\",i+1,\":\",len(x_k[i]))\n",
    "        alpha_k.append(len(x_k[i])/LENGTH)\n",
    "        model = BayesianNetwork.from_samples(x_k[i],algorithm='chow-liu') \n",
    "        models.append(model)\n",
    "\n",
    "    print(\"Initial Model Structures\",alpha_k)\n",
    "    for model in models:\n",
    "        print(model.structure)\n",
    "\n",
    "    print(\"Initial Alphas\",alpha_k)\n",
    "\n",
    "    CML = 0\n",
    "\n",
    "    for i in range(K):\n",
    "        x = x_k[i]\n",
    "        model = models[i]\n",
    "        CML+=sum(np.log(model.probability(x)))+len(x)*np.log(alpha_k[i])\n",
    "    print(\"Initial CML\",CML)\n",
    "    \n",
    "    return x_k,models,alpha_k,indices_array,CML\n",
    "           \n",
    "def e_step(K,X,x_k,models,alpha_k,indices_array):\n",
    "    \"\"\"This method performs the E step in EM for the mth iteration\n",
    "    \n",
    "    K: Number of clusters\n",
    "    X: Data\n",
    "    x_k: Previously classified data in the (m-1)th step\n",
    "    models: models from the (m-1)th step\n",
    "    alpha_k: alphas from the previous step\n",
    "    indices_array: current indices of the original data (for each cluster)\n",
    "    \n",
    "    Return: x_k,models, alpha_k,indices_array\n",
    "    \"\"\"\n",
    "    x_k_temp = [[] for i in range(K)] #initialize K empty data arrays for C step (assign)\n",
    "    indices_array = [[] for i in range(K)]\n",
    "\n",
    "    #E Step: Calculate each point's posterior probability for K clusters (trees)\n",
    "    for idx_first,x in enumerate(X):\n",
    "        model_prob = []\n",
    "        for idx,model in enumerate(models): # K trees\n",
    "            try:\n",
    "                model_prob.append(model.probability(x))\n",
    "            except KeyError: #if a point doesn't exist in a tree, then the probability is zero\n",
    "                model_prob.append(0)\n",
    "        total = [a*b for a,b in zip(model_prob,alpha_k)]\n",
    "        max_prob_idx = total.index(max(total)) #return index of the max posterior probability\n",
    "        x_k_temp[max_prob_idx].append(x)\n",
    "        indices_array[max_prob_idx].append(idx_first)\n",
    "\n",
    "    #C step: Assign data-points to the trees that maximize their posterior probability\n",
    "    x_k = x_k_temp\n",
    "    alpha_k = [len(x_k[i])/LENGTH for i in range(K)]\n",
    "    models = []\n",
    "    for j in range(K):\n",
    "        model = BayesianNetwork.from_samples(x_k[j],algorithm='chow-liu') \n",
    "        models.append(model)\n",
    "        \n",
    "    return x_k,models, alpha_k,indices_array\n",
    "\n",
    "def m_step(K,x_k, models, alpha_k,CML):\n",
    "    \"\"\"This method performs the M step in EM for the mth iteration\n",
    "    \n",
    "    K: Number of clusters\n",
    "    x_k: Previously classified data in the (m-1)th step\n",
    "    models: models from the (m-1)th step\n",
    "    alpha_k: alphas from the previous step\n",
    "    CML: Classification Maximum Likelihood    \n",
    "    \n",
    "    Return: x_k,models, alpha_k,indices_array\n",
    "    \"\"\"\n",
    "    #M step: Calculate the CML criterion and re-estimate parameters\n",
    "    init_CML = CML\n",
    "    CML=0\n",
    "    for j in range(K):\n",
    "        x = x_k[j]\n",
    "        model = models[j]\n",
    "        CML+=sum(np.log(model.probability(x)))+len(x)*np.log(alpha_k[j])\n",
    "    return CML, models\n",
    "\n",
    "# def s_step(K,X):\n",
    "\n",
    "#     LENGTH, DIMENSION = X.shape\n",
    "    \n",
    "#     #S Step\n",
    "#     x_k = [[] for i in range(K)] #initialize K empty data arrays\n",
    "#     #S step: Assign data-points randomly\n",
    "#     for j in range(LENGTH):\n",
    "#         x_k[random.randint(0,K-1)].append(X[j])\n",
    "#     alpha_k = [len(x_k[k])/LENGTH for k in range(K)]\n",
    "#     models = []\n",
    "#     for j in range(K):\n",
    "#         model = BayesianNetwork.from_samples(x_k[j],algorithm='chow-liu') \n",
    "#         models.append(model)\n",
    "\n",
    "#     #M step: Calculate the CML criterion and re-estimate parameters\n",
    "#     init_CML = CML\n",
    "#     CML=0\n",
    "#     for j in range(K):\n",
    "#         x = x_k[j]\n",
    "#         model = models[j]\n",
    "#         CML+=sum(np.log(model.probability(x)))+len(x)*np.log(alpha_k[j])\n",
    "#     print(\"New CML is:\", CML)   \n",
    "\n",
    "\n",
    "def save(indices_array, path):\n",
    "    \"\"\"This method saves the clustered data\n",
    "    \n",
    "    indices_array: array of the indices (of the original data) for each cluster\n",
    "    path: path to save to, sample: '/Users/akankshitadash/Desktop/Bayesian Networks1/RPF_chrE/'\n",
    "    Directory should already exist, and contain subdirectories of Genes/ and AccNum/\n",
    "    \n",
    "    Return: x_k,models, alpha_k,indices_array\n",
    "    \"\"\"\n",
    "    for idx,indices in enumerate(indices_array):\n",
    "        genes=[]\n",
    "        acc_nums=[]\n",
    "        for index in indices:\n",
    "            genes.append(df.iloc[index]['GeneName'])\n",
    "            acc_nums.append(df.iloc[index]['AccNum'])\n",
    "        print(len(indices),len(genes),len(acc_nums))\n",
    "    #             os.mkdir('/Users/akankshitadash/Desktop/Bayesian Networks/'+str(len(indices_array)))\n",
    "    #             os.mkdir('/Users/akankshitadash/Desktop/Bayesian Networks/'+str(len(indices_array))+'/Genes/')\n",
    "    #             os.mkdir('/Users/akankshitadash/Desktop/Bayesian Networks/'+str(len(indices_array))+'/AccNums/')\n",
    "        with open(path+str(len(indices_array))+'/Gene'+str(idx+1)+'.txt','w') as f:\n",
    "            for gene in genes:\n",
    "                f.write(\"%s\\n\" % gene)\n",
    "        with open(path+str(len(indices_array))+'/AccNum'+str(idx+1)+'.txt','w') as f:\n",
    "            for acc_num in acc_nums:\n",
    "                f.write(\"%s\\n\" % acc_num)\n",
    "    \n",
    "def em(K,X,path):    \n",
    "    \"\"\"This method performs EM\n",
    "    \n",
    "    K: Number of clusters\n",
    "    X: Discrete data\n",
    "    path: path to save to\n",
    "    Return: None\n",
    "    \"\"\"\n",
    "    \n",
    "    x_k,models,alpha_k,indices_array,CML = init(K,X) #initialize K models\n",
    "    prev_CML = CML\n",
    "    \n",
    "    for i in range(100): #start with 100 iterations of EM\n",
    "        x_k, models, alpha_k,indices_array = e_step(K,X,x_k,models,alpha_k,indices_array)\n",
    "        CML, models = m_step(K,x_k, models, alpha_k,CML)\n",
    "        if(prev_CML==CML):\n",
    "            for model in models:\n",
    "                print(model.structure)\n",
    "            break\n",
    "        else:\n",
    "            prev_CML = CML\n",
    "            print(\"CML is\",CML)\n",
    "    save(indices_array,path)"
   ]
  },
  {
   "cell_type": "code",
   "execution_count": 3,
   "metadata": {},
   "outputs": [],
   "source": [
    "# df_rnaseq = pd.read_csv('AdjustedRPKMOutput/RNASeq_chrE.txt',sep='\\t')\n",
    "# df_rpf = pd.read_csv('AdjustedRPKMOutput/RPF_chrE.txt',sep='\\t')\n",
    "# df_rnaseq = df_rnaseq[(df_rnaseq['cdReads0'] >= 10) & (df_rnaseq['cdReads1'] >= 10) & (df_rnaseq['cdReads2'] >= 10)& (df_rnaseq['cdReads3'] >= 10)& (df_rnaseq['cdReads4'] >= 10)]\n",
    "# df_rpf = df_rpf[(df_rpf['cdReads0'] >= 10) & (df_rpf['cdReads1'] >= 10) & (df_rpf['cdReads2'] >= 10)& (df_rpf['cdReads3'] >= 10)& (df_rpf['cdReads4'] >= 10)]\n",
    "# df_TE = reduce(lambda left,right: pd.merge(left,right,on=['AccNum','GeneName']), [df_rpf,df_rnaseq])\n",
    "# df_TE[['cdRPKM0_x']] = df_TE[['cdRPKM0_x']].div(df_TE['cdRPKM0_y'].values,axis=0)\n",
    "# df_TE[['cdRPKM1_x']] = df_TE[['cdRPKM1_x']].div(df_TE['cdRPKM1_y'].values,axis=0)\n",
    "# df_TE[['cdRPKM2_x']] = df_TE[['cdRPKM2_x']].div(df_TE['cdRPKM2_y'].values,axis=0)\n",
    "# df_TE[['cdRPKM3_x']] = df_TE[['cdRPKM3_x']].div(df_TE['cdRPKM3_y'].values,axis=0)\n",
    "# df_TE[['cdRPKM4_x']] = df_TE[['cdRPKM4_x']].div(df_TE['cdRPKM4_y'].values,axis=0)\n",
    "# for i in range(0,5):\n",
    "#     df_TE.rename(columns={'cdRPKM'+str(i)+'_x':'TE'+str(i)}, inplace=True)\n",
    "# df_TE = df_TE[['AccNum','GeneName','TE0','TE1','TE2','TE3','TE4']]\n",
    "# df_TE.to_csv('AdjustedRPKMOutput/TE_chrE.txt',sep='\\t')"
   ]
  },
  {
   "cell_type": "markdown",
   "metadata": {},
   "source": [
    "### Read Data"
   ]
  },
  {
   "cell_type": "code",
   "execution_count": 4,
   "metadata": {},
   "outputs": [],
   "source": [
    "path = 'Replicate2/TE_chrE_filtered.txt'\n",
    "df = pd.read_csv(path,sep='\\t')"
   ]
  },
  {
   "cell_type": "code",
   "execution_count": 5,
   "metadata": {},
   "outputs": [
    {
     "data": {
      "text/html": [
       "<div>\n",
       "<style scoped>\n",
       "    .dataframe tbody tr th:only-of-type {\n",
       "        vertical-align: middle;\n",
       "    }\n",
       "\n",
       "    .dataframe tbody tr th {\n",
       "        vertical-align: top;\n",
       "    }\n",
       "\n",
       "    .dataframe thead th {\n",
       "        text-align: right;\n",
       "    }\n",
       "</style>\n",
       "<table border=\"1\" class=\"dataframe\">\n",
       "  <thead>\n",
       "    <tr style=\"text-align: right;\">\n",
       "      <th></th>\n",
       "      <th>AccNum</th>\n",
       "      <th>GeneName</th>\n",
       "      <th>TE0</th>\n",
       "      <th>TE1</th>\n",
       "      <th>TE2</th>\n",
       "      <th>TE3</th>\n",
       "      <th>TE4</th>\n",
       "      <th>foldTE1</th>\n",
       "      <th>foldTE2</th>\n",
       "      <th>foldTE3</th>\n",
       "      <th>foldTE4</th>\n",
       "    </tr>\n",
       "  </thead>\n",
       "  <tbody>\n",
       "    <tr>\n",
       "      <th>0</th>\n",
       "      <td>NM_001003803</td>\n",
       "      <td>ATP5S</td>\n",
       "      <td>1.771663</td>\n",
       "      <td>1.623404</td>\n",
       "      <td>1.465394</td>\n",
       "      <td>0.647103</td>\n",
       "      <td>1.930694</td>\n",
       "      <td>-0.148259</td>\n",
       "      <td>-0.306269</td>\n",
       "      <td>-1.124560</td>\n",
       "      <td>0.159031</td>\n",
       "    </tr>\n",
       "    <tr>\n",
       "      <th>1</th>\n",
       "      <td>NM_001003800</td>\n",
       "      <td>BICD2</td>\n",
       "      <td>-0.606712</td>\n",
       "      <td>-0.590100</td>\n",
       "      <td>-0.680005</td>\n",
       "      <td>-0.491531</td>\n",
       "      <td>0.363802</td>\n",
       "      <td>0.016612</td>\n",
       "      <td>-0.073293</td>\n",
       "      <td>0.115181</td>\n",
       "      <td>0.970514</td>\n",
       "    </tr>\n",
       "    <tr>\n",
       "      <th>2</th>\n",
       "      <td>NM_016640</td>\n",
       "      <td>MRPS30</td>\n",
       "      <td>0.655493</td>\n",
       "      <td>0.615126</td>\n",
       "      <td>0.244848</td>\n",
       "      <td>0.162678</td>\n",
       "      <td>0.974128</td>\n",
       "      <td>-0.040367</td>\n",
       "      <td>-0.410645</td>\n",
       "      <td>-0.492815</td>\n",
       "      <td>0.318635</td>\n",
       "    </tr>\n",
       "    <tr>\n",
       "      <th>3</th>\n",
       "      <td>NM_001304467</td>\n",
       "      <td>EEF1AKMT2</td>\n",
       "      <td>0.139172</td>\n",
       "      <td>0.507027</td>\n",
       "      <td>0.150521</td>\n",
       "      <td>-0.456894</td>\n",
       "      <td>1.292490</td>\n",
       "      <td>0.367854</td>\n",
       "      <td>0.011348</td>\n",
       "      <td>-0.596067</td>\n",
       "      <td>1.153317</td>\n",
       "    </tr>\n",
       "    <tr>\n",
       "      <th>4</th>\n",
       "      <td>NM_001080825</td>\n",
       "      <td>TMEM120B</td>\n",
       "      <td>0.902133</td>\n",
       "      <td>1.213467</td>\n",
       "      <td>0.150521</td>\n",
       "      <td>0.884143</td>\n",
       "      <td>2.177961</td>\n",
       "      <td>0.311334</td>\n",
       "      <td>-0.751612</td>\n",
       "      <td>-0.017991</td>\n",
       "      <td>1.275828</td>\n",
       "    </tr>\n",
       "  </tbody>\n",
       "</table>\n",
       "</div>"
      ],
      "text/plain": [
       "         AccNum   GeneName       TE0       TE1       TE2       TE3       TE4  \\\n",
       "0  NM_001003803      ATP5S  1.771663  1.623404  1.465394  0.647103  1.930694   \n",
       "1  NM_001003800      BICD2 -0.606712 -0.590100 -0.680005 -0.491531  0.363802   \n",
       "2     NM_016640     MRPS30  0.655493  0.615126  0.244848  0.162678  0.974128   \n",
       "3  NM_001304467  EEF1AKMT2  0.139172  0.507027  0.150521 -0.456894  1.292490   \n",
       "4  NM_001080825   TMEM120B  0.902133  1.213467  0.150521  0.884143  2.177961   \n",
       "\n",
       "    foldTE1   foldTE2   foldTE3   foldTE4  \n",
       "0 -0.148259 -0.306269 -1.124560  0.159031  \n",
       "1  0.016612 -0.073293  0.115181  0.970514  \n",
       "2 -0.040367 -0.410645 -0.492815  0.318635  \n",
       "3  0.367854  0.011348 -0.596067  1.153317  \n",
       "4  0.311334 -0.751612 -0.017991  1.275828  "
      ]
     },
     "execution_count": 5,
     "metadata": {},
     "output_type": "execute_result"
    }
   ],
   "source": [
    "df.head(5)"
   ]
  },
  {
   "cell_type": "code",
   "execution_count": 6,
   "metadata": {},
   "outputs": [
    {
     "data": {
      "text/plain": [
       "Index(['AccNum', 'GeneName', 'TE0', 'TE1', 'TE2', 'TE3', 'TE4', 'foldTE1',\n",
       "       'foldTE2', 'foldTE3', 'foldTE4'],\n",
       "      dtype='object')"
      ]
     },
     "execution_count": 6,
     "metadata": {},
     "output_type": "execute_result"
    }
   ],
   "source": [
    "df.keys()"
   ]
  },
  {
   "cell_type": "code",
   "execution_count": 21,
   "metadata": {},
   "outputs": [],
   "source": [
    "df[['TE0', 'TE1', 'TE2', 'TE3', 'TE4']] = df[['TE0', 'TE1', 'TE2', 'TE3', 'TE4']].apply(lambda x:2**x)"
   ]
  },
  {
   "cell_type": "code",
   "execution_count": 22,
   "metadata": {},
   "outputs": [
    {
     "data": {
      "text/html": [
       "<div>\n",
       "<style scoped>\n",
       "    .dataframe tbody tr th:only-of-type {\n",
       "        vertical-align: middle;\n",
       "    }\n",
       "\n",
       "    .dataframe tbody tr th {\n",
       "        vertical-align: top;\n",
       "    }\n",
       "\n",
       "    .dataframe thead th {\n",
       "        text-align: right;\n",
       "    }\n",
       "</style>\n",
       "<table border=\"1\" class=\"dataframe\">\n",
       "  <thead>\n",
       "    <tr style=\"text-align: right;\">\n",
       "      <th></th>\n",
       "      <th>AccNum</th>\n",
       "      <th>GeneName</th>\n",
       "      <th>TE0</th>\n",
       "      <th>TE1</th>\n",
       "      <th>TE2</th>\n",
       "      <th>TE3</th>\n",
       "      <th>TE4</th>\n",
       "      <th>foldTE1</th>\n",
       "      <th>foldTE2</th>\n",
       "      <th>foldTE3</th>\n",
       "      <th>foldTE4</th>\n",
       "    </tr>\n",
       "  </thead>\n",
       "  <tbody>\n",
       "    <tr>\n",
       "      <th>0</th>\n",
       "      <td>NM_001003803</td>\n",
       "      <td>ATP5S</td>\n",
       "      <td>3.414474</td>\n",
       "      <td>3.081011</td>\n",
       "      <td>2.761389</td>\n",
       "      <td>1.566021</td>\n",
       "      <td>3.812386</td>\n",
       "      <td>-0.148259</td>\n",
       "      <td>-0.306269</td>\n",
       "      <td>-1.124560</td>\n",
       "      <td>0.159031</td>\n",
       "    </tr>\n",
       "    <tr>\n",
       "      <th>1</th>\n",
       "      <td>NM_001003800</td>\n",
       "      <td>BICD2</td>\n",
       "      <td>0.656691</td>\n",
       "      <td>0.664297</td>\n",
       "      <td>0.624163</td>\n",
       "      <td>0.711270</td>\n",
       "      <td>1.286812</td>\n",
       "      <td>0.016612</td>\n",
       "      <td>-0.073293</td>\n",
       "      <td>0.115181</td>\n",
       "      <td>0.970514</td>\n",
       "    </tr>\n",
       "    <tr>\n",
       "      <th>2</th>\n",
       "      <td>NM_016640</td>\n",
       "      <td>MRPS30</td>\n",
       "      <td>1.575154</td>\n",
       "      <td>1.531692</td>\n",
       "      <td>1.184968</td>\n",
       "      <td>1.119363</td>\n",
       "      <td>1.964454</td>\n",
       "      <td>-0.040367</td>\n",
       "      <td>-0.410645</td>\n",
       "      <td>-0.492815</td>\n",
       "      <td>0.318635</td>\n",
       "    </tr>\n",
       "    <tr>\n",
       "      <th>3</th>\n",
       "      <td>NM_001304467</td>\n",
       "      <td>EEF1AKMT2</td>\n",
       "      <td>1.101273</td>\n",
       "      <td>1.421118</td>\n",
       "      <td>1.109970</td>\n",
       "      <td>0.728553</td>\n",
       "      <td>2.449504</td>\n",
       "      <td>0.367854</td>\n",
       "      <td>0.011348</td>\n",
       "      <td>-0.596067</td>\n",
       "      <td>1.153317</td>\n",
       "    </tr>\n",
       "    <tr>\n",
       "      <th>4</th>\n",
       "      <td>NM_001080825</td>\n",
       "      <td>TMEM120B</td>\n",
       "      <td>1.868827</td>\n",
       "      <td>2.318943</td>\n",
       "      <td>1.109970</td>\n",
       "      <td>1.845667</td>\n",
       "      <td>4.525136</td>\n",
       "      <td>0.311334</td>\n",
       "      <td>-0.751612</td>\n",
       "      <td>-0.017991</td>\n",
       "      <td>1.275828</td>\n",
       "    </tr>\n",
       "  </tbody>\n",
       "</table>\n",
       "</div>"
      ],
      "text/plain": [
       "         AccNum   GeneName       TE0       TE1       TE2       TE3       TE4  \\\n",
       "0  NM_001003803      ATP5S  3.414474  3.081011  2.761389  1.566021  3.812386   \n",
       "1  NM_001003800      BICD2  0.656691  0.664297  0.624163  0.711270  1.286812   \n",
       "2     NM_016640     MRPS30  1.575154  1.531692  1.184968  1.119363  1.964454   \n",
       "3  NM_001304467  EEF1AKMT2  1.101273  1.421118  1.109970  0.728553  2.449504   \n",
       "4  NM_001080825   TMEM120B  1.868827  2.318943  1.109970  1.845667  4.525136   \n",
       "\n",
       "    foldTE1   foldTE2   foldTE3   foldTE4  \n",
       "0 -0.148259 -0.306269 -1.124560  0.159031  \n",
       "1  0.016612 -0.073293  0.115181  0.970514  \n",
       "2 -0.040367 -0.410645 -0.492815  0.318635  \n",
       "3  0.367854  0.011348 -0.596067  1.153317  \n",
       "4  0.311334 -0.751612 -0.017991  1.275828  "
      ]
     },
     "execution_count": 22,
     "metadata": {},
     "output_type": "execute_result"
    }
   ],
   "source": [
    "df.head()"
   ]
  },
  {
   "cell_type": "code",
   "execution_count": 23,
   "metadata": {},
   "outputs": [],
   "source": [
    "X = df[['TE0', 'TE1', 'TE2', 'TE3', 'TE4', 'foldTE1',\n",
    "       'foldTE2', 'foldTE3', 'foldTE4']].values.round()"
   ]
  },
  {
   "cell_type": "code",
   "execution_count": 24,
   "metadata": {},
   "outputs": [
    {
     "data": {
      "text/plain": [
       "array([[ 3.,  3.,  3.,  2.,  4., -0., -0., -1.,  0.],\n",
       "       [ 1.,  1.,  1.,  1.,  1.,  0., -0.,  0.,  1.],\n",
       "       [ 2.,  2.,  1.,  1.,  2., -0., -0., -0.,  0.],\n",
       "       [ 1.,  1.,  1.,  1.,  2.,  0.,  0., -1.,  1.],\n",
       "       [ 2.,  2.,  1.,  2.,  5.,  0., -1., -0.,  1.]])"
      ]
     },
     "execution_count": 24,
     "metadata": {},
     "output_type": "execute_result"
    }
   ],
   "source": [
    "X[:5]"
   ]
  },
  {
   "cell_type": "code",
   "execution_count": 25,
   "metadata": {},
   "outputs": [
    {
     "name": "stdout",
     "output_type": "stream",
     "text": [
      "(6175, 9)\n"
     ]
    }
   ],
   "source": [
    "print(X.shape)"
   ]
  },
  {
   "cell_type": "code",
   "execution_count": 26,
   "metadata": {},
   "outputs": [],
   "source": [
    "LENGTH, DIMENSION = X.shape"
   ]
  },
  {
   "cell_type": "code",
   "execution_count": 27,
   "metadata": {},
   "outputs": [
    {
     "name": "stdout",
     "output_type": "stream",
     "text": [
      "-3.0\n"
     ]
    }
   ],
   "source": [
    "print(np.min(X))"
   ]
  },
  {
   "cell_type": "code",
   "execution_count": 28,
   "metadata": {},
   "outputs": [
    {
     "name": "stdout",
     "output_type": "stream",
     "text": [
      "34.0\n"
     ]
    }
   ],
   "source": [
    "print(np.max(X))"
   ]
  },
  {
   "cell_type": "markdown",
   "metadata": {},
   "source": [
    "#### Digitize the data"
   ]
  },
  {
   "cell_type": "code",
   "execution_count": 29,
   "metadata": {},
   "outputs": [
    {
     "name": "stdout",
     "output_type": "stream",
     "text": [
      "[-3.   -2.63 -2.26 -1.89 -1.52 -1.15 -0.78 -0.41 -0.04  0.33  0.7   1.07\n",
      "  1.44  1.81  2.18  2.55  2.92  3.29  3.66  4.03  4.4   4.77  5.14  5.51\n",
      "  5.88  6.25  6.62  6.99  7.36  7.73  8.1   8.47  8.84  9.21  9.58  9.95\n",
      " 10.32 10.69 11.06 11.43 11.8  12.17 12.54 12.91 13.28 13.65 14.02 14.39\n",
      " 14.76 15.13 15.5  15.87 16.24 16.61 16.98 17.35 17.72 18.09 18.46 18.83\n",
      " 19.2  19.57 19.94 20.31 20.68 21.05 21.42 21.79 22.16 22.53 22.9  23.27\n",
      " 23.64 24.01 24.38 24.75 25.12 25.49 25.86 26.23 26.6  26.97 27.34 27.71\n",
      " 28.08 28.45 28.82 29.19 29.56 29.93 30.3  30.67 31.04 31.41 31.78 32.15\n",
      " 32.52 32.89 33.26 33.63 34.  ]\n"
     ]
    }
   ],
   "source": [
    "bin_size = 100 #state number of bins here, multiple of 5\n",
    "step = (np.max(X)-np.min(X))/bin_size\n",
    "bins = np.arange(np.min(X),np.max(X)+0.1,step)\n",
    "print(bins)\n",
    "X = np.digitize(X,bins)"
   ]
  },
  {
   "cell_type": "code",
   "execution_count": 30,
   "metadata": {},
   "outputs": [
    {
     "name": "stdout",
     "output_type": "stream",
     "text": [
      "[[17 17 17 14 19  9  9  6  9]\n",
      " [11 11 11 11 11  9  9  9 11]\n",
      " [14 14 11 11 14  9  9  9  9]\n",
      " [11 11 11 11 14  9  9  6 11]\n",
      " [14 14 11 14 22  9  6  9 11]]\n"
     ]
    }
   ],
   "source": [
    "print(X[:5])"
   ]
  },
  {
   "cell_type": "markdown",
   "metadata": {},
   "source": [
    "### Sample network"
   ]
  },
  {
   "cell_type": "code",
   "execution_count": 31,
   "metadata": {},
   "outputs": [],
   "source": [
    "model = BayesianNetwork.from_samples(X,algorithm='chow-liu')"
   ]
  },
  {
   "cell_type": "code",
   "execution_count": 32,
   "metadata": {},
   "outputs": [
    {
     "data": {
      "text/plain": [
       "((), (0,), (1,), (4,), (1,), (6,), (7,), (8,), (0,))"
      ]
     },
     "execution_count": 32,
     "metadata": {},
     "output_type": "execute_result"
    }
   ],
   "source": [
    "model.structure"
   ]
  },
  {
   "cell_type": "markdown",
   "metadata": {},
   "source": [
    "### Perform EM"
   ]
  },
  {
   "cell_type": "code",
   "execution_count": 35,
   "metadata": {},
   "outputs": [
    {
     "name": "stdout",
     "output_type": "stream",
     "text": [
      "**************** K = 4 ************************\n",
      "Length of model 1 : 1535\n",
      "Length of model 2 : 1571\n",
      "Length of model 3 : 1513\n",
      "Length of model 4 : 1556\n",
      "Initial Model Structures [0.248582995951417, 0.25441295546558707, 0.24502024291497976, 0.2519838056680162]\n",
      "((), (0,), (1,), (4,), (1,), (6,), (7,), (8,), (0,))\n",
      "((), (0,), (1,), (2,), (1,), (6,), (7,), (0,), (7,))\n",
      "((), (0,), (1,), (4,), (1,), (6,), (7,), (0,), (7,))\n",
      "((), (0,), (1,), (2,), (1,), (6,), (7,), (8,), (0,))\n",
      "Initial Alphas [0.248582995951417, 0.25441295546558707, 0.24502024291497976, 0.2519838056680162]\n",
      "Initial CML -55280.68807014222\n",
      "CML is -48910.149876741576\n",
      "CML is -47667.80246199622\n",
      "CML is -47161.470397968165\n",
      "CML is -46897.95363010376\n",
      "CML is -46784.857705239614\n",
      "CML is -46675.91701221362\n",
      "CML is -46633.83843372024\n",
      "CML is -46594.04826896972\n",
      "CML is -46569.75373514529\n",
      "CML is -46555.60338888462\n",
      "CML is -46544.11493502906\n",
      "CML is -46524.80300338027\n",
      "CML is -46518.744634163515\n",
      "((), (0,), (1,), (4,), (1,), (6,), (8,), (8,), (0,))\n",
      "((), (0,), (1,), (2,), (1,), (7,), (7,), (0,), (7,))\n",
      "((), (0,), (1,), (4,), (1,), (6,), (7,), (0,), (7,))\n",
      "((), (0,), (1,), (2,), (1,), (6,), (7,), (8,), (0,))\n",
      "1055 1055 1055\n",
      "1818 1818 1818\n",
      "1768 1768 1768\n",
      "1534 1534 1534\n",
      "**************** K = 5 ************************\n",
      "Length of model 1 : 1215\n",
      "Length of model 2 : 1235\n",
      "Length of model 3 : 1230\n",
      "Length of model 4 : 1268\n",
      "Length of model 5 : 1227\n",
      "Initial Model Structures [0.19676113360323888, 0.2, 0.19919028340080971, 0.20534412955465586, 0.19870445344129556]\n",
      "((), (0,), (1,), (4,), (0,), (6,), (7,), (0,), (7,))\n",
      "((), (0,), (1,), (4,), (1,), (6,), (7,), (8,), (0,))\n",
      "((), (0,), (1,), (4,), (1,), (6,), (7,), (8,), (0,))\n",
      "((), (0,), (1,), (2,), (1,), (6,), (7,), (0,), (7,))\n",
      "((), (0,), (1,), (4,), (1,), (6,), (7,), (8,), (0,))\n",
      "Initial Alphas [0.19676113360323888, 0.2, 0.19919028340080971, 0.20534412955465586, 0.19870445344129556]\n",
      "Initial CML -56468.32410555039\n",
      "CML is -48982.1050245027\n",
      "CML is -47445.38459131516\n",
      "CML is -46860.29136967787\n",
      "CML is -46413.503938654234\n",
      "CML is -46230.957568973696\n",
      "CML is -46135.319896069115\n",
      "CML is -46051.23231041687\n",
      "CML is -46007.03042095681\n",
      "CML is -45980.461914730666\n",
      "CML is -45967.00934897884\n",
      "CML is -45960.13898991404\n",
      "CML is -45953.23424719768\n",
      "((), (0,), (0,), (4,), (0,), (0,), (7,), (0,), (7,))\n",
      "((), (0,), (4,), (4,), (1,), (6,), (8,), (6,), (0,))\n",
      "((), (0,), (1,), (4,), (1,), (6,), (7,), (8,), (0,))\n",
      "((), (0,), (1,), (2,), (1,), (6,), (7,), (0,), (7,))\n",
      "((), (0,), (1,), (4,), (1,), (6,), (8,), (8,), (0,))\n",
      "1137 1137 1137\n",
      "427 427 427\n",
      "922 922 922\n",
      "1940 1940 1940\n",
      "1749 1749 1749\n",
      "**************** K = 6 ************************\n",
      "Length of model 1 : 1048\n",
      "Length of model 2 : 1037\n",
      "Length of model 3 : 994\n",
      "Length of model 4 : 1060\n",
      "Length of model 5 : 1006\n",
      "Length of model 6 : 1030\n",
      "Initial Model Structures [0.1697165991902834, 0.1679352226720648, 0.16097165991902834, 0.17165991902834007, 0.16291497975708502, 0.16680161943319838]\n",
      "((), (0,), (1,), (4,), (1,), (6,), (7,), (0,), (7,))\n",
      "((), (0,), (1,), (4,), (1,), (6,), (7,), (8,), (0,))\n",
      "((), (0,), (1,), (4,), (1,), (6,), (7,), (8,), (0,))\n",
      "((), (0,), (1,), (4,), (1,), (6,), (7,), (8,), (0,))\n",
      "((), (0,), (1,), (4,), (1,), (6,), (7,), (8,), (0,))\n",
      "((), (0,), (1,), (4,), (1,), (6,), (7,), (0,), (7,))\n",
      "Initial Alphas [0.1697165991902834, 0.1679352226720648, 0.16097165991902834, 0.17165991902834007, 0.16291497975708502, 0.16680161943319838]\n",
      "Initial CML -57492.19920192642\n",
      "CML is -48594.22664051691\n",
      "CML is -46559.71276066514\n",
      "CML is -45894.316148426056\n",
      "CML is -45591.007646429214\n",
      "CML is -45504.26204664337\n",
      "CML is -45444.21254753005\n",
      "CML is -45401.19899045018\n",
      "CML is -45372.665191729604\n",
      "CML is -45365.190596680775\n",
      "CML is -45363.69493815661\n",
      "CML is -45361.08066050436\n",
      "CML is -45358.94811170061\n",
      "CML is -45356.541001975886\n",
      "((), (0,), (1,), (4,), (1,), (6,), (7,), (0,), (7,))\n",
      "((), (0,), (1,), (4,), (1,), (6,), (7,), (0,), (0,))\n",
      "((), (0,), (1,), (4,), (1,), (6,), (7,), (0,), (0,))\n",
      "((), (0,), (1,), (4,), (1,), (6,), (7,), (8,), (0,))\n",
      "((), (0,), (4,), (4,), (1,), (6,), (7,), (8,), (0,))\n",
      "((), (0,), (1,), (4,), (0,), (6,), (7,), (0,), (7,))\n",
      "2124 2124 2124\n",
      "1091 1091 1091\n",
      "697 697 697\n",
      "692 692 692\n",
      "655 655 655\n",
      "916 916 916\n"
     ]
    }
   ],
   "source": [
    "path = '/Users/akankshitadash/Desktop/Bayesian Networks/TE+log2foldTE/'\n",
    "for k in range(4,7):\n",
    "    em(k,X,path)"
   ]
  },
  {
   "cell_type": "code",
   "execution_count": null,
   "metadata": {},
   "outputs": [],
   "source": []
  }
 ],
 "metadata": {
  "kernelspec": {
   "display_name": "Python 3",
   "language": "python",
   "name": "python3"
  },
  "language_info": {
   "codemirror_mode": {
    "name": "ipython",
    "version": 3
   },
   "file_extension": ".py",
   "mimetype": "text/x-python",
   "name": "python",
   "nbconvert_exporter": "python",
   "pygments_lexer": "ipython3",
   "version": "3.6.4"
  }
 },
 "nbformat": 4,
 "nbformat_minor": 2
}
