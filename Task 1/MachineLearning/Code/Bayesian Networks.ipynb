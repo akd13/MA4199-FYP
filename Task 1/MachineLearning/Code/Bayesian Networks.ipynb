{
 "cells": [
  {
   "cell_type": "code",
   "execution_count": 31,
   "metadata": {},
   "outputs": [],
   "source": [
    "import numpy as np\n",
    "import pandas as pd\n",
    "from pomegranate import *\n",
    "import random\n",
    "import os\n",
    "import itertools\n",
    "from functools import reduce"
   ]
  },
  {
   "cell_type": "markdown",
   "metadata": {},
   "source": [
    "### Methods"
   ]
  },
  {
   "cell_type": "code",
   "execution_count": 16,
   "metadata": {},
   "outputs": [],
   "source": [
    "def init(K,X):\n",
    "    \"\"\"This method initializes the models for EM\n",
    "    \n",
    "    K: Number of clusters\n",
    "    X: Data\n",
    "    \n",
    "    Return: x_k, models,alpha_k, indices_array, CML\n",
    "    \"\"\"\n",
    "    LENGTH, DIMENSION = X.shape\n",
    "    models = []\n",
    "    x_k = [[] for i in range(K)] #initialize K empty data arrays\n",
    "    alpha_k = []\n",
    "    indices_array = [[] for i in range(K)]\n",
    "    print(\"**************** K =\", K ,\"************************\")\n",
    "\n",
    "\n",
    "    # Sequences for initial CL Multinet Estimation\n",
    "    # Make K subsets of data\n",
    "    for i in range(LENGTH):\n",
    "        random_integer = random.randint(0,K-1)\n",
    "        x_k[random_integer].append(X[i])\n",
    "        indices_array[random_integer].append(i)\n",
    "\n",
    "    for i in range(K):\n",
    "        print(\"Length of model\",i+1,\":\",len(x_k[i]))\n",
    "        alpha_k.append(len(x_k[i])/LENGTH)\n",
    "        model = BayesianNetwork.from_samples(x_k[i],algorithm='chow-liu') \n",
    "        models.append(model)\n",
    "\n",
    "    print(\"Initial Model Structures\",alpha_k)\n",
    "    for model in models:\n",
    "        print(model.structure)\n",
    "\n",
    "    print(\"Initial Alphas\",alpha_k)\n",
    "\n",
    "    CML = 0\n",
    "\n",
    "    for i in range(K):\n",
    "        x = x_k[i]\n",
    "        model = models[i]\n",
    "        CML+=sum(np.log(model.probability(x)))+len(x)*np.log(alpha_k[i])\n",
    "    print(\"Initial CML\",CML)\n",
    "    \n",
    "    return x_k,models,alpha_k,indices_array,CML\n",
    "           \n",
    "def e_step(K,X,x_k,models,alpha_k,indices_array):\n",
    "    \"\"\"This method performs the E step in EM for the mth iteration\n",
    "    \n",
    "    K: Number of clusters\n",
    "    X: Data\n",
    "    x_k: Previously classified data in the (m-1)th step\n",
    "    models: models from the (m-1)th step\n",
    "    alpha_k: alphas from the previous step\n",
    "    indices_array: current indices of the original data (for each cluster)\n",
    "    \n",
    "    Return: x_k,models, alpha_k,indices_array\n",
    "    \"\"\"\n",
    "    x_k_temp = [[] for i in range(K)] #initialize K empty data arrays for C step (assign)\n",
    "    indices_array = [[] for i in range(K)]\n",
    "\n",
    "    #E Step: Calculate each point's posterior probability for K clusters (trees)\n",
    "    for idx_first,x in enumerate(X):\n",
    "        model_prob = []\n",
    "        for idx,model in enumerate(models): # K trees\n",
    "            try:\n",
    "                model_prob.append(model.probability(x))\n",
    "            except KeyError: #if a point doesn't exist in a tree, then the probability is zero\n",
    "                model_prob.append(0)\n",
    "        total = [a*b for a,b in zip(model_prob,alpha_k)]\n",
    "        max_prob_idx = total.index(max(total)) #return index of the max posterior probability\n",
    "        x_k_temp[max_prob_idx].append(x)\n",
    "        indices_array[max_prob_idx].append(idx_first)\n",
    "\n",
    "    #C step: Assign data-points to the trees that maximize their posterior probability\n",
    "    x_k = x_k_temp\n",
    "    alpha_k = [len(x_k[i])/LENGTH for i in range(K)]\n",
    "    models = []\n",
    "    for j in range(K):\n",
    "        model = BayesianNetwork.from_samples(x_k[j],algorithm='chow-liu') \n",
    "        models.append(model)\n",
    "        \n",
    "    return x_k,models, alpha_k,indices_array\n",
    "\n",
    "def m_step(K,x_k, models, alpha_k,CML):\n",
    "    \"\"\"This method performs the M step in EM for the mth iteration\n",
    "    \n",
    "    K: Number of clusters\n",
    "    x_k: Previously classified data in the (m-1)th step\n",
    "    models: models from the (m-1)th step\n",
    "    alpha_k: alphas from the previous step\n",
    "    CML: Classification Maximum Likelihood    \n",
    "    \n",
    "    Return: x_k,models, alpha_k,indices_array\n",
    "    \"\"\"\n",
    "    #M step: Calculate the CML criterion and re-estimate parameters\n",
    "    init_CML = CML\n",
    "    CML=0\n",
    "    for j in range(K):\n",
    "        x = x_k[j]\n",
    "        model = models[j]\n",
    "        CML+=sum(np.log(model.probability(x)))+len(x)*np.log(alpha_k[j])\n",
    "    return CML, models\n",
    "\n",
    "# def s_step(K,X):\n",
    "\n",
    "#     LENGTH, DIMENSION = X.shape\n",
    "    \n",
    "#     #S Step\n",
    "#     x_k = [[] for i in range(K)] #initialize K empty data arrays\n",
    "#     #S step: Assign data-points randomly\n",
    "#     for j in range(LENGTH):\n",
    "#         x_k[random.randint(0,K-1)].append(X[j])\n",
    "#     alpha_k = [len(x_k[k])/LENGTH for k in range(K)]\n",
    "#     models = []\n",
    "#     for j in range(K):\n",
    "#         model = BayesianNetwork.from_samples(x_k[j],algorithm='chow-liu') \n",
    "#         models.append(model)\n",
    "\n",
    "#     #M step: Calculate the CML criterion and re-estimate parameters\n",
    "#     init_CML = CML\n",
    "#     CML=0\n",
    "#     for j in range(K):\n",
    "#         x = x_k[j]\n",
    "#         model = models[j]\n",
    "#         CML+=sum(np.log(model.probability(x)))+len(x)*np.log(alpha_k[j])\n",
    "#     print(\"New CML is:\", CML)   \n",
    "\n",
    "\n",
    "def save(indices_array, path):\n",
    "    \"\"\"This method saves the clustered data\n",
    "    \n",
    "    indices_array: array of the indices (of the original data) for each cluster\n",
    "    path: path to save to, sample: '/Users/akankshitadash/Desktop/Bayesian Networks1/RPF_chrE/'\n",
    "    Directory should already exist, and contain subdirectories of Genes/ and AccNum/\n",
    "    \n",
    "    Return: x_k,models, alpha_k,indices_array\n",
    "    \"\"\"\n",
    "    for idx,indices in enumerate(indices_array):\n",
    "        genes=[]\n",
    "        acc_nums=[]\n",
    "        for index in indices:\n",
    "            genes.append(df.iloc[index]['GeneName'])\n",
    "            acc_nums.append(df.iloc[index]['AccNum'])\n",
    "        print(len(indices),len(genes),len(acc_nums))\n",
    "    #             os.mkdir('/Users/akankshitadash/Desktop/Bayesian Networks/'+str(len(indices_array)))\n",
    "    #             os.mkdir('/Users/akankshitadash/Desktop/Bayesian Networks/'+str(len(indices_array))+'/Genes/')\n",
    "    #             os.mkdir('/Users/akankshitadash/Desktop/Bayesian Networks/'+str(len(indices_array))+'/AccNums/')\n",
    "        with open(path+str(len(indices_array))+'/Genes/Gene'+str(idx+1)+'.txt','w') as f:\n",
    "            for gene in genes:\n",
    "                f.write(\"%s\\n\" % gene)\n",
    "        with open(path+str(len(indices_array))+'/AccNums/AccNum'+str(idx+1)+'.txt','w') as f:\n",
    "            for acc_num in acc_nums:\n",
    "                f.write(\"%s\\n\" % acc_num)\n",
    "    \n",
    "def em(K,X,path):    \n",
    "    \"\"\"This method performs EM\n",
    "    \n",
    "    K: Number of clusters\n",
    "    X: Discrete data\n",
    "    path: path to save to\n",
    "    Return: None\n",
    "    \"\"\"\n",
    "    \n",
    "    x_k,models,alpha_k,indices_array,CML = init(K,X) #initialize K models\n",
    "    prev_CML = CML\n",
    "    \n",
    "    for i in range(100): #start with 100 iterations of EM\n",
    "        x_k, models, alpha_k,indices_array = e_step(K,X,x_k,models,alpha_k,indices_array)\n",
    "        CML, models = m_step(K,x_k, models, alpha_k,CML)\n",
    "        if(prev_CML==CML):\n",
    "            break\n",
    "        else:\n",
    "            prev_CML = CML\n",
    "            print(\"CML is\",CML)\n",
    "    save(indices_array,path)"
   ]
  },
  {
   "cell_type": "code",
   "execution_count": 64,
   "metadata": {},
   "outputs": [],
   "source": [
    "# df_rnaseq = pd.read_csv('AdjustedRPKMOutput/RNASeq_chrE.txt',sep='\\t')\n",
    "# df_rpf = pd.read_csv('AdjustedRPKMOutput/RPF_chrE.txt',sep='\\t')\n",
    "# df_rnaseq = df_rnaseq[(df_rnaseq['cdReads0'] >= 10) & (df_rnaseq['cdReads1'] >= 10) & (df_rnaseq['cdReads2'] >= 10)& (df_rnaseq['cdReads3'] >= 10)& (df_rnaseq['cdReads4'] >= 10)]\n",
    "# df_rpf = df_rpf[(df_rpf['cdReads0'] >= 10) & (df_rpf['cdReads1'] >= 10) & (df_rpf['cdReads2'] >= 10)& (df_rpf['cdReads3'] >= 10)& (df_rpf['cdReads4'] >= 10)]\n",
    "# df_TE = reduce(lambda left,right: pd.merge(left,right,on=['AccNum','GeneName']), [df_rpf,df_rnaseq])\n",
    "# df_TE[['cdRPKM0_x']] = df_TE[['cdRPKM0_x']].div(df_TE['cdRPKM0_y'].values,axis=0)\n",
    "# df_TE[['cdRPKM1_x']] = df_TE[['cdRPKM1_x']].div(df_TE['cdRPKM1_y'].values,axis=0)\n",
    "# df_TE[['cdRPKM2_x']] = df_TE[['cdRPKM2_x']].div(df_TE['cdRPKM2_y'].values,axis=0)\n",
    "# df_TE[['cdRPKM3_x']] = df_TE[['cdRPKM3_x']].div(df_TE['cdRPKM3_y'].values,axis=0)\n",
    "# df_TE[['cdRPKM4_x']] = df_TE[['cdRPKM4_x']].div(df_TE['cdRPKM4_y'].values,axis=0)\n",
    "# for i in range(0,5):\n",
    "#     df_TE.rename(columns={'cdRPKM'+str(i)+'_x':'TE'+str(i)}, inplace=True)\n",
    "# df_TE = df_TE[['AccNum','GeneName','TE0','TE1','TE2','TE3','TE4']]\n",
    "# df_TE.to_csv('AdjustedRPKMOutput/TE_chrE.txt',sep='\\t')"
   ]
  },
  {
   "cell_type": "markdown",
   "metadata": {},
   "source": [
    "### Read Data"
   ]
  },
  {
   "cell_type": "code",
   "execution_count": 82,
   "metadata": {},
   "outputs": [],
   "source": [
    "path = 'AdjustedRPKMOutput/TE_chrE.txt'\n",
    "df = pd.read_csv(path,sep='\\t')"
   ]
  },
  {
   "cell_type": "code",
   "execution_count": 83,
   "metadata": {},
   "outputs": [
    {
     "data": {
      "text/html": [
       "<div>\n",
       "<style scoped>\n",
       "    .dataframe tbody tr th:only-of-type {\n",
       "        vertical-align: middle;\n",
       "    }\n",
       "\n",
       "    .dataframe tbody tr th {\n",
       "        vertical-align: top;\n",
       "    }\n",
       "\n",
       "    .dataframe thead th {\n",
       "        text-align: right;\n",
       "    }\n",
       "</style>\n",
       "<table border=\"1\" class=\"dataframe\">\n",
       "  <thead>\n",
       "    <tr style=\"text-align: right;\">\n",
       "      <th></th>\n",
       "      <th>Unnamed: 0</th>\n",
       "      <th>AccNum</th>\n",
       "      <th>GeneName</th>\n",
       "      <th>TE0</th>\n",
       "      <th>TE1</th>\n",
       "      <th>TE2</th>\n",
       "      <th>TE3</th>\n",
       "      <th>TE4</th>\n",
       "    </tr>\n",
       "  </thead>\n",
       "  <tbody>\n",
       "    <tr>\n",
       "      <th>0</th>\n",
       "      <td>0</td>\n",
       "      <td>NM_017847</td>\n",
       "      <td>ODR4</td>\n",
       "      <td>2.493218</td>\n",
       "      <td>2.368538</td>\n",
       "      <td>2.669690</td>\n",
       "      <td>3.288575</td>\n",
       "      <td>3.380689</td>\n",
       "    </tr>\n",
       "    <tr>\n",
       "      <th>1</th>\n",
       "      <td>1</td>\n",
       "      <td>NM_001003803</td>\n",
       "      <td>ATP5S</td>\n",
       "      <td>3.743987</td>\n",
       "      <td>3.780551</td>\n",
       "      <td>5.281752</td>\n",
       "      <td>6.455525</td>\n",
       "      <td>5.224701</td>\n",
       "    </tr>\n",
       "    <tr>\n",
       "      <th>2</th>\n",
       "      <td>2</td>\n",
       "      <td>NM_001003800</td>\n",
       "      <td>BICD2</td>\n",
       "      <td>0.863188</td>\n",
       "      <td>0.797715</td>\n",
       "      <td>0.760806</td>\n",
       "      <td>0.970635</td>\n",
       "      <td>1.151537</td>\n",
       "    </tr>\n",
       "    <tr>\n",
       "      <th>3</th>\n",
       "      <td>3</td>\n",
       "      <td>NM_016647</td>\n",
       "      <td>THEM6</td>\n",
       "      <td>1.040812</td>\n",
       "      <td>1.158241</td>\n",
       "      <td>1.289442</td>\n",
       "      <td>1.640869</td>\n",
       "      <td>1.473634</td>\n",
       "    </tr>\n",
       "    <tr>\n",
       "      <th>4</th>\n",
       "      <td>4</td>\n",
       "      <td>NM_016640</td>\n",
       "      <td>MRPS30</td>\n",
       "      <td>1.477112</td>\n",
       "      <td>1.470127</td>\n",
       "      <td>1.204734</td>\n",
       "      <td>1.300689</td>\n",
       "      <td>1.779367</td>\n",
       "    </tr>\n",
       "  </tbody>\n",
       "</table>\n",
       "</div>"
      ],
      "text/plain": [
       "   Unnamed: 0        AccNum GeneName       TE0       TE1       TE2       TE3  \\\n",
       "0           0     NM_017847     ODR4  2.493218  2.368538  2.669690  3.288575   \n",
       "1           1  NM_001003803    ATP5S  3.743987  3.780551  5.281752  6.455525   \n",
       "2           2  NM_001003800    BICD2  0.863188  0.797715  0.760806  0.970635   \n",
       "3           3     NM_016647    THEM6  1.040812  1.158241  1.289442  1.640869   \n",
       "4           4     NM_016640   MRPS30  1.477112  1.470127  1.204734  1.300689   \n",
       "\n",
       "        TE4  \n",
       "0  3.380689  \n",
       "1  5.224701  \n",
       "2  1.151537  \n",
       "3  1.473634  \n",
       "4  1.779367  "
      ]
     },
     "execution_count": 83,
     "metadata": {},
     "output_type": "execute_result"
    }
   ],
   "source": [
    "df.head(5)"
   ]
  },
  {
   "cell_type": "code",
   "execution_count": 84,
   "metadata": {},
   "outputs": [
    {
     "data": {
      "text/plain": [
       "Index(['Unnamed: 0', 'AccNum', 'GeneName', 'TE0', 'TE1', 'TE2', 'TE3', 'TE4'], dtype='object')"
      ]
     },
     "execution_count": 84,
     "metadata": {},
     "output_type": "execute_result"
    }
   ],
   "source": [
    "df.keys()"
   ]
  },
  {
   "cell_type": "code",
   "execution_count": 85,
   "metadata": {},
   "outputs": [],
   "source": [
    "X = df[['TE0', 'TE1', 'TE2', 'TE3', 'TE4']].values.round()"
   ]
  },
  {
   "cell_type": "code",
   "execution_count": 86,
   "metadata": {},
   "outputs": [
    {
     "name": "stdout",
     "output_type": "stream",
     "text": [
      "(8989, 5)\n"
     ]
    }
   ],
   "source": [
    "print(X.shape)"
   ]
  },
  {
   "cell_type": "code",
   "execution_count": 87,
   "metadata": {},
   "outputs": [],
   "source": [
    "LENGTH, DIMENSION = X.shape"
   ]
  },
  {
   "cell_type": "code",
   "execution_count": 88,
   "metadata": {},
   "outputs": [
    {
     "name": "stdout",
     "output_type": "stream",
     "text": [
      "0.0\n"
     ]
    }
   ],
   "source": [
    "print(np.min(X))"
   ]
  },
  {
   "cell_type": "code",
   "execution_count": 89,
   "metadata": {},
   "outputs": [
    {
     "name": "stdout",
     "output_type": "stream",
     "text": [
      "130.0\n"
     ]
    }
   ],
   "source": [
    "print(np.max(X))"
   ]
  },
  {
   "cell_type": "markdown",
   "metadata": {},
   "source": [
    "#### Digitize the data"
   ]
  },
  {
   "cell_type": "code",
   "execution_count": 90,
   "metadata": {},
   "outputs": [
    {
     "name": "stdout",
     "output_type": "stream",
     "text": [
      "[  0.    1.3   2.6   3.9   5.2   6.5   7.8   9.1  10.4  11.7  13.   14.3\n",
      "  15.6  16.9  18.2  19.5  20.8  22.1  23.4  24.7  26.   27.3  28.6  29.9\n",
      "  31.2  32.5  33.8  35.1  36.4  37.7  39.   40.3  41.6  42.9  44.2  45.5\n",
      "  46.8  48.1  49.4  50.7  52.   53.3  54.6  55.9  57.2  58.5  59.8  61.1\n",
      "  62.4  63.7  65.   66.3  67.6  68.9  70.2  71.5  72.8  74.1  75.4  76.7\n",
      "  78.   79.3  80.6  81.9  83.2  84.5  85.8  87.1  88.4  89.7  91.   92.3\n",
      "  93.6  94.9  96.2  97.5  98.8 100.1 101.4 102.7 104.  105.3 106.6 107.9\n",
      " 109.2 110.5 111.8 113.1 114.4 115.7 117.  118.3 119.6 120.9 122.2 123.5\n",
      " 124.8 126.1 127.4 128.7 130. ]\n"
     ]
    }
   ],
   "source": [
    "bin_size = 100 #state number of bins here, multiple of 5\n",
    "step = (np.max(X)-np.min(X))/bin_size\n",
    "bins = np.arange(np.min(X),np.max(X)+0.1,step)\n",
    "print(bins)\n",
    "X = np.digitize(X,bins)"
   ]
  },
  {
   "cell_type": "code",
   "execution_count": 91,
   "metadata": {},
   "outputs": [
    {
     "name": "stdout",
     "output_type": "stream",
     "text": [
      "[[2 2 3 3 3]\n",
      " [4 4 4 5 4]\n",
      " [1 1 1 1 1]\n",
      " [1 1 1 2 1]\n",
      " [1 1 1 1 2]]\n"
     ]
    }
   ],
   "source": [
    "print(X[:5])"
   ]
  },
  {
   "cell_type": "markdown",
   "metadata": {},
   "source": [
    "### Sample network"
   ]
  },
  {
   "cell_type": "code",
   "execution_count": 92,
   "metadata": {},
   "outputs": [],
   "source": [
    "model = BayesianNetwork.from_samples(X,algorithm='chow-liu')"
   ]
  },
  {
   "cell_type": "code",
   "execution_count": 93,
   "metadata": {},
   "outputs": [
    {
     "data": {
      "text/plain": [
       "((), (0,), (1,), (2,), (3,))"
      ]
     },
     "execution_count": 93,
     "metadata": {},
     "output_type": "execute_result"
    }
   ],
   "source": [
    "model.structure"
   ]
  },
  {
   "cell_type": "markdown",
   "metadata": {},
   "source": [
    "### Perform EM"
   ]
  },
  {
   "cell_type": "code",
   "execution_count": 94,
   "metadata": {},
   "outputs": [
    {
     "name": "stdout",
     "output_type": "stream",
     "text": [
      "**************** K = 4 ************************\n",
      "Length of model 1 : 2263\n",
      "Length of model 2 : 2184\n",
      "Length of model 3 : 2242\n",
      "Length of model 4 : 2300\n",
      "Initial Model Structures [0.25175214150628544, 0.24296362220491713, 0.24941595283123819, 0.25586828345755924]\n",
      "((), (0,), (3,), (4,), (0,))\n",
      "((), (0,), (1,), (2,), (3,))\n",
      "((), (0,), (1,), (2,), (3,))\n",
      "((), (0,), (3,), (4,), (0,))\n",
      "Initial Alphas [0.25175214150628544, 0.24296362220491713, 0.24941595283123819, 0.25586828345755924]\n",
      "Initial CML -51789.74909720743\n",
      "CML is -40753.85083045007\n",
      "CML is -40139.77588574818\n",
      "CML is -39912.50266608162\n",
      "CML is -39841.51866478809\n",
      "CML is -39837.07330030018\n",
      "CML is -39830.29867896126\n",
      "CML is -39822.69611387217\n",
      "CML is -39821.46375103855\n",
      "CML is -39799.085130095584\n",
      "CML is -39782.56032112075\n",
      "CML is -39777.99799448479\n",
      "3657 3657 3657\n",
      "1202 1202 1202\n",
      "2680 2680 2680\n",
      "1450 1450 1450\n",
      "**************** K = 5 ************************\n",
      "Length of model 1 : 1869\n",
      "Length of model 2 : 1797\n",
      "Length of model 3 : 1790\n",
      "Length of model 4 : 1782\n",
      "Length of model 5 : 1751\n",
      "Initial Model Structures [0.2079207920792079, 0.19991100233618866, 0.19913227277783957, 0.19824229613972633, 0.1947936366670375]\n",
      "((), (0,), (1,), (2,), (3,))\n",
      "((), (0,), (3,), (4,), (0,))\n",
      "((), (0,), (1,), (2,), (3,))\n",
      "((), (0,), (3,), (4,), (0,))\n",
      "((), (0,), (1,), (2,), (3,))\n",
      "Initial Alphas [0.2079207920792079, 0.19991100233618866, 0.19913227277783957, 0.19824229613972633, 0.1947936366670375]\n",
      "Initial CML -53734.522951986524\n",
      "CML is -41375.898169490654\n",
      "CML is -40009.2838763473\n",
      "CML is -39831.55270148259\n",
      "CML is -39697.551935353695\n",
      "CML is -39663.846120724695\n",
      "CML is -39659.22093606466\n",
      "CML is -39658.194531818255\n",
      "CML is -39657.27590394214\n",
      "CML is -39626.73841726533\n",
      "CML is -39624.73609729807\n",
      "CML is -39622.47273740107\n",
      "CML is -39617.71655603567\n",
      "2381 2381 2381\n",
      "3769 3769 3769\n",
      "736 736 736\n",
      "1084 1084 1084\n",
      "1019 1019 1019\n",
      "**************** K = 6 ************************\n",
      "Length of model 1 : 1508\n",
      "Length of model 2 : 1443\n",
      "Length of model 3 : 1517\n",
      "Length of model 4 : 1524\n",
      "Length of model 5 : 1487\n",
      "Length of model 6 : 1510\n",
      "Initial Model Structures [0.16776059628434753, 0.16052953609967738, 0.16876182000222495, 0.16954054956057404, 0.16542440760930024, 0.16798309044387585]\n",
      "((), (0,), (3,), (4,), (0,))\n",
      "((), (0,), (1,), (2,), (3,))\n",
      "((), (0,), (1,), (2,), (3,))\n",
      "((), (0,), (3,), (4,), (1,))\n",
      "((), (0,), (1,), (2,), (3,))\n",
      "((), (0,), (1,), (2,), (3,))\n",
      "Initial Alphas [0.16776059628434753, 0.16052953609967738, 0.16876182000222495, 0.16954054956057404, 0.16542440760930024, 0.16798309044387585]\n",
      "Initial CML -55266.07174017419\n",
      "CML is -41248.34481449877\n",
      "CML is -40328.39162449974\n",
      "CML is -40144.51907185315\n",
      "CML is -40085.69368844208\n",
      "CML is -40058.93548882951\n",
      "CML is -39996.582642445115\n",
      "CML is -39972.76849570965\n",
      "2049 2049 2049\n",
      "652 652 652\n",
      "647 647 647\n",
      "3354 3354 3354\n",
      "248 248 248\n",
      "2039 2039 2039\n"
     ]
    }
   ],
   "source": [
    "path = '/Users/akankshitadash/Desktop/Bayesian Networks/TE_chrE/'\n",
    "for k in range(4,7):\n",
    "    em(k,X,path)"
   ]
  },
  {
   "cell_type": "code",
   "execution_count": null,
   "metadata": {},
   "outputs": [],
   "source": []
  }
 ],
 "metadata": {
  "kernelspec": {
   "display_name": "Python 3",
   "language": "python",
   "name": "python3"
  },
  "language_info": {
   "codemirror_mode": {
    "name": "ipython",
    "version": 3
   },
   "file_extension": ".py",
   "mimetype": "text/x-python",
   "name": "python",
   "nbconvert_exporter": "python",
   "pygments_lexer": "ipython3",
   "version": "3.6.4"
  }
 },
 "nbformat": 4,
 "nbformat_minor": 2
}
