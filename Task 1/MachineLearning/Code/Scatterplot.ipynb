{
 "cells": [
  {
   "cell_type": "code",
   "execution_count": 32,
   "metadata": {},
   "outputs": [],
   "source": [
    "import pandas as pd\n",
    "import sys\n",
    "import numpy as np\n",
    "import matplotlib.pyplot as plt"
   ]
  },
  {
   "cell_type": "code",
   "execution_count": 33,
   "metadata": {},
   "outputs": [],
   "source": [
    "RNASeq = sys.argv[0]\n",
    "RPF = sys.argv[1]\n",
    "x_lim = 5#sys.argv[2]\n",
    "y_lim = 5#sys.argv[3]\n",
    "gene = sys.argv[4]\n",
    "\n",
    "df_RNASeq = pd.read_csv(\"RPKMoutput/geneTXCD_RPKMoutput_ATCACG-s_6_1_genome.txt\", sep=\"\t\",na_values=['-'])\n",
    "df_RPF = pd.read_csv(\"RPKMoutput/geneTXCD_RPKMoutput_ATCACG-s_7_1_genome.txt\", sep=\"\t\",na_values=['-'])\n"
   ]
  },
  {
   "cell_type": "code",
   "execution_count": 22,
   "metadata": {},
   "outputs": [
    {
     "data": {
      "text/html": [
       "<div>\n",
       "<style scoped>\n",
       "    .dataframe tbody tr th:only-of-type {\n",
       "        vertical-align: middle;\n",
       "    }\n",
       "\n",
       "    .dataframe tbody tr th {\n",
       "        vertical-align: top;\n",
       "    }\n",
       "\n",
       "    .dataframe thead th {\n",
       "        text-align: right;\n",
       "    }\n",
       "</style>\n",
       "<table border=\"1\" class=\"dataframe\">\n",
       "  <thead>\n",
       "    <tr style=\"text-align: right;\">\n",
       "      <th></th>\n",
       "      <th>AccNum</th>\n",
       "      <th>txReads</th>\n",
       "      <th>txRPKM</th>\n",
       "      <th>cdReads</th>\n",
       "      <th>cdRPKM</th>\n",
       "    </tr>\n",
       "  </thead>\n",
       "  <tbody>\n",
       "    <tr>\n",
       "      <th>1</th>\n",
       "      <td>NM_017847</td>\n",
       "      <td>84.0</td>\n",
       "      <td>3.909711</td>\n",
       "      <td>50.0</td>\n",
       "      <td>6.642349</td>\n",
       "    </tr>\n",
       "    <tr>\n",
       "      <th>2</th>\n",
       "      <td>NM_001143986</td>\n",
       "      <td>4.0</td>\n",
       "      <td>0.361227</td>\n",
       "      <td>4.0</td>\n",
       "      <td>0.421957</td>\n",
       "    </tr>\n",
       "    <tr>\n",
       "      <th>5</th>\n",
       "      <td>NM_001003803</td>\n",
       "      <td>38.0</td>\n",
       "      <td>3.734836</td>\n",
       "      <td>29.0</td>\n",
       "      <td>8.115351</td>\n",
       "    </tr>\n",
       "    <tr>\n",
       "      <th>6</th>\n",
       "      <td>NM_001003800</td>\n",
       "      <td>1152.0</td>\n",
       "      <td>32.559105</td>\n",
       "      <td>778.0</td>\n",
       "      <td>54.937502</td>\n",
       "    </tr>\n",
       "    <tr>\n",
       "      <th>7</th>\n",
       "      <td>NM_016649</td>\n",
       "      <td>18.0</td>\n",
       "      <td>1.014941</td>\n",
       "      <td>17.0</td>\n",
       "      <td>1.206070</td>\n",
       "    </tr>\n",
       "  </tbody>\n",
       "</table>\n",
       "</div>"
      ],
      "text/plain": [
       "         AccNum  txReads     txRPKM  cdReads     cdRPKM\n",
       "1     NM_017847     84.0   3.909711     50.0   6.642349\n",
       "2  NM_001143986      4.0   0.361227      4.0   0.421957\n",
       "5  NM_001003803     38.0   3.734836     29.0   8.115351\n",
       "6  NM_001003800   1152.0  32.559105    778.0  54.937502\n",
       "7     NM_016649     18.0   1.014941     17.0   1.206070"
      ]
     },
     "execution_count": 22,
     "metadata": {},
     "output_type": "execute_result"
    }
   ],
   "source": [
    "df_RNASeq = df_RNASeq.dropna(how='any')\n",
    "df_RNASeq.head(5)"
   ]
  },
  {
   "cell_type": "code",
   "execution_count": 21,
   "metadata": {},
   "outputs": [
    {
     "data": {
      "text/html": [
       "<div>\n",
       "<style scoped>\n",
       "    .dataframe tbody tr th:only-of-type {\n",
       "        vertical-align: middle;\n",
       "    }\n",
       "\n",
       "    .dataframe tbody tr th {\n",
       "        vertical-align: top;\n",
       "    }\n",
       "\n",
       "    .dataframe thead th {\n",
       "        text-align: right;\n",
       "    }\n",
       "</style>\n",
       "<table border=\"1\" class=\"dataframe\">\n",
       "  <thead>\n",
       "    <tr style=\"text-align: right;\">\n",
       "      <th></th>\n",
       "      <th>AccNum</th>\n",
       "      <th>txReads</th>\n",
       "      <th>txRPKM</th>\n",
       "      <th>cdReads</th>\n",
       "      <th>cdRPKM</th>\n",
       "    </tr>\n",
       "  </thead>\n",
       "  <tbody>\n",
       "    <tr>\n",
       "      <th>1</th>\n",
       "      <td>NM_017847</td>\n",
       "      <td>120.0</td>\n",
       "      <td>7.453538</td>\n",
       "      <td>93.0</td>\n",
       "      <td>16.487335</td>\n",
       "    </tr>\n",
       "    <tr>\n",
       "      <th>2</th>\n",
       "      <td>NM_001143986</td>\n",
       "      <td>4.0</td>\n",
       "      <td>0.482055</td>\n",
       "      <td>4.0</td>\n",
       "      <td>0.563098</td>\n",
       "    </tr>\n",
       "    <tr>\n",
       "      <th>5</th>\n",
       "      <td>NM_001003803</td>\n",
       "      <td>95.0</td>\n",
       "      <td>12.460269</td>\n",
       "      <td>81.0</td>\n",
       "      <td>30.248942</td>\n",
       "    </tr>\n",
       "    <tr>\n",
       "      <th>6</th>\n",
       "      <td>NM_001003800</td>\n",
       "      <td>549.0</td>\n",
       "      <td>20.706570</td>\n",
       "      <td>501.0</td>\n",
       "      <td>47.210965</td>\n",
       "    </tr>\n",
       "    <tr>\n",
       "      <th>7</th>\n",
       "      <td>NM_016649</td>\n",
       "      <td>74.0</td>\n",
       "      <td>5.568213</td>\n",
       "      <td>69.0</td>\n",
       "      <td>6.532635</td>\n",
       "    </tr>\n",
       "  </tbody>\n",
       "</table>\n",
       "</div>"
      ],
      "text/plain": [
       "         AccNum  txReads     txRPKM  cdReads     cdRPKM\n",
       "1     NM_017847    120.0   7.453538     93.0  16.487335\n",
       "2  NM_001143986      4.0   0.482055      4.0   0.563098\n",
       "5  NM_001003803     95.0  12.460269     81.0  30.248942\n",
       "6  NM_001003800    549.0  20.706570    501.0  47.210965\n",
       "7     NM_016649     74.0   5.568213     69.0   6.532635"
      ]
     },
     "execution_count": 21,
     "metadata": {},
     "output_type": "execute_result"
    }
   ],
   "source": [
    "df_RPF = df_RPF.dropna(how='any')\n",
    "df_RPF.head(5)"
   ]
  },
  {
   "cell_type": "code",
   "execution_count": 37,
   "metadata": {},
   "outputs": [
    {
     "data": {
      "image/png": "[encoded data removed]",
      "text/plain": [
       "<matplotlib.figure.Figure at 0x10d35ea90>"
      ]
     },
     "metadata": {},
     "output_type": "display_data"
    }
   ],
   "source": [
    "plt.xlim(-x_lim,  x_lim)\n",
    "plt.ylim(-y_lim, y_lim)\n",
    "plt.grid(which ='major')\n",
    "plt.scatter(np.log2(df_RNASeq['cdRPKM']), np.log2(df_RPF['cdRPKM']))\n",
    "plt.savefig('Clusters/'+'ewrw.png')\n",
    "plt.show()"
   ]
  },
  {
   "cell_type": "code",
   "execution_count": null,
   "metadata": {},
   "outputs": [],
   "source": []
  }
 ],
 "metadata": {
  "kernelspec": {
   "display_name": "Python 3",
   "language": "python",
   "name": "python3"
  },
  "language_info": {
   "codemirror_mode": {
    "name": "ipython",
    "version": 3
   },
   "file_extension": ".py",
   "mimetype": "text/x-python",
   "name": "python",
   "nbconvert_exporter": "python",
   "pygments_lexer": "ipython3",
   "version": "3.6.4"
  }
 },
 "nbformat": 4,
 "nbformat_minor": 2
}
