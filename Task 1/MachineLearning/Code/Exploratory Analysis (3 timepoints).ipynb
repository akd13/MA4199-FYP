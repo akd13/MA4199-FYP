{
 "cells": [
  {
   "cell_type": "markdown",
   "metadata": {},
   "source": [
    "# Exploratory Analysis"
   ]
  },
  {
   "cell_type": "code",
   "execution_count": 1,
   "metadata": {},
   "outputs": [],
   "source": [
    "#Import libraries\n",
    "\n",
    "import pandas as pd\n",
    "from constants import *\n",
    "import numpy as np\n",
    "import matplotlib.pyplot as plt\n",
    "import matplotlib.mlab as mlab\n",
    "from pandas import Series\n",
    "from sklearn.preprocessing import MinMaxScaler"
   ]
  },
  {
   "cell_type": "code",
   "execution_count": 2,
   "metadata": {},
   "outputs": [],
   "source": [
    "#Functions to read data\n",
    "\n",
    "#Read values for each parameter\n",
    "def read_values(index, list):\n",
    "    list_values = []\n",
    "    for l in list:\n",
    "        list_values.append(df_main.iloc[index][l])\n",
    "    return list_values\n",
    "\n",
    "#Plot histogram for given list\n",
    "def plot_histogram(list, bins, xlabel, ylabel, title,i):\n",
    "    plt.hist(list, bins=bins, facecolor='red')\n",
    "    plt.xlabel(xlabel)\n",
    "    plt.ylabel(ylabel)\n",
    "    plt.title(title)\n",
    "    plt.savefig('/Users/akankshitadash/Desktop/'+str(i)+'TE')\n",
    "    plt.show()\n",
    "    \n",
    "#Check if sequence is increasing  \n",
    "def monotonic_increase(x):\n",
    "    dx = np.diff(x)\n",
    "    return np.all(dx >= 0)\n",
    "\n",
    "#Check if sequence is decreasing  \n",
    "def monotonic_decrease(x):\n",
    "    dx = np.diff(x)\n",
    "    return np.all(dx <= 0)\n",
    "\n",
    "#Check if sequence is increasing then decreasing  \n",
    "def increase_decrease(x):\n",
    "    return x[1]>=x[0] and x[2]<=x[1]\n",
    "\n",
    "#Check if sequence is decreasing then increasing  \n",
    "def decrease_increase(x):\n",
    "    return x[1]<=x[0] and x[2]>=x[1]"
   ]
  },
  {
   "cell_type": "code",
   "execution_count": 3,
   "metadata": {},
   "outputs": [
    {
     "name": "stdout",
     "output_type": "stream",
     "text": [
      "Cleaned dataset size is 12429\n"
     ]
    }
   ],
   "source": [
    "#Read data\n",
    "# df_new = pd.read_csv('AdjustedRPKMOutput/merged.txt', sep=\",\")\n",
    "df_main = pd.read_csv('Original/RNASeq_chrE.txt', sep=\"\\t\")\n",
    "print(\"Cleaned dataset size is\",len(df_main))"
   ]
  },
  {
   "cell_type": "code",
   "execution_count": 4,
   "metadata": {},
   "outputs": [
    {
     "data": {
      "text/plain": [
       "Index(['AccNum', 'GeneName', 'cdReads0', 'cdRPKM0', 'cdReads1', 'cdRPKM1',\n",
       "       'cdReads2', 'cdRPKM2', 'cdReads3', 'cdRPKM3', 'cdReads4', 'cdRPKM4'],\n",
       "      dtype='object')"
      ]
     },
     "execution_count": 4,
     "metadata": {},
     "output_type": "execute_result"
    }
   ],
   "source": [
    "df_main.keys()"
   ]
  },
  {
   "cell_type": "code",
   "execution_count": 5,
   "metadata": {},
   "outputs": [
    {
     "ename": "NameError",
     "evalue": "name 'df_new' is not defined",
     "output_type": "error",
     "traceback": [
      "\u001b[0;31m---------------------------------------------------------------------------\u001b[0m",
      "\u001b[0;31mNameError\u001b[0m                                 Traceback (most recent call last)",
      "\u001b[0;32m<ipython-input-5-d6ba3ae6bcbc>\u001b[0m in \u001b[0;36m<module>\u001b[0;34m()\u001b[0m\n\u001b[0;32m----> 1\u001b[0;31m \u001b[0mdf_new\u001b[0m \u001b[0;34m=\u001b[0m \u001b[0mdf_new\u001b[0m\u001b[0;34m[\u001b[0m\u001b[0;34m[\u001b[0m\u001b[0;34m'AccNum'\u001b[0m\u001b[0;34m,\u001b[0m\u001b[0;34m'GeneName'\u001b[0m\u001b[0;34m,\u001b[0m\u001b[0;34m'cdReads0'\u001b[0m\u001b[0;34m,\u001b[0m\u001b[0;34m'cdRPKM0'\u001b[0m\u001b[0;34m,\u001b[0m\u001b[0;34m'cdReads1'\u001b[0m\u001b[0;34m,\u001b[0m\u001b[0;34m'cdRPKM1'\u001b[0m\u001b[0;34m,\u001b[0m\u001b[0;34m'cdReads2'\u001b[0m\u001b[0;34m,\u001b[0m\u001b[0;34m'cdRPKM2'\u001b[0m\u001b[0;34m]\u001b[0m\u001b[0;34m]\u001b[0m\u001b[0;34m\u001b[0m\u001b[0m\n\u001b[0m\u001b[1;32m      2\u001b[0m \u001b[0mdf_main\u001b[0m\u001b[0;34m.\u001b[0m\u001b[0mhead\u001b[0m\u001b[0;34m(\u001b[0m\u001b[0;36m5\u001b[0m\u001b[0;34m)\u001b[0m\u001b[0;34m\u001b[0m\u001b[0m\n",
      "\u001b[0;31mNameError\u001b[0m: name 'df_new' is not defined"
     ]
    }
   ],
   "source": [
    "df_new = df_new[['AccNum','GeneName','cdReads0','cdRPKM0','cdReads1','cdRPKM1','cdReads2','cdRPKM2']]\n",
    "df_main.head(5)"
   ]
  },
  {
   "cell_type": "code",
   "execution_count": 32,
   "metadata": {},
   "outputs": [
    {
     "name": "stdout",
     "output_type": "stream",
     "text": [
      "AccNum       object\n",
      "GeneName     object\n",
      "cdReads0    float64\n",
      "cdRPKM0     float64\n",
      "cdReads1    float64\n",
      "cdRPKM1     float64\n",
      "cdReads2    float64\n",
      "cdRPKM2     float64\n",
      "cdReads3    float64\n",
      "cdRPKM3     float64\n",
      "cdReads4    float64\n",
      "cdRPKM4     float64\n",
      "dtype: object\n",
      "           cdReads0       cdRPKM0      cdReads1       cdRPKM1      cdReads2  \\\n",
      "count  11745.000000  11745.000000  11745.000000  11745.000000  11745.000000   \n",
      "mean     274.073052     67.850662    229.540230     69.696305    151.581779   \n",
      "std      831.559661    274.569200    705.636945    314.290179    477.369326   \n",
      "min        1.000000      0.015731      1.000000      0.024048      1.000000   \n",
      "25%       35.000000      5.520751     28.000000      5.403156     20.000000   \n",
      "50%      101.000000     15.973090     84.000000     15.812829     57.000000   \n",
      "75%      252.000000     47.621552    211.000000     46.884439    139.000000   \n",
      "max    44772.000000  10886.323745  34786.000000  11148.481000  18807.000000   \n",
      "\n",
      "            cdRPKM2      cdReads3       cdRPKM3      cdReads4       cdRPKM4  \n",
      "count  11745.000000  11745.000000  11745.000000  11745.000000  11745.000000  \n",
      "mean      60.891841    110.861388     37.254393     94.995062     32.205997  \n",
      "std      324.462034    348.411921    197.582225    271.942825    144.452436  \n",
      "min        0.025694      1.000000      0.018334      1.000000      0.019399  \n",
      "25%        5.473854     15.000000      3.603724     13.000000      3.398645  \n",
      "50%       14.810954     43.000000      9.835088     38.000000      9.311357  \n",
      "75%       40.850993    104.000000     26.280122     91.000000     23.796367  \n",
      "max    12650.414914  13254.000000   8139.855307  10716.000000   5332.549014  \n"
     ]
    }
   ],
   "source": [
    "#Descriptive statistics\n",
    "\n",
    "print(df_main.dtypes)\n",
    "print(df_main.describe())"
   ]
  },
  {
   "cell_type": "code",
   "execution_count": 8,
   "metadata": {},
   "outputs": [
    {
     "name": "stdout",
     "output_type": "stream",
     "text": [
      "          cdReads0   cdRPKM0  cdReads1   cdRPKM1  cdReads2   cdRPKM2  \\\n",
      "cdReads0  1.000000  0.648158  0.994607  0.617597  0.964542  0.583598   \n",
      "cdRPKM0   0.648158  1.000000  0.674016  0.991690  0.722262  0.976923   \n",
      "cdReads1  0.994607  0.674016  1.000000  0.652978  0.977698  0.622201   \n",
      "cdRPKM1   0.617597  0.991690  0.652978  1.000000  0.705415  0.992268   \n",
      "cdReads2  0.964542  0.722262  0.977698  0.705415  1.000000  0.689118   \n",
      "cdRPKM2   0.583598  0.976923  0.622201  0.992268  0.689118  1.000000   \n",
      "cdReads3  0.959693  0.704939  0.974260  0.692165  0.994983  0.677947   \n",
      "cdRPKM3   0.574368  0.961246  0.615491  0.983419  0.683319  0.995677   \n",
      "cdReads4  0.982658  0.624131  0.987977  0.603030  0.976227  0.580113   \n",
      "cdRPKM4   0.633641  0.975250  0.667996  0.984797  0.728534  0.989399   \n",
      "\n",
      "          cdReads3   cdRPKM3  cdReads4   cdRPKM4  \n",
      "cdReads0  0.959693  0.574368  0.982658  0.633641  \n",
      "cdRPKM0   0.704939  0.961246  0.624131  0.975250  \n",
      "cdReads1  0.974260  0.615491  0.987977  0.667996  \n",
      "cdRPKM1   0.692165  0.983419  0.603030  0.984797  \n",
      "cdReads2  0.994983  0.683319  0.976227  0.728534  \n",
      "cdRPKM2   0.677947  0.995677  0.580113  0.989399  \n",
      "cdReads3  1.000000  0.678665  0.978415  0.717800  \n",
      "cdRPKM3   0.678665  1.000000  0.576386  0.984738  \n",
      "cdReads4  0.978415  0.576386  1.000000  0.637583  \n",
      "cdRPKM4   0.717800  0.984738  0.637583  1.000000  \n"
     ]
    }
   ],
   "source": [
    "#Correlation Matrix\n",
    "print(df_main.corr(method='pearson'))"
   ]
  },
  {
   "cell_type": "code",
   "execution_count": 9,
   "metadata": {},
   "outputs": [
    {
     "name": "stdout",
     "output_type": "stream",
     "text": [
      "cdReads0    21.958793\n",
      "cdRPKM0     14.307276\n",
      "cdReads1    20.244865\n",
      "cdRPKM1     15.832273\n",
      "cdReads2    16.369747\n",
      "cdRPKM2     17.669132\n",
      "cdReads3    16.299754\n",
      "cdRPKM3     18.386165\n",
      "cdReads4    20.218045\n",
      "cdRPKM4     15.299523\n",
      "dtype: float64\n"
     ]
    }
   ],
   "source": [
    "#Skew\n",
    "print(df_main.skew())"
   ]
  },
  {
   "cell_type": "code",
   "execution_count": 10,
   "metadata": {},
   "outputs": [
    {
     "data": {
      "image/png": "[encoded data removed]",
      "text/plain": [
       "<matplotlib.figure.Figure at 0x112d782b0>"
      ]
     },
     "metadata": {},
     "output_type": "display_data"
    },
    {
     "data": {
      "image/png": "[encoded data removed]",
      "text/plain": [
       "<matplotlib.figure.Figure at 0x112dc9320>"
      ]
     },
     "metadata": {},
     "output_type": "display_data"
    },
    {
     "data": {
      "image/png": "[encoded data removed]",
      "text/plain": [
       "<matplotlib.figure.Figure at 0x112e5e0f0>"
      ]
     },
     "metadata": {},
     "output_type": "display_data"
    }
   ],
   "source": [
    "df_main['cdRPKM0'].hist()\n",
    "plt.show()\n",
    "\n",
    "df_main['cdRPKM1'].hist()\n",
    "plt.show()\n",
    "\n",
    "df_main['cdRPKM2'].hist()\n",
    "plt.show()"
   ]
  },
  {
   "cell_type": "code",
   "execution_count": 34,
   "metadata": {},
   "outputs": [
    {
     "data": {
      "image/png": "[encoded data removed]",
      "text/plain": [
       "<matplotlib.figure.Figure at 0x11584a9e8>"
      ]
     },
     "metadata": {},
     "output_type": "display_data"
    },
    {
     "data": {
      "image/png": "[encoded data removed]",
      "text/plain": [
       "<matplotlib.figure.Figure at 0x1155b6fd0>"
      ]
     },
     "metadata": {},
     "output_type": "display_data"
    },
    {
     "data": {
      "image/png": "[encoded data removed]",
      "text/plain": [
       "<matplotlib.figure.Figure at 0x1155b5c88>"
      ]
     },
     "metadata": {},
     "output_type": "display_data"
    },
    {
     "data": {
      "image/png": "[encoded data removed]",
      "text/plain": [
       "<matplotlib.figure.Figure at 0x111fc74a8>"
      ]
     },
     "metadata": {},
     "output_type": "display_data"
    },
    {
     "data": {
      "image/png": "[encoded data removed]",
      "text/plain": [
       "<matplotlib.figure.Figure at 0x112fda5f8>"
      ]
     },
     "metadata": {},
     "output_type": "display_data"
    }
   ],
   "source": [
    "#Histogram of each timepoint with custom bins\n",
    "TIMEPOINTS = [0,1,2,3,4]\n",
    "bins = range(0,150,10)\n",
    "xlabel = 'Gene Expression'\n",
    "ylabel = 'Number of points'\n",
    "title = ''\n",
    "for i in TIMEPOINTS:\n",
    "    plot_histogram(df_main['cdRPKM'+str(i)],bins,xlabel,ylabel,title+str(2*i)+\" h.p.i\",i)"
   ]
  },
  {
   "cell_type": "code",
   "execution_count": 61,
   "metadata": {},
   "outputs": [
    {
     "name": "stdout",
     "output_type": "stream",
     "text": [
      "3.6071596434201925 12.070054320385328 -6.368929088764835\n"
     ]
    },
    {
     "data": {
      "image/png": "[encoded data removed]",
      "text/plain": [
       "<matplotlib.figure.Figure at 0x1156776d8>"
      ]
     },
     "metadata": {},
     "output_type": "display_data"
    },
    {
     "name": "stdout",
     "output_type": "stream",
     "text": [
      "3.555757565278004 12.32459746390244 -6.951792371929031\n"
     ]
    },
    {
     "data": {
      "image/png": "[encoded data removed]",
      "text/plain": [
       "<matplotlib.figure.Figure at 0x112dbf048>"
      ]
     },
     "metadata": {},
     "output_type": "display_data"
    },
    {
     "name": "stdout",
     "output_type": "stream",
     "text": [
      "3.322813292451868 12.515102506706086 -5.904236305192919\n"
     ]
    },
    {
     "data": {
      "image/png": "[encoded data removed]",
      "text/plain": [
       "<matplotlib.figure.Figure at 0x112f4a4a8>"
      ]
     },
     "metadata": {},
     "output_type": "display_data"
    },
    {
     "name": "stdout",
     "output_type": "stream",
     "text": [
      "2.5454187962325765 11.748668545802062 -6.866132931489769\n"
     ]
    },
    {
     "data": {
      "image/png": "[encoded data removed]",
      "text/plain": [
       "<matplotlib.figure.Figure at 0x115691588>"
      ]
     },
     "metadata": {},
     "output_type": "display_data"
    },
    {
     "name": "stdout",
     "output_type": "stream",
     "text": [
      "2.169176311171448 10.701466154886031 -7.384693191969981\n"
     ]
    },
    {
     "data": {
      "image/png": "[encoded data removed]",
      "text/plain": [
       "<matplotlib.figure.Figure at 0x112ee8f60>"
      ]
     },
     "metadata": {},
     "output_type": "display_data"
    }
   ],
   "source": [
    "#Histogram of each timepoint with log probabilties with custom bins\n",
    "\n",
    "bins = np.arange(0,10,1)\n",
    "xlabel = 'log2 Gene Expression'\n",
    "ylabel = 'Number of points'\n",
    "for i in TIMEPOINTS:\n",
    "    print(np.median(np.log2(df_main['cdRPKM'+str(i)])),np.max(np.log2(df_main['cdRPKM'+str(i)])),np.min(np.log2(df_main['cdRPKM'+str(i)])))\n",
    "    plot_histogram(np.log2(df_main['cdRPKM'+str(i)]),bins,xlabel,ylabel,str(2*i)+' hpi',i)"
   ]
  },
  {
   "cell_type": "code",
   "execution_count": null,
   "metadata": {},
   "outputs": [],
   "source": [
    "# Plot each parameter from graph\n",
    "for i, var_plot in enumerate(PLOT):\n",
    "    var_plot_list = PLOT_LIST[i]\n",
    "    fig = plt.subplot(111)\n",
    "    for j in range(len(df_main)): \n",
    "        expression_values = read_values(j, var_plot_list)\n",
    "        fig.plot(var_plot_list, expression_values)\n",
    "    plt.title(var_plot)\n",
    "    plt.show()"
   ]
  },
  {
   "cell_type": "code",
   "execution_count": null,
   "metadata": {},
   "outputs": [],
   "source": [
    "# Do log plot\n",
    "for i, var_plot in enumerate(PLOT):\n",
    "    var_plot_list = PLOT_LIST[i]\n",
    "    fig = plt.subplot(111)\n",
    "    for j in range(len(df_main)): \n",
    "        expression_values = read_values(j, var_plot_list)\n",
    "        fig.plot(var_plot_list, np.log2(expression_values))\n",
    "    plt.title(var_plot)\n",
    "    plt.show()"
   ]
  },
  {
   "cell_type": "code",
   "execution_count": null,
   "metadata": {},
   "outputs": [],
   "source": [
    "# Plot values increasing across time points\n",
    "\n",
    "count=0\n",
    "for i, var_plot in enumerate(PLOT):\n",
    "    var_plot_list = PLOT_LIST[i]\n",
    "    fig = plt.subplot(111)\n",
    "    for j in range(len(df_main)): \n",
    "        expression_values = read_values(j, var_plot_list)\n",
    "        if(monotonic_increase(expression_values)):\n",
    "            fig.plot(var_plot_list, expression_values)\n",
    "            count+=1\n",
    "    plt.title(var_plot)\n",
    "    plt.show()\n",
    "print(\"Number of increasing sequences are\", count, \"out of\", len(df_main))"
   ]
  },
  {
   "cell_type": "code",
   "execution_count": null,
   "metadata": {},
   "outputs": [],
   "source": [
    "# Plot values increasing across time points log\n",
    "\n",
    "count=0\n",
    "for i, var_plot in enumerate(PLOT):\n",
    "    var_plot_list = PLOT_LIST[i]\n",
    "    fig = plt.subplot(111)\n",
    "    for j in range(len(df_main)): \n",
    "        expression_values = read_values(j, var_plot_list)\n",
    "        if(monotonic_increase(expression_values)):\n",
    "            fig.plot(var_plot_list, np.log2(expression_values))\n",
    "            count+=1\n",
    "    plt.title(var_plot)\n",
    "    plt.show()\n",
    "print(\"Number of increasing sequences are\", count, \"out of\", len(df_main))"
   ]
  },
  {
   "cell_type": "code",
   "execution_count": null,
   "metadata": {},
   "outputs": [],
   "source": [
    "# Plot values decreasing across time points\n",
    "\n",
    "count=0\n",
    "for i, var_plot in enumerate(PLOT):\n",
    "    var_plot_list = PLOT_LIST[i]\n",
    "    fig = plt.subplot(111)\n",
    "    for j in range(len(df_main)): \n",
    "        expression_values = read_values(j, var_plot_list)\n",
    "        if(monotonic_decrease(expression_values)):\n",
    "            fig.plot(var_plot_list, expression_values)\n",
    "            count+=1\n",
    "    plt.title(var_plot)\n",
    "    plt.show()\n",
    "print(\"Number of decreasing sequences are\", count,\"out of\", len(df_main))"
   ]
  },
  {
   "cell_type": "code",
   "execution_count": null,
   "metadata": {},
   "outputs": [],
   "source": [
    "# Plot values decreasing across time points log\n",
    "\n",
    "count=0\n",
    "for i, var_plot in enumerate(PLOT):\n",
    "    var_plot_list = PLOT_LIST[i]\n",
    "    fig = plt.subplot(111)\n",
    "    for j in range(len(df_main)): \n",
    "        expression_values = read_values(j, var_plot_list)\n",
    "        if(monotonic_decrease(expression_values)):\n",
    "            fig.plot(var_plot_list, np.log2(expression_values))\n",
    "            count+=1\n",
    "    plt.title(var_plot)\n",
    "    plt.show()\n",
    "print(\"Number of decreasing sequences are\", count,\"out of\", len(df_main))"
   ]
  },
  {
   "cell_type": "code",
   "execution_count": null,
   "metadata": {},
   "outputs": [],
   "source": [
    "# Plot values increasing, then decreasing across time points\n",
    "\n",
    "count=0\n",
    "for i, var_plot in enumerate(PLOT):\n",
    "    var_plot_list = PLOT_LIST[i]\n",
    "    fig = plt.subplot(111)\n",
    "    for j in range(len(df_main)): \n",
    "        expression_values = read_values(j, var_plot_list)\n",
    "        if(increase_decrease(expression_values)):\n",
    "            fig.plot(var_plot_list, expression_values)\n",
    "            count+=1\n",
    "    plt.title(var_plot)\n",
    "    plt.show()\n",
    "print(\"Number of increase/decrease sequences are\", count, \"out of\", len(df_main))"
   ]
  },
  {
   "cell_type": "code",
   "execution_count": null,
   "metadata": {},
   "outputs": [],
   "source": [
    "# Plot values increasing, then decreasing across time points log\n",
    "\n",
    "count=0\n",
    "for i, var_plot in enumerate(PLOT):\n",
    "    var_plot_list = PLOT_LIST[i]\n",
    "    fig = plt.subplot(111)\n",
    "    for j in range(len(df_main)): \n",
    "        expression_values = read_values(j, var_plot_list)\n",
    "        if(increase_decrease(expression_values)):\n",
    "            fig.plot(var_plot_list, np.log2(expression_values))\n",
    "            count+=1\n",
    "    plt.title(var_plot)\n",
    "    plt.show()\n",
    "print(\"Number of increase/decrease sequences are\", count, \"out of\", len(df_main))"
   ]
  },
  {
   "cell_type": "code",
   "execution_count": null,
   "metadata": {},
   "outputs": [],
   "source": [
    "# Plot values decreasing, then increasing across time points\n",
    "\n",
    "count=0\n",
    "for i, var_plot in enumerate(PLOT):\n",
    "    var_plot_list = PLOT_LIST[i]\n",
    "    fig = plt.subplot(111)\n",
    "    for j in range(len(df_main)): \n",
    "        expression_values = read_values(j, var_plot_list)\n",
    "        if(decrease_increase(expression_values)):\n",
    "            fig.plot(var_plot_list, expression_values)\n",
    "            count+=1\n",
    "    plt.title(var_plot)\n",
    "    plt.show()\n",
    "print(\"Number of decrease/increase sequences are\", count, \"out of\", len(df_main))"
   ]
  },
  {
   "cell_type": "code",
   "execution_count": null,
   "metadata": {},
   "outputs": [],
   "source": [
    "# Plot values decreasing, then increasing across time points log\n",
    "\n",
    "count=0\n",
    "for i, var_plot in enumerate(PLOT):\n",
    "    var_plot_list = PLOT_LIST[i]\n",
    "    fig = plt.subplot(111)\n",
    "    for j in range(len(df_main)): \n",
    "        expression_values = read_values(j, var_plot_list)\n",
    "        if(decrease_increase(expression_values)):\n",
    "            fig.plot(var_plot_list, np.log2(expression_values))\n",
    "            count+=1\n",
    "    plt.title(var_plot)\n",
    "    plt.show()\n",
    "print(\"Number of decrease/increase sequences are\", count, \"out of\", len(df_main))"
   ]
  }
 ],
 "metadata": {
  "kernelspec": {
   "display_name": "Python 3",
   "language": "python",
   "name": "python3"
  },
  "language_info": {
   "codemirror_mode": {
    "name": "ipython",
    "version": 3
   },
   "file_extension": ".py",
   "mimetype": "text/x-python",
   "name": "python",
   "nbconvert_exporter": "python",
   "pygments_lexer": "ipython3",
   "version": "3.6.4"
  }
 },
 "nbformat": 4,
 "nbformat_minor": 2
}
