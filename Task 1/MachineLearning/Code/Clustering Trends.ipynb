{
 "cells": [
  {
   "cell_type": "code",
   "execution_count": 1,
   "metadata": {
    "scrolled": false
   },
   "outputs": [],
   "source": [
    "import pandas as pd\n",
    "import numpy as np\n",
    "import itertools\n",
    "import matplotlib.pyplot as plt\n",
    "import matplotlib.mlab as mlab\n",
    "import random"
   ]
  },
  {
   "cell_type": "code",
   "execution_count": 2,
   "metadata": {
    "scrolled": false
   },
   "outputs": [],
   "source": [
    "def check_val(x):\n",
    "    if(x>0):\n",
    "        return 1\n",
    "    elif(x<0):\n",
    "        return -1\n",
    "    else:\n",
    "        return 0"
   ]
  },
  {
   "cell_type": "markdown",
   "metadata": {},
   "source": [
    "### RNASeq data"
   ]
  },
  {
   "cell_type": "code",
   "execution_count": 3,
   "metadata": {
    "scrolled": false
   },
   "outputs": [],
   "source": [
    "df_rnaseq = pd.read_csv('AdjustedRPKMOutput/RNASeq_chrE.txt',sep='\\t')"
   ]
  },
  {
   "cell_type": "code",
   "execution_count": 4,
   "metadata": {
    "scrolled": true
   },
   "outputs": [
    {
     "data": {
      "text/html": [
       "<div>\n",
       "<style scoped>\n",
       "    .dataframe tbody tr th:only-of-type {\n",
       "        vertical-align: middle;\n",
       "    }\n",
       "\n",
       "    .dataframe tbody tr th {\n",
       "        vertical-align: top;\n",
       "    }\n",
       "\n",
       "    .dataframe thead th {\n",
       "        text-align: right;\n",
       "    }\n",
       "</style>\n",
       "<table border=\"1\" class=\"dataframe\">\n",
       "  <thead>\n",
       "    <tr style=\"text-align: right;\">\n",
       "      <th></th>\n",
       "      <th>AccNum</th>\n",
       "      <th>GeneName</th>\n",
       "      <th>cdReads0</th>\n",
       "      <th>cdRPKM0</th>\n",
       "      <th>cdReads1</th>\n",
       "      <th>cdRPKM1</th>\n",
       "      <th>cdReads2</th>\n",
       "      <th>cdRPKM2</th>\n",
       "      <th>cdReads3</th>\n",
       "      <th>cdRPKM3</th>\n",
       "      <th>cdReads4</th>\n",
       "      <th>cdRPKM4</th>\n",
       "    </tr>\n",
       "  </thead>\n",
       "  <tbody>\n",
       "    <tr>\n",
       "      <th>0</th>\n",
       "      <td>NM_017847</td>\n",
       "      <td>ODR4</td>\n",
       "      <td>50.0</td>\n",
       "      <td>6.605436</td>\n",
       "      <td>62.0</td>\n",
       "      <td>5.568612</td>\n",
       "      <td>71.0</td>\n",
       "      <td>5.308751</td>\n",
       "      <td>30.0</td>\n",
       "      <td>2.859319</td>\n",
       "      <td>51.0</td>\n",
       "      <td>3.102104</td>\n",
       "    </tr>\n",
       "    <tr>\n",
       "      <th>1</th>\n",
       "      <td>NM_001143986</td>\n",
       "      <td>TLE6</td>\n",
       "      <td>4.0</td>\n",
       "      <td>0.419612</td>\n",
       "      <td>6.0</td>\n",
       "      <td>0.427921</td>\n",
       "      <td>3.0</td>\n",
       "      <td>0.178120</td>\n",
       "      <td>3.0</td>\n",
       "      <td>0.227049</td>\n",
       "      <td>3.0</td>\n",
       "      <td>0.144899</td>\n",
       "    </tr>\n",
       "    <tr>\n",
       "      <th>2</th>\n",
       "      <td>NM_001003803</td>\n",
       "      <td>ATP5S</td>\n",
       "      <td>29.0</td>\n",
       "      <td>8.070253</td>\n",
       "      <td>52.0</td>\n",
       "      <td>9.838214</td>\n",
       "      <td>52.0</td>\n",
       "      <td>8.190209</td>\n",
       "      <td>19.0</td>\n",
       "      <td>3.814631</td>\n",
       "      <td>22.0</td>\n",
       "      <td>2.818815</td>\n",
       "    </tr>\n",
       "    <tr>\n",
       "      <th>3</th>\n",
       "      <td>NM_001003800</td>\n",
       "      <td>BICD2</td>\n",
       "      <td>778.0</td>\n",
       "      <td>54.632204</td>\n",
       "      <td>1155.0</td>\n",
       "      <td>55.141030</td>\n",
       "      <td>1444.0</td>\n",
       "      <td>57.390343</td>\n",
       "      <td>706.0</td>\n",
       "      <td>35.767093</td>\n",
       "      <td>883.0</td>\n",
       "      <td>28.548580</td>\n",
       "    </tr>\n",
       "    <tr>\n",
       "      <th>4</th>\n",
       "      <td>NM_016649</td>\n",
       "      <td>ESF1</td>\n",
       "      <td>17.0</td>\n",
       "      <td>1.199367</td>\n",
       "      <td>26.0</td>\n",
       "      <td>1.247097</td>\n",
       "      <td>10.0</td>\n",
       "      <td>0.399306</td>\n",
       "      <td>9.0</td>\n",
       "      <td>0.458095</td>\n",
       "      <td>20.0</td>\n",
       "      <td>0.649663</td>\n",
       "    </tr>\n",
       "  </tbody>\n",
       "</table>\n",
       "</div>"
      ],
      "text/plain": [
       "         AccNum GeneName  cdReads0    cdRPKM0  cdReads1    cdRPKM1  cdReads2  \\\n",
       "0     NM_017847     ODR4      50.0   6.605436      62.0   5.568612      71.0   \n",
       "1  NM_001143986     TLE6       4.0   0.419612       6.0   0.427921       3.0   \n",
       "2  NM_001003803    ATP5S      29.0   8.070253      52.0   9.838214      52.0   \n",
       "3  NM_001003800    BICD2     778.0  54.632204    1155.0  55.141030    1444.0   \n",
       "4     NM_016649     ESF1      17.0   1.199367      26.0   1.247097      10.0   \n",
       "\n",
       "     cdRPKM2  cdReads3    cdRPKM3  cdReads4    cdRPKM4  \n",
       "0   5.308751      30.0   2.859319      51.0   3.102104  \n",
       "1   0.178120       3.0   0.227049       3.0   0.144899  \n",
       "2   8.190209      19.0   3.814631      22.0   2.818815  \n",
       "3  57.390343     706.0  35.767093     883.0  28.548580  \n",
       "4   0.399306       9.0   0.458095      20.0   0.649663  "
      ]
     },
     "execution_count": 4,
     "metadata": {},
     "output_type": "execute_result"
    }
   ],
   "source": [
    "df_rnaseq.head()"
   ]
  },
  {
   "cell_type": "code",
   "execution_count": 5,
   "metadata": {
    "scrolled": true
   },
   "outputs": [
    {
     "data": {
      "text/plain": [
       "(12429, 12)"
      ]
     },
     "execution_count": 5,
     "metadata": {},
     "output_type": "execute_result"
    }
   ],
   "source": [
    "df_rnaseq.shape"
   ]
  },
  {
   "cell_type": "code",
   "execution_count": 6,
   "metadata": {
    "scrolled": false
   },
   "outputs": [],
   "source": [
    "df_rnaseq['finiteDiff1']=df_rnaseq['cdRPKM1']-df_rnaseq['cdRPKM0']\n",
    "df_rnaseq['finiteDiff2']=df_rnaseq['cdRPKM2']-df_rnaseq['cdRPKM1']\n",
    "df_rnaseq['finiteDiff3']=df_rnaseq['cdRPKM3']-df_rnaseq['cdRPKM2']\n",
    "df_rnaseq['finiteDiff4']=df_rnaseq['cdRPKM4']-df_rnaseq['cdRPKM3']"
   ]
  },
  {
   "cell_type": "code",
   "execution_count": 7,
   "metadata": {
    "scrolled": false
   },
   "outputs": [
    {
     "data": {
      "text/html": [
       "<div>\n",
       "<style scoped>\n",
       "    .dataframe tbody tr th:only-of-type {\n",
       "        vertical-align: middle;\n",
       "    }\n",
       "\n",
       "    .dataframe tbody tr th {\n",
       "        vertical-align: top;\n",
       "    }\n",
       "\n",
       "    .dataframe thead th {\n",
       "        text-align: right;\n",
       "    }\n",
       "</style>\n",
       "<table border=\"1\" class=\"dataframe\">\n",
       "  <thead>\n",
       "    <tr style=\"text-align: right;\">\n",
       "      <th></th>\n",
       "      <th>AccNum</th>\n",
       "      <th>GeneName</th>\n",
       "      <th>cdReads0</th>\n",
       "      <th>cdRPKM0</th>\n",
       "      <th>cdReads1</th>\n",
       "      <th>cdRPKM1</th>\n",
       "      <th>cdReads2</th>\n",
       "      <th>cdRPKM2</th>\n",
       "      <th>cdReads3</th>\n",
       "      <th>cdRPKM3</th>\n",
       "      <th>cdReads4</th>\n",
       "      <th>cdRPKM4</th>\n",
       "      <th>finiteDiff1</th>\n",
       "      <th>finiteDiff2</th>\n",
       "      <th>finiteDiff3</th>\n",
       "      <th>finiteDiff4</th>\n",
       "    </tr>\n",
       "  </thead>\n",
       "  <tbody>\n",
       "    <tr>\n",
       "      <th>0</th>\n",
       "      <td>NM_017847</td>\n",
       "      <td>ODR4</td>\n",
       "      <td>50.0</td>\n",
       "      <td>6.605436</td>\n",
       "      <td>62.0</td>\n",
       "      <td>5.568612</td>\n",
       "      <td>71.0</td>\n",
       "      <td>5.308751</td>\n",
       "      <td>30.0</td>\n",
       "      <td>2.859319</td>\n",
       "      <td>51.0</td>\n",
       "      <td>3.102104</td>\n",
       "      <td>-1.036824</td>\n",
       "      <td>-0.259861</td>\n",
       "      <td>-2.449432</td>\n",
       "      <td>0.242785</td>\n",
       "    </tr>\n",
       "    <tr>\n",
       "      <th>1</th>\n",
       "      <td>NM_001143986</td>\n",
       "      <td>TLE6</td>\n",
       "      <td>4.0</td>\n",
       "      <td>0.419612</td>\n",
       "      <td>6.0</td>\n",
       "      <td>0.427921</td>\n",
       "      <td>3.0</td>\n",
       "      <td>0.178120</td>\n",
       "      <td>3.0</td>\n",
       "      <td>0.227049</td>\n",
       "      <td>3.0</td>\n",
       "      <td>0.144899</td>\n",
       "      <td>0.008308</td>\n",
       "      <td>-0.249801</td>\n",
       "      <td>0.048929</td>\n",
       "      <td>-0.082150</td>\n",
       "    </tr>\n",
       "    <tr>\n",
       "      <th>2</th>\n",
       "      <td>NM_001003803</td>\n",
       "      <td>ATP5S</td>\n",
       "      <td>29.0</td>\n",
       "      <td>8.070253</td>\n",
       "      <td>52.0</td>\n",
       "      <td>9.838214</td>\n",
       "      <td>52.0</td>\n",
       "      <td>8.190209</td>\n",
       "      <td>19.0</td>\n",
       "      <td>3.814631</td>\n",
       "      <td>22.0</td>\n",
       "      <td>2.818815</td>\n",
       "      <td>1.767961</td>\n",
       "      <td>-1.648005</td>\n",
       "      <td>-4.375578</td>\n",
       "      <td>-0.995817</td>\n",
       "    </tr>\n",
       "    <tr>\n",
       "      <th>3</th>\n",
       "      <td>NM_001003800</td>\n",
       "      <td>BICD2</td>\n",
       "      <td>778.0</td>\n",
       "      <td>54.632204</td>\n",
       "      <td>1155.0</td>\n",
       "      <td>55.141030</td>\n",
       "      <td>1444.0</td>\n",
       "      <td>57.390343</td>\n",
       "      <td>706.0</td>\n",
       "      <td>35.767093</td>\n",
       "      <td>883.0</td>\n",
       "      <td>28.548580</td>\n",
       "      <td>0.508825</td>\n",
       "      <td>2.249313</td>\n",
       "      <td>-21.623249</td>\n",
       "      <td>-7.218513</td>\n",
       "    </tr>\n",
       "    <tr>\n",
       "      <th>4</th>\n",
       "      <td>NM_016649</td>\n",
       "      <td>ESF1</td>\n",
       "      <td>17.0</td>\n",
       "      <td>1.199367</td>\n",
       "      <td>26.0</td>\n",
       "      <td>1.247097</td>\n",
       "      <td>10.0</td>\n",
       "      <td>0.399306</td>\n",
       "      <td>9.0</td>\n",
       "      <td>0.458095</td>\n",
       "      <td>20.0</td>\n",
       "      <td>0.649663</td>\n",
       "      <td>0.047730</td>\n",
       "      <td>-0.847792</td>\n",
       "      <td>0.058789</td>\n",
       "      <td>0.191568</td>\n",
       "    </tr>\n",
       "  </tbody>\n",
       "</table>\n",
       "</div>"
      ],
      "text/plain": [
       "         AccNum GeneName  cdReads0    cdRPKM0  cdReads1    cdRPKM1  cdReads2  \\\n",
       "0     NM_017847     ODR4      50.0   6.605436      62.0   5.568612      71.0   \n",
       "1  NM_001143986     TLE6       4.0   0.419612       6.0   0.427921       3.0   \n",
       "2  NM_001003803    ATP5S      29.0   8.070253      52.0   9.838214      52.0   \n",
       "3  NM_001003800    BICD2     778.0  54.632204    1155.0  55.141030    1444.0   \n",
       "4     NM_016649     ESF1      17.0   1.199367      26.0   1.247097      10.0   \n",
       "\n",
       "     cdRPKM2  cdReads3    cdRPKM3  cdReads4    cdRPKM4  finiteDiff1  \\\n",
       "0   5.308751      30.0   2.859319      51.0   3.102104    -1.036824   \n",
       "1   0.178120       3.0   0.227049       3.0   0.144899     0.008308   \n",
       "2   8.190209      19.0   3.814631      22.0   2.818815     1.767961   \n",
       "3  57.390343     706.0  35.767093     883.0  28.548580     0.508825   \n",
       "4   0.399306       9.0   0.458095      20.0   0.649663     0.047730   \n",
       "\n",
       "   finiteDiff2  finiteDiff3  finiteDiff4  \n",
       "0    -0.259861    -2.449432     0.242785  \n",
       "1    -0.249801     0.048929    -0.082150  \n",
       "2    -1.648005    -4.375578    -0.995817  \n",
       "3     2.249313   -21.623249    -7.218513  \n",
       "4    -0.847792     0.058789     0.191568  "
      ]
     },
     "execution_count": 7,
     "metadata": {},
     "output_type": "execute_result"
    }
   ],
   "source": [
    "df_rnaseq.head()"
   ]
  },
  {
   "cell_type": "code",
   "execution_count": 8,
   "metadata": {
    "scrolled": false
   },
   "outputs": [],
   "source": [
    "df_rnaseq = df_rnaseq[(df_rnaseq['cdReads0'] >= 10) \n",
    "                      & (df_rnaseq['cdReads1'] >= 10) \n",
    "                      & (df_rnaseq['cdReads2'] >= 10)\n",
    "                      & (df_rnaseq['cdReads3'] >= 10)\n",
    "                      & (df_rnaseq['cdReads4'] >= 10)]"
   ]
  },
  {
   "cell_type": "code",
   "execution_count": 9,
   "metadata": {
    "scrolled": false
   },
   "outputs": [
    {
     "data": {
      "text/plain": [
       "(10341, 16)"
      ]
     },
     "execution_count": 9,
     "metadata": {},
     "output_type": "execute_result"
    }
   ],
   "source": [
    "df_rnaseq.shape"
   ]
  },
  {
   "cell_type": "code",
   "execution_count": 10,
   "metadata": {
    "scrolled": false
   },
   "outputs": [
    {
     "data": {
      "text/html": [
       "<div>\n",
       "<style scoped>\n",
       "    .dataframe tbody tr th:only-of-type {\n",
       "        vertical-align: middle;\n",
       "    }\n",
       "\n",
       "    .dataframe tbody tr th {\n",
       "        vertical-align: top;\n",
       "    }\n",
       "\n",
       "    .dataframe thead th {\n",
       "        text-align: right;\n",
       "    }\n",
       "</style>\n",
       "<table border=\"1\" class=\"dataframe\">\n",
       "  <thead>\n",
       "    <tr style=\"text-align: right;\">\n",
       "      <th></th>\n",
       "      <th>AccNum</th>\n",
       "      <th>GeneName</th>\n",
       "      <th>cdReads0</th>\n",
       "      <th>cdRPKM0</th>\n",
       "      <th>cdReads1</th>\n",
       "      <th>cdRPKM1</th>\n",
       "      <th>cdReads2</th>\n",
       "      <th>cdRPKM2</th>\n",
       "      <th>cdReads3</th>\n",
       "      <th>cdRPKM3</th>\n",
       "      <th>cdReads4</th>\n",
       "      <th>cdRPKM4</th>\n",
       "      <th>finiteDiff1</th>\n",
       "      <th>finiteDiff2</th>\n",
       "      <th>finiteDiff3</th>\n",
       "      <th>finiteDiff4</th>\n",
       "    </tr>\n",
       "  </thead>\n",
       "  <tbody>\n",
       "    <tr>\n",
       "      <th>0</th>\n",
       "      <td>NM_017847</td>\n",
       "      <td>ODR4</td>\n",
       "      <td>50.0</td>\n",
       "      <td>6.605436</td>\n",
       "      <td>62.0</td>\n",
       "      <td>5.568612</td>\n",
       "      <td>71.0</td>\n",
       "      <td>5.308751</td>\n",
       "      <td>30.0</td>\n",
       "      <td>2.859319</td>\n",
       "      <td>51.0</td>\n",
       "      <td>3.102104</td>\n",
       "      <td>-1.036824</td>\n",
       "      <td>-0.259861</td>\n",
       "      <td>-2.449432</td>\n",
       "      <td>0.242785</td>\n",
       "    </tr>\n",
       "    <tr>\n",
       "      <th>2</th>\n",
       "      <td>NM_001003803</td>\n",
       "      <td>ATP5S</td>\n",
       "      <td>29.0</td>\n",
       "      <td>8.070253</td>\n",
       "      <td>52.0</td>\n",
       "      <td>9.838214</td>\n",
       "      <td>52.0</td>\n",
       "      <td>8.190209</td>\n",
       "      <td>19.0</td>\n",
       "      <td>3.814631</td>\n",
       "      <td>22.0</td>\n",
       "      <td>2.818815</td>\n",
       "      <td>1.767961</td>\n",
       "      <td>-1.648005</td>\n",
       "      <td>-4.375578</td>\n",
       "      <td>-0.995817</td>\n",
       "    </tr>\n",
       "    <tr>\n",
       "      <th>3</th>\n",
       "      <td>NM_001003800</td>\n",
       "      <td>BICD2</td>\n",
       "      <td>778.0</td>\n",
       "      <td>54.632204</td>\n",
       "      <td>1155.0</td>\n",
       "      <td>55.141030</td>\n",
       "      <td>1444.0</td>\n",
       "      <td>57.390343</td>\n",
       "      <td>706.0</td>\n",
       "      <td>35.767093</td>\n",
       "      <td>883.0</td>\n",
       "      <td>28.548580</td>\n",
       "      <td>0.508825</td>\n",
       "      <td>2.249313</td>\n",
       "      <td>-21.623249</td>\n",
       "      <td>-7.218513</td>\n",
       "    </tr>\n",
       "    <tr>\n",
       "      <th>5</th>\n",
       "      <td>NM_016647</td>\n",
       "      <td>THEM6</td>\n",
       "      <td>170.0</td>\n",
       "      <td>48.892869</td>\n",
       "      <td>182.0</td>\n",
       "      <td>35.587031</td>\n",
       "      <td>219.0</td>\n",
       "      <td>35.648661</td>\n",
       "      <td>91.0</td>\n",
       "      <td>18.881992</td>\n",
       "      <td>99.0</td>\n",
       "      <td>13.109511</td>\n",
       "      <td>-13.305839</td>\n",
       "      <td>0.061630</td>\n",
       "      <td>-16.766668</td>\n",
       "      <td>-5.772482</td>\n",
       "    </tr>\n",
       "    <tr>\n",
       "      <th>8</th>\n",
       "      <td>NM_016640</td>\n",
       "      <td>MRPS30</td>\n",
       "      <td>255.0</td>\n",
       "      <td>34.836170</td>\n",
       "      <td>348.0</td>\n",
       "      <td>32.321627</td>\n",
       "      <td>411.0</td>\n",
       "      <td>31.778583</td>\n",
       "      <td>205.0</td>\n",
       "      <td>20.204769</td>\n",
       "      <td>241.0</td>\n",
       "      <td>15.158699</td>\n",
       "      <td>-2.514542</td>\n",
       "      <td>-0.543044</td>\n",
       "      <td>-11.573814</td>\n",
       "      <td>-5.046070</td>\n",
       "    </tr>\n",
       "  </tbody>\n",
       "</table>\n",
       "</div>"
      ],
      "text/plain": [
       "         AccNum GeneName  cdReads0    cdRPKM0  cdReads1    cdRPKM1  cdReads2  \\\n",
       "0     NM_017847     ODR4      50.0   6.605436      62.0   5.568612      71.0   \n",
       "2  NM_001003803    ATP5S      29.0   8.070253      52.0   9.838214      52.0   \n",
       "3  NM_001003800    BICD2     778.0  54.632204    1155.0  55.141030    1444.0   \n",
       "5     NM_016647    THEM6     170.0  48.892869     182.0  35.587031     219.0   \n",
       "8     NM_016640   MRPS30     255.0  34.836170     348.0  32.321627     411.0   \n",
       "\n",
       "     cdRPKM2  cdReads3    cdRPKM3  cdReads4    cdRPKM4  finiteDiff1  \\\n",
       "0   5.308751      30.0   2.859319      51.0   3.102104    -1.036824   \n",
       "2   8.190209      19.0   3.814631      22.0   2.818815     1.767961   \n",
       "3  57.390343     706.0  35.767093     883.0  28.548580     0.508825   \n",
       "5  35.648661      91.0  18.881992      99.0  13.109511   -13.305839   \n",
       "8  31.778583     205.0  20.204769     241.0  15.158699    -2.514542   \n",
       "\n",
       "   finiteDiff2  finiteDiff3  finiteDiff4  \n",
       "0    -0.259861    -2.449432     0.242785  \n",
       "2    -1.648005    -4.375578    -0.995817  \n",
       "3     2.249313   -21.623249    -7.218513  \n",
       "5     0.061630   -16.766668    -5.772482  \n",
       "8    -0.543044   -11.573814    -5.046070  "
      ]
     },
     "execution_count": 10,
     "metadata": {},
     "output_type": "execute_result"
    }
   ],
   "source": [
    "df_rnaseq.head()"
   ]
  },
  {
   "cell_type": "code",
   "execution_count": 11,
   "metadata": {
    "scrolled": false
   },
   "outputs": [
    {
     "name": "stdout",
     "output_type": "stream",
     "text": [
      "0.0007220484500010116 0.00028973213999972103 0.0007854384720000773 0.00017660104700001344\n"
     ]
    }
   ],
   "source": [
    "print(abs(df_rnaseq['finiteDiff1']).min(),abs(df_rnaseq['finiteDiff2']).min(),\n",
    "abs(df_rnaseq['finiteDiff3']).min(),abs(df_rnaseq['finiteDiff4']).min())"
   ]
  },
  {
   "cell_type": "markdown",
   "metadata": {},
   "source": [
    "### Set tolerance"
   ]
  },
  {
   "cell_type": "code",
   "execution_count": 12,
   "metadata": {
    "scrolled": false
   },
   "outputs": [],
   "source": [
    "tol = 1\n",
    "df_rnaseq['finiteDiff1'] = np.where(abs(df_rnaseq['finiteDiff1']) < tol, 0,\n",
    "                                    df_rnaseq['finiteDiff1'])\n",
    "df_rnaseq['finiteDiff2'] = np.where(abs(df_rnaseq['finiteDiff2']) < tol, 0,\n",
    "                                    df_rnaseq['finiteDiff2'])\n",
    "df_rnaseq['finiteDiff3'] = np.where(abs(df_rnaseq['finiteDiff3']) < tol, 0,\n",
    "                                    df_rnaseq['finiteDiff3'])\n",
    "df_rnaseq['finiteDiff4'] = np.where(abs(df_rnaseq['finiteDiff4']) < tol, 0,\n",
    "                                    df_rnaseq['finiteDiff4'])"
   ]
  },
  {
   "cell_type": "code",
   "execution_count": 13,
   "metadata": {
    "scrolled": false
   },
   "outputs": [
    {
     "data": {
      "text/html": [
       "<div>\n",
       "<style scoped>\n",
       "    .dataframe tbody tr th:only-of-type {\n",
       "        vertical-align: middle;\n",
       "    }\n",
       "\n",
       "    .dataframe tbody tr th {\n",
       "        vertical-align: top;\n",
       "    }\n",
       "\n",
       "    .dataframe thead th {\n",
       "        text-align: right;\n",
       "    }\n",
       "</style>\n",
       "<table border=\"1\" class=\"dataframe\">\n",
       "  <thead>\n",
       "    <tr style=\"text-align: right;\">\n",
       "      <th></th>\n",
       "      <th>AccNum</th>\n",
       "      <th>GeneName</th>\n",
       "      <th>cdReads0</th>\n",
       "      <th>cdRPKM0</th>\n",
       "      <th>cdReads1</th>\n",
       "      <th>cdRPKM1</th>\n",
       "      <th>cdReads2</th>\n",
       "      <th>cdRPKM2</th>\n",
       "      <th>cdReads3</th>\n",
       "      <th>cdRPKM3</th>\n",
       "      <th>cdReads4</th>\n",
       "      <th>cdRPKM4</th>\n",
       "      <th>finiteDiff1</th>\n",
       "      <th>finiteDiff2</th>\n",
       "      <th>finiteDiff3</th>\n",
       "      <th>finiteDiff4</th>\n",
       "    </tr>\n",
       "  </thead>\n",
       "  <tbody>\n",
       "    <tr>\n",
       "      <th>0</th>\n",
       "      <td>NM_017847</td>\n",
       "      <td>ODR4</td>\n",
       "      <td>50.0</td>\n",
       "      <td>6.605436</td>\n",
       "      <td>62.0</td>\n",
       "      <td>5.568612</td>\n",
       "      <td>71.0</td>\n",
       "      <td>5.308751</td>\n",
       "      <td>30.0</td>\n",
       "      <td>2.859319</td>\n",
       "      <td>51.0</td>\n",
       "      <td>3.102104</td>\n",
       "      <td>-1.036824</td>\n",
       "      <td>0.000000</td>\n",
       "      <td>-2.449432</td>\n",
       "      <td>0.000000</td>\n",
       "    </tr>\n",
       "    <tr>\n",
       "      <th>2</th>\n",
       "      <td>NM_001003803</td>\n",
       "      <td>ATP5S</td>\n",
       "      <td>29.0</td>\n",
       "      <td>8.070253</td>\n",
       "      <td>52.0</td>\n",
       "      <td>9.838214</td>\n",
       "      <td>52.0</td>\n",
       "      <td>8.190209</td>\n",
       "      <td>19.0</td>\n",
       "      <td>3.814631</td>\n",
       "      <td>22.0</td>\n",
       "      <td>2.818815</td>\n",
       "      <td>1.767961</td>\n",
       "      <td>-1.648005</td>\n",
       "      <td>-4.375578</td>\n",
       "      <td>0.000000</td>\n",
       "    </tr>\n",
       "    <tr>\n",
       "      <th>3</th>\n",
       "      <td>NM_001003800</td>\n",
       "      <td>BICD2</td>\n",
       "      <td>778.0</td>\n",
       "      <td>54.632204</td>\n",
       "      <td>1155.0</td>\n",
       "      <td>55.141030</td>\n",
       "      <td>1444.0</td>\n",
       "      <td>57.390343</td>\n",
       "      <td>706.0</td>\n",
       "      <td>35.767093</td>\n",
       "      <td>883.0</td>\n",
       "      <td>28.548580</td>\n",
       "      <td>0.000000</td>\n",
       "      <td>2.249313</td>\n",
       "      <td>-21.623249</td>\n",
       "      <td>-7.218513</td>\n",
       "    </tr>\n",
       "    <tr>\n",
       "      <th>5</th>\n",
       "      <td>NM_016647</td>\n",
       "      <td>THEM6</td>\n",
       "      <td>170.0</td>\n",
       "      <td>48.892869</td>\n",
       "      <td>182.0</td>\n",
       "      <td>35.587031</td>\n",
       "      <td>219.0</td>\n",
       "      <td>35.648661</td>\n",
       "      <td>91.0</td>\n",
       "      <td>18.881992</td>\n",
       "      <td>99.0</td>\n",
       "      <td>13.109511</td>\n",
       "      <td>-13.305839</td>\n",
       "      <td>0.000000</td>\n",
       "      <td>-16.766668</td>\n",
       "      <td>-5.772482</td>\n",
       "    </tr>\n",
       "    <tr>\n",
       "      <th>8</th>\n",
       "      <td>NM_016640</td>\n",
       "      <td>MRPS30</td>\n",
       "      <td>255.0</td>\n",
       "      <td>34.836170</td>\n",
       "      <td>348.0</td>\n",
       "      <td>32.321627</td>\n",
       "      <td>411.0</td>\n",
       "      <td>31.778583</td>\n",
       "      <td>205.0</td>\n",
       "      <td>20.204769</td>\n",
       "      <td>241.0</td>\n",
       "      <td>15.158699</td>\n",
       "      <td>-2.514542</td>\n",
       "      <td>0.000000</td>\n",
       "      <td>-11.573814</td>\n",
       "      <td>-5.046070</td>\n",
       "    </tr>\n",
       "  </tbody>\n",
       "</table>\n",
       "</div>"
      ],
      "text/plain": [
       "         AccNum GeneName  cdReads0    cdRPKM0  cdReads1    cdRPKM1  cdReads2  \\\n",
       "0     NM_017847     ODR4      50.0   6.605436      62.0   5.568612      71.0   \n",
       "2  NM_001003803    ATP5S      29.0   8.070253      52.0   9.838214      52.0   \n",
       "3  NM_001003800    BICD2     778.0  54.632204    1155.0  55.141030    1444.0   \n",
       "5     NM_016647    THEM6     170.0  48.892869     182.0  35.587031     219.0   \n",
       "8     NM_016640   MRPS30     255.0  34.836170     348.0  32.321627     411.0   \n",
       "\n",
       "     cdRPKM2  cdReads3    cdRPKM3  cdReads4    cdRPKM4  finiteDiff1  \\\n",
       "0   5.308751      30.0   2.859319      51.0   3.102104    -1.036824   \n",
       "2   8.190209      19.0   3.814631      22.0   2.818815     1.767961   \n",
       "3  57.390343     706.0  35.767093     883.0  28.548580     0.000000   \n",
       "5  35.648661      91.0  18.881992      99.0  13.109511   -13.305839   \n",
       "8  31.778583     205.0  20.204769     241.0  15.158699    -2.514542   \n",
       "\n",
       "   finiteDiff2  finiteDiff3  finiteDiff4  \n",
       "0     0.000000    -2.449432     0.000000  \n",
       "2    -1.648005    -4.375578     0.000000  \n",
       "3     2.249313   -21.623249    -7.218513  \n",
       "5     0.000000   -16.766668    -5.772482  \n",
       "8     0.000000   -11.573814    -5.046070  "
      ]
     },
     "execution_count": 13,
     "metadata": {},
     "output_type": "execute_result"
    }
   ],
   "source": [
    "df_rnaseq.head()"
   ]
  },
  {
   "cell_type": "markdown",
   "metadata": {},
   "source": [
    "### Generate Trends"
   ]
  },
  {
   "cell_type": "code",
   "execution_count": 14,
   "metadata": {
    "scrolled": false
   },
   "outputs": [],
   "source": [
    "x = [-1,1,0]\n",
    "trends = [p for p in itertools.product(x, repeat=4)]"
   ]
  },
  {
   "cell_type": "code",
   "execution_count": 15,
   "metadata": {
    "scrolled": false
   },
   "outputs": [
    {
     "name": "stdout",
     "output_type": "stream",
     "text": [
      "81\n"
     ]
    }
   ],
   "source": [
    "print(len(trends))"
   ]
  },
  {
   "cell_type": "code",
   "execution_count": 16,
   "metadata": {
    "scrolled": false
   },
   "outputs": [
    {
     "data": {
      "text/plain": [
       "Index(['AccNum', 'GeneName', 'cdReads0', 'cdRPKM0', 'cdReads1', 'cdRPKM1',\n",
       "       'cdReads2', 'cdRPKM2', 'cdReads3', 'cdRPKM3', 'cdReads4', 'cdRPKM4',\n",
       "       'finiteDiff1', 'finiteDiff2', 'finiteDiff3', 'finiteDiff4'],\n",
       "      dtype='object')"
      ]
     },
     "execution_count": 16,
     "metadata": {},
     "output_type": "execute_result"
    }
   ],
   "source": [
    "df_rnaseq.keys()"
   ]
  },
  {
   "cell_type": "code",
   "execution_count": 17,
   "metadata": {
    "scrolled": false
   },
   "outputs": [],
   "source": [
    "X = df_rnaseq[['GeneName','cdRPKM0','cdRPKM1','cdRPKM2',\n",
    "               'cdRPKM3','cdRPKM4','finiteDiff1', 'finiteDiff2',\n",
    "               'finiteDiff3', 'finiteDiff4']].values"
   ]
  },
  {
   "cell_type": "code",
   "execution_count": 18,
   "metadata": {
    "scrolled": false
   },
   "outputs": [
    {
     "name": "stdout",
     "output_type": "stream",
     "text": [
      "[['ODR4' 6.605436149500001 5.568611817130001 5.3087508083 2.85931874152\n",
      "  3.1021040231299994 -1.0368243323700002 0.0 -2.44943206678 0.0]\n",
      " ['ATP5S' 8.0702527771 9.83821352996 8.1902089283 3.81463125315\n",
      "  2.81881456713 1.7679607528600005 -1.6480046016600003 -4.375577675150001\n",
      "  0.0]\n",
      " ['BICD2' 54.6322042655 55.141029642700005 57.390342504799996\n",
      "  35.7670934322 28.5485803292 0.0 2.249312862099991 -21.623249072599997\n",
      "  -7.218513102999999]\n",
      " ['THEM6' 48.8928694894 35.587030759099996 35.6486605764\n",
      "  18.881992423099998 13.1095108098 -13.305838730300003 0.0 -16.7666681533\n",
      "  -5.772481613299998]\n",
      " ['MRPS30' 34.8361695112 32.3216273873 31.7785833837 20.2047693648\n",
      "  15.1586994945 -2.5145421239 0.0 -11.573814018899999 -5.0460698703]]\n"
     ]
    }
   ],
   "source": [
    "print(X[:5])"
   ]
  },
  {
   "cell_type": "code",
   "execution_count": 19,
   "metadata": {
    "scrolled": false
   },
   "outputs": [],
   "source": [
    "clusters = [[] for i in range(len(trends))]\n",
    "genes = [[] for i in range(len(trends))]"
   ]
  },
  {
   "cell_type": "code",
   "execution_count": 20,
   "metadata": {
    "scrolled": false
   },
   "outputs": [
    {
     "name": "stdout",
     "output_type": "stream",
     "text": [
      "[[], [], [], [], []] \n",
      " [[], [], [], [], []]\n"
     ]
    }
   ],
   "source": [
    "print(clusters[:5],'\\n',genes[:5])"
   ]
  },
  {
   "cell_type": "code",
   "execution_count": 21,
   "metadata": {
    "scrolled": false
   },
   "outputs": [],
   "source": [
    "for x in X:\n",
    "    differences = x[-4:]\n",
    "    trend_check = list(map(check_val, differences))\n",
    "    for idx,t in enumerate(trends):\n",
    "        if(list(t)==trend_check):\n",
    "            clusters[idx].append(x[1:6])\n",
    "            genes[idx].append(x[0])"
   ]
  },
  {
   "cell_type": "code",
   "execution_count": 22,
   "metadata": {
    "scrolled": false
   },
   "outputs": [
    {
     "data": {
      "text/plain": [
       "array([12.3589562349, 9.73919484598, 6.35904072075, 3.2423427473900004,\n",
       "       4.267737942759998], dtype=object)"
      ]
     },
     "execution_count": 22,
     "metadata": {},
     "output_type": "execute_result"
    }
   ],
   "source": [
    "clusters[1][0]"
   ]
  },
  {
   "cell_type": "code",
   "execution_count": 23,
   "metadata": {
    "scrolled": false
   },
   "outputs": [
    {
     "name": "stdout",
     "output_type": "stream",
     "text": [
      "(-1, -1, -1, -1) 1409\n",
      "(-1, -1, -1, 1) 68\n",
      "(-1, -1, -1, 0) 414\n",
      "(-1, -1, 0, -1) 35\n",
      "(-1, -1, 0, 0) 36\n",
      "(-1, 1, -1, -1) 778\n",
      "(-1, 1, -1, 1) 8\n",
      "(-1, 1, -1, 0) 65\n",
      "(-1, 1, 1, -1) 1\n",
      "(-1, 1, 1, 1) 1\n",
      "(-1, 1, 0, -1) 8\n",
      "(-1, 1, 0, 1) 1\n",
      "(-1, 0, -1, -1) 669\n",
      "(-1, 0, -1, 1) 4\n",
      "(-1, 0, -1, 0) 215\n",
      "(-1, 0, 0, -1) 44\n",
      "(-1, 0, 0, 0) 75\n",
      "(1, -1, -1, -1) 1316\n",
      "(1, -1, -1, 1) 92\n",
      "(1, -1, -1, 0) 441\n",
      "(1, -1, 1, -1) 2\n",
      "(1, -1, 0, -1) 8\n",
      "(1, -1, 0, 0) 24\n",
      "(1, 1, -1, -1) 383\n",
      "(1, 1, -1, 1) 4\n",
      "(1, 1, -1, 0) 27\n",
      "(1, 0, -1, -1) 326\n",
      "(1, 0, -1, 1) 10\n",
      "(1, 0, -1, 0) 86\n",
      "(1, 0, 0, -1) 5\n",
      "(1, 0, 0, 0) 10\n",
      "(0, -1, -1, -1) 659\n",
      "(0, -1, -1, 1) 61\n",
      "(0, -1, -1, 0) 768\n",
      "(0, -1, 1, -1) 3\n",
      "(0, -1, 0, -1) 30\n",
      "(0, -1, 0, 1) 1\n",
      "(0, -1, 0, 0) 182\n",
      "(0, 1, -1, -1) 275\n",
      "(0, 1, -1, 0) 52\n",
      "(0, 1, 1, -1) 1\n",
      "(0, 1, 0, -1) 5\n",
      "(0, 1, 0, 0) 2\n",
      "(0, 0, -1, -1) 543\n",
      "(0, 0, -1, 1) 19\n",
      "(0, 0, -1, 0) 563\n",
      "(0, 0, 0, -1) 78\n",
      "(0, 0, 0, 1) 1\n",
      "(0, 0, 0, 0) 533\n"
     ]
    }
   ],
   "source": [
    "for idx,c in enumerate(clusters):\n",
    "    if(len(c)>0):\n",
    "        print(trends[idx],len(c))"
   ]
  },
  {
   "cell_type": "code",
   "execution_count": 24,
   "metadata": {
    "scrolled": false
   },
   "outputs": [],
   "source": [
    "def generate_title(trend,mapping):\n",
    "    s = ''\n",
    "    for t in trend:\n",
    "        s+=mapping[t]\n",
    "    return s"
   ]
  },
  {
   "cell_type": "code",
   "execution_count": 25,
   "metadata": {
    "scrolled": false
   },
   "outputs": [
    {
     "name": "stdout",
     "output_type": "stream",
     "text": [
      "DDDD\n"
     ]
    }
   ],
   "source": [
    "mapping = {1:'I',-1:'D',0:'S'}\n",
    "print(generate_title((-1, -1, -1, -1),mapping))"
   ]
  },
  {
   "cell_type": "markdown",
   "metadata": {},
   "source": [
    "### Bokeh"
   ]
  },
  {
   "cell_type": "code",
   "execution_count": 30,
   "metadata": {},
   "outputs": [],
   "source": [
    "from bokeh.models import ColumnDataSource\n",
    "from bokeh.models import HoverTool\n",
    "from bokeh.plotting import figure, output_file, show,save\n",
    "\n",
    "\n",
    "for idx,c in enumerate(clusters):\n",
    "    if(len(c)>0):\n",
    "        x = [1, 2, 3, 4, 5]\n",
    "        ys = c\n",
    "        title = generate_title(trends[idx],mapping)\n",
    "        hover = HoverTool(\n",
    "        tooltips=[\n",
    "            (\"(cdRPKM)\", \"($y)\"),\n",
    "            (\"gene\", \"@label\"),]\n",
    "        )\n",
    "        colors_list=[]\n",
    "        for i in range(len(c)):\n",
    "            color = \"#%06x\" % random.randint(0, 0xFFFFFF)\n",
    "            colors_list.append(color)\n",
    "        output_file(\"Bokeh Trend Plots/\"+title+\".html\")\n",
    "        actual_title = title+\":\"+str(len(c))+\" genes\"\n",
    "        p = figure(title=actual_title, x_axis_label='Timepoint', y_axis_label='cdRPKM', tools=[hover])\n",
    "        multi_line_source = ColumnDataSource({\n",
    "            'xs': [x]*len(c),\n",
    "            'ys': ys,\n",
    "            'label': genes[idx],\n",
    "            'color': colors_list,\n",
    "        })\n",
    "        p.multi_line('xs', 'ys', color='color', source=multi_line_source)\n",
    "        save(p)"
   ]
  },
  {
   "cell_type": "markdown",
   "metadata": {},
   "source": [
    "### Matplotlib"
   ]
  },
  {
   "cell_type": "code",
   "execution_count": 26,
   "metadata": {
    "scrolled": false
   },
   "outputs": [],
   "source": [
    "CDRPKM_LIST = ['cdRPKM0','cdRPKM1','cdRPKM2','cdRPKM3','cdRPKM4']"
   ]
  },
  {
   "cell_type": "code",
   "execution_count": null,
   "metadata": {
    "scrolled": true
   },
   "outputs": [],
   "source": [
    "for idx,c in enumerate(clusters):\n",
    "    if(len(c)>0):\n",
    "        fig = plt.subplot(111)\n",
    "        title = generate_title(trends[idx],mapping)\n",
    "        print(trends[idx],len(c))\n",
    "        for el in c:\n",
    "            fig.plot(CDRPKM_LIST, el)\n",
    "        actual_title = title+\":\"+str(len(c))+\" genes\"\n",
    "        plt.title(actual_title)\n",
    "        plt.savefig('/Users/akankshitadash/Desktop/Trends/RNASeq/Plots/'+title)\n",
    "        plt.show()\n",
    "        with open('/Users/akankshitadash/Desktop/Trends/RNASeq/Genes/'+title+'.txt','w') as f:\n",
    "            f.write('\\n'.join(genes[idx]))"
   ]
  },
  {
   "cell_type": "markdown",
   "metadata": {
    "collapsed": true,
    "scrolled": true
   },
   "source": [
    "### TE Data"
   ]
  },
  {
   "cell_type": "code",
   "execution_count": 31,
   "metadata": {},
   "outputs": [],
   "source": [
    "df_te = pd.read_csv('AdjustedRPKMOutput/TE_chrE.txt',sep='\\t')\n",
    "df_te['finiteDiff1']=df_te['TE1']-df_te['TE0']\n",
    "df_te['finiteDiff2']=df_te['TE2']-df_te['TE1']\n",
    "df_te['finiteDiff3']=df_te['TE3']-df_te['TE2']\n",
    "df_te['finiteDiff4']=df_te['TE4']-df_te['TE3']"
   ]
  },
  {
   "cell_type": "code",
   "execution_count": 32,
   "metadata": {},
   "outputs": [
    {
     "name": "stdout",
     "output_type": "stream",
     "text": [
      "4.34087904221947e-06 4.062556532558048e-05 1.1623685327033506e-05 1.0911591452500424e-05\n"
     ]
    }
   ],
   "source": [
    "print(abs(df_te['finiteDiff1']).min(),abs(df_te['finiteDiff2']).min(),\n",
    "abs(df_te['finiteDiff3']).min(),abs(df_te['finiteDiff4']).min())"
   ]
  },
  {
   "cell_type": "code",
   "execution_count": 33,
   "metadata": {},
   "outputs": [
    {
     "name": "stdout",
     "output_type": "stream",
     "text": [
      "21.639904566324603 0.028826660674268232\n",
      "18.714204070667694 0.06527466844287776\n",
      "71.6111994893856 0.09126721167629548\n",
      "50.11016606761263 0.11044312156478106\n",
      "130.4165749337216 0.11921530369135575\n"
     ]
    }
   ],
   "source": [
    "print(df_te['TE0'].max(),df_te['TE0'].min())\n",
    "print(df_te['TE1'].max(),df_te['TE1'].min())\n",
    "print(df_te['TE2'].max(),df_te['TE2'].min())\n",
    "print(df_te['TE3'].max(),df_te['TE3'].min())\n",
    "print(df_te['TE4'].max(),df_te['TE4'].min())"
   ]
  },
  {
   "cell_type": "code",
   "execution_count": 34,
   "metadata": {},
   "outputs": [],
   "source": [
    "tol = 10**(-4)\n",
    "df_te['finiteDiff1'] = np.where(abs(df_te['finiteDiff1']) < tol, 0,\n",
    "                                    df_te['finiteDiff1'])\n",
    "df_te['finiteDiff2'] = np.where(abs(df_te['finiteDiff2']) < tol, 0,\n",
    "                                    df_te['finiteDiff2'])\n",
    "df_te['finiteDiff3'] = np.where(abs(df_te['finiteDiff3']) < tol, 0,\n",
    "                                    df_te['finiteDiff3'])\n",
    "df_te['finiteDiff4'] = np.where(abs(df_te['finiteDiff4']) < tol, 0,\n",
    "                                    df_te['finiteDiff4'])"
   ]
  },
  {
   "cell_type": "code",
   "execution_count": 35,
   "metadata": {},
   "outputs": [
    {
     "data": {
      "text/plain": [
       "Index(['Unnamed: 0', 'AccNum', 'GeneName', 'TE0', 'TE1', 'TE2', 'TE3', 'TE4',\n",
       "       'finiteDiff1', 'finiteDiff2', 'finiteDiff3', 'finiteDiff4'],\n",
       "      dtype='object')"
      ]
     },
     "execution_count": 35,
     "metadata": {},
     "output_type": "execute_result"
    }
   ],
   "source": [
    "df_te.keys()"
   ]
  },
  {
   "cell_type": "code",
   "execution_count": 36,
   "metadata": {},
   "outputs": [],
   "source": [
    "X = df_te[['GeneName', 'TE0', 'TE1', 'TE2', 'TE3', 'TE4',\n",
    "       'finiteDiff1', 'finiteDiff2', 'finiteDiff3', 'finiteDiff4']].values"
   ]
  },
  {
   "cell_type": "code",
   "execution_count": 37,
   "metadata": {},
   "outputs": [],
   "source": [
    "clusters = [[] for i in range(len(trends))]\n",
    "genes = [[] for i in range(len(trends))]"
   ]
  },
  {
   "cell_type": "code",
   "execution_count": 38,
   "metadata": {},
   "outputs": [],
   "source": [
    "for x in X:\n",
    "    differences = x[-4:]\n",
    "    trend_check = list(map(check_val, differences))\n",
    "    for idx,t in enumerate(trends):\n",
    "        if(list(t)==trend_check):\n",
    "            clusters[idx].append(x[1:6])\n",
    "            genes[idx].append(x[0])\n",
    "TE_LIST = ['TE0', 'TE1', 'TE2', 'TE3', 'TE4']"
   ]
  },
  {
   "cell_type": "code",
   "execution_count": 39,
   "metadata": {},
   "outputs": [],
   "source": [
    "from bokeh.models import ColumnDataSource\n",
    "from bokeh.models import HoverTool\n",
    "from bokeh.plotting import figure, output_file, show,save\n",
    "\n",
    "\n",
    "for idx,c in enumerate(clusters):\n",
    "    if(len(c)>0):\n",
    "        x = [1, 2, 3, 4, 5]\n",
    "        ys = c\n",
    "        title = generate_title(trends[idx],mapping)\n",
    "        hover = HoverTool(\n",
    "        tooltips=[\n",
    "            (\"(cdRPKM)\", \"($y)\"),\n",
    "            (\"gene\", \"@label\"),]\n",
    "        )\n",
    "        colors_list=[]\n",
    "        for i in range(len(c)):\n",
    "            color = \"#%06x\" % random.randint(0, 0xFFFFFF)\n",
    "            colors_list.append(color)\n",
    "        output_file(\"Bokeh Trend Plots/TE/\"+title+\".html\")\n",
    "        actual_title = title+\":\"+str(len(c))+\" genes\"\n",
    "        p = figure(title=actual_title, x_axis_label='Timepoint', y_axis_label='cdRPKM', tools=[hover])\n",
    "        multi_line_source = ColumnDataSource({\n",
    "            'xs': [x]*len(c),\n",
    "            'ys': ys,\n",
    "            'label': genes[idx],\n",
    "            'color': colors_list,\n",
    "        })\n",
    "        p.multi_line('xs', 'ys', color='color', source=multi_line_source)\n",
    "        save(p)"
   ]
  },
  {
   "cell_type": "code",
   "execution_count": null,
   "metadata": {},
   "outputs": [],
   "source": [
    "for idx,c in enumerate(clusters):\n",
    "    if(len(c)>0):\n",
    "        fig = plt.subplot(111)\n",
    "        title = generate_title(trends[idx],mapping)\n",
    "        print(trends[idx],len(c))\n",
    "        for el in c:\n",
    "            fig.plot(CDRPKM_LIST, el)\n",
    "        actual_title = title+\":\"+str(len(c))+\" genes\"\n",
    "        plt.title(actual_title)\n",
    "        plt.savefig('/Users/akankshitadash/Desktop/Trends/Plots/'+title)\n",
    "        plt.show()\n",
    "        with open('/Users/akankshitadash/Desktop/Trends/Genes/'+title+'.txt','w') as f:\n",
    "            f.write('\\n'.join(genes[idx]))"
   ]
  }
 ],
 "metadata": {
  "kernelspec": {
   "display_name": "Python 3",
   "language": "python",
   "name": "python3"
  },
  "language_info": {
   "codemirror_mode": {
    "name": "ipython",
    "version": 3
   },
   "file_extension": ".py",
   "mimetype": "text/x-python",
   "name": "python",
   "nbconvert_exporter": "python",
   "pygments_lexer": "ipython3",
   "version": "3.6.4"
  }
 },
 "nbformat": 4,
 "nbformat_minor": 2
}
