{
 "cells": [
  {
   "cell_type": "markdown",
   "metadata": {},
   "source": [
    "# Import Libraries"
   ]
  },
  {
   "cell_type": "code",
   "execution_count": null,
   "metadata": {
    "scrolled": true
   },
   "outputs": [],
   "source": [
    "import numpy as np\n",
    "import pandas as pd\n",
    "from hmmlearn import hmm\n",
    "import warnings\n",
    "from constants import *\n",
    "import math\n",
    "import random\n",
    "import matplotlib.pyplot as plt\n",
    "import dill"
   ]
  },
  {
   "cell_type": "markdown",
   "metadata": {},
   "source": [
    "# Helper Methods"
   ]
  },
  {
   "cell_type": "code",
   "execution_count": 2,
   "metadata": {
    "scrolled": true
   },
   "outputs": [],
   "source": [
    "def generate_random_sample(X, size):\n",
    "    '''\n",
    "    Given a list X, \n",
    "    generate random samples of given size\n",
    "    '''\n",
    "    Z_temp = random.sample(list(X), size)\n",
    "    \n",
    "    #Concatenation\n",
    "    Z = [Z_temp[0]]\n",
    "    for val in Z_temp[1:]:\n",
    "        Z = np.concatenate([Z,[val]])\n",
    "    \n",
    "    return Z\n",
    "\n",
    "def convert_values_to_list(list_val):\n",
    "    '''\n",
    "    Given a list X = [1 2 3] , \n",
    "    return X = [[1],[2],[3]]\n",
    "    '''\n",
    "    X = []\n",
    "    for i in list_val:\n",
    "        X.append([i])\n",
    "    return X\n",
    "\n",
    "def conversion_list_of_list(X, DIMENSION):\n",
    "    '''\n",
    "    Given a list X with values in lists,\n",
    "    X = [[ 3  2  2],[4 8 10]]\n",
    "    Convert each value to a list\n",
    "    Return list of lists, array of lengths of each sequence\n",
    "    X = [[3] [2] [2] [4] [8] [10]]\n",
    "    ''' \n",
    "    X_new = []\n",
    "    length = len(X)\n",
    "    for idx, val_list in enumerate(X):\n",
    "        Y = []\n",
    "        for val in val_list:\n",
    "            Y.append([val])\n",
    "        X_new.append(Y)\n",
    "\n",
    "    #Concatenation\n",
    "    Z = X_new[0]\n",
    "    for val_list in X_new[1:]:\n",
    "        Z = np.concatenate([Z,val_list])\n",
    "\n",
    "    # assign array of lengths for HMM\n",
    "    lengths = [DIMENSION]*length\n",
    "    \n",
    "    return Z,lengths\n",
    "\n",
    "#Calculate likelihood for given sequence according to given HMMs and return HMM\n",
    "def likelihood_sequence(sequence, HMM_array):\n",
    "    '''\n",
    "    Given list of K HMMs and sequence,\n",
    "    determines likelihood of sequence under all HMM models\n",
    "    Returns index of HMM which has max likelihood\n",
    "    ''' \n",
    "    scores = []\n",
    "    length = [len(sequence)]\n",
    "    for i, HMM in enumerate(HMM_array):\n",
    "        calculated_score = HMM.score(sequence, length)\n",
    "        scores.append(calculated_score)\n",
    "    idx = scores.index(max(scores))\n",
    "    return idx\n",
    "\n",
    "def HMM_model_stats(model):\n",
    "    '''\n",
    "    Details of HMM model\n",
    "    ''' \n",
    "    print(\"*************************************\")\n",
    "    print(\"Transition matrix\")\n",
    "    print(model.transmat_)\n",
    "    print(\"*************************************\")\n",
    "    print(\"Means and stds of each hidden state\")\n",
    "    for i in range(model.n_components):\n",
    "        print(\"Hidden state {0}\".format(i))\n",
    "        print(\"mean = \", model.means_[i])\n",
    "        print(\"std = \", [np.sqrt(model.covars_[i])])\n",
    "        print()\n",
    "\n",
    "def BIC(HMM,X,lengths):\n",
    "    LogLikelihood = model.score(X,lengths)\n",
    "    num_hidden_states = model.n_components\n",
    "    num_mixture_components = model.n_mix\n",
    "    # D counts transition matrix (emission estimated by PDF), means = num_mixture_components*num_hidden_states  \n",
    "    # covariance matrix = num_mixture_components*num_hidden_states    \n",
    "    D = num_hidden_states**2 + 2*num_mixture_components*num_hidden_states \n",
    "    BIC = LogLikelihood - (D/2)*np.log(len(X))\n",
    "    return BIC\n",
    "    \n",
    "def BIC_array(HMM_array,X_i):\n",
    "    BIC_total = 0\n",
    "    for i in range(len(X_i)):\n",
    "        model = HMM_array[i]\n",
    "        X, lengths = conversion_list_of_list(X_i[i],DIMENSION)\n",
    "        BIC_total+= BIC(model,X,lengths)\n",
    "    return BIC_total\n",
    "\n",
    "def likelihood_array(HMM_array,X_i):\n",
    "    likelihood_total = 0\n",
    "    for i in range(len(X_i)):\n",
    "        if(len(X_i[i])>=HMM_array[i].n_mix):\n",
    "            model = HMM_array[i]\n",
    "            X, lengths = conversion_list_of_list(X_i[i],DIMENSION)\n",
    "            LogLikelihood = model.score(X,lengths)\n",
    "            likelihood = LogLikelihood \n",
    "            likelihood_total+= likelihood\n",
    "    return likelihood_total\n",
    "\n",
    "def plot_BIC(list_k, BIC_score):\n",
    "    fig = plt.subplot(111)\n",
    "    plt.plot(list_k, BIC_score, marker='o')  \n",
    "    plt.xlabel('Value of K')\n",
    "    plt.ylabel('Objective')\n",
    "    plt.title('BIC')\n",
    "    plt.show() "
   ]
  },
  {
   "cell_type": "markdown",
   "metadata": {},
   "source": [
    "# Load Data and Clean"
   ]
  },
  {
   "cell_type": "code",
   "execution_count": 3,
   "metadata": {},
   "outputs": [],
   "source": [
    "df = pd.read_csv('../Data/merged.txt', sep=\",\", na_values=['-'])\n",
    "df = df.dropna()\n",
    "df = df[['cdReads0','cdReads1','cdReads2','cdRPKM0','cdRPKM1','cdRPKM2']]"
   ]
  },
  {
   "cell_type": "markdown",
   "metadata": {},
   "source": [
    "# Filter cdReads"
   ]
  },
  {
   "cell_type": "code",
   "execution_count": 4,
   "metadata": {},
   "outputs": [],
   "source": [
    "df = df[(df['cdReads0'] >= 50) & (df['cdReads1'] >= 50) & (df['cdReads2'] >= 50)]"
   ]
  },
  {
   "cell_type": "code",
   "execution_count": 5,
   "metadata": {
    "scrolled": true
   },
   "outputs": [
    {
     "name": "stdout",
     "output_type": "stream",
     "text": [
      "Dataset size is 2072\n",
      "Features are 3\n",
      "       cdRPKM0     cdRPKM1     cdRPKM2\n",
      "6    39.456786   62.505536   84.519655\n",
      "19   29.836928   22.172994   17.721150\n",
      "34  188.746942  211.104962  221.175677\n",
      "57  283.823604  374.683044  285.247754\n",
      "81   90.967704  125.648541  120.892583\n",
      "****************************\n",
      "First 5 log2 values\n",
      " [[ 5.30220154  5.96591207  6.40121497]\n",
      " [ 4.89902709  4.47073168  4.14740034]\n",
      " [ 7.56030946  7.72181668  7.78904893]\n",
      " [ 8.14885076  8.54952688  8.15607171]\n",
      " [ 6.50728253  6.97325011  6.91758192]]\n"
     ]
    }
   ],
   "source": [
    "#Dataset\n",
    "df_main = df[['cdRPKM0','cdRPKM1','cdRPKM2']]\n",
    "LENGTH,DIMENSION = df_main.shape\n",
    "print(\"Dataset size is\",LENGTH)\n",
    "print(\"Features are\", DIMENSION)\n",
    "print(df_main.head(5))\n",
    "X = np.log2(df_main.values)\n",
    "print(\"****************************\")\n",
    "print(\"First 5 log2 values\\n\",X[:5])"
   ]
  },
  {
   "cell_type": "markdown",
   "metadata": {},
   "source": [
    "# Arrays with HMM models for 1<=K<=25"
   ]
  },
  {
   "cell_type": "code",
   "execution_count": 6,
   "metadata": {},
   "outputs": [],
   "source": [
    "HMM_K_ARRAYS = []\n",
    "X_i_K_ARRAYS = []"
   ]
  },
  {
   "cell_type": "markdown",
   "metadata": {},
   "source": [
    "# Check likelihood and do assignments"
   ]
  },
  {
   "cell_type": "code",
   "execution_count": 13,
   "metadata": {},
   "outputs": [],
   "source": [
    "K_values = range(9,30)"
   ]
  },
  {
   "cell_type": "code",
   "execution_count": 16,
   "metadata": {
    "scrolled": false
   },
   "outputs": [
    {
     "name": "stdout",
     "output_type": "stream",
     "text": [
      "**************** K = 9 ************************\n",
      "Likelihood for iteration 0 is -347972.478887\n",
      "************ Check likelihood of sequence in HMM  *********\n",
      "************ Checking likelihood done  *********\n",
      "************ Re-estimating HMM *********\n",
      "************ Re-estimation done *********\n",
      "Previous assignments {}\n",
      "Current assignments {8: 370, 5: 284, 1: 312, 0: 316, 7: 86, 4: 197, 6: 249, 2: 242, 3: 16}\n",
      "Likelihood for iteration 1 is -369366.003992\n",
      "*****************************************\n",
      "Num iterations is: 1\n",
      "************ Check likelihood of sequence in HMM  *********\n",
      "************ Checking likelihood done  *********\n",
      "************ Re-estimating HMM *********\n",
      "************ Re-estimation done *********\n",
      "Previous assignments {8: 370, 5: 284, 1: 312, 0: 316, 7: 86, 4: 197, 6: 249, 2: 242, 3: 16}\n",
      "Current assignments {8: 372, 5: 277, 1: 301, 0: 319, 7: 94, 4: 196, 6: 231, 2: 267, 3: 15}\n",
      "Likelihood for iteration 2 is -9792.48498225\n",
      "*****************************************\n",
      "Num iterations is: 2\n",
      "************ Check likelihood of sequence in HMM  *********\n",
      "************ Checking likelihood done  *********\n",
      "************ Re-estimating HMM *********\n",
      "************ Re-estimation done *********\n",
      "Previous assignments {8: 372, 5: 277, 1: 301, 0: 319, 7: 94, 4: 196, 6: 231, 2: 267, 3: 15}\n",
      "Current assignments {8: 327, 5: 267, 1: 297, 0: 345, 7: 91, 4: 201, 2: 463, 6: 74, 3: 7}\n",
      "Likelihood for iteration 3 is 1.23665200737e+173\n",
      "*****************************************\n",
      "Num iterations is: 3\n",
      "************ Check likelihood of sequence in HMM  *********\n",
      "************ Checking likelihood done  *********\n",
      "************ Re-estimating HMM *********\n",
      "************ Re-estimation done *********\n",
      "Previous assignments {8: 327, 5: 267, 1: 297, 0: 345, 7: 91, 4: 201, 2: 463, 6: 74, 3: 7}\n",
      "Current assignments {8: 285, 5: 265, 1: 297, 0: 360, 7: 89, 4: 201, 2: 538, 6: 36, 3: 1}\n",
      "Likelihood for iteration 4 is -10373.0975475\n",
      "*****************************************\n",
      "Num iterations is: 4\n",
      "************ Check likelihood of sequence in HMM  *********\n",
      "************ Checking likelihood done  *********\n",
      "************ Re-estimating HMM *********\n",
      "************ Re-estimation done *********\n",
      "Previous assignments {8: 285, 5: 265, 1: 297, 0: 360, 7: 89, 4: 201, 2: 538, 6: 36, 3: 1}\n",
      "Current assignments {8: 368, 5: 290, 1: 299, 0: 365, 7: 84, 4: 201, 2: 441, 6: 23, 3: 1}\n",
      "Likelihood for iteration 5 is -9707.62274097\n",
      "*****************************************\n",
      "Num iterations is: 5\n",
      "************ Check likelihood of sequence in HMM  *********\n",
      "************ Checking likelihood done  *********\n",
      "************ Re-estimating HMM *********\n",
      "************ Re-estimation done *********\n",
      "Previous assignments {8: 368, 5: 290, 1: 299, 0: 365, 7: 84, 4: 201, 2: 441, 6: 23, 3: 1}\n",
      "Current assignments {8: 399, 5: 290, 1: 300, 0: 359, 4: 201, 2: 420, 7: 81, 6: 21, 3: 1}\n",
      "Likelihood for iteration 6 is -9667.64317895\n",
      "*****************************************\n",
      "Num iterations is: 6\n",
      "************ Check likelihood of sequence in HMM  *********\n",
      "************ Checking likelihood done  *********\n",
      "************ Re-estimating HMM *********\n",
      "************ Re-estimation done *********\n",
      "Previous assignments {8: 399, 5: 290, 1: 300, 0: 359, 4: 201, 2: 420, 7: 81, 6: 21, 3: 1}\n",
      "Current assignments {8: 398, 5: 291, 1: 300, 0: 359, 4: 201, 2: 421, 7: 81, 6: 20, 3: 1}\n",
      "Likelihood for iteration 7 is -9659.07743405\n",
      "*****************************************\n",
      "Num iterations is: 7\n",
      "************ Check likelihood of sequence in HMM  *********\n",
      "************ Checking likelihood done  *********\n",
      "************ Re-estimating HMM *********\n",
      "************ Re-estimation done *********\n",
      "Previous assignments {8: 398, 5: 291, 1: 300, 0: 359, 4: 201, 2: 421, 7: 81, 6: 20, 3: 1}\n",
      "Current assignments {8: 398, 5: 289, 1: 300, 0: 359, 4: 201, 2: 423, 7: 81, 6: 20, 3: 1}\n",
      "Likelihood for iteration 8 is -9657.1280282\n",
      "*****************************************\n",
      "Num iterations is: 8\n",
      "************ Check likelihood of sequence in HMM  *********\n",
      "************ Checking likelihood done  *********\n",
      "************ Re-estimating HMM *********\n",
      "************ Re-estimation done *********\n",
      "Previous assignments {8: 398, 5: 289, 1: 300, 0: 359, 4: 201, 2: 423, 7: 81, 6: 20, 3: 1}\n",
      "Current assignments {8: 398, 5: 289, 1: 300, 0: 359, 4: 201, 2: 423, 7: 81, 6: 20, 3: 1}\n",
      "Likelihood for iteration 9 is -9662.68084318\n",
      "*****************************************\n",
      "**********************************************************\n",
      "\n",
      "\n",
      "**************** K = 10 ************************\n",
      "Likelihood for iteration 0 is -322196.567383\n",
      "************ Check likelihood of sequence in HMM  *********\n",
      "************ Checking likelihood done  *********\n",
      "************ Re-estimating HMM *********\n",
      "************ Re-estimation done *********\n",
      "Previous assignments {}\n",
      "Current assignments {9: 219, 6: 287, 1: 313, 0: 246, 8: 89, 5: 197, 7: 258, 2: 217, 3: 230, 4: 16}\n",
      "Likelihood for iteration 1 is -345366.713425\n",
      "*****************************************\n",
      "Num iterations is: 1\n",
      "************ Check likelihood of sequence in HMM  *********\n",
      "************ Checking likelihood done  *********\n",
      "************ Re-estimating HMM *********\n",
      "************ Re-estimation done *********\n",
      "Previous assignments {9: 219, 6: 287, 1: 313, 0: 246, 8: 89, 5: 197, 7: 258, 2: 217, 3: 230, 4: 16}\n",
      "Current assignments {9: 220, 6: 277, 1: 301, 0: 255, 8: 93, 5: 196, 7: 241, 2: 217, 3: 257, 4: 15}\n",
      "Likelihood for iteration 2 is -9165.57774621\n",
      "*****************************************\n",
      "Num iterations is: 2\n",
      "************ Check likelihood of sequence in HMM  *********\n",
      "************ Checking likelihood done  *********\n",
      "************ Re-estimating HMM *********\n",
      "************ Re-estimation done *********\n",
      "Previous assignments {9: 220, 6: 277, 1: 301, 0: 255, 8: 93, 5: 196, 7: 241, 2: 217, 3: 257, 4: 15}\n",
      "Current assignments {3: 462, 6: 268, 1: 296, 0: 257, 8: 88, 5: 201, 9: 128, 2: 246, 7: 119, 4: 7}\n",
      "Likelihood for iteration 3 is -9500.14895433\n",
      "*****************************************\n",
      "Num iterations is: 3\n",
      "************ Check likelihood of sequence in HMM  *********\n",
      "************ Checking likelihood done  *********\n",
      "************ Re-estimating HMM *********\n",
      "************ Re-estimation done *********\n",
      "Previous assignments {3: 462, 6: 268, 1: 296, 0: 257, 8: 88, 5: 201, 9: 128, 2: 246, 7: 119, 4: 7}\n",
      "Current assignments {3: 419, 6: 267, 1: 298, 0: 266, 5: 201, 7: 221, 9: 64, 8: 82, 2: 253, 4: 1}\n",
      "Likelihood for iteration 4 is -9128.72216311\n",
      "*****************************************\n",
      "Num iterations is: 4\n",
      "************ Check likelihood of sequence in HMM  *********\n",
      "************ Checking likelihood done  *********\n",
      "************ Re-estimating HMM *********\n"
     ]
    },
    {
     "ename": "ValueError",
     "evalue": "n_samples=1 should be >= n_clusters=3",
     "output_type": "error",
     "traceback": [
      "\u001b[0;31m---------------------------------------------------------------------------\u001b[0m",
      "\u001b[0;31mValueError\u001b[0m                                Traceback (most recent call last)",
      "\u001b[0;32m<ipython-input-16-cbf096e020ae>\u001b[0m in \u001b[0;36m<module>\u001b[0;34m()\u001b[0m\n\u001b[1;32m     48\u001b[0m             \u001b[0;32mif\u001b[0m\u001b[0;34m(\u001b[0m\u001b[0mlen\u001b[0m\u001b[0;34m(\u001b[0m\u001b[0mX_i\u001b[0m\u001b[0;34m[\u001b[0m\u001b[0mi\u001b[0m\u001b[0;34m]\u001b[0m\u001b[0;34m)\u001b[0m\u001b[0;34m>=\u001b[0m\u001b[0mmodel\u001b[0m\u001b[0;34m.\u001b[0m\u001b[0mn_mix\u001b[0m\u001b[0;34m)\u001b[0m\u001b[0;34m:\u001b[0m\u001b[0;34m\u001b[0m\u001b[0m\n\u001b[1;32m     49\u001b[0m                 \u001b[0mX_temp\u001b[0m\u001b[0;34m,\u001b[0m \u001b[0mlengths\u001b[0m \u001b[0;34m=\u001b[0m \u001b[0mconversion_list_of_list\u001b[0m\u001b[0;34m(\u001b[0m\u001b[0mX_i\u001b[0m\u001b[0;34m[\u001b[0m\u001b[0mi\u001b[0m\u001b[0;34m]\u001b[0m\u001b[0;34m,\u001b[0m \u001b[0mDIMENSION\u001b[0m\u001b[0;34m)\u001b[0m\u001b[0;34m\u001b[0m\u001b[0m\n\u001b[0;32m---> 50\u001b[0;31m                 \u001b[0mmodel\u001b[0m\u001b[0;34m.\u001b[0m\u001b[0mfit\u001b[0m\u001b[0;34m(\u001b[0m\u001b[0mX_temp\u001b[0m\u001b[0;34m,\u001b[0m \u001b[0mlengths\u001b[0m\u001b[0;34m)\u001b[0m\u001b[0;34m\u001b[0m\u001b[0m\n\u001b[0m\u001b[1;32m     51\u001b[0m                 \u001b[0mHMM_array\u001b[0m\u001b[0;34m.\u001b[0m\u001b[0mappend\u001b[0m\u001b[0;34m(\u001b[0m\u001b[0mmodel\u001b[0m\u001b[0;34m)\u001b[0m\u001b[0;34m\u001b[0m\u001b[0m\n\u001b[1;32m     52\u001b[0m             \u001b[0;32melse\u001b[0m\u001b[0;34m:\u001b[0m\u001b[0;34m\u001b[0m\u001b[0m\n",
      "\u001b[0;32m/usr/local/lib/python3.6/site-packages/hmmlearn/base.py\u001b[0m in \u001b[0;36mfit\u001b[0;34m(self, X, lengths)\u001b[0m\n\u001b[1;32m    422\u001b[0m         \"\"\"\n\u001b[1;32m    423\u001b[0m         \u001b[0mX\u001b[0m \u001b[0;34m=\u001b[0m \u001b[0mcheck_array\u001b[0m\u001b[0;34m(\u001b[0m\u001b[0mX\u001b[0m\u001b[0;34m)\u001b[0m\u001b[0;34m\u001b[0m\u001b[0m\n\u001b[0;32m--> 424\u001b[0;31m         \u001b[0mself\u001b[0m\u001b[0;34m.\u001b[0m\u001b[0m_init\u001b[0m\u001b[0;34m(\u001b[0m\u001b[0mX\u001b[0m\u001b[0;34m,\u001b[0m \u001b[0mlengths\u001b[0m\u001b[0;34m=\u001b[0m\u001b[0mlengths\u001b[0m\u001b[0;34m)\u001b[0m\u001b[0;34m\u001b[0m\u001b[0m\n\u001b[0m\u001b[1;32m    425\u001b[0m         \u001b[0mself\u001b[0m\u001b[0;34m.\u001b[0m\u001b[0m_check\u001b[0m\u001b[0;34m(\u001b[0m\u001b[0;34m)\u001b[0m\u001b[0;34m\u001b[0m\u001b[0m\n\u001b[1;32m    426\u001b[0m \u001b[0;34m\u001b[0m\u001b[0m\n",
      "\u001b[0;32m/usr/local/lib/python3.6/site-packages/hmmlearn/hmm.py\u001b[0m in \u001b[0;36m_init\u001b[0;34m(self, X, lengths)\u001b[0m\n\u001b[1;32m    606\u001b[0m             kmeans = cluster.KMeans(n_clusters=self.n_mix,\n\u001b[1;32m    607\u001b[0m                                     random_state=self.random_state)\n\u001b[0;32m--> 608\u001b[0;31m             \u001b[0mkmeans\u001b[0m\u001b[0;34m.\u001b[0m\u001b[0mfit\u001b[0m\u001b[0;34m(\u001b[0m\u001b[0mX\u001b[0m\u001b[0;34m[\u001b[0m\u001b[0mnp\u001b[0m\u001b[0;34m.\u001b[0m\u001b[0mwhere\u001b[0m\u001b[0;34m(\u001b[0m\u001b[0mlabels\u001b[0m \u001b[0;34m==\u001b[0m \u001b[0mlabel\u001b[0m\u001b[0;34m)\u001b[0m\u001b[0;34m]\u001b[0m\u001b[0;34m)\u001b[0m\u001b[0;34m\u001b[0m\u001b[0m\n\u001b[0m\u001b[1;32m    609\u001b[0m             \u001b[0mkmeanses\u001b[0m\u001b[0;34m.\u001b[0m\u001b[0mappend\u001b[0m\u001b[0;34m(\u001b[0m\u001b[0mkmeans\u001b[0m\u001b[0;34m)\u001b[0m\u001b[0;34m\u001b[0m\u001b[0m\n\u001b[1;32m    610\u001b[0m \u001b[0;34m\u001b[0m\u001b[0m\n",
      "\u001b[0;32m/usr/local/lib/python3.6/site-packages/sklearn/cluster/k_means_.py\u001b[0m in \u001b[0;36mfit\u001b[0;34m(self, X, y)\u001b[0m\n\u001b[1;32m    885\u001b[0m         \"\"\"\n\u001b[1;32m    886\u001b[0m         \u001b[0mrandom_state\u001b[0m \u001b[0;34m=\u001b[0m \u001b[0mcheck_random_state\u001b[0m\u001b[0;34m(\u001b[0m\u001b[0mself\u001b[0m\u001b[0;34m.\u001b[0m\u001b[0mrandom_state\u001b[0m\u001b[0;34m)\u001b[0m\u001b[0;34m\u001b[0m\u001b[0m\n\u001b[0;32m--> 887\u001b[0;31m         \u001b[0mX\u001b[0m \u001b[0;34m=\u001b[0m \u001b[0mself\u001b[0m\u001b[0;34m.\u001b[0m\u001b[0m_check_fit_data\u001b[0m\u001b[0;34m(\u001b[0m\u001b[0mX\u001b[0m\u001b[0;34m)\u001b[0m\u001b[0;34m\u001b[0m\u001b[0m\n\u001b[0m\u001b[1;32m    888\u001b[0m \u001b[0;34m\u001b[0m\u001b[0m\n\u001b[1;32m    889\u001b[0m         \u001b[0mself\u001b[0m\u001b[0;34m.\u001b[0m\u001b[0mcluster_centers_\u001b[0m\u001b[0;34m,\u001b[0m \u001b[0mself\u001b[0m\u001b[0;34m.\u001b[0m\u001b[0mlabels_\u001b[0m\u001b[0;34m,\u001b[0m \u001b[0mself\u001b[0m\u001b[0;34m.\u001b[0m\u001b[0minertia_\u001b[0m\u001b[0;34m,\u001b[0m \u001b[0mself\u001b[0m\u001b[0;34m.\u001b[0m\u001b[0mn_iter_\u001b[0m \u001b[0;34m=\u001b[0m\u001b[0;31m \u001b[0m\u001b[0;31m\\\u001b[0m\u001b[0;34m\u001b[0m\u001b[0m\n",
      "\u001b[0;32m/usr/local/lib/python3.6/site-packages/sklearn/cluster/k_means_.py\u001b[0m in \u001b[0;36m_check_fit_data\u001b[0;34m(self, X)\u001b[0m\n\u001b[1;32m    859\u001b[0m         \u001b[0;32mif\u001b[0m \u001b[0mX\u001b[0m\u001b[0;34m.\u001b[0m\u001b[0mshape\u001b[0m\u001b[0;34m[\u001b[0m\u001b[0;36m0\u001b[0m\u001b[0;34m]\u001b[0m \u001b[0;34m<\u001b[0m \u001b[0mself\u001b[0m\u001b[0;34m.\u001b[0m\u001b[0mn_clusters\u001b[0m\u001b[0;34m:\u001b[0m\u001b[0;34m\u001b[0m\u001b[0m\n\u001b[1;32m    860\u001b[0m             raise ValueError(\"n_samples=%d should be >= n_clusters=%d\" % (\n\u001b[0;32m--> 861\u001b[0;31m                 X.shape[0], self.n_clusters))\n\u001b[0m\u001b[1;32m    862\u001b[0m         \u001b[0;32mreturn\u001b[0m \u001b[0mX\u001b[0m\u001b[0;34m\u001b[0m\u001b[0m\n\u001b[1;32m    863\u001b[0m \u001b[0;34m\u001b[0m\u001b[0m\n",
      "\u001b[0;31mValueError\u001b[0m: n_samples=1 should be >= n_clusters=3"
     ]
    }
   ],
   "source": [
    "for K in K_values:\n",
    "    HMM_array = []\n",
    "    X_i = []\n",
    "    print(\"**************** K =\", K ,\"************************\")\n",
    "    for i in range(K):\n",
    "        X_i.append([])\n",
    "\n",
    "    # Sequences for initial HMM estimation\n",
    "    for i in range(LENGTH):\n",
    "        for j in range(K):\n",
    "            if(i%K==j):\n",
    "                X_i[j].append(list(X[i]))\n",
    "    \n",
    "    NUM_ITERATIONS = 0\n",
    "    NUM_CLUSTER_PREV = {}\n",
    "    NUM_CLUSTER_NOW = {}\n",
    "                \n",
    "    for i in range(K):\n",
    "        model = hmm.GMMHMM(n_components=3,n_mix=3,covariance_type='diag')\n",
    "        X_temp, lengths = conversion_list_of_list(X_i[i],DIMENSION)\n",
    "        model.fit(X_temp, lengths)\n",
    "        HMM_array.append(model)\n",
    "    \n",
    "    likelihood_prev = likelihood_array(HMM_array,X_i)\n",
    "    print(\"Likelihood for iteration\",NUM_ITERATIONS,\"is\",likelihood_prev)\n",
    "    NUM_ITERATIONS+=1\n",
    "    while (True):\n",
    "        # Assign all sequences to HMM models\n",
    "\n",
    "        print(\"************ Check likelihood of sequence in HMM  *********\")\n",
    "        NUM_CLUSTER_NOW = {}\n",
    "        for x in X:\n",
    "            sequence = convert_values_to_list(x)\n",
    "            hmm_index = likelihood_sequence(sequence, HMM_array)\n",
    "            X_i[hmm_index].append(list(x))\n",
    "            if (hmm_index not in NUM_CLUSTER_NOW):\n",
    "                NUM_CLUSTER_NOW[hmm_index] = 1\n",
    "            else:\n",
    "                NUM_CLUSTER_NOW[hmm_index] += 1\n",
    "        print(\"************ Checking likelihood done  *********\")\n",
    "\n",
    "        # Re-estimate parameters for new HMMs\n",
    "        print(\"************ Re-estimating HMM *********\")\n",
    "        HMM_array_prev = HMM_array\n",
    "        HMM_array = []\n",
    "        for i in range(K):\n",
    "            model = hmm.GMMHMM(n_components=3,n_mix=3,covariance_type='diag')\n",
    "            if(len(X_i[i])>=model.n_mix):\n",
    "                X_temp, lengths = conversion_list_of_list(X_i[i], DIMENSION)\n",
    "                model.fit(X_temp, lengths)\n",
    "                HMM_array.append(model)\n",
    "            else:\n",
    "                HMM_array.append(HMM_array_prev[i])\n",
    "        print(\"************ Re-estimation done *********\")\n",
    "        print(\"Previous assignments\",NUM_CLUSTER_PREV)\n",
    "        print(\"Current assignments\",NUM_CLUSTER_NOW)\n",
    "        likelihood_curr = likelihood_array(HMM_array,X_i)\n",
    "        print(\"Likelihood for iteration\",NUM_ITERATIONS,\"is\",likelihood_curr)\n",
    "        print(\"*****************************************\")\n",
    "\n",
    "        # if no reassignments, then break\n",
    "        if ((NUM_CLUSTER_PREV == NUM_CLUSTER_NOW) or NUM_ITERATIONS>100):\n",
    "            HMM_K_ARRAYS.append(HMM_array)\n",
    "            X_i_K_ARRAYS.append(X_i)\n",
    "            break\n",
    "        else:\n",
    "            # initialize empty subsets of data for next iteration\n",
    "            X_i = []\n",
    "            for i in range(K):\n",
    "                X_i.append([])\n",
    "\n",
    "            NUM_CLUSTER_PREV = NUM_CLUSTER_NOW\n",
    "            print(\"Num iterations is:\", NUM_ITERATIONS)\n",
    "            NUM_ITERATIONS += 1\n",
    "            likelihood_prev = likelihood_curr\n",
    "    print(\"**********************************************************\\n\\n\")"
   ]
  },
  {
   "cell_type": "code",
   "execution_count": 25,
   "metadata": {},
   "outputs": [
    {
     "name": "stdout",
     "output_type": "stream",
     "text": [
      "63 [3, 3, 3, 3, 3, 3, 3, 3, 3, 3, 3, 3, 3, 3, 3, 3, 3, 3, 3, 3, 3]\n",
      "{3: 515, 6: 268, 1: 299, 0: 266, 5: 201, 8: 81, 7: 159, 2: 261, 9: 21, 4: 1}\n"
     ]
    },
    {
     "ename": "ValueError",
     "evalue": "n_samples=1 should be >= n_clusters=3",
     "output_type": "error",
     "traceback": [
      "\u001b[0;31m---------------------------------------------------------------------------\u001b[0m",
      "\u001b[0;31mValueError\u001b[0m                                Traceback (most recent call last)",
      "\u001b[0;32m<ipython-input-25-f033ad15daeb>\u001b[0m in \u001b[0;36m<module>\u001b[0;34m()\u001b[0m\n\u001b[1;32m      1\u001b[0m \u001b[0mprint\u001b[0m\u001b[0;34m(\u001b[0m\u001b[0mlen\u001b[0m\u001b[0;34m(\u001b[0m\u001b[0mX_temp\u001b[0m\u001b[0;34m)\u001b[0m\u001b[0;34m,\u001b[0m\u001b[0mlengths\u001b[0m\u001b[0;34m)\u001b[0m\u001b[0;34m\u001b[0m\u001b[0m\n\u001b[1;32m      2\u001b[0m \u001b[0mprint\u001b[0m\u001b[0;34m(\u001b[0m\u001b[0mNUM_CLUSTER_NOW\u001b[0m\u001b[0;34m)\u001b[0m\u001b[0;34m\u001b[0m\u001b[0m\n\u001b[0;32m----> 3\u001b[0;31m \u001b[0mmodel\u001b[0m\u001b[0;34m.\u001b[0m\u001b[0mfit\u001b[0m\u001b[0;34m(\u001b[0m\u001b[0mX_temp\u001b[0m\u001b[0;34m)\u001b[0m\u001b[0;34m\u001b[0m\u001b[0m\n\u001b[0m",
      "\u001b[0;32m/usr/local/lib/python3.6/site-packages/hmmlearn/base.py\u001b[0m in \u001b[0;36mfit\u001b[0;34m(self, X, lengths)\u001b[0m\n\u001b[1;32m    422\u001b[0m         \"\"\"\n\u001b[1;32m    423\u001b[0m         \u001b[0mX\u001b[0m \u001b[0;34m=\u001b[0m \u001b[0mcheck_array\u001b[0m\u001b[0;34m(\u001b[0m\u001b[0mX\u001b[0m\u001b[0;34m)\u001b[0m\u001b[0;34m\u001b[0m\u001b[0m\n\u001b[0;32m--> 424\u001b[0;31m         \u001b[0mself\u001b[0m\u001b[0;34m.\u001b[0m\u001b[0m_init\u001b[0m\u001b[0;34m(\u001b[0m\u001b[0mX\u001b[0m\u001b[0;34m,\u001b[0m \u001b[0mlengths\u001b[0m\u001b[0;34m=\u001b[0m\u001b[0mlengths\u001b[0m\u001b[0;34m)\u001b[0m\u001b[0;34m\u001b[0m\u001b[0m\n\u001b[0m\u001b[1;32m    425\u001b[0m         \u001b[0mself\u001b[0m\u001b[0;34m.\u001b[0m\u001b[0m_check\u001b[0m\u001b[0;34m(\u001b[0m\u001b[0;34m)\u001b[0m\u001b[0;34m\u001b[0m\u001b[0m\n\u001b[1;32m    426\u001b[0m \u001b[0;34m\u001b[0m\u001b[0m\n",
      "\u001b[0;32m/usr/local/lib/python3.6/site-packages/hmmlearn/hmm.py\u001b[0m in \u001b[0;36m_init\u001b[0;34m(self, X, lengths)\u001b[0m\n\u001b[1;32m    606\u001b[0m             kmeans = cluster.KMeans(n_clusters=self.n_mix,\n\u001b[1;32m    607\u001b[0m                                     random_state=self.random_state)\n\u001b[0;32m--> 608\u001b[0;31m             \u001b[0mkmeans\u001b[0m\u001b[0;34m.\u001b[0m\u001b[0mfit\u001b[0m\u001b[0;34m(\u001b[0m\u001b[0mX\u001b[0m\u001b[0;34m[\u001b[0m\u001b[0mnp\u001b[0m\u001b[0;34m.\u001b[0m\u001b[0mwhere\u001b[0m\u001b[0;34m(\u001b[0m\u001b[0mlabels\u001b[0m \u001b[0;34m==\u001b[0m \u001b[0mlabel\u001b[0m\u001b[0;34m)\u001b[0m\u001b[0;34m]\u001b[0m\u001b[0;34m)\u001b[0m\u001b[0;34m\u001b[0m\u001b[0m\n\u001b[0m\u001b[1;32m    609\u001b[0m             \u001b[0mkmeanses\u001b[0m\u001b[0;34m.\u001b[0m\u001b[0mappend\u001b[0m\u001b[0;34m(\u001b[0m\u001b[0mkmeans\u001b[0m\u001b[0;34m)\u001b[0m\u001b[0;34m\u001b[0m\u001b[0m\n\u001b[1;32m    610\u001b[0m \u001b[0;34m\u001b[0m\u001b[0m\n",
      "\u001b[0;32m/usr/local/lib/python3.6/site-packages/sklearn/cluster/k_means_.py\u001b[0m in \u001b[0;36mfit\u001b[0;34m(self, X, y)\u001b[0m\n\u001b[1;32m    885\u001b[0m         \"\"\"\n\u001b[1;32m    886\u001b[0m         \u001b[0mrandom_state\u001b[0m \u001b[0;34m=\u001b[0m \u001b[0mcheck_random_state\u001b[0m\u001b[0;34m(\u001b[0m\u001b[0mself\u001b[0m\u001b[0;34m.\u001b[0m\u001b[0mrandom_state\u001b[0m\u001b[0;34m)\u001b[0m\u001b[0;34m\u001b[0m\u001b[0m\n\u001b[0;32m--> 887\u001b[0;31m         \u001b[0mX\u001b[0m \u001b[0;34m=\u001b[0m \u001b[0mself\u001b[0m\u001b[0;34m.\u001b[0m\u001b[0m_check_fit_data\u001b[0m\u001b[0;34m(\u001b[0m\u001b[0mX\u001b[0m\u001b[0;34m)\u001b[0m\u001b[0;34m\u001b[0m\u001b[0m\n\u001b[0m\u001b[1;32m    888\u001b[0m \u001b[0;34m\u001b[0m\u001b[0m\n\u001b[1;32m    889\u001b[0m         \u001b[0mself\u001b[0m\u001b[0;34m.\u001b[0m\u001b[0mcluster_centers_\u001b[0m\u001b[0;34m,\u001b[0m \u001b[0mself\u001b[0m\u001b[0;34m.\u001b[0m\u001b[0mlabels_\u001b[0m\u001b[0;34m,\u001b[0m \u001b[0mself\u001b[0m\u001b[0;34m.\u001b[0m\u001b[0minertia_\u001b[0m\u001b[0;34m,\u001b[0m \u001b[0mself\u001b[0m\u001b[0;34m.\u001b[0m\u001b[0mn_iter_\u001b[0m \u001b[0;34m=\u001b[0m\u001b[0;31m \u001b[0m\u001b[0;31m\\\u001b[0m\u001b[0;34m\u001b[0m\u001b[0m\n",
      "\u001b[0;32m/usr/local/lib/python3.6/site-packages/sklearn/cluster/k_means_.py\u001b[0m in \u001b[0;36m_check_fit_data\u001b[0;34m(self, X)\u001b[0m\n\u001b[1;32m    859\u001b[0m         \u001b[0;32mif\u001b[0m \u001b[0mX\u001b[0m\u001b[0;34m.\u001b[0m\u001b[0mshape\u001b[0m\u001b[0;34m[\u001b[0m\u001b[0;36m0\u001b[0m\u001b[0;34m]\u001b[0m \u001b[0;34m<\u001b[0m \u001b[0mself\u001b[0m\u001b[0;34m.\u001b[0m\u001b[0mn_clusters\u001b[0m\u001b[0;34m:\u001b[0m\u001b[0;34m\u001b[0m\u001b[0m\n\u001b[1;32m    860\u001b[0m             raise ValueError(\"n_samples=%d should be >= n_clusters=%d\" % (\n\u001b[0;32m--> 861\u001b[0;31m                 X.shape[0], self.n_clusters))\n\u001b[0m\u001b[1;32m    862\u001b[0m         \u001b[0;32mreturn\u001b[0m \u001b[0mX\u001b[0m\u001b[0;34m\u001b[0m\u001b[0m\n\u001b[1;32m    863\u001b[0m \u001b[0;34m\u001b[0m\u001b[0m\n",
      "\u001b[0;31mValueError\u001b[0m: n_samples=1 should be >= n_clusters=3"
     ]
    }
   ],
   "source": [
    "print(len(X_temp),lengths)\n",
    "print(NUM_CLUSTER_NOW)\n",
    "model.fit(X_temp)"
   ]
  },
  {
   "cell_type": "code",
   "execution_count": null,
   "metadata": {},
   "outputs": [],
   "source": [
    "dill.dump_session('../Weights/HMM_GMM_i.db')"
   ]
  },
  {
   "cell_type": "markdown",
   "metadata": {},
   "source": [
    "# Calculate BIC for these assignments"
   ]
  },
  {
   "cell_type": "code",
   "execution_count": null,
   "metadata": {},
   "outputs": [],
   "source": [
    "print(BIC_array(HMM_array,X_i))"
   ]
  },
  {
   "cell_type": "code",
   "execution_count": null,
   "metadata": {
    "scrolled": true
   },
   "outputs": [],
   "source": [
    "print(BIC_array(HMM_array,X_i))"
   ]
  },
  {
   "cell_type": "markdown",
   "metadata": {},
   "source": [
    "# Noise Cluster"
   ]
  },
  {
   "cell_type": "code",
   "execution_count": null,
   "metadata": {
    "scrolled": true
   },
   "outputs": [],
   "source": [
    "# Get list of lists to fit\n",
    "Z, lengths = conversion_list_of_list(X,DIMENSION)"
   ]
  },
  {
   "cell_type": "code",
   "execution_count": null,
   "metadata": {
    "scrolled": true
   },
   "outputs": [],
   "source": [
    "# Noise cluster \n",
    "\n",
    "model_noise = hmm.GMMHMM(n_components=3,n_mix=3,covariance_type='spherical')\n",
    "model_noise.fit(Z, lengths)"
   ]
  },
  {
   "cell_type": "code",
   "execution_count": null,
   "metadata": {
    "scrolled": true
   },
   "outputs": [],
   "source": [
    "HMM_model_stats(model_noise)"
   ]
  },
  {
   "cell_type": "markdown",
   "metadata": {},
   "source": [
    "# Generate subsets of data for K HMMs"
   ]
  },
  {
   "cell_type": "code",
   "execution_count": 9,
   "metadata": {
    "scrolled": true
   },
   "outputs": [],
   "source": [
    "K = 3\n",
    "HMM_array = []\n",
    "X_i = []\n",
    "\n",
    "for i in range(K):\n",
    "    X_i.append([])\n",
    "\n",
    "# Sequences for initial HMM estimation\n",
    "for i in range(LENGTH):\n",
    "    for j in range(K):\n",
    "        if(i%K==j):\n",
    "            X_i[j].append(list(X[i]))"
   ]
  },
  {
   "cell_type": "code",
   "execution_count": 10,
   "metadata": {
    "scrolled": true
   },
   "outputs": [],
   "source": [
    "for i in range(K):\n",
    "    model = hmm.GMMHMM(n_components=3,n_mix=4, covariance_type='diag')\n",
    "    X_temp, lengths = conversion_list_of_list(X_i[i],DIMENSION)\n",
    "    model.fit(X_temp, lengths)\n",
    "    HMM_array.append(model)"
   ]
  },
  {
   "cell_type": "markdown",
   "metadata": {},
   "source": [
    "## Statistics for K HMMs"
   ]
  },
  {
   "cell_type": "code",
   "execution_count": 11,
   "metadata": {
    "scrolled": false
   },
   "outputs": [
    {
     "name": "stdout",
     "output_type": "stream",
     "text": [
      "Statistics for HMM Model 0\n",
      "*************************************\n",
      "Transition matrix\n",
      "[[ 0.49876181  0.28993422  0.21130397]\n",
      " [ 0.23691646  0.68427773  0.07880581]\n",
      " [ 0.3782994   0.16818828  0.45351232]]\n",
      "*************************************\n",
      "Means and stds of each hidden state\n",
      "Hidden state 0\n",
      "mean =  [[ 6.67726755]\n",
      " [ 6.68602952]\n",
      " [ 6.64170403]\n",
      " [ 6.68414936]]\n",
      "std =  [array([[ 0.20447024],\n",
      "       [ 0.21052482],\n",
      "       [ 0.18644238],\n",
      "       [ 0.20838649]])]\n",
      "\n",
      "Hidden state 1\n",
      "mean =  [[ 6.69113721]\n",
      " [ 6.69180097]\n",
      " [ 6.69156746]\n",
      " [ 6.69198519]]\n",
      "std =  [array([[ 0.21131971],\n",
      "       [ 0.21755446],\n",
      "       [ 0.21422457],\n",
      "       [ 0.22295921]])]\n",
      "\n",
      "Hidden state 2\n",
      "mean =  [[ 6.68884738]\n",
      " [ 6.68602658]\n",
      " [ 6.68936734]\n",
      " [ 6.68943163]]\n",
      "std =  [array([[ 0.2094262 ],\n",
      "       [ 0.20789559],\n",
      "       [ 0.21273066],\n",
      "       [ 0.21866657]])]\n",
      "\n",
      "\n",
      "\n",
      "\n",
      "Statistics for HMM Model 1\n",
      "*************************************\n",
      "Transition matrix\n",
      "[[ 0.49880502  0.36345065  0.13774433]\n",
      " [ 0.31239655  0.65473736  0.03286609]\n",
      " [ 0.42927195  0.11800304  0.45272501]]\n",
      "*************************************\n",
      "Means and stds of each hidden state\n",
      "Hidden state 0\n",
      "mean =  [[ 7.87899385]\n",
      " [ 7.88704553]\n",
      " [ 7.88875745]\n",
      " [ 7.88439307]]\n",
      "std =  [array([[ 0.41042974],\n",
      "       [ 0.42655517],\n",
      "       [ 0.43484111],\n",
      "       [ 0.41903461]])]\n",
      "\n",
      "Hidden state 1\n",
      "mean =  [[ 7.91164078]\n",
      " [ 7.91439249]\n",
      " [ 7.91359108]\n",
      " [ 7.91269847]]\n",
      "std =  [array([[ 0.4587808 ],\n",
      "       [ 0.50841764],\n",
      "       [ 0.4879076 ],\n",
      "       [ 0.47186542]])]\n",
      "\n",
      "Hidden state 2\n",
      "mean =  [[ 7.86041014]\n",
      " [ 7.89489924]\n",
      " [ 7.89187659]\n",
      " [ 7.87980126]]\n",
      "std =  [array([[ 0.38904482],\n",
      "       [ 0.42428343],\n",
      "       [ 0.46106665],\n",
      "       [ 0.38345311]])]\n",
      "\n",
      "\n",
      "\n",
      "\n",
      "Statistics for HMM Model 2\n",
      "*************************************\n",
      "Transition matrix\n",
      "[[ 0.49619035  0.21931057  0.28449908]\n",
      " [ 0.07298958  0.83481393  0.09219649]\n",
      " [ 0.21832948  0.19935035  0.58232017]]\n",
      "*************************************\n",
      "Means and stds of each hidden state\n",
      "Hidden state 0\n",
      "mean =  [[ 5.7650314 ]\n",
      " [ 5.77002571]\n",
      " [ 5.83063715]\n",
      " [ 5.75130207]]\n",
      "std =  [array([[ 0.24465811],\n",
      "       [ 0.24281304],\n",
      "       [ 0.2101943 ],\n",
      "       [ 0.24941485]])]\n",
      "\n",
      "Hidden state 1\n",
      "mean =  [[ 5.75055408]\n",
      " [ 5.74457958]\n",
      " [ 5.74744892]\n",
      " [ 5.74128189]]\n",
      "std =  [array([[ 0.25075477],\n",
      "       [ 0.25282299],\n",
      "       [ 0.25181361],\n",
      "       [ 0.25399779]])]\n",
      "\n",
      "Hidden state 2\n",
      "mean =  [[ 5.71620857]\n",
      " [ 5.72010132]\n",
      " [ 5.71725802]\n",
      " [ 5.71509023]]\n",
      "std =  [array([[ 0.25928425],\n",
      "       [ 0.25861968],\n",
      "       [ 0.25907916],\n",
      "       [ 0.25961104]])]\n",
      "\n",
      "\n",
      "\n",
      "\n"
     ]
    }
   ],
   "source": [
    "for i in range(K):\n",
    "    print(\"Statistics for HMM Model\", i)\n",
    "    HMM_model_stats(HMM_array[i])\n",
    "    print('\\n\\n')"
   ]
  },
  {
   "cell_type": "code",
   "execution_count": null,
   "metadata": {},
   "outputs": [],
   "source": [
    "K = 3\n",
    "HMM_array = []\n",
    "X_i = []\n",
    "\n",
    "for i in range(K):\n",
    "    X_i.append([])\n",
    "\n",
    "# Sequences for initial HMM estimation\n",
    "for i in range(LENGTH):\n",
    "    for j in range(K):\n",
    "        if(i%K==j):\n",
    "            X_i[j].append(list(X[i]))\n",
    "for i in range(K):\n",
    "    model = hmm.GaussianHMM(n_components=3, covariance_type='diag')\n",
    "    X_temp, lengths = conversion_list_of_list(X_i[i],DIMENSION)\n",
    "    model.fit(X_temp, lengths)\n",
    "    HMM_array.append(model)\n",
    "for i in range(K):\n",
    "    print(\"Statistics for HMM Model\", i)\n",
    "    HMM_model_stats(HMM_array[i])\n",
    "    print('\\n\\n')"
   ]
  },
  {
   "cell_type": "code",
   "execution_count": null,
   "metadata": {},
   "outputs": [],
   "source": [
    "NUM_ITERATIONS = 1\n",
    "NUM_CLUSTER_PREV = {}\n",
    "NUM_CLUSTER_NOW = {}"
   ]
  },
  {
   "cell_type": "code",
   "execution_count": null,
   "metadata": {
    "scrolled": true
   },
   "outputs": [],
   "source": [
    "#initialize empty subsets of data\n",
    "X_i = []\n",
    "\n",
    "for i in range(K):\n",
    "    X_i.append([])"
   ]
  },
  {
   "cell_type": "code",
   "execution_count": null,
   "metadata": {
    "scrolled": true
   },
   "outputs": [],
   "source": [
    "likelihood_prev = likelihood_array(HMM_array,X_i)\n",
    "print(\"Likelihood for iteration\",0,\"is\",likelihood_prev)"
   ]
  }
 ],
 "metadata": {
  "kernelspec": {
   "display_name": "Python 3",
   "language": "python",
   "name": "python3"
  },
  "language_info": {
   "codemirror_mode": {
    "name": "ipython",
    "version": 3
   },
   "file_extension": ".py",
   "mimetype": "text/x-python",
   "name": "python",
   "nbconvert_exporter": "python",
   "pygments_lexer": "ipython3",
   "version": "3.6.4"
  }
 },
 "nbformat": 4,
 "nbformat_minor": 2
}
