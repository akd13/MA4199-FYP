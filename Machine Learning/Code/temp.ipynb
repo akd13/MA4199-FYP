{
 "cells": [
  {
   "cell_type": "code",
   "execution_count": 4,
   "metadata": {},
   "outputs": [],
   "source": [
    "import numpy as np\n",
    "np.random.seed(0)\n",
    "import seaborn as sns\n",
    "sns.set()\n",
    "uniform_data = np.random.rand(10, 3)\n"
   ]
  },
  {
   "cell_type": "code",
   "execution_count": 5,
   "metadata": {},
   "outputs": [
    {
     "name": "stdout",
     "output_type": "stream",
     "text": [
      "[[ 0.5488135   0.71518937  0.60276338]\n",
      " [ 0.54488318  0.4236548   0.64589411]\n",
      " [ 0.43758721  0.891773    0.96366276]\n",
      " [ 0.38344152  0.79172504  0.52889492]\n",
      " [ 0.56804456  0.92559664  0.07103606]\n",
      " [ 0.0871293   0.0202184   0.83261985]\n",
      " [ 0.77815675  0.87001215  0.97861834]\n",
      " [ 0.79915856  0.46147936  0.78052918]\n",
      " [ 0.11827443  0.63992102  0.14335329]\n",
      " [ 0.94466892  0.52184832  0.41466194]]\n"
     ]
    }
   ],
   "source": [
    "print(uniform_data)"
   ]
  },
  {
   "cell_type": "code",
   "execution_count": 6,
   "metadata": {},
   "outputs": [
    {
     "data": {
      "image/png": "[encoded data removed]",
      "text/plain": [
       "<matplotlib.figure.Figure at 0x10ace5ba8>"
      ]
     },
     "metadata": {},
     "output_type": "display_data"
    }
   ],
   "source": [
    "ax = sns.heatmap(uniform_data)"
   ]
  },
  {
   "cell_type": "code",
   "execution_count": null,
   "metadata": {},
   "outputs": [],
   "source": [
    "ax = sns.heatmap(uniform_data)"
   ]
  }
 ],
 "metadata": {
  "kernelspec": {
   "display_name": "Python 3",
   "language": "python",
   "name": "python3"
  },
  "language_info": {
   "codemirror_mode": {
    "name": "ipython",
    "version": 3
   },
   "file_extension": ".py",
   "mimetype": "text/x-python",
   "name": "python",
   "nbconvert_exporter": "python",
   "pygments_lexer": "ipython3",
   "version": "3.6.4"
  }
 },
 "nbformat": 4,
 "nbformat_minor": 2
}
