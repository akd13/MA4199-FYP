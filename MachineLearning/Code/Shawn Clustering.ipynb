{
 "cells": [
  {
   "cell_type": "code",
   "execution_count": 85,
   "metadata": {
    "scrolled": true
   },
   "outputs": [],
   "source": [
    "import pandas as pd\n",
    "import numpy as np\n",
    "from functools import reduce\n",
    "import matplotlib.mlab as mlab\n",
    "import matplotlib.pyplot as plt\n",
    "import math\n",
    "import seaborn as sns\n",
    "\n",
    "from sklearn.mixture import GaussianMixture as GMM\n",
    "from sklearn.cluster import KMeans\n",
    "\n",
    "from sklearn.model_selection import StratifiedKFold\n",
    "from sklearn.cluster import KMeans,AffinityPropagation"
   ]
  },
  {
   "cell_type": "code",
   "execution_count": 86,
   "metadata": {
    "scrolled": true
   },
   "outputs": [],
   "source": [
    "def gmm(X,k):\n",
    "    gmm = GMM(n_components=k, covariance_type='full')\n",
    "    gmm.fit(X)\n",
    "    X_predicted = [ [] for i in range(k)]\n",
    "    for x in X:\n",
    "        X_predicted[gmm.predict([x])[0]].append(x)\n",
    "    return X_predicted"
   ]
  },
  {
   "cell_type": "code",
   "execution_count": 87,
   "metadata": {
    "scrolled": false
   },
   "outputs": [],
   "source": [
    "def kmeans(X,k):\n",
    "    kmeans = KMeans(n_clusters=k, init='k-means++')\n",
    "    kmeans.fit(X)\n",
    "    X_predicted = [ [] for i in range(k)]\n",
    "    for x in X:\n",
    "        X_predicted[kmeans.predict([x])[0]].append(x.tolist())\n",
    "    return X_predicted"
   ]
  },
  {
   "cell_type": "code",
   "execution_count": 90,
   "metadata": {
    "scrolled": true
   },
   "outputs": [],
   "source": [
    "RNASeq_path = 'RPKMOutput/RNASeq.txt' \n",
    "RPF_path = 'RPKMOutput/RPF.txt'"
   ]
  },
  {
   "cell_type": "code",
   "execution_count": 91,
   "metadata": {
    "scrolled": true
   },
   "outputs": [],
   "source": [
    "RNASeq = pd.read_csv(RNASeq_path, sep='\\t')\n",
    "RPF = pd.read_csv(RPF_path, sep='\\t')"
   ]
  },
  {
   "cell_type": "code",
   "execution_count": 92,
   "metadata": {
    "scrolled": true
   },
   "outputs": [
    {
     "data": {
      "text/html": [
       "<div>\n",
       "<style scoped>\n",
       "    .dataframe tbody tr th:only-of-type {\n",
       "        vertical-align: middle;\n",
       "    }\n",
       "\n",
       "    .dataframe tbody tr th {\n",
       "        vertical-align: top;\n",
       "    }\n",
       "\n",
       "    .dataframe thead th {\n",
       "        text-align: right;\n",
       "    }\n",
       "</style>\n",
       "<table border=\"1\" class=\"dataframe\">\n",
       "  <thead>\n",
       "    <tr style=\"text-align: right;\">\n",
       "      <th></th>\n",
       "      <th>AccNum</th>\n",
       "      <th>GeneName</th>\n",
       "      <th>cdReads0</th>\n",
       "      <th>cdRPKM0</th>\n",
       "      <th>cdReads1</th>\n",
       "      <th>cdRPKM1</th>\n",
       "      <th>cdReads2</th>\n",
       "      <th>cdRPKM2</th>\n",
       "      <th>cdReads3</th>\n",
       "      <th>cdRPKM3</th>\n",
       "      <th>cdReads4</th>\n",
       "      <th>cdRPKM4</th>\n",
       "    </tr>\n",
       "  </thead>\n",
       "  <tbody>\n",
       "    <tr>\n",
       "      <th>0</th>\n",
       "      <td>NM_017847</td>\n",
       "      <td>ODR4</td>\n",
       "      <td>50.0</td>\n",
       "      <td>6.642349</td>\n",
       "      <td>62.0</td>\n",
       "      <td>5.591876</td>\n",
       "      <td>71.0</td>\n",
       "      <td>6.004645</td>\n",
       "      <td>30.0</td>\n",
       "      <td>5.369988</td>\n",
       "      <td>51.0</td>\n",
       "      <td>8.507454</td>\n",
       "    </tr>\n",
       "    <tr>\n",
       "      <th>1</th>\n",
       "      <td>NM_001143986</td>\n",
       "      <td>TLE6</td>\n",
       "      <td>4.0</td>\n",
       "      <td>0.421957</td>\n",
       "      <td>6.0</td>\n",
       "      <td>0.429708</td>\n",
       "      <td>3.0</td>\n",
       "      <td>0.201468</td>\n",
       "      <td>3.0</td>\n",
       "      <td>0.426413</td>\n",
       "      <td>3.0</td>\n",
       "      <td>0.397381</td>\n",
       "    </tr>\n",
       "    <tr>\n",
       "      <th>2</th>\n",
       "      <td>NM_001003803</td>\n",
       "      <td>ATP5S</td>\n",
       "      <td>29.0</td>\n",
       "      <td>8.115351</td>\n",
       "      <td>52.0</td>\n",
       "      <td>9.879314</td>\n",
       "      <td>52.0</td>\n",
       "      <td>9.263817</td>\n",
       "      <td>19.0</td>\n",
       "      <td>7.164127</td>\n",
       "      <td>22.0</td>\n",
       "      <td>7.730539</td>\n",
       "    </tr>\n",
       "    <tr>\n",
       "      <th>3</th>\n",
       "      <td>NM_001003800</td>\n",
       "      <td>BICD2</td>\n",
       "      <td>778.0</td>\n",
       "      <td>54.937502</td>\n",
       "      <td>1155.0</td>\n",
       "      <td>55.371390</td>\n",
       "      <td>1444.0</td>\n",
       "      <td>64.913315</td>\n",
       "      <td>706.0</td>\n",
       "      <td>67.172940</td>\n",
       "      <td>883.0</td>\n",
       "      <td>78.293873</td>\n",
       "    </tr>\n",
       "    <tr>\n",
       "      <th>4</th>\n",
       "      <td>NM_016649</td>\n",
       "      <td>ESF1</td>\n",
       "      <td>17.0</td>\n",
       "      <td>1.206070</td>\n",
       "      <td>26.0</td>\n",
       "      <td>1.252307</td>\n",
       "      <td>10.0</td>\n",
       "      <td>0.451649</td>\n",
       "      <td>9.0</td>\n",
       "      <td>0.860333</td>\n",
       "      <td>20.0</td>\n",
       "      <td>1.781686</td>\n",
       "    </tr>\n",
       "  </tbody>\n",
       "</table>\n",
       "</div>"
      ],
      "text/plain": [
       "         AccNum GeneName  cdReads0    cdRPKM0  cdReads1    cdRPKM1  cdReads2  \\\n",
       "0     NM_017847     ODR4      50.0   6.642349      62.0   5.591876      71.0   \n",
       "1  NM_001143986     TLE6       4.0   0.421957       6.0   0.429708       3.0   \n",
       "2  NM_001003803    ATP5S      29.0   8.115351      52.0   9.879314      52.0   \n",
       "3  NM_001003800    BICD2     778.0  54.937502    1155.0  55.371390    1444.0   \n",
       "4     NM_016649     ESF1      17.0   1.206070      26.0   1.252307      10.0   \n",
       "\n",
       "     cdRPKM2  cdReads3    cdRPKM3  cdReads4    cdRPKM4  \n",
       "0   6.004645      30.0   5.369988      51.0   8.507454  \n",
       "1   0.201468       3.0   0.426413       3.0   0.397381  \n",
       "2   9.263817      19.0   7.164127      22.0   7.730539  \n",
       "3  64.913315     706.0  67.172940     883.0  78.293873  \n",
       "4   0.451649       9.0   0.860333      20.0   1.781686  "
      ]
     },
     "execution_count": 92,
     "metadata": {},
     "output_type": "execute_result"
    }
   ],
   "source": [
    "RNASeq.head()"
   ]
  },
  {
   "cell_type": "code",
   "execution_count": 93,
   "metadata": {
    "scrolled": true
   },
   "outputs": [
    {
     "data": {
      "text/html": [
       "<div>\n",
       "<style scoped>\n",
       "    .dataframe tbody tr th:only-of-type {\n",
       "        vertical-align: middle;\n",
       "    }\n",
       "\n",
       "    .dataframe tbody tr th {\n",
       "        vertical-align: top;\n",
       "    }\n",
       "\n",
       "    .dataframe thead th {\n",
       "        text-align: right;\n",
       "    }\n",
       "</style>\n",
       "<table border=\"1\" class=\"dataframe\">\n",
       "  <thead>\n",
       "    <tr style=\"text-align: right;\">\n",
       "      <th></th>\n",
       "      <th>AccNum</th>\n",
       "      <th>GeneName</th>\n",
       "      <th>cdReads0</th>\n",
       "      <th>cdRPKM0</th>\n",
       "      <th>cdReads1</th>\n",
       "      <th>cdRPKM1</th>\n",
       "      <th>cdReads2</th>\n",
       "      <th>cdRPKM2</th>\n",
       "      <th>cdReads3</th>\n",
       "      <th>cdRPKM3</th>\n",
       "      <th>cdReads4</th>\n",
       "      <th>cdRPKM4</th>\n",
       "    </tr>\n",
       "  </thead>\n",
       "  <tbody>\n",
       "    <tr>\n",
       "      <th>0</th>\n",
       "      <td>NM_017847</td>\n",
       "      <td>ODR4</td>\n",
       "      <td>93.0</td>\n",
       "      <td>16.487335</td>\n",
       "      <td>62.0</td>\n",
       "      <td>13.206484</td>\n",
       "      <td>49.0</td>\n",
       "      <td>15.968568</td>\n",
       "      <td>37.0</td>\n",
       "      <td>16.540714</td>\n",
       "      <td>39.0</td>\n",
       "      <td>20.464235</td>\n",
       "    </tr>\n",
       "    <tr>\n",
       "      <th>1</th>\n",
       "      <td>NM_001143986</td>\n",
       "      <td>TLE6</td>\n",
       "      <td>4.0</td>\n",
       "      <td>0.563098</td>\n",
       "      <td>2.0</td>\n",
       "      <td>0.338285</td>\n",
       "      <td>2.0</td>\n",
       "      <td>0.517555</td>\n",
       "      <td>1.0</td>\n",
       "      <td>0.354984</td>\n",
       "      <td>1.0</td>\n",
       "      <td>0.416666</td>\n",
       "    </tr>\n",
       "    <tr>\n",
       "      <th>2</th>\n",
       "      <td>NM_001003803</td>\n",
       "      <td>ATP5S</td>\n",
       "      <td>81.0</td>\n",
       "      <td>30.248942</td>\n",
       "      <td>83.0</td>\n",
       "      <td>37.241851</td>\n",
       "      <td>71.0</td>\n",
       "      <td>48.740039</td>\n",
       "      <td>46.0</td>\n",
       "      <td>43.317961</td>\n",
       "      <td>26.0</td>\n",
       "      <td>28.738355</td>\n",
       "    </tr>\n",
       "    <tr>\n",
       "      <th>3</th>\n",
       "      <td>NM_001003800</td>\n",
       "      <td>BICD2</td>\n",
       "      <td>501.0</td>\n",
       "      <td>47.210965</td>\n",
       "      <td>389.0</td>\n",
       "      <td>44.043594</td>\n",
       "      <td>284.0</td>\n",
       "      <td>49.195554</td>\n",
       "      <td>257.0</td>\n",
       "      <td>61.069347</td>\n",
       "      <td>230.0</td>\n",
       "      <td>64.149959</td>\n",
       "    </tr>\n",
       "    <tr>\n",
       "      <th>4</th>\n",
       "      <td>NM_016649</td>\n",
       "      <td>ESF1</td>\n",
       "      <td>69.0</td>\n",
       "      <td>6.532635</td>\n",
       "      <td>52.0</td>\n",
       "      <td>5.915217</td>\n",
       "      <td>41.0</td>\n",
       "      <td>7.135519</td>\n",
       "      <td>26.0</td>\n",
       "      <td>6.207228</td>\n",
       "      <td>26.0</td>\n",
       "      <td>7.285780</td>\n",
       "    </tr>\n",
       "  </tbody>\n",
       "</table>\n",
       "</div>"
      ],
      "text/plain": [
       "         AccNum GeneName  cdReads0    cdRPKM0  cdReads1    cdRPKM1  cdReads2  \\\n",
       "0     NM_017847     ODR4      93.0  16.487335      62.0  13.206484      49.0   \n",
       "1  NM_001143986     TLE6       4.0   0.563098       2.0   0.338285       2.0   \n",
       "2  NM_001003803    ATP5S      81.0  30.248942      83.0  37.241851      71.0   \n",
       "3  NM_001003800    BICD2     501.0  47.210965     389.0  44.043594     284.0   \n",
       "4     NM_016649     ESF1      69.0   6.532635      52.0   5.915217      41.0   \n",
       "\n",
       "     cdRPKM2  cdReads3    cdRPKM3  cdReads4    cdRPKM4  \n",
       "0  15.968568      37.0  16.540714      39.0  20.464235  \n",
       "1   0.517555       1.0   0.354984       1.0   0.416666  \n",
       "2  48.740039      46.0  43.317961      26.0  28.738355  \n",
       "3  49.195554     257.0  61.069347     230.0  64.149959  \n",
       "4   7.135519      26.0   6.207228      26.0   7.285780  "
      ]
     },
     "execution_count": 93,
     "metadata": {},
     "output_type": "execute_result"
    }
   ],
   "source": [
    "RPF.head()"
   ]
  },
  {
   "cell_type": "code",
   "execution_count": 94,
   "metadata": {
    "scrolled": true
   },
   "outputs": [],
   "source": [
    "RNASeq = RNASeq[(RNASeq['cdReads0'] >= 10) & (RNASeq['cdReads1'] >= 10) & (RNASeq['cdReads2'] >= 10)& (RNASeq['cdReads3'] >= 10)& (RNASeq['cdReads4'] >= 10)]\n",
    "RPF = RPF[(RPF['cdReads0'] >= 10) & (RPF['cdReads1'] >= 10) & (RPF['cdReads2'] >= 10)& (RPF['cdReads3'] >= 10)& (RPF['cdReads4'] >= 10)]"
   ]
  },
  {
   "cell_type": "code",
   "execution_count": 95,
   "metadata": {
    "scrolled": true
   },
   "outputs": [],
   "source": [
    "RNASeq[['cdRPKM0', 'cdRPKM1', 'cdRPKM2', 'cdRPKM3', 'cdRPKM4']] = RNASeq[['cdRPKM0', 'cdRPKM1', 'cdRPKM2', 'cdRPKM3', 'cdRPKM4']].apply(np.log2)"
   ]
  },
  {
   "cell_type": "code",
   "execution_count": 96,
   "metadata": {
    "scrolled": true
   },
   "outputs": [],
   "source": [
    "RPF[['cdRPKM0', 'cdRPKM1', 'cdRPKM2', 'cdRPKM3', 'cdRPKM4']] = RPF[['cdRPKM0', 'cdRPKM1', 'cdRPKM2', 'cdRPKM3', 'cdRPKM4']].apply(np.log2)"
   ]
  },
  {
   "cell_type": "code",
   "execution_count": 97,
   "metadata": {
    "scrolled": true
   },
   "outputs": [],
   "source": [
    "RNASeq['log2cdRPKM1']=RNASeq['cdRPKM1']-RNASeq['cdRPKM0']\n",
    "RNASeq['log2cdRPKM2']=RNASeq['cdRPKM2']-RNASeq['cdRPKM0']\n",
    "RNASeq['log2cdRPKM3']=RNASeq['cdRPKM3']-RNASeq['cdRPKM0']\n",
    "RNASeq['log2cdRPKM4']=RNASeq['cdRPKM4']-RNASeq['cdRPKM0']"
   ]
  },
  {
   "cell_type": "code",
   "execution_count": 98,
   "metadata": {
    "scrolled": true
   },
   "outputs": [],
   "source": [
    "RPF['log2cdRPKM1']=RPF['cdRPKM1']-RPF['cdRPKM0']\n",
    "RPF['log2cdRPKM2']=RPF['cdRPKM2']-RPF['cdRPKM0']\n",
    "RPF['log2cdRPKM3']=RPF['cdRPKM3']-RPF['cdRPKM0']\n",
    "RPF['log2cdRPKM4']=RPF['cdRPKM4']-RPF['cdRPKM0']"
   ]
  },
  {
   "cell_type": "markdown",
   "metadata": {},
   "source": [
    "# TE"
   ]
  },
  {
   "cell_type": "markdown",
   "metadata": {},
   "source": [
    "### ONLY RUN FOR MEDIAN NORMALIZATION"
   ]
  },
  {
   "cell_type": "code",
   "execution_count": 65,
   "metadata": {
    "scrolled": false
   },
   "outputs": [],
   "source": [
    "RNASeq['log2cdRPKM1']-=np.median(RNASeq['log2cdRPKM1'])\n",
    "RNASeq['log2cdRPKM2']-=np.median(RNASeq['log2cdRPKM2'])\n",
    "RNASeq['log2cdRPKM3']-=np.median(RNASeq['log2cdRPKM3'])\n",
    "RNASeq['log2cdRPKM4']-=np.median(RNASeq['log2cdRPKM4'])"
   ]
  },
  {
   "cell_type": "code",
   "execution_count": 99,
   "metadata": {
    "scrolled": true
   },
   "outputs": [],
   "source": [
    "filteredRNASeq = RNASeq[(RNASeq['log2cdRPKM1'] <= 0.5) \n",
    "                        & (RNASeq['log2cdRPKM2'] <= 0.5)\n",
    "                        & (RNASeq['log2cdRPKM3'] <= 0.5)\n",
    "                        & (RNASeq['log2cdRPKM4'] <= 0.5)]\n",
    "filteredRNASeq = filteredRNASeq[(filteredRNASeq['log2cdRPKM1'] >= -0.5) \n",
    "                                & (filteredRNASeq['log2cdRPKM2'] >= -0.5)\n",
    "                                & (filteredRNASeq['log2cdRPKM3'] >= -0.5)\n",
    "                                & (filteredRNASeq['log2cdRPKM4'] >= -0.5)]"
   ]
  },
  {
   "cell_type": "code",
   "execution_count": 100,
   "metadata": {
    "scrolled": false
   },
   "outputs": [
    {
     "data": {
      "text/plain": [
       "(6062, 16)"
      ]
     },
     "execution_count": 100,
     "metadata": {},
     "output_type": "execute_result"
    }
   ],
   "source": [
    "filteredRNASeq.shape"
   ]
  },
  {
   "cell_type": "code",
   "execution_count": 101,
   "metadata": {
    "scrolled": true
   },
   "outputs": [],
   "source": [
    "TE = reduce(lambda left,right: pd.merge(left,right,on=['AccNum','GeneName']), [RPF,filteredRNASeq])"
   ]
  },
  {
   "cell_type": "code",
   "execution_count": 102,
   "metadata": {
    "scrolled": true
   },
   "outputs": [],
   "source": [
    "TE['cdRPKM0_x'] = TE['cdRPKM0_x']-TE['cdRPKM0_y']\n",
    "TE['cdRPKM1_x'] = TE['cdRPKM1_x']-TE['cdRPKM1_y']\n",
    "TE['cdRPKM2_x'] = TE['cdRPKM2_x']-TE['cdRPKM2_y']\n",
    "TE['cdRPKM3_x'] = TE['cdRPKM3_x']-TE['cdRPKM3_y']\n",
    "TE['cdRPKM4_x'] = TE['cdRPKM4_x']-TE['cdRPKM4_y']\n",
    "for i in range(0,5):\n",
    "    TE.rename(columns={'cdRPKM'+str(i)+'_x':'TE'+str(i)}, inplace=True)\n",
    "TE = TE[['AccNum', 'GeneName','TE0','TE1','TE2','TE3','TE4']]"
   ]
  },
  {
   "cell_type": "code",
   "execution_count": 103,
   "metadata": {
    "scrolled": true
   },
   "outputs": [],
   "source": [
    "TE['foldTE1']=TE['TE1']-TE['TE0']\n",
    "TE['foldTE2']=TE['TE2']-TE['TE0']\n",
    "TE['foldTE3']=TE['TE3']-TE['TE0']\n",
    "TE['foldTE4']=TE['TE4']-TE['TE0']"
   ]
  },
  {
   "cell_type": "code",
   "execution_count": 104,
   "metadata": {
    "scrolled": true
   },
   "outputs": [
    {
     "data": {
      "text/html": [
       "<div>\n",
       "<style scoped>\n",
       "    .dataframe tbody tr th:only-of-type {\n",
       "        vertical-align: middle;\n",
       "    }\n",
       "\n",
       "    .dataframe tbody tr th {\n",
       "        vertical-align: top;\n",
       "    }\n",
       "\n",
       "    .dataframe thead th {\n",
       "        text-align: right;\n",
       "    }\n",
       "</style>\n",
       "<table border=\"1\" class=\"dataframe\">\n",
       "  <thead>\n",
       "    <tr style=\"text-align: right;\">\n",
       "      <th></th>\n",
       "      <th>AccNum</th>\n",
       "      <th>GeneName</th>\n",
       "      <th>TE0</th>\n",
       "      <th>TE1</th>\n",
       "      <th>TE2</th>\n",
       "      <th>TE3</th>\n",
       "      <th>TE4</th>\n",
       "      <th>foldTE1</th>\n",
       "      <th>foldTE2</th>\n",
       "      <th>foldTE3</th>\n",
       "      <th>foldTE4</th>\n",
       "    </tr>\n",
       "  </thead>\n",
       "  <tbody>\n",
       "    <tr>\n",
       "      <th>0</th>\n",
       "      <td>NM_017847</td>\n",
       "      <td>ODR4</td>\n",
       "      <td>1.311593</td>\n",
       "      <td>1.239842</td>\n",
       "      <td>1.411084</td>\n",
       "      <td>1.623031</td>\n",
       "      <td>1.266305</td>\n",
       "      <td>-0.071751</td>\n",
       "      <td>0.099491</td>\n",
       "      <td>0.311438</td>\n",
       "      <td>-0.045287</td>\n",
       "    </tr>\n",
       "    <tr>\n",
       "      <th>1</th>\n",
       "      <td>NM_001003803</td>\n",
       "      <td>ATP5S</td>\n",
       "      <td>1.898159</td>\n",
       "      <td>1.914442</td>\n",
       "      <td>2.395429</td>\n",
       "      <td>2.596103</td>\n",
       "      <td>1.894337</td>\n",
       "      <td>0.016283</td>\n",
       "      <td>0.497270</td>\n",
       "      <td>0.697943</td>\n",
       "      <td>-0.003823</td>\n",
       "    </tr>\n",
       "    <tr>\n",
       "      <th>2</th>\n",
       "      <td>NM_016647</td>\n",
       "      <td>THEM6</td>\n",
       "      <td>0.051293</td>\n",
       "      <td>0.207781</td>\n",
       "      <td>0.361159</td>\n",
       "      <td>0.620028</td>\n",
       "      <td>0.068366</td>\n",
       "      <td>0.156488</td>\n",
       "      <td>0.309866</td>\n",
       "      <td>0.568735</td>\n",
       "      <td>0.017073</td>\n",
       "    </tr>\n",
       "    <tr>\n",
       "      <th>3</th>\n",
       "      <td>NM_016640</td>\n",
       "      <td>MRPS30</td>\n",
       "      <td>0.556363</td>\n",
       "      <td>0.551786</td>\n",
       "      <td>0.263127</td>\n",
       "      <td>0.284844</td>\n",
       "      <td>0.340352</td>\n",
       "      <td>-0.004577</td>\n",
       "      <td>-0.293236</td>\n",
       "      <td>-0.271519</td>\n",
       "      <td>-0.216011</td>\n",
       "    </tr>\n",
       "    <tr>\n",
       "      <th>4</th>\n",
       "      <td>NM_001080825</td>\n",
       "      <td>TMEM120B</td>\n",
       "      <td>0.237953</td>\n",
       "      <td>0.493599</td>\n",
       "      <td>0.790843</td>\n",
       "      <td>0.390857</td>\n",
       "      <td>0.455389</td>\n",
       "      <td>0.255646</td>\n",
       "      <td>0.552890</td>\n",
       "      <td>0.152904</td>\n",
       "      <td>0.217436</td>\n",
       "    </tr>\n",
       "  </tbody>\n",
       "</table>\n",
       "</div>"
      ],
      "text/plain": [
       "         AccNum  GeneName       TE0       TE1       TE2       TE3       TE4  \\\n",
       "0     NM_017847      ODR4  1.311593  1.239842  1.411084  1.623031  1.266305   \n",
       "1  NM_001003803     ATP5S  1.898159  1.914442  2.395429  2.596103  1.894337   \n",
       "2     NM_016647     THEM6  0.051293  0.207781  0.361159  0.620028  0.068366   \n",
       "3     NM_016640    MRPS30  0.556363  0.551786  0.263127  0.284844  0.340352   \n",
       "4  NM_001080825  TMEM120B  0.237953  0.493599  0.790843  0.390857  0.455389   \n",
       "\n",
       "    foldTE1   foldTE2   foldTE3   foldTE4  \n",
       "0 -0.071751  0.099491  0.311438 -0.045287  \n",
       "1  0.016283  0.497270  0.697943 -0.003823  \n",
       "2  0.156488  0.309866  0.568735  0.017073  \n",
       "3 -0.004577 -0.293236 -0.271519 -0.216011  \n",
       "4  0.255646  0.552890  0.152904  0.217436  "
      ]
     },
     "execution_count": 104,
     "metadata": {},
     "output_type": "execute_result"
    }
   ],
   "source": [
    "TE.head()"
   ]
  },
  {
   "cell_type": "code",
   "execution_count": 105,
   "metadata": {
    "scrolled": true
   },
   "outputs": [
    {
     "data": {
      "text/plain": [
       "Index(['AccNum', 'GeneName', 'TE0', 'TE1', 'TE2', 'TE3', 'TE4', 'foldTE1',\n",
       "       'foldTE2', 'foldTE3', 'foldTE4'],\n",
       "      dtype='object')"
      ]
     },
     "execution_count": 105,
     "metadata": {},
     "output_type": "execute_result"
    }
   ],
   "source": [
    "TE.keys()"
   ]
  },
  {
   "cell_type": "code",
   "execution_count": 74,
   "metadata": {
    "scrolled": true
   },
   "outputs": [
    {
     "data": {
      "text/plain": [
       "(5642, 11)"
      ]
     },
     "execution_count": 74,
     "metadata": {},
     "output_type": "execute_result"
    }
   ],
   "source": [
    "TE.shape"
   ]
  },
  {
   "cell_type": "code",
   "execution_count": 106,
   "metadata": {},
   "outputs": [],
   "source": [
    "TE.to_csv('/Users/akankshitadash/Desktop/TE_nonChrE.txt',sep='\\t',index=False)"
   ]
  },
  {
   "cell_type": "code",
   "execution_count": 43,
   "metadata": {},
   "outputs": [],
   "source": [
    "TE = TE[['AccNum','GeneName','foldTE1',\n",
    "       'foldTE2', 'foldTE3', 'foldTE4']]"
   ]
  },
  {
   "cell_type": "code",
   "execution_count": 44,
   "metadata": {},
   "outputs": [],
   "source": [
    "TE.to_csv('/Users/akankshitadash/Desktop/TE_ChrE_03.txt',sep='\\t',index=False)"
   ]
  },
  {
   "cell_type": "code",
   "execution_count": 45,
   "metadata": {
    "scrolled": false
   },
   "outputs": [],
   "source": [
    "X = TE[['foldTE1',\n",
    "       'foldTE2', 'foldTE3', 'foldTE4']].values"
   ]
  },
  {
   "cell_type": "code",
   "execution_count": 50,
   "metadata": {
    "scrolled": false
   },
   "outputs": [
    {
     "name": "stdout",
     "output_type": "stream",
     "text": [
      "971\n",
      "971 971\n",
      "97\n",
      "97 97\n",
      "677\n",
      "677 677\n",
      "586\n",
      "586 586\n",
      "373\n",
      "373 373\n"
     ]
    },
    {
     "data": {
      "image/png": "[encoded data removed]",
      "text/plain": [
       "<matplotlib.figure.Figure at 0x11348bb38>"
      ]
     },
     "metadata": {},
     "output_type": "display_data"
    },
    {
     "name": "stdout",
     "output_type": "stream",
     "text": [
      "546\n",
      "546 546\n",
      "94\n",
      "94 94\n",
      "606\n",
      "606 606\n",
      "331\n",
      "331 331\n",
      "551\n",
      "551 551\n",
      "576\n",
      "576 576\n"
     ]
    },
    {
     "data": {
      "image/png": "[encoded data removed]",
      "text/plain": [
       "<matplotlib.figure.Figure at 0x112726780>"
      ]
     },
     "metadata": {},
     "output_type": "display_data"
    }
   ],
   "source": [
    "def plot_heatmap(X,idx):\n",
    "    plt.subplot(3, 2, idx+1)\n",
    "#     plt.figure()\n",
    "    sns.heatmap(X,xticklabels=['foldTE1',\n",
    "       'foldTE2', 'foldTE3', 'foldTE4'])\n",
    "    plt.title('Heatmap'+str(idx+1))\n",
    "\n",
    "# list_nums = [5]   \n",
    "# for num in list_nums:\n",
    "#     clusters = kmeans(X,num)\n",
    "#     idx=0\n",
    "#     for cluster in clusters:\n",
    "#         print(len(cluster))\n",
    "#         plot_heatmap(cluster)\n",
    "#         idx+=1\n",
    "        \n",
    "list_nums = [5,6]\n",
    "for num in list_nums:\n",
    "    clusters = kmeans(X,num) \n",
    "    f = plt.figure(figsize=(15,15))    \n",
    "    for idx,cluster in enumerate(clusters):\n",
    "        print(len(cluster))\n",
    "        plot_heatmap(cluster,idx)\n",
    "        genes=[]\n",
    "        acc_nums=[]\n",
    "        for row in cluster:\n",
    "            temp = TE.loc[(TE['foldTE1'] == row[0])& (TE['foldTE2']== row[1]) & (TE['foldTE3']== row[2])]\n",
    "            if(not temp.empty):\n",
    "                genes.append(temp['GeneName'].values[0])\n",
    "                acc_nums.append(temp['AccNum'].values[0])\n",
    "        print(len(cluster),len(genes))\n",
    "        with open('/Users/akankshitadash/Desktop/'+str(num)+'/Gene'+str(idx+1)+'.txt','w') as f:\n",
    "            for gene in genes:\n",
    "                f.write(\"%s\\n\" % gene)\n",
    "        with open('/Users/akankshitadash/Desktop/'+str(num)+'/AccNum'+str(idx+1)+'.txt','w') as f:\n",
    "            for acc_num in acc_nums:\n",
    "                f.write(\"%s\\n\" % acc_num)\n",
    "    plt.savefig('/Users/akankshitadash/Desktop/Heatmap'+str(num))\n",
    "    plt.show()"
   ]
  },
  {
   "cell_type": "code",
   "execution_count": null,
   "metadata": {
    "scrolled": true
   },
   "outputs": [],
   "source": [
    "# def plot_heatmap(X):\n",
    "#     plt.figure()\n",
    "#     sns.heatmap(X,xticklabels=['TE0', 'TE1', 'TE2', 'TE3', 'TE4', 'foldTE1',\n",
    "#        'foldTE2', 'foldTE3', 'foldTE4'])\n",
    "#     plt.title('Heatmap')\n",
    "#     plt.savefig('NonChrE/KMeansOutputTE/Heatmap'+str(len(X)))\n",
    "#     plt.show()\n",
    "\n",
    "# list_nums = [5]   \n",
    "# for num in list_nums:\n",
    "#     clusters = kmeans(X,num)\n",
    "#     idx=0\n",
    "#     for cluster in clusters:\n",
    "#         print(len(cluster))\n",
    "#         plot_heatmap(cluster)\n",
    "#         idx+=1"
   ]
  },
  {
   "cell_type": "markdown",
   "metadata": {},
   "source": [
    "# RPF"
   ]
  },
  {
   "cell_type": "code",
   "execution_count": 75,
   "metadata": {
    "scrolled": true
   },
   "outputs": [
    {
     "data": {
      "text/plain": [
       "Index(['AccNum', 'GeneName', 'cdReads0', 'cdRPKM0', 'cdReads1', 'cdRPKM1',\n",
       "       'cdReads2', 'cdRPKM2', 'cdReads3', 'cdRPKM3', 'cdReads4', 'cdRPKM4',\n",
       "       'log2cdRPKM1', 'log2cdRPKM2', 'log2cdRPKM3', 'log2cdRPKM4'],\n",
       "      dtype='object')"
      ]
     },
     "execution_count": 75,
     "metadata": {},
     "output_type": "execute_result"
    }
   ],
   "source": [
    "RPF.keys()"
   ]
  },
  {
   "cell_type": "code",
   "execution_count": 76,
   "metadata": {
    "scrolled": false
   },
   "outputs": [
    {
     "data": {
      "text/html": [
       "<div>\n",
       "<style scoped>\n",
       "    .dataframe tbody tr th:only-of-type {\n",
       "        vertical-align: middle;\n",
       "    }\n",
       "\n",
       "    .dataframe tbody tr th {\n",
       "        vertical-align: top;\n",
       "    }\n",
       "\n",
       "    .dataframe thead th {\n",
       "        text-align: right;\n",
       "    }\n",
       "</style>\n",
       "<table border=\"1\" class=\"dataframe\">\n",
       "  <thead>\n",
       "    <tr style=\"text-align: right;\">\n",
       "      <th></th>\n",
       "      <th>AccNum</th>\n",
       "      <th>GeneName</th>\n",
       "      <th>cdReads0</th>\n",
       "      <th>cdRPKM0</th>\n",
       "      <th>cdReads1</th>\n",
       "      <th>cdRPKM1</th>\n",
       "      <th>cdReads2</th>\n",
       "      <th>cdRPKM2</th>\n",
       "      <th>cdReads3</th>\n",
       "      <th>cdRPKM3</th>\n",
       "      <th>cdReads4</th>\n",
       "      <th>cdRPKM4</th>\n",
       "      <th>log2cdRPKM1</th>\n",
       "      <th>log2cdRPKM2</th>\n",
       "      <th>log2cdRPKM3</th>\n",
       "      <th>log2cdRPKM4</th>\n",
       "    </tr>\n",
       "  </thead>\n",
       "  <tbody>\n",
       "    <tr>\n",
       "      <th>0</th>\n",
       "      <td>NM_017847</td>\n",
       "      <td>ODR4</td>\n",
       "      <td>93.0</td>\n",
       "      <td>4.041663</td>\n",
       "      <td>62.0</td>\n",
       "      <td>3.721315</td>\n",
       "      <td>49.0</td>\n",
       "      <td>3.825044</td>\n",
       "      <td>37.0</td>\n",
       "      <td>3.233134</td>\n",
       "      <td>39.0</td>\n",
       "      <td>3.390564</td>\n",
       "      <td>-0.320348</td>\n",
       "      <td>-0.216618</td>\n",
       "      <td>-0.808529</td>\n",
       "      <td>-0.651098</td>\n",
       "    </tr>\n",
       "    <tr>\n",
       "      <th>2</th>\n",
       "      <td>NM_001003803</td>\n",
       "      <td>ATP5S</td>\n",
       "      <td>81.0</td>\n",
       "      <td>4.917189</td>\n",
       "      <td>83.0</td>\n",
       "      <td>5.216993</td>\n",
       "      <td>71.0</td>\n",
       "      <td>5.434917</td>\n",
       "      <td>46.0</td>\n",
       "      <td>4.622078</td>\n",
       "      <td>26.0</td>\n",
       "      <td>3.880437</td>\n",
       "      <td>0.299804</td>\n",
       "      <td>0.517728</td>\n",
       "      <td>-0.295111</td>\n",
       "      <td>-1.036752</td>\n",
       "    </tr>\n",
       "    <tr>\n",
       "      <th>3</th>\n",
       "      <td>NM_001003800</td>\n",
       "      <td>BICD2</td>\n",
       "      <td>501.0</td>\n",
       "      <td>5.559427</td>\n",
       "      <td>389.0</td>\n",
       "      <td>5.459000</td>\n",
       "      <td>284.0</td>\n",
       "      <td>5.448337</td>\n",
       "      <td>257.0</td>\n",
       "      <td>5.117561</td>\n",
       "      <td>230.0</td>\n",
       "      <td>5.038908</td>\n",
       "      <td>-0.100426</td>\n",
       "      <td>-0.111089</td>\n",
       "      <td>-0.441865</td>\n",
       "      <td>-0.520519</td>\n",
       "    </tr>\n",
       "    <tr>\n",
       "      <th>4</th>\n",
       "      <td>NM_016649</td>\n",
       "      <td>ESF1</td>\n",
       "      <td>69.0</td>\n",
       "      <td>2.706042</td>\n",
       "      <td>52.0</td>\n",
       "      <td>2.562571</td>\n",
       "      <td>41.0</td>\n",
       "      <td>2.662900</td>\n",
       "      <td>26.0</td>\n",
       "      <td>1.819134</td>\n",
       "      <td>26.0</td>\n",
       "      <td>1.900615</td>\n",
       "      <td>-0.143471</td>\n",
       "      <td>-0.043142</td>\n",
       "      <td>-0.886908</td>\n",
       "      <td>-0.805427</td>\n",
       "    </tr>\n",
       "    <tr>\n",
       "      <th>5</th>\n",
       "      <td>NM_016647</td>\n",
       "      <td>THEM6</td>\n",
       "      <td>132.0</td>\n",
       "      <td>5.669262</td>\n",
       "      <td>89.0</td>\n",
       "      <td>5.365215</td>\n",
       "      <td>73.0</td>\n",
       "      <td>5.522523</td>\n",
       "      <td>56.0</td>\n",
       "      <td>4.953399</td>\n",
       "      <td>33.0</td>\n",
       "      <td>4.271920</td>\n",
       "      <td>-0.304046</td>\n",
       "      <td>-0.146739</td>\n",
       "      <td>-0.715862</td>\n",
       "      <td>-1.397342</td>\n",
       "    </tr>\n",
       "  </tbody>\n",
       "</table>\n",
       "</div>"
      ],
      "text/plain": [
       "         AccNum GeneName  cdReads0   cdRPKM0  cdReads1   cdRPKM1  cdReads2  \\\n",
       "0     NM_017847     ODR4      93.0  4.041663      62.0  3.721315      49.0   \n",
       "2  NM_001003803    ATP5S      81.0  4.917189      83.0  5.216993      71.0   \n",
       "3  NM_001003800    BICD2     501.0  5.559427     389.0  5.459000     284.0   \n",
       "4     NM_016649     ESF1      69.0  2.706042      52.0  2.562571      41.0   \n",
       "5     NM_016647    THEM6     132.0  5.669262      89.0  5.365215      73.0   \n",
       "\n",
       "    cdRPKM2  cdReads3   cdRPKM3  cdReads4   cdRPKM4  log2cdRPKM1  log2cdRPKM2  \\\n",
       "0  3.825044      37.0  3.233134      39.0  3.390564    -0.320348    -0.216618   \n",
       "2  5.434917      46.0  4.622078      26.0  3.880437     0.299804     0.517728   \n",
       "3  5.448337     257.0  5.117561     230.0  5.038908    -0.100426    -0.111089   \n",
       "4  2.662900      26.0  1.819134      26.0  1.900615    -0.143471    -0.043142   \n",
       "5  5.522523      56.0  4.953399      33.0  4.271920    -0.304046    -0.146739   \n",
       "\n",
       "   log2cdRPKM3  log2cdRPKM4  \n",
       "0    -0.808529    -0.651098  \n",
       "2    -0.295111    -1.036752  \n",
       "3    -0.441865    -0.520519  \n",
       "4    -0.886908    -0.805427  \n",
       "5    -0.715862    -1.397342  "
      ]
     },
     "execution_count": 76,
     "metadata": {},
     "output_type": "execute_result"
    }
   ],
   "source": [
    "RPF.head()"
   ]
  },
  {
   "cell_type": "code",
   "execution_count": 77,
   "metadata": {
    "scrolled": false
   },
   "outputs": [],
   "source": [
    "RPF_new = reduce(lambda left,right: pd.merge(left,right,on=['AccNum','GeneName']), [RPF,filteredRNASeq])"
   ]
  },
  {
   "cell_type": "code",
   "execution_count": 78,
   "metadata": {
    "scrolled": false
   },
   "outputs": [],
   "source": [
    "RPF_new.head()\n",
    "for i in range(0,5):\n",
    "    RPF_new.rename(columns={'cdRPKM'+str(i)+'_x':'cdRPKM'+str(i)}, inplace=True)\n",
    "RPF_new = RPF_new[['AccNum', 'GeneName','cdRPKM0','cdRPKM1','cdRPKM2','cdRPKM3','cdRPKM4']]"
   ]
  },
  {
   "cell_type": "code",
   "execution_count": 107,
   "metadata": {
    "scrolled": false
   },
   "outputs": [],
   "source": [
    "RPF_new.to_csv('/Users/akankshitadash/Desktop/RPF_NonchrE.txt',sep='\\t',index=False)"
   ]
  },
  {
   "cell_type": "code",
   "execution_count": 108,
   "metadata": {
    "scrolled": false
   },
   "outputs": [
    {
     "data": {
      "text/plain": [
       "(5642, 7)"
      ]
     },
     "execution_count": 108,
     "metadata": {},
     "output_type": "execute_result"
    }
   ],
   "source": [
    "RPF_new.shape"
   ]
  },
  {
   "cell_type": "code",
   "execution_count": null,
   "metadata": {
    "scrolled": true
   },
   "outputs": [],
   "source": [
    "X = RPF_new[['cdRPKM0', 'cdRPKM1', 'cdRPKM2', 'cdRPKM3', 'cdRPKM4']].values"
   ]
  },
  {
   "cell_type": "code",
   "execution_count": null,
   "metadata": {
    "scrolled": false
   },
   "outputs": [],
   "source": [
    "list_nums = [4,5,6]\n",
    "for num in list_nums:\n",
    "    clusters = kmeans(X,num)\n",
    "    for cluster in clusters:\n",
    "        print(len(cluster))\n",
    "    for idx,cluster in enumerate(clusters):\n",
    "        genes=[]\n",
    "        acc_nums=[]\n",
    "        for row_nd in cluster:\n",
    "            row = row_nd[0].tolist()\n",
    "            temp = RPF.loc[(RPF['cdRPKM0'] == row[0])& (RPF['cdRPKM1']== row[1]) & (RPF['cdRPKM2']== row[2])]\n",
    "            if(not temp.empty):\n",
    "                genes.append(temp['GeneName'].values[0])\n",
    "                acc_nums.append(temp['AccNum'].values[0])\n",
    "        print(len(cluster),len(genes))\n",
    "        with open('NonChrE/KMeansOutputRPF/'+str(num)+'/Gene'+str(idx+1)+'.txt','w') as f:\n",
    "            for gene in genes:\n",
    "                f.write(\"%s\\n\" % gene)\n",
    "        with open('NonChrE/KMeansOutputRPF/'+str(num)+'/AccNum'+str(idx+1)+'.txt','w') as f:\n",
    "            for acc_num in acc_nums:\n",
    "                f.write(\"%s\\n\" % acc_num)"
   ]
  },
  {
   "cell_type": "code",
   "execution_count": null,
   "metadata": {
    "scrolled": false
   },
   "outputs": [],
   "source": [
    "import random\n",
    "def plot_heatmap(X):\n",
    "    plt.figure()\n",
    "    sns.heatmap(X,xticklabels=['cdRPKM0', 'cdRPKM1', 'cdRPKM2', 'cdRPKM3', 'cdRPKM4'])\n",
    "    plt.title('Heatmap')\n",
    "    plt.savefig('NonChrE/KMeansOutputRPF/Heatmap'+str(len(X)))\n",
    "    plt.show()\n",
    "\n",
    "list_nums = [5]   \n",
    "for num in list_nums:\n",
    "    clusters = kmeans(X,num)\n",
    "    idx=0\n",
    "    for cluster in clusters:\n",
    "        print(len(cluster))\n",
    "        plot_heatmap(cluster)\n",
    "        idx+=1"
   ]
  },
  {
   "cell_type": "code",
   "execution_count": null,
   "metadata": {
    "scrolled": false
   },
   "outputs": [],
   "source": [
    "RNASeq['log2cdRPKM1']"
   ]
  },
  {
   "cell_type": "markdown",
   "metadata": {},
   "source": [
    "# Median Normalize"
   ]
  },
  {
   "cell_type": "code",
   "execution_count": 27,
   "metadata": {
    "scrolled": true
   },
   "outputs": [
    {
     "name": "stdout",
     "output_type": "stream",
     "text": [
      "-0.0141017899809\n"
     ]
    },
    {
     "data": {
      "image/png": "[encoded data removed]",
      "text/plain": [
       "<matplotlib.figure.Figure at 0x11333cc50>"
      ]
     },
     "metadata": {},
     "output_type": "display_data"
    }
   ],
   "source": [
    "plt.hist(RPF['log2cdRPKM1'], bins = np.arange(-2.0,2.0,0.1))\n",
    "print(np.median(RPF['log2cdRPKM1']))\n",
    "plt.xlabel('log2fold values RPF')\n",
    "plt.ylabel('Frequency')\n",
    "plt.title('log2fold: 2 hpi/0hpi')\n",
    "# plt.axis(-2,2)\n",
    "plt.grid(True)\n",
    "\n",
    "plt.show()"
   ]
  },
  {
   "cell_type": "code",
   "execution_count": 28,
   "metadata": {
    "scrolled": true
   },
   "outputs": [
    {
     "name": "stdout",
     "output_type": "stream",
     "text": [
      "-0.160924884532\n"
     ]
    },
    {
     "data": {
      "image/png": "[encoded data removed]",
      "text/plain": [
       "<matplotlib.figure.Figure at 0x11345d3c8>"
      ]
     },
     "metadata": {},
     "output_type": "display_data"
    }
   ],
   "source": [
    "plt.hist(RPF['log2cdRPKM2'], bins = np.arange(-2.0,2.0,0.1))\n",
    "print(np.median(RPF['log2cdRPKM2']))\n",
    "\n",
    "plt.xlabel('log2fold values RPF')\n",
    "plt.ylabel('Frequency')\n",
    "plt.title('log2fold: 4 hpi/0hpi')\n",
    "# plt.axis(-2,2)\n",
    "plt.grid(True)\n",
    "\n",
    "plt.show()"
   ]
  },
  {
   "cell_type": "code",
   "execution_count": 29,
   "metadata": {
    "scrolled": true
   },
   "outputs": [
    {
     "name": "stdout",
     "output_type": "stream",
     "text": [
      "-0.78138590165\n"
     ]
    },
    {
     "data": {
      "image/png": "[encoded data removed]",
      "text/plain": [
       "<matplotlib.figure.Figure at 0x1134aaa20>"
      ]
     },
     "metadata": {},
     "output_type": "display_data"
    }
   ],
   "source": [
    "\n",
    "plt.hist(RPF['log2cdRPKM3'], bins = np.arange(-2.0,2.0,0.1))\n",
    "print(np.median(RPF['log2cdRPKM3']))\n",
    "\n",
    "\n",
    "plt.xlabel('log2fold values RPF')\n",
    "plt.ylabel('Frequency')\n",
    "plt.title('log2fold: 6 hpi/0hpi')\n",
    "# plt.axis(-2,2)\n",
    "plt.grid(True)\n",
    "\n",
    "plt.show()"
   ]
  },
  {
   "cell_type": "code",
   "execution_count": 30,
   "metadata": {
    "scrolled": true
   },
   "outputs": [
    {
     "name": "stdout",
     "output_type": "stream",
     "text": [
      "-0.895368741896\n"
     ]
    },
    {
     "data": {
      "image/png": "[encoded data removed]",
      "text/plain": [
       "<matplotlib.figure.Figure at 0x1136c95c0>"
      ]
     },
     "metadata": {},
     "output_type": "display_data"
    }
   ],
   "source": [
    "\n",
    "plt.hist(RPF['log2cdRPKM4'], bins = np.arange(-2.0,2.0,0.1))\n",
    "print(np.median(RPF['log2cdRPKM4']))\n",
    "\n",
    "plt.xlabel('log2fold values RPF')\n",
    "plt.ylabel('Frequency')\n",
    "plt.title('log2fold: 8 hpi/0hpi')\n",
    "# plt.axis(-2,2)\n",
    "plt.grid(True)\n",
    "\n",
    "plt.show()"
   ]
  },
  {
   "cell_type": "code",
   "execution_count": null,
   "metadata": {
    "scrolled": true
   },
   "outputs": [],
   "source": [
    "RNASeq_2['log2cdRPKM1']=RNASeq_2['cdRPKM1']-RNASeq_2['cdRPKM0']\n",
    "RNASeq_2['log2cdRPKM2']=RNASeq_2['cdRPKM2']-RNASeq_2['cdRPKM0']\n",
    "RNASeq_2['log2cdRPKM3']=RNASeq_2['cdRPKM3']-RNASeq_2['cdRPKM0']\n",
    "RNASeq_2['log2cdRPKM4']=RNASeq_2['cdRPKM4']-RNASeq_2['cdRPKM0']"
   ]
  },
  {
   "cell_type": "code",
   "execution_count": null,
   "metadata": {
    "scrolled": true
   },
   "outputs": [],
   "source": [
    "RNASeq.head(5)"
   ]
  },
  {
   "cell_type": "code",
   "execution_count": null,
   "metadata": {
    "scrolled": true
   },
   "outputs": [],
   "source": [
    "RNASeq_2.head(5)"
   ]
  },
  {
   "cell_type": "code",
   "execution_count": null,
   "metadata": {
    "scrolled": true
   },
   "outputs": [],
   "source": [
    "filteredRNASeq = RNASeq_2[(RNASeq_2['log2cdRPKM1'] <= 0.5) \n",
    "                        & (RNASeq_2['log2cdRPKM2'] <= 0.5)\n",
    "                        & (RNASeq_2['log2cdRPKM3'] <= 0.5)\n",
    "                        & (RNASeq_2['log2cdRPKM4'] <= 0.5)]\n",
    "filteredRNASeq = filteredRNASeq[(filteredRNASeq['log2cdRPKM1'] >= -0.5) \n",
    "                                & (filteredRNASeq['log2cdRPKM2'] >= -0.5)\n",
    "                                & (filteredRNASeq['log2cdRPKM3'] >= -0.5)\n",
    "                                & (filteredRNASeq['log2cdRPKM4'] >= -0.5)]\n",
    "\n"
   ]
  },
  {
   "cell_type": "code",
   "execution_count": null,
   "metadata": {
    "scrolled": true
   },
   "outputs": [],
   "source": [
    "filteredRNASeq = RNASeq[(RNASeq['log2cdRPKM1'] <= 0.5) \n",
    "                        & (RNASeq['log2cdRPKM2'] <= 0.5)\n",
    "                        & (RNASeq['log2cdRPKM3'] <= 0.5)\n",
    "                        & (RNASeq['log2cdRPKM4'] <= 0.5)]\n",
    "filteredRNASeq = filteredRNASeq[(filteredRNASeq['log2cdRPKM1'] >= -0.5) \n",
    "                                & (filteredRNASeq['log2cdRPKM2'] >= -0.5)\n",
    "                                & (filteredRNASeq['log2cdRPKM3'] >= -0.5)\n",
    "                                & (filteredRNASeq['log2cdRPKM4'] >= -0.5)]\n",
    "\n"
   ]
  },
  {
   "cell_type": "code",
   "execution_count": null,
   "metadata": {
    "scrolled": true
   },
   "outputs": [],
   "source": [
    "filteredRNASeq.head(5)"
   ]
  },
  {
   "cell_type": "code",
   "execution_count": null,
   "metadata": {
    "scrolled": true
   },
   "outputs": [],
   "source": [
    "print(filteredRNASeq.shape)"
   ]
  },
  {
   "cell_type": "code",
   "execution_count": null,
   "metadata": {
    "scrolled": true
   },
   "outputs": [],
   "source": [
    "TE = reduce(lambda left,right: pd.merge(left,right,on=['AccNum','GeneName']), [RPF,RNASeq])\n",
    "TE.head()"
   ]
  },
  {
   "cell_type": "code",
   "execution_count": null,
   "metadata": {
    "scrolled": true
   },
   "outputs": [],
   "source": [
    "TE.shape"
   ]
  },
  {
   "cell_type": "code",
   "execution_count": null,
   "metadata": {
    "scrolled": true
   },
   "outputs": [],
   "source": [
    "TE['cdRPKM0_x'] = TE['cdRPKM0_x']-TE['cdRPKM0_y']\n",
    "TE['cdRPKM1_x'] = TE['cdRPKM1_x']-TE['cdRPKM1_y']\n",
    "TE['cdRPKM2_x'] = TE['cdRPKM2_x']-TE['cdRPKM2_y']\n",
    "TE['cdRPKM3_x'] = TE['cdRPKM3_x']-TE['cdRPKM3_y']\n",
    "TE['cdRPKM4_x'] = TE['cdRPKM4_x']-TE['cdRPKM4_y']\n",
    "for i in range(0,5):\n",
    "    TE.rename(columns={'cdRPKM'+str(i)+'_x':'TE'+str(i)}, inplace=True)\n",
    "TE = TE[['AccNum', 'GeneName','TE0','TE1','TE2','TE3','TE4']]\n",
    "TE.head()"
   ]
  },
  {
   "cell_type": "code",
   "execution_count": null,
   "metadata": {
    "scrolled": true
   },
   "outputs": [],
   "source": [
    "TE['foldTE1']=TE['TE1']-TE['TE0']\n",
    "TE['foldTE2']=TE['TE2']-TE['TE0']\n",
    "TE['foldTE3']=TE['TE3']-TE['TE0']\n",
    "TE['foldTE4']=TE['TE4']-TE['TE0']"
   ]
  },
  {
   "cell_type": "code",
   "execution_count": null,
   "metadata": {
    "scrolled": true
   },
   "outputs": [],
   "source": [
    "TE.head(5)"
   ]
  },
  {
   "cell_type": "code",
   "execution_count": null,
   "metadata": {
    "scrolled": true
   },
   "outputs": [],
   "source": [
    "plt.hist(TE['foldTE1'], bins = np.arange(-2.0,2.0,0.1))\n",
    "\n",
    "\n",
    "plt.xlabel('log2fold values TE')\n",
    "plt.ylabel('Frequency')\n",
    "plt.title('log2fold: 2 hpi/0hpi')\n",
    "# plt.axis(-2,2)\n",
    "plt.grid(True)\n",
    "\n",
    "plt.show()"
   ]
  },
  {
   "cell_type": "code",
   "execution_count": null,
   "metadata": {
    "scrolled": true
   },
   "outputs": [],
   "source": [
    "plt.hist(TE['foldTE2'], bins = np.arange(-2.0,2.0,0.1))\n",
    "\n",
    "\n",
    "plt.xlabel('log2fold values TE')\n",
    "plt.ylabel('Frequency')\n",
    "plt.title('log2fold: 4 hpi/0hpi')\n",
    "# plt.axis(-2,2)\n",
    "plt.grid(True)\n",
    "\n",
    "plt.show()"
   ]
  },
  {
   "cell_type": "code",
   "execution_count": null,
   "metadata": {
    "scrolled": true
   },
   "outputs": [],
   "source": [
    "plt.hist(TE['foldTE3'], bins = np.arange(-2.0,2.0,0.1))\n",
    "\n",
    "\n",
    "plt.xlabel('log2fold values TE')\n",
    "plt.ylabel('Frequency')\n",
    "plt.title('log2fold: 6 hpi/0hpi')\n",
    "# plt.axis(-2,2)\n",
    "plt.grid(True)\n",
    "\n",
    "plt.show()"
   ]
  },
  {
   "cell_type": "code",
   "execution_count": null,
   "metadata": {
    "scrolled": true
   },
   "outputs": [],
   "source": [
    "plt.hist(TE['foldTE4'], bins = np.arange(-2.0,2.0,0.1))\n",
    "\n",
    "\n",
    "plt.xlabel('log2fold values TE')\n",
    "plt.ylabel('Frequency')\n",
    "plt.title('log2fold: 8 hpi/0hpi')\n",
    "# plt.axis(-2,2)\n",
    "plt.grid(True)\n",
    "\n",
    "plt.show()"
   ]
  },
  {
   "cell_type": "code",
   "execution_count": null,
   "metadata": {
    "scrolled": true
   },
   "outputs": [],
   "source": [
    "TE.to_csv('/Users/akankshitadash/Desktop/TE_medianNormalize.txt',sep='\\t',index=False)"
   ]
  },
  {
   "cell_type": "code",
   "execution_count": null,
   "metadata": {
    "scrolled": true
   },
   "outputs": [],
   "source": [
    "previous = 'AdjustedRPKMOutput/RPF_chrE/geneTXCD_RPKMoutput_EVadjusted_ReadOutput_'\n",
    "timepoints = ['ATCACG-s_7_1_genome.txt','TTAGGC-s_7_1_genome.txt',\n",
    "             'CAGATC-s_7_1_genome.txt','GCCAAT-s_7_1_genome.txt',\n",
    "             'CTTGTA-s_7_1_genome.txt'\n",
    "            ]\n",
    "dataframes = []\n",
    "for idx,file in enumerate(timepoints):\n",
    "    df = pd.read_csv(previous+file, sep=\"\t\", na_values=['-'])\n",
    "    df = df.dropna(how='any')\n",
    "    df = df[['AccNum', 'GeneName','cdReads',\n",
    "       'cdRPKM']]\n",
    "    df.rename(columns={'cdRPKM':'cdRPKM'+str(idx), 'cdReads':'cdReads'+str(idx)}, inplace=True)\n",
    "    dataframes.append(df)"
   ]
  },
  {
   "cell_type": "code",
   "execution_count": null,
   "metadata": {
    "scrolled": true
   },
   "outputs": [],
   "source": [
    "previous = 'AdjustedRPKMOutput/RNASeq_chrE/geneTXCD_RPKMoutput_EVadjusted_ReadOutput_'\n",
    "timepoints = ['ATCACG-s_6_1_genome.txt','TTAGGC-s_6_1_genome.txt',\n",
    "             'CAGATC-s_6_1_genome.txt','GCCAAT-s_6_1_genome.txt',\n",
    "             'CTTGTA-s_6_1_genome.txt'\n",
    "            ]\n",
    "dataframes = []\n",
    "for idx,file in enumerate(timepoints):\n",
    "    df = pd.read_csv(previous+file, sep=\"\t\", na_values=['-'])\n",
    "    df = df.dropna(how='any')\n",
    "    df = df[['AccNum', 'GeneName','cdReads',\n",
    "       'cdRPKM']]\n",
    "    df.rename(columns={'cdRPKM':'cdRPKM'+str(idx), 'cdReads':'cdReads'+str(idx)}, inplace=True)\n",
    "    dataframes.append(df)"
   ]
  },
  {
   "cell_type": "code",
   "execution_count": null,
   "metadata": {
    "scrolled": true
   },
   "outputs": [],
   "source": [
    "df_rnaseq = reduce(lambda left,right: pd.merge(left,right,on=['AccNum','GeneName']), dataframes)\n",
    "df_rnaseq.to_csv('AdjustedRPKMOutput/RNASeq_chrE.txt',sep='\\t',index=False)"
   ]
  },
  {
   "cell_type": "code",
   "execution_count": null,
   "metadata": {
    "scrolled": true
   },
   "outputs": [],
   "source": []
  }
 ],
 "metadata": {
  "kernelspec": {
   "display_name": "Python 3",
   "language": "python",
   "name": "python3"
  },
  "language_info": {
   "codemirror_mode": {
    "name": "ipython",
    "version": 3
   },
   "file_extension": ".py",
   "mimetype": "text/x-python",
   "name": "python",
   "nbconvert_exporter": "python",
   "pygments_lexer": "ipython3",
   "version": "3.6.4"
  }
 },
 "nbformat": 4,
 "nbformat_minor": 2
}
