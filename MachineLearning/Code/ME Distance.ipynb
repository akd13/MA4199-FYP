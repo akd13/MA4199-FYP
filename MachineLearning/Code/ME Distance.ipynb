{
 "cells": [
  {
   "cell_type": "code",
   "execution_count": 60,
   "metadata": {},
   "outputs": [],
   "source": [
    "cluster1 = '/Users/akankshitadash/Dropbox/MA4199/Gene Ontology/HMM_chrELogFold/4/'\n",
    "cluster2 = '/Users/akankshitadash/Dropbox/MA4199/Gene Ontology/chrELogFold/4/'\n",
    "\n",
    "len1 = 4\n",
    "len2 = 4\n",
    "\n",
    "filepaths_1 = [cluster1+'AccNum'+str(i+1)+'.txt' for i in range(len1)]\n",
    "filepaths_2 = [cluster2+'AccNum'+str(i+1)+'.txt' for i in range(len2)]"
   ]
  },
  {
   "cell_type": "code",
   "execution_count": 61,
   "metadata": {},
   "outputs": [],
   "source": [
    "set1 = [set(line.strip() for line in open(filepaths_1[i])) for i in range(len1)]\n",
    "set2 = [set(line.strip() for line in open(filepaths_2[i])) for i in range(len2)]"
   ]
  },
  {
   "cell_type": "code",
   "execution_count": 62,
   "metadata": {},
   "outputs": [],
   "source": [
    "def me_distance(set1, set2):\n",
    "    \"\"\"The ME distance between two sets.\n",
    "    set1: An array with K sets\n",
    "    set2: An array with K' sets\n",
    "    n: number of datapoints\n",
    "    ME_dist = 1-1/n sum(max C_k ∩ C_k)\n",
    "    \"\"\"\n",
    "    k = len(set1)\n",
    "    k_prime = len(set2)\n",
    "    \n",
    "    n=0\n",
    "    for group in set1:\n",
    "        n+=len(group)\n",
    "    \n",
    "    confusion_matrix = [[] for i in range(k)]\n",
    "    \n",
    "    for i in range(k):\n",
    "        group1 = set1[i]\n",
    "        for j in range(k_prime):\n",
    "            group2 = set2[j]\n",
    "            confusion_matrix[i].append(len(group1.intersection(group2)))\n",
    "    intermediate_sum = 0\n",
    "    print(n)\n",
    "    for row in confusion_matrix:\n",
    "        intermediate_sum+=max(row)\n",
    "    ME_dist = 1-intermediate_sum/n\n",
    "    return ME_dist  "
   ]
  },
  {
   "cell_type": "code",
   "execution_count": 63,
   "metadata": {},
   "outputs": [
    {
     "name": "stdout",
     "output_type": "stream",
     "text": [
      "5642\n",
      "0.282169443459766\n"
     ]
    }
   ],
   "source": [
    "print(me_distance(set1,set2))"
   ]
  },
  {
   "cell_type": "code",
   "execution_count": null,
   "metadata": {},
   "outputs": [],
   "source": []
  }
 ],
 "metadata": {
  "kernelspec": {
   "display_name": "Python 3",
   "language": "python",
   "name": "python3"
  },
  "language_info": {
   "codemirror_mode": {
    "name": "ipython",
    "version": 3
   },
   "file_extension": ".py",
   "mimetype": "text/x-python",
   "name": "python",
   "nbconvert_exporter": "python",
   "pygments_lexer": "ipython3",
   "version": "3.6.4"
  }
 },
 "nbformat": 4,
 "nbformat_minor": 2
}
