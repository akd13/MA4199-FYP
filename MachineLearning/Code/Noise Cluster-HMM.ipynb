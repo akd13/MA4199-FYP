{
 "cells": [
  {
   "cell_type": "code",
   "execution_count": 9,
   "metadata": {},
   "outputs": [],
   "source": [
    "from pomegranate import *\n",
    "import numpy as np"
   ]
  },
  {
   "cell_type": "code",
   "execution_count": 10,
   "metadata": {},
   "outputs": [],
   "source": [
    "dists = [NormalDistribution(5, 1), NormalDistribution(1, 7), NormalDistribution(8,2)]\n",
    "trans_mat = np.array([[0.7, 0.3, 0.0],\n",
    "                         [0.0, 0.8, 0.2],\n",
    "                         [0.0, 0.0, 0.9]])\n",
    "starts = np.array([1.0, 0.0, 0.0])\n",
    "ends = np.array([0.0, 0.0, 0.1])\n",
    "model = HiddenMarkovModel.from_matrix(trans_mat, dists, starts, ends)"
   ]
  },
  {
   "cell_type": "code",
   "execution_count": null,
   "metadata": {},
   "outputs": [],
   "source": []
  }
 ],
 "metadata": {
  "kernelspec": {
   "display_name": "Python 3",
   "language": "python",
   "name": "python3"
  },
  "language_info": {
   "codemirror_mode": {
    "name": "ipython",
    "version": 3
   },
   "file_extension": ".py",
   "mimetype": "text/x-python",
   "name": "python",
   "nbconvert_exporter": "python",
   "pygments_lexer": "ipython3",
   "version": "3.6.4"
  }
 },
 "nbformat": 4,
 "nbformat_minor": 2
}
