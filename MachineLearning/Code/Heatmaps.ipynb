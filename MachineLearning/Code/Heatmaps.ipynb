{
 "cells": [
  {
   "cell_type": "code",
   "execution_count": 20,
   "metadata": {},
   "outputs": [],
   "source": [
    "import time\n",
    "import warnings\n",
    "\n",
    "import numpy as np\n",
    "import pandas as pd\n",
    "import matplotlib.pyplot as plt\n",
    "from constants import *\n",
    "\n",
    "from sklearn import datasets\n",
    "from sklearn.mixture import GaussianMixture as GMM\n",
    "from sklearn.model_selection import StratifiedKFold\n",
    "from sklearn.cluster import KMeans,AffinityPropagation\n",
    "\n",
    "import warnings\n",
    "from constants import *\n",
    "import math\n",
    "import seaborn as sns\n",
    "import random\n",
    "import matplotlib.pyplot as plt\n",
    "warnings.filterwarnings(\"ignore\")\n",
    "import dill"
   ]
  },
  {
   "cell_type": "code",
   "execution_count": 2,
   "metadata": {},
   "outputs": [],
   "source": [
    "df = pd.read_csv('/Users/akankshitadash/Desktop/GMM/TE.txt',sep='\\t')"
   ]
  },
  {
   "cell_type": "code",
   "execution_count": 21,
   "metadata": {},
   "outputs": [
    {
     "data": {
      "text/html": [
       "<div>\n",
       "<style scoped>\n",
       "    .dataframe tbody tr th:only-of-type {\n",
       "        vertical-align: middle;\n",
       "    }\n",
       "\n",
       "    .dataframe tbody tr th {\n",
       "        vertical-align: top;\n",
       "    }\n",
       "\n",
       "    .dataframe thead th {\n",
       "        text-align: right;\n",
       "    }\n",
       "</style>\n",
       "<table border=\"1\" class=\"dataframe\">\n",
       "  <thead>\n",
       "    <tr style=\"text-align: right;\">\n",
       "      <th></th>\n",
       "      <th>AccNum</th>\n",
       "      <th>GeneName</th>\n",
       "      <th>TE0</th>\n",
       "      <th>TE1</th>\n",
       "      <th>TE2</th>\n",
       "      <th>TE3</th>\n",
       "      <th>TE4</th>\n",
       "      <th>foldTE1</th>\n",
       "      <th>foldTE2</th>\n",
       "      <th>foldTE3</th>\n",
       "      <th>foldTE4</th>\n",
       "    </tr>\n",
       "  </thead>\n",
       "  <tbody>\n",
       "    <tr>\n",
       "      <th>0</th>\n",
       "      <td>NM_017847</td>\n",
       "      <td>ODR4</td>\n",
       "      <td>1.311593</td>\n",
       "      <td>1.239842</td>\n",
       "      <td>1.411084</td>\n",
       "      <td>1.623031</td>\n",
       "      <td>1.266305</td>\n",
       "      <td>-0.071751</td>\n",
       "      <td>0.099491</td>\n",
       "      <td>0.311438</td>\n",
       "      <td>-0.045287</td>\n",
       "    </tr>\n",
       "    <tr>\n",
       "      <th>1</th>\n",
       "      <td>NM_001003803</td>\n",
       "      <td>ATP5S</td>\n",
       "      <td>1.898159</td>\n",
       "      <td>1.914442</td>\n",
       "      <td>2.395429</td>\n",
       "      <td>2.596103</td>\n",
       "      <td>1.894337</td>\n",
       "      <td>0.016283</td>\n",
       "      <td>0.497270</td>\n",
       "      <td>0.697943</td>\n",
       "      <td>-0.003823</td>\n",
       "    </tr>\n",
       "    <tr>\n",
       "      <th>2</th>\n",
       "      <td>NM_016647</td>\n",
       "      <td>THEM6</td>\n",
       "      <td>0.051293</td>\n",
       "      <td>0.207781</td>\n",
       "      <td>0.361159</td>\n",
       "      <td>0.620028</td>\n",
       "      <td>0.068366</td>\n",
       "      <td>0.156488</td>\n",
       "      <td>0.309866</td>\n",
       "      <td>0.568735</td>\n",
       "      <td>0.017073</td>\n",
       "    </tr>\n",
       "    <tr>\n",
       "      <th>3</th>\n",
       "      <td>NM_016640</td>\n",
       "      <td>MRPS30</td>\n",
       "      <td>0.556363</td>\n",
       "      <td>0.551786</td>\n",
       "      <td>0.263127</td>\n",
       "      <td>0.284844</td>\n",
       "      <td>0.340352</td>\n",
       "      <td>-0.004577</td>\n",
       "      <td>-0.293236</td>\n",
       "      <td>-0.271519</td>\n",
       "      <td>-0.216011</td>\n",
       "    </tr>\n",
       "    <tr>\n",
       "      <th>4</th>\n",
       "      <td>NM_001080825</td>\n",
       "      <td>TMEM120B</td>\n",
       "      <td>0.237953</td>\n",
       "      <td>0.493599</td>\n",
       "      <td>0.790843</td>\n",
       "      <td>0.390857</td>\n",
       "      <td>0.455389</td>\n",
       "      <td>0.255646</td>\n",
       "      <td>0.552890</td>\n",
       "      <td>0.152904</td>\n",
       "      <td>0.217436</td>\n",
       "    </tr>\n",
       "  </tbody>\n",
       "</table>\n",
       "</div>"
      ],
      "text/plain": [
       "         AccNum  GeneName       TE0       TE1       TE2       TE3       TE4  \\\n",
       "0     NM_017847      ODR4  1.311593  1.239842  1.411084  1.623031  1.266305   \n",
       "1  NM_001003803     ATP5S  1.898159  1.914442  2.395429  2.596103  1.894337   \n",
       "2     NM_016647     THEM6  0.051293  0.207781  0.361159  0.620028  0.068366   \n",
       "3     NM_016640    MRPS30  0.556363  0.551786  0.263127  0.284844  0.340352   \n",
       "4  NM_001080825  TMEM120B  0.237953  0.493599  0.790843  0.390857  0.455389   \n",
       "\n",
       "    foldTE1   foldTE2   foldTE3   foldTE4  \n",
       "0 -0.071751  0.099491  0.311438 -0.045287  \n",
       "1  0.016283  0.497270  0.697943 -0.003823  \n",
       "2  0.156488  0.309866  0.568735  0.017073  \n",
       "3 -0.004577 -0.293236 -0.271519 -0.216011  \n",
       "4  0.255646  0.552890  0.152904  0.217436  "
      ]
     },
     "execution_count": 21,
     "metadata": {},
     "output_type": "execute_result"
    }
   ],
   "source": [
    "df.head()"
   ]
  },
  {
   "cell_type": "code",
   "execution_count": 4,
   "metadata": {},
   "outputs": [
    {
     "data": {
      "text/plain": [
       "Index(['AccNum', 'GeneName', 'TE0', 'TE1', 'TE2', 'TE3', 'TE4', 'foldTE1',\n",
       "       'foldTE2', 'foldTE3', 'foldTE4'],\n",
       "      dtype='object')"
      ]
     },
     "execution_count": 4,
     "metadata": {},
     "output_type": "execute_result"
    }
   ],
   "source": [
    "df.keys()"
   ]
  },
  {
   "cell_type": "code",
   "execution_count": 25,
   "metadata": {},
   "outputs": [
    {
     "name": "stdout",
     "output_type": "stream",
     "text": [
      "/Users/akankshitadash/Desktop/HMM/4/Gene1.txt\n",
      "1529 1529\n",
      "/Users/akankshitadash/Desktop/HMM/4/Gene2.txt\n",
      "2516 987\n",
      "/Users/akankshitadash/Desktop/HMM/4/Gene3.txt\n",
      "4098 1582\n",
      "/Users/akankshitadash/Desktop/HMM/4/Gene4.txt\n",
      "5576 1478\n",
      "/Users/akankshitadash/Desktop/HMM/5/Gene1.txt\n",
      "803 803\n",
      "/Users/akankshitadash/Desktop/HMM/5/Gene2.txt\n",
      "1831 1028\n",
      "/Users/akankshitadash/Desktop/HMM/5/Gene3.txt\n",
      "3225 1394\n",
      "/Users/akankshitadash/Desktop/HMM/5/Gene4.txt\n",
      "4440 1215\n",
      "/Users/akankshitadash/Desktop/HMM/5/Gene5.txt\n",
      "5576 1136\n"
     ]
    }
   ],
   "source": [
    "path =  '/Users/akankshitadash/Desktop/HMM/'\n",
    "clusters = [[],[]]\n",
    "indices = [[],[]]\n",
    "num = ['4','5']\n",
    "for i in num: #cluster number 4,5,6\n",
    "    for j in range(int(i)): #sub-cluster within clusters\n",
    "        path_load=path+i+'/Gene'+str(j+1)+'.txt'\n",
    "        print(path_load)\n",
    "        f = open(path_load, \"r\")\n",
    "        idx=0\n",
    "        for x in f:\n",
    "            if(not df.loc[df['GeneName'] == x[:-1]].empty):\n",
    "                idx+=1\n",
    "                list_new = df.loc[df['GeneName'] == x[:-1]][['foldTE1','foldTE2', 'foldTE3', 'foldTE4']].values[0]\n",
    "                clusters[int(i)-4].append(list_new)\n",
    "        indices[int(i)-4].append(len(clusters[int(i)-4]))\n",
    "        print(len(clusters[int(i)-4]),idx)     \n",
    "        \n",
    "        "
   ]
  },
  {
   "cell_type": "code",
   "execution_count": 18,
   "metadata": {},
   "outputs": [
    {
     "name": "stdout",
     "output_type": "stream",
     "text": [
      "[[1412, 5576]]\n"
     ]
    }
   ],
   "source": [
    "print(indices)"
   ]
  },
  {
   "cell_type": "code",
   "execution_count": 26,
   "metadata": {},
   "outputs": [
    {
     "data": {
      "image/png": "[encoded data removed]",
      "text/plain": [
       "<matplotlib.figure.Figure at 0x11325be48>"
      ]
     },
     "metadata": {},
     "output_type": "display_data"
    },
    {
     "data": {
      "image/png": "[encoded data removed]",
      "text/plain": [
       "<matplotlib.figure.Figure at 0x112e82940>"
      ]
     },
     "metadata": {},
     "output_type": "display_data"
    }
   ],
   "source": [
    "def plot_heatmap(X,idx,indices,path):\n",
    "    ax = sns.heatmap(X,xticklabels=['foldTE1',\n",
    "       'foldTE2', 'foldTE3', 'foldTE4'])\n",
    "    plt.title('Heatmap'+str(idx))\n",
    "    ax.hlines(indices, *ax.get_xlim())\n",
    "    plt.savefig(path)\n",
    "    plt.show()\n",
    "    \n",
    "for idx,cluster in enumerate(clusters):\n",
    "    path = '/Users/akankshitadash/Desktop/HMM/4/'+str(idx+2)\n",
    "    plot_heatmap(cluster,idx+2,indices[idx],path)"
   ]
  },
  {
   "cell_type": "code",
   "execution_count": null,
   "metadata": {},
   "outputs": [],
   "source": [
    "gmm = GMM(n_components=2, covariance_type='full',n_init=15)\n",
    "gmm.fit(X)\n",
    "K = 2 #insert K here\n",
    "X_predicted = [ [] for i in range(K)]\n",
    "\n",
    "\n",
    "for idx,cluster in enumerate(X_predicted):\n",
    "    fig = plt.subplot(111)\n",
    "    for points in cluster:\n",
    "        fig.plot(var_plot_list,points)\n",
    "    title = \"GMM for \"+str(len(cluster)) + \" points\"\n",
    "    plt.title(title)\n",
    "    plt.savefig('/Users/akankshitadash/Desktop/HMM/4/Cluster'+str(idx+1))\n",
    "    plt.show() "
   ]
  }
 ],
 "metadata": {
  "kernelspec": {
   "display_name": "Python 3",
   "language": "python",
   "name": "python3"
  },
  "language_info": {
   "codemirror_mode": {
    "name": "ipython",
    "version": 3
   },
   "file_extension": ".py",
   "mimetype": "text/x-python",
   "name": "python",
   "nbconvert_exporter": "python",
   "pygments_lexer": "ipython3",
   "version": "3.6.4"
  }
 },
 "nbformat": 4,
 "nbformat_minor": 2
}
