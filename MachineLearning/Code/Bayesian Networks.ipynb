{
 "cells": [
  {
   "cell_type": "code",
   "execution_count": 16,
   "metadata": {},
   "outputs": [],
   "source": [
    "import numpy as np\n",
    "import pandas as pd\n",
    "from pomegranate import *\n",
    "import random\n",
    "import os\n",
    "import itertools"
   ]
  },
  {
   "cell_type": "code",
   "execution_count": 2,
   "metadata": {},
   "outputs": [],
   "source": [
    "df = pd.read_csv('AdjustedRPKMOutput/RPF_chrE.txt',sep='\\t')"
   ]
  },
  {
   "cell_type": "code",
   "execution_count": 3,
   "metadata": {},
   "outputs": [
    {
     "data": {
      "text/html": [
       "<div>\n",
       "<style scoped>\n",
       "    .dataframe tbody tr th:only-of-type {\n",
       "        vertical-align: middle;\n",
       "    }\n",
       "\n",
       "    .dataframe tbody tr th {\n",
       "        vertical-align: top;\n",
       "    }\n",
       "\n",
       "    .dataframe thead th {\n",
       "        text-align: right;\n",
       "    }\n",
       "</style>\n",
       "<table border=\"1\" class=\"dataframe\">\n",
       "  <thead>\n",
       "    <tr style=\"text-align: right;\">\n",
       "      <th></th>\n",
       "      <th>AccNum</th>\n",
       "      <th>GeneName</th>\n",
       "      <th>cdReads0</th>\n",
       "      <th>cdRPKM0</th>\n",
       "      <th>cdReads1</th>\n",
       "      <th>cdRPKM1</th>\n",
       "      <th>cdReads2</th>\n",
       "      <th>cdRPKM2</th>\n",
       "      <th>cdReads3</th>\n",
       "      <th>cdRPKM3</th>\n",
       "      <th>cdReads4</th>\n",
       "      <th>cdRPKM4</th>\n",
       "    </tr>\n",
       "  </thead>\n",
       "  <tbody>\n",
       "    <tr>\n",
       "      <th>0</th>\n",
       "      <td>NM_017847</td>\n",
       "      <td>ODR4</td>\n",
       "      <td>93.0</td>\n",
       "      <td>16.468792</td>\n",
       "      <td>62.0</td>\n",
       "      <td>13.189469</td>\n",
       "      <td>49.0</td>\n",
       "      <td>14.172717</td>\n",
       "      <td>37.0</td>\n",
       "      <td>9.403085</td>\n",
       "      <td>39.0</td>\n",
       "      <td>10.487249</td>\n",
       "    </tr>\n",
       "    <tr>\n",
       "      <th>1</th>\n",
       "      <td>NM_001143986</td>\n",
       "      <td>TLE6</td>\n",
       "      <td>4.0</td>\n",
       "      <td>0.562465</td>\n",
       "      <td>2.0</td>\n",
       "      <td>0.337849</td>\n",
       "      <td>2.0</td>\n",
       "      <td>0.459350</td>\n",
       "      <td>1.0</td>\n",
       "      <td>0.201802</td>\n",
       "      <td>1.0</td>\n",
       "      <td>0.213527</td>\n",
       "    </tr>\n",
       "    <tr>\n",
       "      <th>2</th>\n",
       "      <td>NM_001003803</td>\n",
       "      <td>ATP5S</td>\n",
       "      <td>81.0</td>\n",
       "      <td>30.214920</td>\n",
       "      <td>83.0</td>\n",
       "      <td>37.193868</td>\n",
       "      <td>71.0</td>\n",
       "      <td>43.258655</td>\n",
       "      <td>46.0</td>\n",
       "      <td>24.625447</td>\n",
       "      <td>26.0</td>\n",
       "      <td>14.727463</td>\n",
       "    </tr>\n",
       "    <tr>\n",
       "      <th>3</th>\n",
       "      <td>NM_001003800</td>\n",
       "      <td>BICD2</td>\n",
       "      <td>501.0</td>\n",
       "      <td>47.157866</td>\n",
       "      <td>389.0</td>\n",
       "      <td>43.986848</td>\n",
       "      <td>284.0</td>\n",
       "      <td>43.662942</td>\n",
       "      <td>257.0</td>\n",
       "      <td>34.716778</td>\n",
       "      <td>230.0</td>\n",
       "      <td>32.874747</td>\n",
       "    </tr>\n",
       "    <tr>\n",
       "      <th>4</th>\n",
       "      <td>NM_016649</td>\n",
       "      <td>ESF1</td>\n",
       "      <td>69.0</td>\n",
       "      <td>6.525288</td>\n",
       "      <td>52.0</td>\n",
       "      <td>5.907596</td>\n",
       "      <td>41.0</td>\n",
       "      <td>6.333047</td>\n",
       "      <td>26.0</td>\n",
       "      <td>3.528692</td>\n",
       "      <td>26.0</td>\n",
       "      <td>3.733723</td>\n",
       "    </tr>\n",
       "  </tbody>\n",
       "</table>\n",
       "</div>"
      ],
      "text/plain": [
       "         AccNum GeneName  cdReads0    cdRPKM0  cdReads1    cdRPKM1  cdReads2  \\\n",
       "0     NM_017847     ODR4      93.0  16.468792      62.0  13.189469      49.0   \n",
       "1  NM_001143986     TLE6       4.0   0.562465       2.0   0.337849       2.0   \n",
       "2  NM_001003803    ATP5S      81.0  30.214920      83.0  37.193868      71.0   \n",
       "3  NM_001003800    BICD2     501.0  47.157866     389.0  43.986848     284.0   \n",
       "4     NM_016649     ESF1      69.0   6.525288      52.0   5.907596      41.0   \n",
       "\n",
       "     cdRPKM2  cdReads3    cdRPKM3  cdReads4    cdRPKM4  \n",
       "0  14.172717      37.0   9.403085      39.0  10.487249  \n",
       "1   0.459350       1.0   0.201802       1.0   0.213527  \n",
       "2  43.258655      46.0  24.625447      26.0  14.727463  \n",
       "3  43.662942     257.0  34.716778     230.0  32.874747  \n",
       "4   6.333047      26.0   3.528692      26.0   3.733723  "
      ]
     },
     "execution_count": 3,
     "metadata": {},
     "output_type": "execute_result"
    }
   ],
   "source": [
    "df.head(5)"
   ]
  },
  {
   "cell_type": "markdown",
   "metadata": {},
   "source": [
    "### RPF data"
   ]
  },
  {
   "cell_type": "code",
   "execution_count": 4,
   "metadata": {},
   "outputs": [],
   "source": [
    "X = np.log2(df[['cdRPKM0','cdRPKM1','cdRPKM2','cdRPKM3','cdRPKM4']].values).astype(int)"
   ]
  },
  {
   "cell_type": "code",
   "execution_count": 5,
   "metadata": {},
   "outputs": [
    {
     "name": "stdout",
     "output_type": "stream",
     "text": [
      "(11745, 5)\n"
     ]
    }
   ],
   "source": [
    "print(X.shape)"
   ]
  },
  {
   "cell_type": "code",
   "execution_count": 6,
   "metadata": {},
   "outputs": [],
   "source": [
    "LENGTH, DIMENSION = X.shape"
   ]
  },
  {
   "cell_type": "code",
   "execution_count": 7,
   "metadata": {},
   "outputs": [
    {
     "name": "stdout",
     "output_type": "stream",
     "text": [
      "[-5.  -4.1 -3.2 -2.3 -1.4 -0.5  0.4  1.3  2.2  3.1  4.   4.9  5.8  6.7\n",
      "  7.6  8.5  9.4 10.3 11.2 12.1 13. ]\n"
     ]
    }
   ],
   "source": [
    "bin_size = 20 #state number of bins here, multiple of 5\n",
    "step = (np.max(X)-np.min(X))/bin_size\n",
    "bins = np.arange(np.min(X),np.max(X)+0.1,step)\n",
    "print(bins)\n",
    "X = np.digitize(X,bins)"
   ]
  },
  {
   "cell_type": "code",
   "execution_count": 8,
   "metadata": {},
   "outputs": [
    {
     "name": "stdout",
     "output_type": "stream",
     "text": [
      "[[10  9  9  9  9]\n",
      " [ 6  5  5  4  4]\n",
      " [10 12 12 10  9]\n",
      " [12 12 12 12 12]\n",
      " [ 8  8  8  7  7]]\n"
     ]
    }
   ],
   "source": [
    "print(X[:5])"
   ]
  },
  {
   "cell_type": "markdown",
   "metadata": {},
   "source": [
    "### Sample network"
   ]
  },
  {
   "cell_type": "code",
   "execution_count": 9,
   "metadata": {},
   "outputs": [],
   "source": [
    "model = BayesianNetwork.from_samples(X,algorithm='chow-liu')"
   ]
  },
  {
   "cell_type": "code",
   "execution_count": 10,
   "metadata": {},
   "outputs": [
    {
     "data": {
      "text/plain": [
       "((), (0,), (1,), (2,), (3,))"
      ]
     },
     "execution_count": 10,
     "metadata": {},
     "output_type": "execute_result"
    }
   ],
   "source": [
    "model.structure"
   ]
  },
  {
   "cell_type": "markdown",
   "metadata": {},
   "source": [
    "### Initialize 4 networks"
   ]
  },
  {
   "cell_type": "code",
   "execution_count": 11,
   "metadata": {},
   "outputs": [
    {
     "name": "stdout",
     "output_type": "stream",
     "text": [
      "**************** K = 6 ************************\n",
      "Length of model 1 : 2021\n",
      "Length of model 2 : 1931\n",
      "Length of model 3 : 1989\n",
      "Length of model 4 : 1959\n",
      "Length of model 5 : 1886\n",
      "Length of model 6 : 1959\n",
      "Initial Model Structures [0.1720732226479353, 0.16441038739889316, 0.16934865900383142, 0.16679438058748403, 0.16057896977437208, 0.16679438058748403]\n",
      "((), (0,), (1,), (2,), (3,))\n",
      "((), (0,), (1,), (2,), (3,))\n",
      "((), (0,), (1,), (2,), (3,))\n",
      "((), (0,), (1,), (2,), (3,))\n",
      "((), (0,), (1,), (2,), (3,))\n",
      "((), (0,), (1,), (2,), (3,))\n",
      "Initial Alphas [0.1720732226479353, 0.16441038739889316, 0.16934865900383142, 0.16679438058748403, 0.16057896977437208, 0.16679438058748403]\n",
      "Initial CML -87281.27169940277\n"
     ]
    }
   ],
   "source": [
    "K = 6\n",
    "\n",
    "models = []\n",
    "x_k = [[] for i in range(K)] #initialize K empty data arrays\n",
    "alpha_k = []\n",
    "indices_array = [[] for i in range(K)]\n",
    "print(\"**************** K =\", K ,\"************************\")\n",
    "\n",
    "\n",
    "# Sequences for initial CL Multinet Estimation\n",
    "# Make K subsets of data\n",
    "for i in range(LENGTH):\n",
    "    random_integer = random.randint(0,K-1)\n",
    "    x_k[random_integer].append(X[i])\n",
    "    indices_array[random_integer].append(i)\n",
    "            \n",
    "for i in range(K):\n",
    "    print(\"Length of model\",i+1,\":\",len(x_k[i]))\n",
    "    alpha_k.append(len(x_k[i])/LENGTH)\n",
    "    model = BayesianNetwork.from_samples(x_k[i],algorithm='chow-liu') \n",
    "    models.append(model)\n",
    "\n",
    "print(\"Initial Model Structures\",alpha_k)\n",
    "for model in models:\n",
    "    print(model.structure)\n",
    "\n",
    "print(\"Initial Alphas\",alpha_k)\n",
    "\n",
    "CML = 0\n",
    "\n",
    "for i in range(K):\n",
    "    x = x_k[i]\n",
    "    model = models[i]\n",
    "    CML+=sum(np.log(model.probability(x)))+len(x)*np.log(alpha_k[i])\n",
    "print(\"Initial CML\",CML)"
   ]
  },
  {
   "cell_type": "markdown",
   "metadata": {},
   "source": [
    "### EM Step"
   ]
  },
  {
   "cell_type": "code",
   "execution_count": 97,
   "metadata": {},
   "outputs": [
    {
     "name": "stdout",
     "output_type": "stream",
     "text": [
      "New CML is: -87314.02959328138\n",
      "New CML is: -87292.25668097037\n",
      "New CML is: -87301.68585425513\n",
      "New CML is: -87250.02858219786\n",
      "New CML is: -87250.06141785166\n"
     ]
    }
   ],
   "source": [
    "init_CML = CML\n",
    "\n",
    "#S Step\n",
    "for i in range(5): #start with 100 iterations of EM\n",
    "    x_k = [[] for i in range(K)] #initialize K empty data arrays\n",
    "    #S step: Assign data-points randomly\n",
    "    for j in range(LENGTH):\n",
    "        x_k[random.randint(0,K-1)].append(X[j])\n",
    "    alpha_k = [len(x_k[k])/LENGTH for k in range(K)]\n",
    "    models = []\n",
    "    for j in range(K):\n",
    "        model = BayesianNetwork.from_samples(x_k[j],algorithm='chow-liu') \n",
    "        models.append(model)\n",
    "        \n",
    "    #M step: Calculate the CML criterion and re-estimate parameters\n",
    "    init_CML = CML\n",
    "    CML=0\n",
    "    for j in range(K):\n",
    "        x = x_k[j]\n",
    "        model = models[j]\n",
    "        CML+=sum(np.log(model.probability(x)))+len(x)*np.log(alpha_k[j])\n",
    "    print(\"New CML is:\", CML)   \n",
    "    if(CML==init_CML): #if no change in CML, then break\n",
    "        break\n"
   ]
  },
  {
   "cell_type": "code",
   "execution_count": 21,
   "metadata": {},
   "outputs": [
    {
     "name": "stdout",
     "output_type": "stream",
     "text": [
      "New CML is: -66551.95521654727\n",
      "((), (0,), (1,), (2,), (3,))\n",
      "((), (0,), (1,), (2,), (3,))\n",
      "((), (0,), (1,), (2,), (2,))\n",
      "((), (0,), (1,), (2,), (3,))\n",
      "((), (0,), (1,), (2,), (3,))\n",
      "((), (0,), (1,), (2,), (3,))\n",
      "3500 3500 3500\n"
     ]
    },
    {
     "ename": "FileNotFoundError",
     "evalue": "[Errno 2] No such file or directory: '/Users/akankshitadash/Desktop/Bayesian Networks/6/Genes/Gene1.txt'",
     "output_type": "error",
     "traceback": [
      "\u001b[0;31m---------------------------------------------------------------------------\u001b[0m",
      "\u001b[0;31mFileNotFoundError\u001b[0m                         Traceback (most recent call last)",
      "\u001b[0;32m<ipython-input-21-3fa289b73ae4>\u001b[0m in \u001b[0;36m<module>\u001b[0;34m()\u001b[0m\n\u001b[1;32m     44\u001b[0m \u001b[0;31m#             os.mkdir('/Users/akankshitadash/Desktop/Bayesian Networks/'+str(len(indices_array))+'/Genes/')\u001b[0m\u001b[0;34m\u001b[0m\u001b[0;34m\u001b[0m\u001b[0m\n\u001b[1;32m     45\u001b[0m \u001b[0;31m#             os.mkdir('/Users/akankshitadash/Desktop/Bayesian Networks/'+str(len(indices_array))+'/AccNums/')\u001b[0m\u001b[0;34m\u001b[0m\u001b[0;34m\u001b[0m\u001b[0m\n\u001b[0;32m---> 46\u001b[0;31m             \u001b[0;32mwith\u001b[0m \u001b[0mopen\u001b[0m\u001b[0;34m(\u001b[0m\u001b[0;34m'/Users/akankshitadash/Desktop/Bayesian Networks/'\u001b[0m\u001b[0;34m+\u001b[0m\u001b[0mstr\u001b[0m\u001b[0;34m(\u001b[0m\u001b[0mlen\u001b[0m\u001b[0;34m(\u001b[0m\u001b[0mindices_array\u001b[0m\u001b[0;34m)\u001b[0m\u001b[0;34m)\u001b[0m\u001b[0;34m+\u001b[0m\u001b[0;34m'/Genes/Gene'\u001b[0m\u001b[0;34m+\u001b[0m\u001b[0mstr\u001b[0m\u001b[0;34m(\u001b[0m\u001b[0midx\u001b[0m\u001b[0;34m+\u001b[0m\u001b[0;36m1\u001b[0m\u001b[0;34m)\u001b[0m\u001b[0;34m+\u001b[0m\u001b[0;34m'.txt'\u001b[0m\u001b[0;34m,\u001b[0m\u001b[0;34m'w'\u001b[0m\u001b[0;34m)\u001b[0m \u001b[0;32mas\u001b[0m \u001b[0mf\u001b[0m\u001b[0;34m:\u001b[0m\u001b[0;34m\u001b[0m\u001b[0m\n\u001b[0m\u001b[1;32m     47\u001b[0m                 \u001b[0;32mfor\u001b[0m \u001b[0mgene\u001b[0m \u001b[0;32min\u001b[0m \u001b[0mgenes\u001b[0m\u001b[0;34m:\u001b[0m\u001b[0;34m\u001b[0m\u001b[0m\n\u001b[1;32m     48\u001b[0m                     \u001b[0mf\u001b[0m\u001b[0;34m.\u001b[0m\u001b[0mwrite\u001b[0m\u001b[0;34m(\u001b[0m\u001b[0;34m\"%s\\n\"\u001b[0m \u001b[0;34m%\u001b[0m \u001b[0mgene\u001b[0m\u001b[0;34m)\u001b[0m\u001b[0;34m\u001b[0m\u001b[0m\n",
      "\u001b[0;31mFileNotFoundError\u001b[0m: [Errno 2] No such file or directory: '/Users/akankshitadash/Desktop/Bayesian Networks/6/Genes/Gene1.txt'"
     ]
    }
   ],
   "source": [
    "# C Step     \n",
    "for i in range(100): #start with 100 iterations of EM\n",
    "    x_k_temp = [[] for i in range(K)] #initialize K empty data arrays for C step (assign)\n",
    "    indices_array = [[] for i in range(K)]\n",
    "    #E Step: Calculate each point's posterior probability for K trees\n",
    "    for idx_first,x in enumerate(X):\n",
    "        model_prob = []\n",
    "        for idx,model in enumerate(models): # K trees\n",
    "            try:\n",
    "                model_prob.append(model.probability(x))\n",
    "            except KeyError: #if a point doesn't exist in a tree, then the probability is zero\n",
    "                model_prob.append(0)\n",
    "        total = [a*b for a,b in zip(model_prob,alpha_k)]\n",
    "        max_prob_idx = total.index(max(total)) #return index of the max posterior probability\n",
    "        x_k_temp[max_prob_idx].append(x)\n",
    "        indices_array[max_prob_idx].append(idx_first)\n",
    "    \n",
    "    #C step: Assign data-points to the trees that maximize their posterior probability\n",
    "    x_k = x_k_temp\n",
    "    alpha_k = [len(x_k[i])/LENGTH for i in range(K)]\n",
    "    models = []\n",
    "    for j in range(K):\n",
    "        model = BayesianNetwork.from_samples(x_k[j],algorithm='chow-liu') \n",
    "        models.append(model)\n",
    "        \n",
    "    #M step: Calculate the CML criterion and re-estimate parameters\n",
    "    init_CML = CML\n",
    "    CML=0\n",
    "    for j in range(K):\n",
    "        x = x_k[j]\n",
    "        model = models[j]\n",
    "        CML+=sum(np.log(model.probability(x)))+len(x)*np.log(alpha_k[j])\n",
    "    print(\"New CML is:\", CML)   \n",
    "    if(CML==init_CML): #if no change in CML, then break\n",
    "        [print(model.structure) for model in models]\n",
    "        for idx,indices in enumerate(indices_array):\n",
    "            genes=[]\n",
    "            acc_nums=[]\n",
    "            for index in indices:\n",
    "                genes.append(df.iloc[index]['GeneName'])\n",
    "                acc_nums.append(df.iloc[index]['AccNum'])\n",
    "            print(len(indices),len(genes),len(acc_nums))\n",
    "#             os.mkdir('/Users/akankshitadash/Desktop/Bayesian Networks/'+str(len(indices_array)))\n",
    "#             os.mkdir('/Users/akankshitadash/Desktop/Bayesian Networks/'+str(len(indices_array))+'/Genes/')\n",
    "#             os.mkdir('/Users/akankshitadash/Desktop/Bayesian Networks/'+str(len(indices_array))+'/AccNums/')\n",
    "            with open('/Users/akankshitadash/Desktop/Bayesian Networks/'+str(len(indices_array))+'/Genes/Gene'+str(idx+1)+'.txt','w') as f:\n",
    "                for gene in genes:\n",
    "                    f.write(\"%s\\n\" % gene)\n",
    "            with open('/Users/akankshitadash/Desktop/Bayesian Networks/'+str(len(indices_array))+'/AccNums/AccNum'+str(idx+1)+'.txt','w') as f:\n",
    "                for acc_num in acc_nums:\n",
    "                    f.write(\"%s\\n\" % acc_num)\n",
    "        break"
   ]
  },
  {
   "cell_type": "code",
   "execution_count": null,
   "metadata": {},
   "outputs": [],
   "source": []
  }
 ],
 "metadata": {
  "kernelspec": {
   "display_name": "Python 3",
   "language": "python",
   "name": "python3"
  },
  "language_info": {
   "codemirror_mode": {
    "name": "ipython",
    "version": 3
   },
   "file_extension": ".py",
   "mimetype": "text/x-python",
   "name": "python",
   "nbconvert_exporter": "python",
   "pygments_lexer": "ipython3",
   "version": "3.6.4"
  }
 },
 "nbformat": 4,
 "nbformat_minor": 2
}
