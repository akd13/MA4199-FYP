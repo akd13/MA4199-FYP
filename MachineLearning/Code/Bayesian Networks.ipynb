{
 "cells": [
  {
   "cell_type": "code",
   "execution_count": 18,
   "metadata": {},
   "outputs": [],
   "source": [
    "import numpy as np\n",
    "import pandas as pd\n",
    "from pomegranate import *\n",
    "import random\n",
    "import os\n",
    "import itertools"
   ]
  },
  {
   "cell_type": "markdown",
   "metadata": {},
   "source": [
    "### Methods"
   ]
  },
  {
   "cell_type": "code",
   "execution_count": 37,
   "metadata": {},
   "outputs": [],
   "source": [
    "def init(K,X):\n",
    "    \"\"\"This method initializes the models for EM\n",
    "    \n",
    "    K: Number of clusters\n",
    "    X: Data\n",
    "    \n",
    "    Return: x_k, models,alpha_k, indices_array, CML\n",
    "    \"\"\"\n",
    "    LENGTH, DIMENSION = X.shape\n",
    "    models = []\n",
    "    x_k = [[] for i in range(K)] #initialize K empty data arrays\n",
    "    alpha_k = []\n",
    "    indices_array = [[] for i in range(K)]\n",
    "    print(\"**************** K =\", K ,\"************************\")\n",
    "\n",
    "\n",
    "    # Sequences for initial CL Multinet Estimation\n",
    "    # Make K subsets of data\n",
    "    for i in range(LENGTH):\n",
    "        random_integer = random.randint(0,K-1)\n",
    "        x_k[random_integer].append(X[i])\n",
    "        indices_array[random_integer].append(i)\n",
    "\n",
    "    for i in range(K):\n",
    "        print(\"Length of model\",i+1,\":\",len(x_k[i]))\n",
    "        alpha_k.append(len(x_k[i])/LENGTH)\n",
    "        model = BayesianNetwork.from_samples(x_k[i],algorithm='chow-liu') \n",
    "        models.append(model)\n",
    "\n",
    "    print(\"Initial Model Structures\",alpha_k)\n",
    "    for model in models:\n",
    "        print(model.structure)\n",
    "\n",
    "    print(\"Initial Alphas\",alpha_k)\n",
    "\n",
    "    CML = 0\n",
    "\n",
    "    for i in range(K):\n",
    "        x = x_k[i]\n",
    "        model = models[i]\n",
    "        CML+=sum(np.log(model.probability(x)))+len(x)*np.log(alpha_k[i])\n",
    "    print(\"Initial CML\",CML)\n",
    "    \n",
    "    return x_k,models,alpha_k,indices_array,CML\n",
    "           \n",
    "def e_step(K,X,x_k,models,alpha_k,indices_array):\n",
    "    \"\"\"This method performs the E step in EM for the mth iteration\n",
    "    \n",
    "    K: Number of clusters\n",
    "    X: Data\n",
    "    x_k: Previously classified data in the (m-1)th step\n",
    "    models: models from the (m-1)th step\n",
    "    alpha_k: alphas from the previous step\n",
    "    indices_array: current indices of the original data (for each cluster)\n",
    "    \n",
    "    Return: x_k,models, alpha_k,indices_array\n",
    "    \"\"\"\n",
    "    x_k_temp = [[] for i in range(K)] #initialize K empty data arrays for C step (assign)\n",
    "    indices_array = [[] for i in range(K)]\n",
    "\n",
    "    #E Step: Calculate each point's posterior probability for K clusters (trees)\n",
    "    for idx_first,x in enumerate(X):\n",
    "        model_prob = []\n",
    "        for idx,model in enumerate(models): # K trees\n",
    "            try:\n",
    "                model_prob.append(model.probability(x))\n",
    "            except KeyError: #if a point doesn't exist in a tree, then the probability is zero\n",
    "                model_prob.append(0)\n",
    "        total = [a*b for a,b in zip(model_prob,alpha_k)]\n",
    "        max_prob_idx = total.index(max(total)) #return index of the max posterior probability\n",
    "        x_k_temp[max_prob_idx].append(x)\n",
    "        indices_array[max_prob_idx].append(idx_first)\n",
    "\n",
    "    #C step: Assign data-points to the trees that maximize their posterior probability\n",
    "    x_k = x_k_temp\n",
    "    alpha_k = [len(x_k[i])/LENGTH for i in range(K)]\n",
    "    models = []\n",
    "    for j in range(K):\n",
    "        model = BayesianNetwork.from_samples(x_k[j],algorithm='chow-liu') \n",
    "        models.append(model)\n",
    "        \n",
    "    return x_k,models, alpha_k,indices_array\n",
    "\n",
    "def m_step(K,x_k, models, alpha_k,CML):\n",
    "    \"\"\"This method performs the M step in EM for the mth iteration\n",
    "    \n",
    "    K: Number of clusters\n",
    "    x_k: Previously classified data in the (m-1)th step\n",
    "    models: models from the (m-1)th step\n",
    "    alpha_k: alphas from the previous step\n",
    "    CML: Classification Maximum Likelihood    \n",
    "    \n",
    "    Return: x_k,models, alpha_k,indices_array\n",
    "    \"\"\"\n",
    "    #M step: Calculate the CML criterion and re-estimate parameters\n",
    "    init_CML = CML\n",
    "    CML=0\n",
    "    for j in range(K):\n",
    "        x = x_k[j]\n",
    "        model = models[j]\n",
    "        CML+=sum(np.log(model.probability(x)))+len(x)*np.log(alpha_k[j])\n",
    "    return CML, models\n",
    "\n",
    "# def s_step(K,X):\n",
    "\n",
    "#     LENGTH, DIMENSION = X.shape\n",
    "    \n",
    "#     #S Step\n",
    "#     x_k = [[] for i in range(K)] #initialize K empty data arrays\n",
    "#     #S step: Assign data-points randomly\n",
    "#     for j in range(LENGTH):\n",
    "#         x_k[random.randint(0,K-1)].append(X[j])\n",
    "#     alpha_k = [len(x_k[k])/LENGTH for k in range(K)]\n",
    "#     models = []\n",
    "#     for j in range(K):\n",
    "#         model = BayesianNetwork.from_samples(x_k[j],algorithm='chow-liu') \n",
    "#         models.append(model)\n",
    "\n",
    "#     #M step: Calculate the CML criterion and re-estimate parameters\n",
    "#     init_CML = CML\n",
    "#     CML=0\n",
    "#     for j in range(K):\n",
    "#         x = x_k[j]\n",
    "#         model = models[j]\n",
    "#         CML+=sum(np.log(model.probability(x)))+len(x)*np.log(alpha_k[j])\n",
    "#     print(\"New CML is:\", CML)   \n",
    "\n",
    "\n",
    "def save(indices_array, path):\n",
    "    \"\"\"This method saves the clustered data\n",
    "    \n",
    "    indices_array: array of the indices (of the original data) for each cluster\n",
    "    path: path to save to, sample: '/Users/akankshitadash/Desktop/Bayesian Networks1/RPF_chrE/'\n",
    "    Directory should already exist, and contain subdirectories of Genes/ and AccNum/\n",
    "    \n",
    "    Return: x_k,models, alpha_k,indices_array\n",
    "    \"\"\"\n",
    "    for idx,indices in enumerate(indices_array):\n",
    "        genes=[]\n",
    "        acc_nums=[]\n",
    "        for index in indices:\n",
    "            genes.append(df.iloc[index]['GeneName'])\n",
    "            acc_nums.append(df.iloc[index]['AccNum'])\n",
    "        print(len(indices),len(genes),len(acc_nums))\n",
    "    #             os.mkdir('/Users/akankshitadash/Desktop/Bayesian Networks/'+str(len(indices_array)))\n",
    "    #             os.mkdir('/Users/akankshitadash/Desktop/Bayesian Networks/'+str(len(indices_array))+'/Genes/')\n",
    "    #             os.mkdir('/Users/akankshitadash/Desktop/Bayesian Networks/'+str(len(indices_array))+'/AccNums/')\n",
    "        with open(path+str(len(indices_array))+'/Genes/Gene'+str(idx+1)+'.txt','w') as f:\n",
    "            for gene in genes:\n",
    "                f.write(\"%s\\n\" % gene)\n",
    "        with open(path+str(len(indices_array))+'/AccNums/AccNum'+str(idx+1)+'.txt','w') as f:\n",
    "            for acc_num in acc_nums:\n",
    "                f.write(\"%s\\n\" % acc_num)\n",
    "    \n",
    "def em(K,X,path):    \n",
    "    \"\"\"This method performs EM\n",
    "    \n",
    "    K: Number of clusters\n",
    "    X: Discrete data\n",
    "    path: path to save to\n",
    "    Return: None\n",
    "    \"\"\"\n",
    "    \n",
    "    x_k,models,alpha_k,indices_array,CML = init(K,X) #initialize K models\n",
    "    prev_CML = CML\n",
    "    \n",
    "    for i in range(100): #start with 100 iterations of EM\n",
    "        x_k, models, alpha_k,indices_array = e_step(K,X,x_k,models,alpha_k,indices_array)\n",
    "        CML, models = m_step(K,x_k, models, alpha_k,CML)\n",
    "        if(prev_CML==CML):\n",
    "            break\n",
    "        else:\n",
    "            prev_CML = CML\n",
    "            print(\"CML is\",CML)\n",
    "    save(indices_array,path)"
   ]
  },
  {
   "cell_type": "markdown",
   "metadata": {},
   "source": [
    "### Read RPF Data"
   ]
  },
  {
   "cell_type": "code",
   "execution_count": 20,
   "metadata": {},
   "outputs": [],
   "source": [
    "df = pd.read_csv('AdjustedRPKMOutput/RPF_chrE.txt',sep='\\t')"
   ]
  },
  {
   "cell_type": "code",
   "execution_count": 21,
   "metadata": {},
   "outputs": [
    {
     "data": {
      "text/html": [
       "<div>\n",
       "<style scoped>\n",
       "    .dataframe tbody tr th:only-of-type {\n",
       "        vertical-align: middle;\n",
       "    }\n",
       "\n",
       "    .dataframe tbody tr th {\n",
       "        vertical-align: top;\n",
       "    }\n",
       "\n",
       "    .dataframe thead th {\n",
       "        text-align: right;\n",
       "    }\n",
       "</style>\n",
       "<table border=\"1\" class=\"dataframe\">\n",
       "  <thead>\n",
       "    <tr style=\"text-align: right;\">\n",
       "      <th></th>\n",
       "      <th>AccNum</th>\n",
       "      <th>GeneName</th>\n",
       "      <th>cdReads0</th>\n",
       "      <th>cdRPKM0</th>\n",
       "      <th>cdReads1</th>\n",
       "      <th>cdRPKM1</th>\n",
       "      <th>cdReads2</th>\n",
       "      <th>cdRPKM2</th>\n",
       "      <th>cdReads3</th>\n",
       "      <th>cdRPKM3</th>\n",
       "      <th>cdReads4</th>\n",
       "      <th>cdRPKM4</th>\n",
       "    </tr>\n",
       "  </thead>\n",
       "  <tbody>\n",
       "    <tr>\n",
       "      <th>0</th>\n",
       "      <td>NM_017847</td>\n",
       "      <td>ODR4</td>\n",
       "      <td>93.0</td>\n",
       "      <td>16.468792</td>\n",
       "      <td>62.0</td>\n",
       "      <td>13.189469</td>\n",
       "      <td>49.0</td>\n",
       "      <td>14.172717</td>\n",
       "      <td>37.0</td>\n",
       "      <td>9.403085</td>\n",
       "      <td>39.0</td>\n",
       "      <td>10.487249</td>\n",
       "    </tr>\n",
       "    <tr>\n",
       "      <th>1</th>\n",
       "      <td>NM_001143986</td>\n",
       "      <td>TLE6</td>\n",
       "      <td>4.0</td>\n",
       "      <td>0.562465</td>\n",
       "      <td>2.0</td>\n",
       "      <td>0.337849</td>\n",
       "      <td>2.0</td>\n",
       "      <td>0.459350</td>\n",
       "      <td>1.0</td>\n",
       "      <td>0.201802</td>\n",
       "      <td>1.0</td>\n",
       "      <td>0.213527</td>\n",
       "    </tr>\n",
       "    <tr>\n",
       "      <th>2</th>\n",
       "      <td>NM_001003803</td>\n",
       "      <td>ATP5S</td>\n",
       "      <td>81.0</td>\n",
       "      <td>30.214920</td>\n",
       "      <td>83.0</td>\n",
       "      <td>37.193868</td>\n",
       "      <td>71.0</td>\n",
       "      <td>43.258655</td>\n",
       "      <td>46.0</td>\n",
       "      <td>24.625447</td>\n",
       "      <td>26.0</td>\n",
       "      <td>14.727463</td>\n",
       "    </tr>\n",
       "    <tr>\n",
       "      <th>3</th>\n",
       "      <td>NM_001003800</td>\n",
       "      <td>BICD2</td>\n",
       "      <td>501.0</td>\n",
       "      <td>47.157866</td>\n",
       "      <td>389.0</td>\n",
       "      <td>43.986848</td>\n",
       "      <td>284.0</td>\n",
       "      <td>43.662942</td>\n",
       "      <td>257.0</td>\n",
       "      <td>34.716778</td>\n",
       "      <td>230.0</td>\n",
       "      <td>32.874747</td>\n",
       "    </tr>\n",
       "    <tr>\n",
       "      <th>4</th>\n",
       "      <td>NM_016649</td>\n",
       "      <td>ESF1</td>\n",
       "      <td>69.0</td>\n",
       "      <td>6.525288</td>\n",
       "      <td>52.0</td>\n",
       "      <td>5.907596</td>\n",
       "      <td>41.0</td>\n",
       "      <td>6.333047</td>\n",
       "      <td>26.0</td>\n",
       "      <td>3.528692</td>\n",
       "      <td>26.0</td>\n",
       "      <td>3.733723</td>\n",
       "    </tr>\n",
       "  </tbody>\n",
       "</table>\n",
       "</div>"
      ],
      "text/plain": [
       "         AccNum GeneName  cdReads0    cdRPKM0  cdReads1    cdRPKM1  cdReads2  \\\n",
       "0     NM_017847     ODR4      93.0  16.468792      62.0  13.189469      49.0   \n",
       "1  NM_001143986     TLE6       4.0   0.562465       2.0   0.337849       2.0   \n",
       "2  NM_001003803    ATP5S      81.0  30.214920      83.0  37.193868      71.0   \n",
       "3  NM_001003800    BICD2     501.0  47.157866     389.0  43.986848     284.0   \n",
       "4     NM_016649     ESF1      69.0   6.525288      52.0   5.907596      41.0   \n",
       "\n",
       "     cdRPKM2  cdReads3    cdRPKM3  cdReads4    cdRPKM4  \n",
       "0  14.172717      37.0   9.403085      39.0  10.487249  \n",
       "1   0.459350       1.0   0.201802       1.0   0.213527  \n",
       "2  43.258655      46.0  24.625447      26.0  14.727463  \n",
       "3  43.662942     257.0  34.716778     230.0  32.874747  \n",
       "4   6.333047      26.0   3.528692      26.0   3.733723  "
      ]
     },
     "execution_count": 21,
     "metadata": {},
     "output_type": "execute_result"
    }
   ],
   "source": [
    "df.head(5)"
   ]
  },
  {
   "cell_type": "code",
   "execution_count": 29,
   "metadata": {},
   "outputs": [],
   "source": [
    "X = np.log2(df[['cdRPKM0','cdRPKM1','cdRPKM2','cdRPKM3','cdRPKM4']].values).astype(int)"
   ]
  },
  {
   "cell_type": "code",
   "execution_count": 30,
   "metadata": {},
   "outputs": [
    {
     "name": "stdout",
     "output_type": "stream",
     "text": [
      "(11745, 5)\n"
     ]
    }
   ],
   "source": [
    "print(X.shape)"
   ]
  },
  {
   "cell_type": "code",
   "execution_count": 31,
   "metadata": {},
   "outputs": [],
   "source": [
    "LENGTH, DIMENSION = X.shape"
   ]
  },
  {
   "cell_type": "markdown",
   "metadata": {},
   "source": [
    "#### Digitize the data"
   ]
  },
  {
   "cell_type": "code",
   "execution_count": 32,
   "metadata": {},
   "outputs": [
    {
     "name": "stdout",
     "output_type": "stream",
     "text": [
      "[-5.  -4.1 -3.2 -2.3 -1.4 -0.5  0.4  1.3  2.2  3.1  4.   4.9  5.8  6.7\n",
      "  7.6  8.5  9.4 10.3 11.2 12.1 13. ]\n"
     ]
    }
   ],
   "source": [
    "bin_size = 20 #state number of bins here, multiple of 5\n",
    "step = (np.max(X)-np.min(X))/bin_size\n",
    "bins = np.arange(np.min(X),np.max(X)+0.1,step)\n",
    "print(bins)\n",
    "X = np.digitize(X,bins)"
   ]
  },
  {
   "cell_type": "code",
   "execution_count": 33,
   "metadata": {},
   "outputs": [
    {
     "name": "stdout",
     "output_type": "stream",
     "text": [
      "[[10  9  9  9  9]\n",
      " [ 6  5  5  4  4]\n",
      " [10 12 12 10  9]\n",
      " [12 12 12 12 12]\n",
      " [ 8  8  8  7  7]]\n"
     ]
    }
   ],
   "source": [
    "print(X[:5])"
   ]
  },
  {
   "cell_type": "markdown",
   "metadata": {},
   "source": [
    "### Sample network"
   ]
  },
  {
   "cell_type": "code",
   "execution_count": 34,
   "metadata": {},
   "outputs": [],
   "source": [
    "model = BayesianNetwork.from_samples(X,algorithm='chow-liu')"
   ]
  },
  {
   "cell_type": "code",
   "execution_count": 35,
   "metadata": {},
   "outputs": [
    {
     "data": {
      "text/plain": [
       "((), (0,), (1,), (2,), (3,))"
      ]
     },
     "execution_count": 35,
     "metadata": {},
     "output_type": "execute_result"
    }
   ],
   "source": [
    "model.structure"
   ]
  },
  {
   "cell_type": "markdown",
   "metadata": {},
   "source": [
    "### Perform EM"
   ]
  },
  {
   "cell_type": "code",
   "execution_count": 38,
   "metadata": {},
   "outputs": [
    {
     "name": "stdout",
     "output_type": "stream",
     "text": [
      "**************** K = 4 ************************\n",
      "Length of model 1 : 2976\n",
      "Length of model 2 : 2876\n",
      "Length of model 3 : 2977\n",
      "Length of model 4 : 2916\n",
      "Initial Model Structures [0.2533844189016603, 0.24487015751383567, 0.2534695615155385, 0.2482758620689655]\n",
      "((), (0,), (1,), (2,), (3,))\n",
      "((), (0,), (1,), (2,), (3,))\n",
      "((), (0,), (1,), (2,), (3,))\n",
      "((), (0,), (1,), (2,), (3,))\n",
      "Initial Alphas [0.2533844189016603, 0.24487015751383567, 0.2534695615155385, 0.2482758620689655]\n",
      "Initial CML -82760.44196981448\n",
      "CML is -68801.07410876348\n",
      "CML is -67419.76933131146\n",
      "CML is -67234.04284827254\n",
      "CML is -67210.79543934936\n",
      "CML is -67209.88325329247\n",
      "3601 3601 3601\n",
      "1800 1800 1800\n",
      "3891 3891 3891\n",
      "2453 2453 2453\n",
      "**************** K = 5 ************************\n",
      "Length of model 1 : 2303\n",
      "Length of model 2 : 2385\n",
      "Length of model 3 : 2337\n",
      "Length of model 4 : 2312\n",
      "Length of model 5 : 2408\n",
      "Initial Model Structures [0.19608343976160067, 0.20306513409961685, 0.19897828863346104, 0.1968497232865049, 0.2050234142188165]\n",
      "((), (0,), (1,), (2,), (3,))\n",
      "((), (0,), (1,), (2,), (3,))\n",
      "((), (0,), (1,), (2,), (3,))\n",
      "((), (0,), (1,), (2,), (3,))\n",
      "((), (0,), (1,), (2,), (3,))\n",
      "Initial Alphas [0.19608343976160067, 0.20306513409961685, 0.19897828863346104, 0.1968497232865049, 0.2050234142188165]\n",
      "Initial CML -85279.60824688201\n",
      "CML is -68769.89418802329\n",
      "CML is -67726.13176809877\n",
      "CML is -67571.94468560276\n",
      "CML is -67519.28907204946\n",
      "CML is -67504.18501259651\n",
      "CML is -67500.22199515664\n",
      "1448 1448 1448\n",
      "3026 3026 3026\n",
      "2427 2427 2427\n",
      "2035 2035 2035\n",
      "2809 2809 2809\n",
      "**************** K = 6 ************************\n",
      "Length of model 1 : 1900\n",
      "Length of model 2 : 2073\n",
      "Length of model 3 : 1903\n",
      "Length of model 4 : 1944\n",
      "Length of model 5 : 1912\n",
      "Length of model 6 : 2013\n",
      "Initial Model Structures [0.16177096636866753, 0.17650063856960407, 0.16202639421030227, 0.16551724137931034, 0.16279267773520648, 0.1713920817369093]\n",
      "((), (0,), (1,), (2,), (3,))\n",
      "((), (0,), (1,), (2,), (3,))\n",
      "((), (0,), (1,), (2,), (3,))\n",
      "((), (0,), (1,), (2,), (3,))\n",
      "((), (0,), (1,), (2,), (3,))\n",
      "((), (0,), (1,), (2,), (3,))\n",
      "Initial Alphas [0.16177096636866753, 0.17650063856960407, 0.16202639421030227, 0.16551724137931034, 0.16279267773520648, 0.1713920817369093]\n",
      "Initial CML -87277.1816308812\n",
      "CML is -68717.27791219976\n",
      "CML is -67443.44391432237\n",
      "CML is -67119.75444177922\n",
      "CML is -66771.1505746818\n",
      "CML is -66691.00836666387\n",
      "CML is -66681.3695472382\n",
      "CML is -66678.93394609485\n",
      "1305 1305 1305\n",
      "3836 3836 3836\n",
      "1447 1447 1447\n",
      "1284 1284 1284\n",
      "2121 2121 2121\n",
      "1752 1752 1752\n"
     ]
    }
   ],
   "source": [
    "path = '/Users/akankshitadash/Desktop/Bayesian Networks1/RPF_chrE/'\n",
    "for k in range(4,7):\n",
    "    em(k,X,path)"
   ]
  },
  {
   "cell_type": "code",
   "execution_count": null,
   "metadata": {},
   "outputs": [],
   "source": []
  },
  {
   "cell_type": "code",
   "execution_count": null,
   "metadata": {},
   "outputs": [],
   "source": []
  }
 ],
 "metadata": {
  "kernelspec": {
   "display_name": "Python 3",
   "language": "python",
   "name": "python3"
  },
  "language_info": {
   "codemirror_mode": {
    "name": "ipython",
    "version": 3
   },
   "file_extension": ".py",
   "mimetype": "text/x-python",
   "name": "python",
   "nbconvert_exporter": "python",
   "pygments_lexer": "ipython3",
   "version": "3.6.4"
  }
 },
 "nbformat": 4,
 "nbformat_minor": 2
}
