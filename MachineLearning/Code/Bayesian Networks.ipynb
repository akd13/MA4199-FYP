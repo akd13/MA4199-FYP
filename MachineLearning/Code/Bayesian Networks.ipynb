{
 "cells": [
  {
   "cell_type": "code",
   "execution_count": 1,
   "metadata": {},
   "outputs": [],
   "source": [
    "import numpy as np\n",
    "import pandas as pd\n",
    "from pomegranate import *\n",
    "import random\n",
    "import os\n",
    "import itertools"
   ]
  },
  {
   "cell_type": "markdown",
   "metadata": {},
   "source": [
    "### Methods"
   ]
  },
  {
   "cell_type": "code",
   "execution_count": 16,
   "metadata": {},
   "outputs": [],
   "source": [
    "def init(K,X):\n",
    "    \"\"\"This method initializes the models for EM\n",
    "    \n",
    "    K: Number of clusters\n",
    "    X: Data\n",
    "    \n",
    "    Return: x_k, models,alpha_k, indices_array, CML\n",
    "    \"\"\"\n",
    "    LENGTH, DIMENSION = X.shape\n",
    "    models = []\n",
    "    x_k = [[] for i in range(K)] #initialize K empty data arrays\n",
    "    alpha_k = []\n",
    "    indices_array = [[] for i in range(K)]\n",
    "    print(\"**************** K =\", K ,\"************************\")\n",
    "\n",
    "\n",
    "    # Sequences for initial CL Multinet Estimation\n",
    "    # Make K subsets of data\n",
    "    for i in range(LENGTH):\n",
    "        random_integer = random.randint(0,K-1)\n",
    "        x_k[random_integer].append(X[i])\n",
    "        indices_array[random_integer].append(i)\n",
    "\n",
    "    for i in range(K):\n",
    "        print(\"Length of model\",i+1,\":\",len(x_k[i]))\n",
    "        alpha_k.append(len(x_k[i])/LENGTH)\n",
    "        model = BayesianNetwork.from_samples(x_k[i],algorithm='chow-liu') \n",
    "        models.append(model)\n",
    "\n",
    "    print(\"Initial Model Structures\",alpha_k)\n",
    "    for model in models:\n",
    "        print(model.structure)\n",
    "\n",
    "    print(\"Initial Alphas\",alpha_k)\n",
    "\n",
    "    CML = 0\n",
    "\n",
    "    for i in range(K):\n",
    "        x = x_k[i]\n",
    "        model = models[i]\n",
    "        CML+=sum(np.log(model.probability(x)))+len(x)*np.log(alpha_k[i])\n",
    "    print(\"Initial CML\",CML)\n",
    "    \n",
    "    return x_k,models,alpha_k,indices_array,CML\n",
    "           \n",
    "def e_step(K,X,x_k,models,alpha_k,indices_array):\n",
    "    \"\"\"This method performs the E step in EM for the mth iteration\n",
    "    \n",
    "    K: Number of clusters\n",
    "    X: Data\n",
    "    x_k: Previously classified data in the (m-1)th step\n",
    "    models: models from the (m-1)th step\n",
    "    alpha_k: alphas from the previous step\n",
    "    indices_array: current indices of the original data (for each cluster)\n",
    "    \n",
    "    Return: x_k,models, alpha_k,indices_array\n",
    "    \"\"\"\n",
    "    x_k_temp = [[] for i in range(K)] #initialize K empty data arrays for C step (assign)\n",
    "    indices_array = [[] for i in range(K)]\n",
    "\n",
    "    #E Step: Calculate each point's posterior probability for K clusters (trees)\n",
    "    for idx_first,x in enumerate(X):\n",
    "        model_prob = []\n",
    "        for idx,model in enumerate(models): # K trees\n",
    "            try:\n",
    "                model_prob.append(model.probability(x))\n",
    "            except KeyError: #if a point doesn't exist in a tree, then the probability is zero\n",
    "                model_prob.append(0)\n",
    "        total = [a*b for a,b in zip(model_prob,alpha_k)]\n",
    "        max_prob_idx = total.index(max(total)) #return index of the max posterior probability\n",
    "        x_k_temp[max_prob_idx].append(x)\n",
    "        indices_array[max_prob_idx].append(idx_first)\n",
    "\n",
    "    #C step: Assign data-points to the trees that maximize their posterior probability\n",
    "    x_k = x_k_temp\n",
    "    alpha_k = [len(x_k[i])/LENGTH for i in range(K)]\n",
    "    models = []\n",
    "    for j in range(K):\n",
    "        model = BayesianNetwork.from_samples(x_k[j],algorithm='chow-liu') \n",
    "        models.append(model)\n",
    "        \n",
    "    return x_k,models, alpha_k,indices_array\n",
    "\n",
    "def m_step(K,x_k, models, alpha_k,CML):\n",
    "    \"\"\"This method performs the M step in EM for the mth iteration\n",
    "    \n",
    "    K: Number of clusters\n",
    "    x_k: Previously classified data in the (m-1)th step\n",
    "    models: models from the (m-1)th step\n",
    "    alpha_k: alphas from the previous step\n",
    "    CML: Classification Maximum Likelihood    \n",
    "    \n",
    "    Return: x_k,models, alpha_k,indices_array\n",
    "    \"\"\"\n",
    "    #M step: Calculate the CML criterion and re-estimate parameters\n",
    "    init_CML = CML\n",
    "    CML=0\n",
    "    for j in range(K):\n",
    "        x = x_k[j]\n",
    "        model = models[j]\n",
    "        CML+=sum(np.log(model.probability(x)))+len(x)*np.log(alpha_k[j])\n",
    "    return CML, models\n",
    "\n",
    "# def s_step(K,X):\n",
    "\n",
    "#     LENGTH, DIMENSION = X.shape\n",
    "    \n",
    "#     #S Step\n",
    "#     x_k = [[] for i in range(K)] #initialize K empty data arrays\n",
    "#     #S step: Assign data-points randomly\n",
    "#     for j in range(LENGTH):\n",
    "#         x_k[random.randint(0,K-1)].append(X[j])\n",
    "#     alpha_k = [len(x_k[k])/LENGTH for k in range(K)]\n",
    "#     models = []\n",
    "#     for j in range(K):\n",
    "#         model = BayesianNetwork.from_samples(x_k[j],algorithm='chow-liu') \n",
    "#         models.append(model)\n",
    "\n",
    "#     #M step: Calculate the CML criterion and re-estimate parameters\n",
    "#     init_CML = CML\n",
    "#     CML=0\n",
    "#     for j in range(K):\n",
    "#         x = x_k[j]\n",
    "#         model = models[j]\n",
    "#         CML+=sum(np.log(model.probability(x)))+len(x)*np.log(alpha_k[j])\n",
    "#     print(\"New CML is:\", CML)   \n",
    "\n",
    "\n",
    "def save(indices_array, path):\n",
    "    \"\"\"This method saves the clustered data\n",
    "    \n",
    "    indices_array: array of the indices (of the original data) for each cluster\n",
    "    path: path to save to, sample: '/Users/akankshitadash/Desktop/Bayesian Networks1/RPF_chrE/'\n",
    "    Directory should already exist, and contain subdirectories of Genes/ and AccNum/\n",
    "    \n",
    "    Return: x_k,models, alpha_k,indices_array\n",
    "    \"\"\"\n",
    "    for idx,indices in enumerate(indices_array):\n",
    "        genes=[]\n",
    "        acc_nums=[]\n",
    "        for index in indices:\n",
    "            genes.append(df.iloc[index]['GeneName'])\n",
    "            acc_nums.append(df.iloc[index]['AccNum'])\n",
    "        print(len(indices),len(genes),len(acc_nums))\n",
    "    #             os.mkdir('/Users/akankshitadash/Desktop/Bayesian Networks/'+str(len(indices_array)))\n",
    "    #             os.mkdir('/Users/akankshitadash/Desktop/Bayesian Networks/'+str(len(indices_array))+'/Genes/')\n",
    "    #             os.mkdir('/Users/akankshitadash/Desktop/Bayesian Networks/'+str(len(indices_array))+'/AccNums/')\n",
    "        with open(path+str(len(indices_array))+'/Genes/Gene'+str(idx+1)+'.txt','w') as f:\n",
    "            for gene in genes:\n",
    "                f.write(\"%s\\n\" % gene)\n",
    "        with open(path+str(len(indices_array))+'/AccNums/AccNum'+str(idx+1)+'.txt','w') as f:\n",
    "            for acc_num in acc_nums:\n",
    "                f.write(\"%s\\n\" % acc_num)\n",
    "    \n",
    "def em(K,X):    \n",
    "    \"\"\"This method performs EM\n",
    "    \n",
    "    K: Number of clusters\n",
    "    X: Discrete data\n",
    "    \n",
    "    Return: None\n",
    "    \"\"\"\n",
    "    \n",
    "    x_k,models,alpha_k,indices_array,CML = init(K,X) #initialize K models\n",
    "    prev_CML = CML\n",
    "    \n",
    "    for i in range(100): #start with 100 iterations of EM\n",
    "        x_k, models, alpha_k,indices_array = e_step(K,X,x_k,models,alpha_k,indices_array)\n",
    "        CML, models = m_step(K,x_k, models, alpha_k,CML)\n",
    "        if(prev_CML==CML):\n",
    "            break\n",
    "        else:\n",
    "            prev_CML = CML\n",
    "            print(\"CML is\",CML)\n",
    "    save(indices_array)"
   ]
  },
  {
   "cell_type": "markdown",
   "metadata": {},
   "source": [
    "### Read RPF Data"
   ]
  },
  {
   "cell_type": "code",
   "execution_count": 4,
   "metadata": {},
   "outputs": [],
   "source": [
    "df = pd.read_csv('AdjustedRPKMOutput/RPF_chrE.txt',sep='\\t')"
   ]
  },
  {
   "cell_type": "code",
   "execution_count": 5,
   "metadata": {},
   "outputs": [
    {
     "data": {
      "text/html": [
       "<div>\n",
       "<style scoped>\n",
       "    .dataframe tbody tr th:only-of-type {\n",
       "        vertical-align: middle;\n",
       "    }\n",
       "\n",
       "    .dataframe tbody tr th {\n",
       "        vertical-align: top;\n",
       "    }\n",
       "\n",
       "    .dataframe thead th {\n",
       "        text-align: right;\n",
       "    }\n",
       "</style>\n",
       "<table border=\"1\" class=\"dataframe\">\n",
       "  <thead>\n",
       "    <tr style=\"text-align: right;\">\n",
       "      <th></th>\n",
       "      <th>AccNum</th>\n",
       "      <th>GeneName</th>\n",
       "      <th>cdReads0</th>\n",
       "      <th>cdRPKM0</th>\n",
       "      <th>cdReads1</th>\n",
       "      <th>cdRPKM1</th>\n",
       "      <th>cdReads2</th>\n",
       "      <th>cdRPKM2</th>\n",
       "      <th>cdReads3</th>\n",
       "      <th>cdRPKM3</th>\n",
       "      <th>cdReads4</th>\n",
       "      <th>cdRPKM4</th>\n",
       "    </tr>\n",
       "  </thead>\n",
       "  <tbody>\n",
       "    <tr>\n",
       "      <th>0</th>\n",
       "      <td>NM_017847</td>\n",
       "      <td>ODR4</td>\n",
       "      <td>93.0</td>\n",
       "      <td>16.468792</td>\n",
       "      <td>62.0</td>\n",
       "      <td>13.189469</td>\n",
       "      <td>49.0</td>\n",
       "      <td>14.172717</td>\n",
       "      <td>37.0</td>\n",
       "      <td>9.403085</td>\n",
       "      <td>39.0</td>\n",
       "      <td>10.487249</td>\n",
       "    </tr>\n",
       "    <tr>\n",
       "      <th>1</th>\n",
       "      <td>NM_001143986</td>\n",
       "      <td>TLE6</td>\n",
       "      <td>4.0</td>\n",
       "      <td>0.562465</td>\n",
       "      <td>2.0</td>\n",
       "      <td>0.337849</td>\n",
       "      <td>2.0</td>\n",
       "      <td>0.459350</td>\n",
       "      <td>1.0</td>\n",
       "      <td>0.201802</td>\n",
       "      <td>1.0</td>\n",
       "      <td>0.213527</td>\n",
       "    </tr>\n",
       "    <tr>\n",
       "      <th>2</th>\n",
       "      <td>NM_001003803</td>\n",
       "      <td>ATP5S</td>\n",
       "      <td>81.0</td>\n",
       "      <td>30.214920</td>\n",
       "      <td>83.0</td>\n",
       "      <td>37.193868</td>\n",
       "      <td>71.0</td>\n",
       "      <td>43.258655</td>\n",
       "      <td>46.0</td>\n",
       "      <td>24.625447</td>\n",
       "      <td>26.0</td>\n",
       "      <td>14.727463</td>\n",
       "    </tr>\n",
       "    <tr>\n",
       "      <th>3</th>\n",
       "      <td>NM_001003800</td>\n",
       "      <td>BICD2</td>\n",
       "      <td>501.0</td>\n",
       "      <td>47.157866</td>\n",
       "      <td>389.0</td>\n",
       "      <td>43.986848</td>\n",
       "      <td>284.0</td>\n",
       "      <td>43.662942</td>\n",
       "      <td>257.0</td>\n",
       "      <td>34.716778</td>\n",
       "      <td>230.0</td>\n",
       "      <td>32.874747</td>\n",
       "    </tr>\n",
       "    <tr>\n",
       "      <th>4</th>\n",
       "      <td>NM_016649</td>\n",
       "      <td>ESF1</td>\n",
       "      <td>69.0</td>\n",
       "      <td>6.525288</td>\n",
       "      <td>52.0</td>\n",
       "      <td>5.907596</td>\n",
       "      <td>41.0</td>\n",
       "      <td>6.333047</td>\n",
       "      <td>26.0</td>\n",
       "      <td>3.528692</td>\n",
       "      <td>26.0</td>\n",
       "      <td>3.733723</td>\n",
       "    </tr>\n",
       "  </tbody>\n",
       "</table>\n",
       "</div>"
      ],
      "text/plain": [
       "         AccNum GeneName  cdReads0    cdRPKM0  cdReads1    cdRPKM1  cdReads2  \\\n",
       "0     NM_017847     ODR4      93.0  16.468792      62.0  13.189469      49.0   \n",
       "1  NM_001143986     TLE6       4.0   0.562465       2.0   0.337849       2.0   \n",
       "2  NM_001003803    ATP5S      81.0  30.214920      83.0  37.193868      71.0   \n",
       "3  NM_001003800    BICD2     501.0  47.157866     389.0  43.986848     284.0   \n",
       "4     NM_016649     ESF1      69.0   6.525288      52.0   5.907596      41.0   \n",
       "\n",
       "     cdRPKM2  cdReads3    cdRPKM3  cdReads4    cdRPKM4  \n",
       "0  14.172717      37.0   9.403085      39.0  10.487249  \n",
       "1   0.459350       1.0   0.201802       1.0   0.213527  \n",
       "2  43.258655      46.0  24.625447      26.0  14.727463  \n",
       "3  43.662942     257.0  34.716778     230.0  32.874747  \n",
       "4   6.333047      26.0   3.528692      26.0   3.733723  "
      ]
     },
     "execution_count": 5,
     "metadata": {},
     "output_type": "execute_result"
    }
   ],
   "source": [
    "df.head(5)"
   ]
  },
  {
   "cell_type": "code",
   "execution_count": 6,
   "metadata": {},
   "outputs": [],
   "source": [
    "X = np.log2(df[['cdRPKM0','cdRPKM1','cdRPKM2','cdRPKM3','cdRPKM4']].values).astype(int)"
   ]
  },
  {
   "cell_type": "code",
   "execution_count": 7,
   "metadata": {},
   "outputs": [
    {
     "name": "stdout",
     "output_type": "stream",
     "text": [
      "(11745, 5)\n"
     ]
    }
   ],
   "source": [
    "print(X.shape)"
   ]
  },
  {
   "cell_type": "code",
   "execution_count": 8,
   "metadata": {},
   "outputs": [],
   "source": [
    "LENGTH, DIMENSION = X.shape"
   ]
  },
  {
   "cell_type": "code",
   "execution_count": 9,
   "metadata": {},
   "outputs": [
    {
     "name": "stdout",
     "output_type": "stream",
     "text": [
      "[-5.  -4.1 -3.2 -2.3 -1.4 -0.5  0.4  1.3  2.2  3.1  4.   4.9  5.8  6.7\n",
      "  7.6  8.5  9.4 10.3 11.2 12.1 13. ]\n"
     ]
    }
   ],
   "source": [
    "bin_size = 20 #state number of bins here, multiple of 5\n",
    "step = (np.max(X)-np.min(X))/bin_size\n",
    "bins = np.arange(np.min(X),np.max(X)+0.1,step)\n",
    "print(bins)\n",
    "X = np.digitize(X,bins)"
   ]
  },
  {
   "cell_type": "code",
   "execution_count": 10,
   "metadata": {},
   "outputs": [
    {
     "name": "stdout",
     "output_type": "stream",
     "text": [
      "[[10  9  9  9  9]\n",
      " [ 6  5  5  4  4]\n",
      " [10 12 12 10  9]\n",
      " [12 12 12 12 12]\n",
      " [ 8  8  8  7  7]]\n"
     ]
    }
   ],
   "source": [
    "print(X[:5])"
   ]
  },
  {
   "cell_type": "markdown",
   "metadata": {},
   "source": [
    "### Sample network"
   ]
  },
  {
   "cell_type": "code",
   "execution_count": 11,
   "metadata": {},
   "outputs": [],
   "source": [
    "model = BayesianNetwork.from_samples(X,algorithm='chow-liu')"
   ]
  },
  {
   "cell_type": "code",
   "execution_count": 12,
   "metadata": {},
   "outputs": [
    {
     "data": {
      "text/plain": [
       "((), (0,), (1,), (2,), (3,))"
      ]
     },
     "execution_count": 12,
     "metadata": {},
     "output_type": "execute_result"
    }
   ],
   "source": [
    "model.structure"
   ]
  },
  {
   "cell_type": "markdown",
   "metadata": {},
   "source": [
    "### Perform EM"
   ]
  },
  {
   "cell_type": "code",
   "execution_count": 17,
   "metadata": {},
   "outputs": [
    {
     "name": "stdout",
     "output_type": "stream",
     "text": [
      "**************** K = 4 ************************\n",
      "Length of model 1 : 2938\n",
      "Length of model 2 : 2975\n",
      "Length of model 3 : 2933\n",
      "Length of model 4 : 2899\n",
      "Initial Model Structures [0.25014899957428693, 0.25329927628778204, 0.2497232865048957, 0.24682843763303533]\n",
      "((), (0,), (1,), (2,), (3,))\n",
      "((), (0,), (1,), (2,), (3,))\n",
      "((), (0,), (1,), (2,), (3,))\n",
      "((), (0,), (1,), (2,), (3,))\n",
      "Initial Alphas [0.25014899957428693, 0.25329927628778204, 0.2497232865048957, 0.24682843763303533]\n",
      "Initial CML -82768.17142370748\n",
      "CML is -68742.60005768761\n",
      "CML is -67178.26482868026\n",
      "CML is -66908.97086640904\n",
      "CML is -66830.58437873374\n",
      "CML is -66776.66351874825\n",
      "CML is -66711.0249714107\n",
      "CML is -66702.59799611382\n",
      "CML is -66701.88423545458\n",
      "2990 2990 2990\n",
      "3077 3077 3077\n",
      "3164 3164 3164\n",
      "2514 2514 2514\n",
      "**************** K = 5 ************************\n",
      "Length of model 1 : 2368\n",
      "Length of model 2 : 2466\n",
      "Length of model 3 : 2317\n",
      "Length of model 4 : 2304\n",
      "Length of model 5 : 2290\n",
      "Initial Model Structures [0.20161770966368667, 0.2099616858237548, 0.19727543635589612, 0.19616858237547893, 0.1949765857811835]\n",
      "((), (0,), (1,), (2,), (3,))\n",
      "((), (0,), (1,), (2,), (3,))\n",
      "((), (0,), (1,), (2,), (3,))\n",
      "((), (0,), (1,), (2,), (3,))\n",
      "((), (0,), (1,), (2,), (3,))\n",
      "Initial Alphas [0.20161770966368667, 0.2099616858237548, 0.19727543635589612, 0.19616858237547893, 0.1949765857811835]\n",
      "Initial CML -85272.14565965423\n",
      "CML is -68231.94353218995\n",
      "CML is -67196.74572775023\n",
      "CML is -66958.02771717725\n",
      "CML is -66873.04713837238\n",
      "CML is -66820.92502057306\n",
      "CML is -66761.82502806612\n",
      "2018 2018 2018\n",
      "3898 3898 3898\n",
      "2647 2647 2647\n",
      "1957 1957 1957\n",
      "1225 1225 1225\n",
      "**************** K = 6 ************************\n",
      "Length of model 1 : 1910\n",
      "Length of model 2 : 2007\n",
      "Length of model 3 : 1928\n",
      "Length of model 4 : 1945\n",
      "Length of model 5 : 2001\n",
      "Length of model 6 : 1954\n",
      "Initial Model Structures [0.16262239250744998, 0.17088122605363984, 0.1641549595572584, 0.16560238399318858, 0.17037037037037037, 0.16636866751809282]\n",
      "((), (0,), (1,), (2,), (3,))\n",
      "((), (0,), (1,), (2,), (3,))\n",
      "((), (0,), (1,), (2,), (3,))\n",
      "((), (0,), (1,), (2,), (2,))\n",
      "((), (0,), (1,), (2,), (3,))\n",
      "((), (0,), (1,), (2,), (3,))\n",
      "Initial Alphas [0.16262239250744998, 0.17088122605363984, 0.1641549595572584, 0.16560238399318858, 0.17037037037037037, 0.16636866751809282]\n",
      "Initial CML -87319.72802640498\n",
      "CML is -68245.28962783133\n",
      "CML is -67239.29595200715\n",
      "CML is -67106.46370356032\n",
      "CML is -67051.51718301035\n",
      "CML is -67045.32252632437\n",
      "CML is -67044.84489804402\n",
      "583 583 583\n",
      "3083 3083 3083\n",
      "991 991 991\n",
      "3475 3475 3475\n",
      "1856 1856 1856\n",
      "1757 1757 1757\n"
     ]
    }
   ],
   "source": [
    "for k in range(4,7):\n",
    "    em(k,X)"
   ]
  },
  {
   "cell_type": "code",
   "execution_count": null,
   "metadata": {},
   "outputs": [],
   "source": []
  },
  {
   "cell_type": "code",
   "execution_count": null,
   "metadata": {},
   "outputs": [],
   "source": []
  }
 ],
 "metadata": {
  "kernelspec": {
   "display_name": "Python 3",
   "language": "python",
   "name": "python3"
  },
  "language_info": {
   "codemirror_mode": {
    "name": "ipython",
    "version": 3
   },
   "file_extension": ".py",
   "mimetype": "text/x-python",
   "name": "python",
   "nbconvert_exporter": "python",
   "pygments_lexer": "ipython3",
   "version": "3.6.4"
  }
 },
 "nbformat": 4,
 "nbformat_minor": 2
}
