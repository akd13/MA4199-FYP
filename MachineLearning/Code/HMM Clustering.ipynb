{
 "cells": [
  {
   "cell_type": "markdown",
   "metadata": {},
   "source": [
    "# Import Libraries"
   ]
  },
  {
   "cell_type": "code",
   "execution_count": 1,
   "metadata": {
    "scrolled": true
   },
   "outputs": [],
   "source": [
    "import numpy as np\n",
    "import pandas as pd\n",
    "from hmmlearn import hmm\n",
    "import warnings\n",
    "from constants import *\n",
    "import math\n",
    "import random\n",
    "import matplotlib.pyplot as plt\n",
    "import dill"
   ]
  },
  {
   "cell_type": "markdown",
   "metadata": {},
   "source": [
    "# Helper Methods"
   ]
  },
  {
   "cell_type": "code",
   "execution_count": 2,
   "metadata": {
    "scrolled": true
   },
   "outputs": [],
   "source": [
    "def generate_random_sample(X, size):\n",
    "    '''\n",
    "    Given a list X, \n",
    "    generate random samples of given size\n",
    "    '''\n",
    "    Z_temp = random.sample(list(X), size)\n",
    "    \n",
    "    #Concatenation\n",
    "    Z = [Z_temp[0]]\n",
    "    for val in Z_temp[1:]:\n",
    "        Z = np.concatenate([Z,[val]])\n",
    "    \n",
    "    return Z\n",
    "\n",
    "def convert_values_to_list(list_val):\n",
    "    '''\n",
    "    Given a list X = [1 2 3] , \n",
    "    return X = [[1],[2],[3]]\n",
    "    '''\n",
    "    X = []\n",
    "    for i in list_val:\n",
    "        X.append([i])\n",
    "    return X\n",
    "\n",
    "def conversion_list_of_list(X, DIMENSION):\n",
    "    '''\n",
    "    Given a list X with values in lists,\n",
    "    X = [[ 3  2  2],[4 8 10]]\n",
    "    Convert each value to a list\n",
    "    Return list of lists, array of lengths of each sequence\n",
    "    X = [[3] [2] [2] [4] [8] [10]]\n",
    "    ''' \n",
    "    X_new = []\n",
    "    length = len(X)\n",
    "    for idx, val_list in enumerate(X):\n",
    "        Y = []\n",
    "        for val in val_list:\n",
    "            Y.append([val])\n",
    "        X_new.append(Y)\n",
    "\n",
    "    #Concatenation\n",
    "    Z = X_new[0]\n",
    "    for val_list in X_new[1:]:\n",
    "        Z = np.concatenate([Z,val_list])\n",
    "\n",
    "    # assign array of lengths for HMM\n",
    "    lengths = [DIMENSION]*length\n",
    "    \n",
    "    return Z,lengths\n",
    "\n",
    "#Calculate likelihood for given sequence according to given HMMs and return HMM\n",
    "def likelihood_sequence(sequence, HMM_array):\n",
    "    '''\n",
    "    Given list of K HMMs and sequence,\n",
    "    determines likelihood of sequence under all HMM models\n",
    "    Returns index of HMM which has max likelihood\n",
    "    ''' \n",
    "    scores = []\n",
    "    length = [len(sequence)]\n",
    "    for i, HMM in enumerate(HMM_array):\n",
    "        calculated_score = HMM.score(sequence, length)\n",
    "        scores.append(calculated_score)\n",
    "    idx = scores.index(max(scores))\n",
    "    return idx\n",
    "\n",
    "def HMM_model_stats(model):\n",
    "    '''\n",
    "    Details of HMM model\n",
    "    ''' \n",
    "    print(\"*************************************\")\n",
    "    print(\"Transition matrix\")\n",
    "    print(model.transmat_)\n",
    "    print(\"*************************************\")\n",
    "    print(\"Means and stds of each hidden state\")\n",
    "    for i in range(model.n_components):\n",
    "        print(\"Hidden state {0}\".format(i))\n",
    "        print(\"mean = \", model.means_[i])\n",
    "        print(\"std = \", [np.sqrt(model.covars_[i])])\n",
    "        print()\n",
    "\n",
    "def BIC(model,X,lengths):\n",
    "    LogLikelihood = model.score(X,lengths)\n",
    "    num_hidden_states = model.n_components\n",
    "    # D counts transition matrix (emission estimated by PDF), means = num_hidden_states  \n",
    "    # covariance matrix = num_hidden_states\n",
    "    D = num_hidden_states**2-num_hidden_states + 2*num_hidden_states\n",
    "    BIC = LogLikelihood - (D/2)*np.log(len(X))\n",
    "    return BIC\n",
    "    \n",
    "def BIC_array(HMM_array,X_i):\n",
    "    BIC_total = 0\n",
    "    for i in range(len(X_i)):\n",
    "        model = HMM_array[i]\n",
    "        X, lengths = conversion_list_of_list(X_i[i],DIMENSION)\n",
    "        BIC_total+= BIC(model,X,lengths)\n",
    "    return BIC_total\n",
    "\n",
    "def likelihood_array(HMM_array,X_i):\n",
    "    likelihood_total = 1\n",
    "    for i in range(len(X_i)):\n",
    "        if(len(X_i[i])>=HMM_array[i].n_components):\n",
    "            model = HMM_array[i]\n",
    "            X, lengths = conversion_list_of_list(X_i[i],DIMENSION)\n",
    "            LogLikelihood = model.score(X,lengths)\n",
    "            likelihood = LogLikelihood \n",
    "            likelihood_total*= likelihood\n",
    "    return likelihood_total\n",
    "\n",
    "def plot_BIC(list_k, BIC_score):\n",
    "    fig = plt.subplot(111)\n",
    "    plt.plot(list_k, BIC_score, marker='o')  \n",
    "    plt.xlabel('Value of K')\n",
    "    plt.ylabel('Objective')\n",
    "    plt.title('BIC')\n",
    "    plt.show() \n",
    "\n",
    "def print_stats(assignments,length):\n",
    "    for i in range(length):\n",
    "        if(i%100==0):\n",
    "            print(assignments[i])   "
   ]
  },
  {
   "cell_type": "markdown",
   "metadata": {},
   "source": [
    "# Load Data and Clean"
   ]
  },
  {
   "cell_type": "code",
   "execution_count": 3,
   "metadata": {},
   "outputs": [],
   "source": [
    "df = pd.read_csv('../Data/merged.txt', sep=\",\", na_values=['-'])\n",
    "df = df.dropna()\n",
    "df = df[['AccNum','GeneName','cdReads0','cdReads1','cdReads2','cdRPKM0','cdRPKM1','cdRPKM2']]"
   ]
  },
  {
   "cell_type": "markdown",
   "metadata": {},
   "source": [
    "# Filter cdReads"
   ]
  },
  {
   "cell_type": "code",
   "execution_count": 4,
   "metadata": {},
   "outputs": [],
   "source": [
    "df = df[(df['cdReads0'] >= 10) & (df['cdReads1'] >= 10) & (df['cdReads2'] >= 10)]"
   ]
  },
  {
   "cell_type": "code",
   "execution_count": 5,
   "metadata": {
    "scrolled": true
   },
   "outputs": [
    {
     "name": "stdout",
     "output_type": "stream",
     "text": [
      "Dataset size is 7108\n",
      "Features are 3\n",
      "       cdRPKM0     cdRPKM1     cdRPKM2\n",
      "6    39.456786   62.505536   84.519655\n",
      "13   27.172171   37.156069   34.349924\n",
      "19   29.836928   22.172994   17.721150\n",
      "28    4.340783    7.400379    7.196637\n",
      "34  188.746942  211.104962  221.175677\n",
      "****************************\n",
      "First 5 log2 values\n",
      " [[ 5.30220154  5.96591207  6.40121497]\n",
      " [ 4.76405795  5.21552596  5.10223502]\n",
      " [ 4.89902709  4.47073168  4.14740034]\n",
      " [ 2.11795515  2.88759912  2.84732298]\n",
      " [ 7.56030946  7.72181668  7.78904893]]\n"
     ]
    }
   ],
   "source": [
    "#Dataset\n",
    "df_main = df[['cdRPKM0','cdRPKM1','cdRPKM2']]\n",
    "LENGTH,DIMENSION = df_main.shape\n",
    "print(\"Dataset size is\",LENGTH)\n",
    "print(\"Features are\", DIMENSION)\n",
    "print(df_main.head(5))\n",
    "X = np.log2(df_main.values)\n",
    "print(\"****************************\")\n",
    "print(\"First 5 log2 values\\n\",X[:5])"
   ]
  },
  {
   "cell_type": "markdown",
   "metadata": {},
   "source": [
    "# Arrays with HMM models for 1<=K<=20"
   ]
  },
  {
   "cell_type": "code",
   "execution_count": 6,
   "metadata": {},
   "outputs": [],
   "source": [
    "HMM_K_ARRAYS = []\n",
    "X_i_K_ARRAYS = []"
   ]
  },
  {
   "cell_type": "markdown",
   "metadata": {},
   "source": [
    "# Check likelihood and do assignments"
   ]
  },
  {
   "cell_type": "code",
   "execution_count": 7,
   "metadata": {},
   "outputs": [],
   "source": [
    "K_values = range(2,21)"
   ]
  },
  {
   "cell_type": "code",
   "execution_count": 8,
   "metadata": {
    "scrolled": false
   },
   "outputs": [
    {
     "name": "stdout",
     "output_type": "stream",
     "text": [
      "**************** K = 2 ************************\n",
      "Likelihood for iteration 0 is 227414493.05\n",
      "************ Check likelihood of sequence in HMM  *********\n",
      "************ Checking likelihood done  *********\n",
      "************ Re-estimating HMM *********\n",
      "************ Re-estimation done *********\n",
      "Likelihood for iteration 1 is 768533483.162\n",
      "*****************************************\n",
      "Num iterations is: 1\n",
      "************ Check likelihood of sequence in HMM  *********\n",
      "************ Checking likelihood done  *********\n",
      "************ Re-estimating HMM *********\n",
      "************ Re-estimation done *********\n",
      "Likelihood for iteration 2 is 114569015.608\n",
      "*****************************************\n",
      "Num iterations is: 2\n",
      "************ Check likelihood of sequence in HMM  *********\n",
      "************ Checking likelihood done  *********\n",
      "************ Re-estimating HMM *********\n",
      "************ Re-estimation done *********\n",
      "Likelihood for iteration 3 is 116117156.776\n",
      "*****************************************\n",
      "Num iterations is: 3\n",
      "************ Check likelihood of sequence in HMM  *********\n",
      "************ Checking likelihood done  *********\n",
      "************ Re-estimating HMM *********\n",
      "************ Re-estimation done *********\n",
      "Likelihood for iteration 4 is 117528677.766\n",
      "*****************************************\n",
      "Num iterations is: 4\n",
      "************ Check likelihood of sequence in HMM  *********\n",
      "************ Checking likelihood done  *********\n",
      "************ Re-estimating HMM *********\n",
      "************ Re-estimation done *********\n",
      "Likelihood for iteration 5 is 119142455.68\n",
      "*****************************************\n",
      "Num iterations is: 5\n",
      "************ Check likelihood of sequence in HMM  *********\n",
      "************ Checking likelihood done  *********\n",
      "************ Re-estimating HMM *********\n",
      "************ Re-estimation done *********\n"
     ]
    },
    {
     "ename": "KeyboardInterrupt",
     "evalue": "",
     "output_type": "error",
     "traceback": [
      "\u001b[0;31m---------------------------------------------------------------------------\u001b[0m",
      "\u001b[0;31mKeyboardInterrupt\u001b[0m                         Traceback (most recent call last)",
      "\u001b[0;32m<ipython-input-8-0eb3cdb68f2a>\u001b[0m in \u001b[0;36m<module>\u001b[0;34m()\u001b[0m\n\u001b[1;32m     52\u001b[0m                 \u001b[0mHMM_array\u001b[0m\u001b[0;34m.\u001b[0m\u001b[0mappend\u001b[0m\u001b[0;34m(\u001b[0m\u001b[0mHMM_array_prev\u001b[0m\u001b[0;34m[\u001b[0m\u001b[0mi\u001b[0m\u001b[0;34m]\u001b[0m\u001b[0;34m)\u001b[0m\u001b[0;34m\u001b[0m\u001b[0m\n\u001b[1;32m     53\u001b[0m         \u001b[0mprint\u001b[0m\u001b[0;34m(\u001b[0m\u001b[0;34m\"************ Re-estimation done *********\"\u001b[0m\u001b[0;34m)\u001b[0m\u001b[0;34m\u001b[0m\u001b[0m\n\u001b[0;32m---> 54\u001b[0;31m         \u001b[0mlikelihood_curr\u001b[0m \u001b[0;34m=\u001b[0m \u001b[0mlikelihood_array\u001b[0m\u001b[0;34m(\u001b[0m\u001b[0mHMM_array\u001b[0m\u001b[0;34m,\u001b[0m\u001b[0mX_i\u001b[0m\u001b[0;34m)\u001b[0m\u001b[0;34m\u001b[0m\u001b[0m\n\u001b[0m\u001b[1;32m     55\u001b[0m         \u001b[0mprint\u001b[0m\u001b[0;34m(\u001b[0m\u001b[0;34m\"Likelihood for iteration\"\u001b[0m\u001b[0;34m,\u001b[0m\u001b[0mNUM_ITERATIONS\u001b[0m\u001b[0;34m,\u001b[0m\u001b[0;34m\"is\"\u001b[0m\u001b[0;34m,\u001b[0m\u001b[0mlikelihood_curr\u001b[0m\u001b[0;34m)\u001b[0m\u001b[0;34m\u001b[0m\u001b[0m\n\u001b[1;32m     56\u001b[0m         \u001b[0mprint\u001b[0m\u001b[0;34m(\u001b[0m\u001b[0;34m\"*****************************************\"\u001b[0m\u001b[0;34m)\u001b[0m\u001b[0;34m\u001b[0m\u001b[0m\n",
      "\u001b[0;32m<ipython-input-2-3386a3cd77ad>\u001b[0m in \u001b[0;36mlikelihood_array\u001b[0;34m(HMM_array, X_i)\u001b[0m\n\u001b[1;32m    102\u001b[0m             \u001b[0mmodel\u001b[0m \u001b[0;34m=\u001b[0m \u001b[0mHMM_array\u001b[0m\u001b[0;34m[\u001b[0m\u001b[0mi\u001b[0m\u001b[0;34m]\u001b[0m\u001b[0;34m\u001b[0m\u001b[0m\n\u001b[1;32m    103\u001b[0m             \u001b[0mX\u001b[0m\u001b[0;34m,\u001b[0m \u001b[0mlengths\u001b[0m \u001b[0;34m=\u001b[0m \u001b[0mconversion_list_of_list\u001b[0m\u001b[0;34m(\u001b[0m\u001b[0mX_i\u001b[0m\u001b[0;34m[\u001b[0m\u001b[0mi\u001b[0m\u001b[0;34m]\u001b[0m\u001b[0;34m,\u001b[0m\u001b[0mDIMENSION\u001b[0m\u001b[0;34m)\u001b[0m\u001b[0;34m\u001b[0m\u001b[0m\n\u001b[0;32m--> 104\u001b[0;31m             \u001b[0mLogLikelihood\u001b[0m \u001b[0;34m=\u001b[0m \u001b[0mmodel\u001b[0m\u001b[0;34m.\u001b[0m\u001b[0mscore\u001b[0m\u001b[0;34m(\u001b[0m\u001b[0mX\u001b[0m\u001b[0;34m,\u001b[0m\u001b[0mlengths\u001b[0m\u001b[0;34m)\u001b[0m\u001b[0;34m\u001b[0m\u001b[0m\n\u001b[0m\u001b[1;32m    105\u001b[0m             \u001b[0mlikelihood\u001b[0m \u001b[0;34m=\u001b[0m \u001b[0mLogLikelihood\u001b[0m\u001b[0;34m\u001b[0m\u001b[0m\n\u001b[1;32m    106\u001b[0m             \u001b[0mlikelihood_total\u001b[0m\u001b[0;34m*=\u001b[0m \u001b[0mlikelihood\u001b[0m\u001b[0;34m\u001b[0m\u001b[0m\n",
      "\u001b[0;32m/usr/local/lib/python3.6/site-packages/hmmlearn/base.py\u001b[0m in \u001b[0;36mscore\u001b[0;34m(self, X, lengths)\u001b[0m\n\u001b[1;32m    248\u001b[0m         \u001b[0;32mfor\u001b[0m \u001b[0mi\u001b[0m\u001b[0;34m,\u001b[0m \u001b[0mj\u001b[0m \u001b[0;32min\u001b[0m \u001b[0miter_from_X_lengths\u001b[0m\u001b[0;34m(\u001b[0m\u001b[0mX\u001b[0m\u001b[0;34m,\u001b[0m \u001b[0mlengths\u001b[0m\u001b[0;34m)\u001b[0m\u001b[0;34m:\u001b[0m\u001b[0;34m\u001b[0m\u001b[0m\n\u001b[1;32m    249\u001b[0m             \u001b[0mframelogprob\u001b[0m \u001b[0;34m=\u001b[0m \u001b[0mself\u001b[0m\u001b[0;34m.\u001b[0m\u001b[0m_compute_log_likelihood\u001b[0m\u001b[0;34m(\u001b[0m\u001b[0mX\u001b[0m\u001b[0;34m[\u001b[0m\u001b[0mi\u001b[0m\u001b[0;34m:\u001b[0m\u001b[0mj\u001b[0m\u001b[0;34m]\u001b[0m\u001b[0;34m)\u001b[0m\u001b[0;34m\u001b[0m\u001b[0m\n\u001b[0;32m--> 250\u001b[0;31m             \u001b[0mlogprobij\u001b[0m\u001b[0;34m,\u001b[0m \u001b[0m_fwdlattice\u001b[0m \u001b[0;34m=\u001b[0m \u001b[0mself\u001b[0m\u001b[0;34m.\u001b[0m\u001b[0m_do_forward_pass\u001b[0m\u001b[0;34m(\u001b[0m\u001b[0mframelogprob\u001b[0m\u001b[0;34m)\u001b[0m\u001b[0;34m\u001b[0m\u001b[0m\n\u001b[0m\u001b[1;32m    251\u001b[0m             \u001b[0mlogprob\u001b[0m \u001b[0;34m+=\u001b[0m \u001b[0mlogprobij\u001b[0m\u001b[0;34m\u001b[0m\u001b[0m\n\u001b[1;32m    252\u001b[0m         \u001b[0;32mreturn\u001b[0m \u001b[0mlogprob\u001b[0m\u001b[0;34m\u001b[0m\u001b[0m\n",
      "\u001b[0;32m/usr/local/lib/python3.6/site-packages/hmmlearn/base.py\u001b[0m in \u001b[0;36m_do_forward_pass\u001b[0;34m(self, framelogprob)\u001b[0m\n\u001b[1;32m    464\u001b[0m                        framelogprob, fwdlattice)\n\u001b[1;32m    465\u001b[0m         \u001b[0;32mwith\u001b[0m \u001b[0mnp\u001b[0m\u001b[0;34m.\u001b[0m\u001b[0merrstate\u001b[0m\u001b[0;34m(\u001b[0m\u001b[0munder\u001b[0m\u001b[0;34m=\u001b[0m\u001b[0;34m\"ignore\"\u001b[0m\u001b[0;34m)\u001b[0m\u001b[0;34m:\u001b[0m\u001b[0;34m\u001b[0m\u001b[0m\n\u001b[0;32m--> 466\u001b[0;31m             \u001b[0;32mreturn\u001b[0m \u001b[0mlogsumexp\u001b[0m\u001b[0;34m(\u001b[0m\u001b[0mfwdlattice\u001b[0m\u001b[0;34m[\u001b[0m\u001b[0;34m-\u001b[0m\u001b[0;36m1\u001b[0m\u001b[0;34m]\u001b[0m\u001b[0;34m)\u001b[0m\u001b[0;34m,\u001b[0m \u001b[0mfwdlattice\u001b[0m\u001b[0;34m\u001b[0m\u001b[0m\n\u001b[0m\u001b[1;32m    467\u001b[0m \u001b[0;34m\u001b[0m\u001b[0m\n\u001b[1;32m    468\u001b[0m     \u001b[0;32mdef\u001b[0m \u001b[0m_do_backward_pass\u001b[0m\u001b[0;34m(\u001b[0m\u001b[0mself\u001b[0m\u001b[0;34m,\u001b[0m \u001b[0mframelogprob\u001b[0m\u001b[0;34m)\u001b[0m\u001b[0;34m:\u001b[0m\u001b[0;34m\u001b[0m\u001b[0m\n",
      "\u001b[0;32m/usr/local/lib/python3.6/site-packages/scipy/special/_logsumexp.py\u001b[0m in \u001b[0;36mlogsumexp\u001b[0;34m(a, axis, b, keepdims, return_sign)\u001b[0m\n\u001b[1;32m    108\u001b[0m         \u001b[0mtmp\u001b[0m \u001b[0;34m=\u001b[0m \u001b[0mb\u001b[0m \u001b[0;34m*\u001b[0m \u001b[0mnp\u001b[0m\u001b[0;34m.\u001b[0m\u001b[0mexp\u001b[0m\u001b[0;34m(\u001b[0m\u001b[0ma\u001b[0m \u001b[0;34m-\u001b[0m \u001b[0ma_max\u001b[0m\u001b[0;34m)\u001b[0m\u001b[0;34m\u001b[0m\u001b[0m\n\u001b[1;32m    109\u001b[0m     \u001b[0;32melse\u001b[0m\u001b[0;34m:\u001b[0m\u001b[0;34m\u001b[0m\u001b[0m\n\u001b[0;32m--> 110\u001b[0;31m         \u001b[0mtmp\u001b[0m \u001b[0;34m=\u001b[0m \u001b[0mnp\u001b[0m\u001b[0;34m.\u001b[0m\u001b[0mexp\u001b[0m\u001b[0;34m(\u001b[0m\u001b[0ma\u001b[0m \u001b[0;34m-\u001b[0m \u001b[0ma_max\u001b[0m\u001b[0;34m)\u001b[0m\u001b[0;34m\u001b[0m\u001b[0m\n\u001b[0m\u001b[1;32m    111\u001b[0m \u001b[0;34m\u001b[0m\u001b[0m\n\u001b[1;32m    112\u001b[0m     \u001b[0;31m# suppress warnings about log of zero\u001b[0m\u001b[0;34m\u001b[0m\u001b[0;34m\u001b[0m\u001b[0m\n",
      "\u001b[0;31mKeyboardInterrupt\u001b[0m: "
     ]
    }
   ],
   "source": [
    "for K in K_values:\n",
    "    HMM_array = []\n",
    "    X_i = []\n",
    "    print(\"**************** K =\", K ,\"************************\")\n",
    "    for i in range(K):\n",
    "        X_i.append([])\n",
    "        \n",
    "    NUM_ITERATIONS = 0\n",
    "    NUM_CLUSTER_PREV = {}\n",
    "    NUM_CLUSTER_NOW = {}\n",
    "    \n",
    "    # Sequences for initial HMM estimation\n",
    "    # Make K subsets data of LENGTH\n",
    "    for i in range(LENGTH):\n",
    "        for j in range(K):\n",
    "            if(i%K==j):\n",
    "                X_i[j].append(list(X[i]))\n",
    "                NUM_CLUSTER_PREV[i] = j\n",
    "                \n",
    "    for i in range(K):\n",
    "        model = hmm.GaussianHMM(n_components=3,covariance_type='diag')\n",
    "        X_temp, lengths = conversion_list_of_list(X_i[i],DIMENSION)\n",
    "        model.fit(X_temp, lengths)\n",
    "        HMM_array.append(model)\n",
    "    \n",
    "    likelihood_prev = likelihood_array(HMM_array,X_i)\n",
    "    print(\"Likelihood for iteration\",NUM_ITERATIONS,\"is\",likelihood_prev)\n",
    "    NUM_ITERATIONS+=1\n",
    "    while (True):\n",
    "        # Assign all sequences to HMM models\n",
    "\n",
    "        print(\"************ Check likelihood of sequence in HMM  *********\")\n",
    "        NUM_CLUSTER_NOW = {}\n",
    "        for idx,x in enumerate(X):\n",
    "            sequence = convert_values_to_list(x)\n",
    "            hmm_index = likelihood_sequence(sequence, HMM_array)\n",
    "            X_i[hmm_index].append(list(x))\n",
    "            NUM_CLUSTER_NOW[idx] = hmm_index\n",
    "        print(\"************ Checking likelihood done  *********\")\n",
    "\n",
    "        # Re-estimate parameters for new HMMs\n",
    "        print(\"************ Re-estimating HMM *********\")\n",
    "        HMM_array_prev = HMM_array\n",
    "        HMM_array = []\n",
    "        for i in range(K):\n",
    "            model = hmm.GaussianHMM(n_components=3,covariance_type='diag')\n",
    "            if(len(X_i[i])>=model.n_components):\n",
    "                X_temp, lengths = conversion_list_of_list(X_i[i], DIMENSION)\n",
    "                model.fit(X_temp, lengths)\n",
    "                HMM_array.append(model)\n",
    "            else:\n",
    "                HMM_array.append(HMM_array_prev[i])\n",
    "        print(\"************ Re-estimation done *********\")\n",
    "        likelihood_curr = likelihood_array(HMM_array,X_i)\n",
    "        print(\"Likelihood for iteration\",NUM_ITERATIONS,\"is\",likelihood_curr)\n",
    "        print(\"*****************************************\")\n",
    "\n",
    "        # if no reassignments, then break\n",
    "        if ((NUM_CLUSTER_PREV == NUM_CLUSTER_NOW)):\n",
    "            HMM_K_ARRAYS.append(HMM_array)\n",
    "            X_i_K_ARRAYS.append(X_i)\n",
    "            break\n",
    "        else:\n",
    "            # initialize empty subsets of data for next iteration\n",
    "            X_i = []\n",
    "            for i in range(K):\n",
    "                X_i.append([])\n",
    "\n",
    "            NUM_CLUSTER_PREV = NUM_CLUSTER_NOW\n",
    "            print(\"Num iterations is:\", NUM_ITERATIONS)\n",
    "            NUM_ITERATIONS += 1\n",
    "            likelihood_prev = likelihood_curr\n",
    "    print(\"**********************************************************\\n\\n\")"
   ]
  },
  {
   "cell_type": "code",
   "execution_count": 17,
   "metadata": {},
   "outputs": [
    {
     "name": "stdout",
     "output_type": "stream",
     "text": [
      "19\n",
      "19\n"
     ]
    }
   ],
   "source": [
    "print(len(HMM_K_ARRAYS))\n",
    "print(len(X_i_K_ARRAYS))"
   ]
  },
  {
   "cell_type": "code",
   "execution_count": 18,
   "metadata": {},
   "outputs": [],
   "source": [
    "dill.dump_session('../Weights/HMM_GaussianHMM_i_normalized.db')"
   ]
  },
  {
   "cell_type": "code",
   "execution_count": null,
   "metadata": {},
   "outputs": [],
   "source": []
  },
  {
   "cell_type": "markdown",
   "metadata": {},
   "source": [
    "# Calculate BIC for these assignments"
   ]
  },
  {
   "cell_type": "code",
   "execution_count": null,
   "metadata": {},
   "outputs": [],
   "source": [
    "print(BIC_array(HMM_array,X_i))"
   ]
  },
  {
   "cell_type": "code",
   "execution_count": null,
   "metadata": {
    "scrolled": true
   },
   "outputs": [],
   "source": [
    "print(BIC_array(HMM_array,X_i))"
   ]
  },
  {
   "cell_type": "markdown",
   "metadata": {},
   "source": [
    "# Noise Cluster"
   ]
  },
  {
   "cell_type": "code",
   "execution_count": null,
   "metadata": {
    "scrolled": true
   },
   "outputs": [],
   "source": [
    "# Get list of lists to fit\n",
    "Z, lengths = conversion_list_of_list(X,DIMENSION)"
   ]
  },
  {
   "cell_type": "code",
   "execution_count": null,
   "metadata": {
    "scrolled": true
   },
   "outputs": [],
   "source": [
    "# Noise cluster \n",
    "\n",
    "model_noise = hmm.GMMHMM(n_components=3,n_mix=3,covariance_type='spherical')\n",
    "model_noise.fit(Z, lengths)"
   ]
  },
  {
   "cell_type": "code",
   "execution_count": null,
   "metadata": {
    "scrolled": true
   },
   "outputs": [],
   "source": [
    "HMM_model_stats(model_noise)"
   ]
  },
  {
   "cell_type": "markdown",
   "metadata": {},
   "source": [
    "# Generate subsets of data for K HMMs"
   ]
  },
  {
   "cell_type": "code",
   "execution_count": 46,
   "metadata": {
    "scrolled": true
   },
   "outputs": [],
   "source": [
    "K = 3\n",
    "HMM_array = []\n",
    "X_i = []\n",
    "\n",
    "for i in range(K):\n",
    "    X_i.append([])\n",
    "\n",
    "# Sequences for initial HMM estimation\n",
    "for i in range(LENGTH):\n",
    "    for j in range(K):\n",
    "        if(i%K==j):\n",
    "            X_i[j].append(list(X[i]))"
   ]
  },
  {
   "cell_type": "code",
   "execution_count": 47,
   "metadata": {
    "scrolled": true
   },
   "outputs": [],
   "source": [
    "for i in range(K):\n",
    "    model = hmm.GaussianHMM(n_components=3, covariance_type='full')\n",
    "    X_temp, lengths = conversion_list_of_list(X_i[i],DIMENSION)\n",
    "    model.fit(X_temp, lengths)"
   ]
  },
  {
   "cell_type": "markdown",
   "metadata": {},
   "source": [
    "## Statistics for K HMMs"
   ]
  },
  {
   "cell_type": "code",
   "execution_count": 48,
   "metadata": {
    "scrolled": false
   },
   "outputs": [
    {
     "name": "stdout",
     "output_type": "stream",
     "text": [
      "*************************************\n",
      "Transition matrix\n",
      "[[  9.99276869e-01   6.38482140e-04   8.46487741e-05]\n",
      " [  1.93144205e-04   9.99806856e-01   2.07287602e-13]\n",
      " [  1.68090394e-02   2.12582122e-11   9.83190961e-01]]\n",
      "*************************************\n",
      "Means and stds of each hidden state\n",
      "Hidden state 0\n",
      "mean =  [ 5.85591189]\n",
      "std =  [array([[ 0.49587845]])]\n",
      "\n",
      "Hidden state 1\n",
      "mean =  [ 7.75447354]\n",
      "std =  [array([[ 1.05975496]])]\n",
      "\n",
      "Hidden state 2\n",
      "mean =  [ 4.32879483]\n",
      "std =  [array([[ 0.68723547]])]\n",
      "\n",
      "\n",
      "\n",
      "\n"
     ]
    },
    {
     "data": {
      "text/plain": [
       "array([1, 1, 1])"
      ]
     },
     "execution_count": 48,
     "metadata": {},
     "output_type": "execute_result"
    }
   ],
   "source": [
    "HMM_model_stats(model)\n",
    "print('\\n\\n')\n",
    "model.predict([[7.56030946],[5.96591207],[6.40121497]],lengths=[3])"
   ]
  },
  {
   "cell_type": "code",
   "execution_count": null,
   "metadata": {},
   "outputs": [],
   "source": [
    "K = 3\n",
    "HMM_array = []\n",
    "X_i = []\n",
    "\n",
    "for i in range(K):\n",
    "    X_i.append([])\n",
    "\n",
    "# Sequences for initial HMM estimation\n",
    "for i in range(LENGTH):\n",
    "    for j in range(K):\n",
    "        if(i%K==j):\n",
    "            X_i[j].append(list(X[i]))\n",
    "for i in range(K):\n",
    "    model = hmm.GaussianHMM(n_components=3, covariance_type='diag')\n",
    "    X_temp, lengths = conversion_list_of_list(X_i[i],DIMENSION)\n",
    "    model.fit(X_temp, lengths)\n",
    "    HMM_array.append(model)\n",
    "for i in range(K):\n",
    "    print(\"Statistics for HMM Model\", i)\n",
    "    HMM_model_stats(HMM_array[i])\n",
    "    print('\\n\\n')"
   ]
  },
  {
   "cell_type": "code",
   "execution_count": null,
   "metadata": {},
   "outputs": [],
   "source": [
    "NUM_ITERATIONS = 1\n",
    "NUM_CLUSTER_PREV = {}\n",
    "NUM_CLUSTER_NOW = {}"
   ]
  },
  {
   "cell_type": "code",
   "execution_count": null,
   "metadata": {
    "scrolled": true
   },
   "outputs": [],
   "source": [
    "#initialize empty subsets of data\n",
    "X_i = []\n",
    "\n",
    "for i in range(K):\n",
    "    X_i.append([])"
   ]
  },
  {
   "cell_type": "code",
   "execution_count": null,
   "metadata": {
    "scrolled": true
   },
   "outputs": [],
   "source": [
    "likelihood_prev = likelihood_array(HMM_array,X_i)\n",
    "print(\"Likelihood for iteration\",0,\"is\",likelihood_prev)"
   ]
  }
 ],
 "metadata": {
  "kernelspec": {
   "display_name": "Python 3",
   "language": "python",
   "name": "python3"
  },
  "language_info": {
   "codemirror_mode": {
    "name": "ipython",
    "version": 3
   },
   "file_extension": ".py",
   "mimetype": "text/x-python",
   "name": "python",
   "nbconvert_exporter": "python",
   "pygments_lexer": "ipython3",
   "version": "3.6.4"
  }
 },
 "nbformat": 4,
 "nbformat_minor": 2
}
