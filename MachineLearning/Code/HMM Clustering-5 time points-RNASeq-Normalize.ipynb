{
 "cells": [
  {
   "cell_type": "markdown",
   "metadata": {},
   "source": [
    "# Import Libraries"
   ]
  },
  {
   "cell_type": "code",
   "execution_count": 1,
   "metadata": {
    "scrolled": true
   },
   "outputs": [],
   "source": [
    "import numpy as np\n",
    "import pandas as pd\n",
    "from hmmlearn import hmm\n",
    "import warnings\n",
    "from constants import *\n",
    "import math\n",
    "import os\n",
    "import random\n",
    "import dill"
   ]
  },
  {
   "cell_type": "markdown",
   "metadata": {},
   "source": [
    "# Helper Methods"
   ]
  },
  {
   "cell_type": "code",
   "execution_count": 2,
   "metadata": {
    "scrolled": true
   },
   "outputs": [],
   "source": [
    "def generate_random_sample(X, size):\n",
    "    '''\n",
    "    Given a list X, \n",
    "    generate random samples of given size\n",
    "    '''\n",
    "    Z_temp = random.sample(list(X), size)\n",
    "    \n",
    "    #Concatenation\n",
    "    Z = [Z_temp[0]]\n",
    "    for val in Z_temp[1:]:\n",
    "        Z = np.concatenate([Z,[val]])\n",
    "    \n",
    "    return Z\n",
    "\n",
    "def convert_values_to_list(list_val):\n",
    "    '''\n",
    "    Given a list X = [1 2 3] , \n",
    "    return X = [[1],[2],[3]]\n",
    "    '''\n",
    "    X = []\n",
    "    for i in list_val:\n",
    "        X.append([i])\n",
    "    return X\n",
    "\n",
    "def conversion_list_of_list(X, DIMENSION):\n",
    "    '''\n",
    "    Given a list X with values in lists,\n",
    "    X = [[ 3  2  2],[4 8 10]]\n",
    "    Convert each value to a list\n",
    "    Return list of lists, array of lengths of each sequence\n",
    "    X = [[3] [2] [2] [4] [8] [10]]\n",
    "    ''' \n",
    "    X_new = []\n",
    "    length = len(X)\n",
    "    for idx, val_list in enumerate(X):\n",
    "        Y = []\n",
    "        for val in val_list:\n",
    "            Y.append([val])\n",
    "        X_new.append(Y)\n",
    "\n",
    "    #Concatenation\n",
    "    Z = X_new[0]\n",
    "    for val_list in X_new[1:]:\n",
    "        Z = np.concatenate([Z,val_list])\n",
    "\n",
    "    # assign array of lengths for HMM\n",
    "    lengths = [DIMENSION]*length\n",
    "    \n",
    "    return Z,lengths\n",
    "\n",
    "#Calculate likelihood for given sequence according to given HMMs and return HMM\n",
    "def likelihood_sequence(sequence, HMM_array):\n",
    "    '''\n",
    "    Given list of K HMMs and sequence,\n",
    "    determines likelihood of sequence under all HMM models\n",
    "    Returns index of HMM which has max likelihood\n",
    "    ''' \n",
    "    scores = []\n",
    "    length = [len(sequence)]\n",
    "    for i, HMM in enumerate(HMM_array):\n",
    "        calculated_score = HMM.score(sequence, length)\n",
    "        scores.append(calculated_score)\n",
    "    idx = scores.index(max(scores))\n",
    "    return idx\n",
    "\n",
    "def HMM_model_stats(model):\n",
    "    '''\n",
    "    Details of HMM model\n",
    "    ''' \n",
    "    print(\"*************************************\")\n",
    "    print(\"Transition matrix\")\n",
    "    print(model.transmat_)\n",
    "    print(\"*************************************\")\n",
    "    print(\"Means and stds of each hidden state\")\n",
    "    for i in range(model.n_components):\n",
    "        print(\"Hidden state {0}\".format(i))\n",
    "        print(\"mean = \", model.means_[i])\n",
    "        print(\"std = \", [np.sqrt(model.covars_[i])])\n",
    "        print()\n",
    "\n",
    "def BIC(model,X,lengths):\n",
    "    LogLikelihood = model.score(X,lengths)\n",
    "    num_hidden_states = model.n_components\n",
    "    # D counts transition matrix (emission estimated by PDF), means = num_hidden_states  \n",
    "    # covariance matrix = num_hidden_states\n",
    "    D = num_hidden_states**2-num_hidden_states + 2*num_hidden_states\n",
    "    BIC = LogLikelihood - (D/2)*np.log(len(X))\n",
    "    return BIC\n",
    "    \n",
    "def BIC_array(HMM_array,X_i):\n",
    "    BIC_total = 0\n",
    "    for i in range(len(X_i)):\n",
    "        model = HMM_array[i]\n",
    "        X, lengths = conversion_list_of_list(X_i[i],DIMENSION)\n",
    "        BIC_total+= BIC(model,X,lengths)\n",
    "    return BIC_total\n",
    "\n",
    "def likelihood_array(HMM_array,X_i):\n",
    "    likelihood_total = 0\n",
    "    for i in range(len(X_i)):\n",
    "        if(len(X_i[i])>=HMM_array[i].n_components):\n",
    "            model = HMM_array[i]\n",
    "            X, lengths = conversion_list_of_list(X_i[i],DIMENSION)\n",
    "            LogLikelihood = model.score(X,lengths)\n",
    "            likelihood = LogLikelihood \n",
    "            likelihood_total+= likelihood\n",
    "    return likelihood_total\n",
    "\n",
    "def plot_BIC(list_k, BIC_score):\n",
    "    fig = plt.subplot(111)\n",
    "    plt.plot(list_k, BIC_score, marker='o')  \n",
    "    plt.xlabel('Value of K')\n",
    "    plt.ylabel('Objective')\n",
    "    plt.title('BIC')\n",
    "    plt.show() \n",
    "\n",
    "def print_stats(assignments,length):\n",
    "    for i in range(length):\n",
    "        if(i%100==0):\n",
    "            print(assignments[i])   "
   ]
  },
  {
   "cell_type": "markdown",
   "metadata": {},
   "source": [
    "# Load Data and Clean"
   ]
  },
  {
   "cell_type": "code",
   "execution_count": 3,
   "metadata": {
    "scrolled": true
   },
   "outputs": [],
   "source": [
    "df_rnaseq = pd.read_csv('RPKMOutput/RNASeq.txt',sep=' ')"
   ]
  },
  {
   "cell_type": "code",
   "execution_count": 4,
   "metadata": {
    "scrolled": true
   },
   "outputs": [
    {
     "name": "stdout",
     "output_type": "stream",
     "text": [
      "Dataset size is 10340\n",
      "Features are 5\n",
      "     cdRPKM0    cdRPKM1    cdRPKM2    cdRPKM3    cdRPKM4\n",
      "0   6.642349   5.591876   6.004645   5.369988   8.507454\n",
      "2   8.115351   9.879314   9.263817   7.164127   7.730539\n",
      "3  54.937502  55.371390  64.913315  67.172940  78.293873\n",
      "5  49.166094  35.735701  40.321640  35.461616  35.952554\n",
      "8  35.030842  32.456656  35.944257  37.945878  41.572410\n",
      "****************************\n",
      "First 5 log2 values\n",
      " [[  6.64234888   5.59187561   6.00464467   5.36998757   8.50745417]\n",
      " [  8.11535125   9.87931428   9.2638167    7.16412693   7.73053887]\n",
      " [ 54.93750188  55.37139034  64.91331516  67.17294025  78.29387309]\n",
      " [ 49.16609435  35.73570142  40.32164016  35.46161645  35.95255399]\n",
      " [ 35.03084223  32.45665629  35.94425662  37.94587804  41.57241028]]\n"
     ]
    }
   ],
   "source": [
    "#Dataset\n",
    "df_rnaseq = df_rnaseq[(df_rnaseq['cdReads0'] >= 10) & (df_rnaseq['cdReads1'] >= 10) & (df_rnaseq['cdReads2'] >= 10)& (df_rnaseq['cdReads3'] >= 10)& (df_rnaseq['cdReads4'] >= 10)]\n",
    "df_main = df_rnaseq[['cdRPKM0','cdRPKM1','cdRPKM2','cdRPKM3','cdRPKM4']]\n",
    "LENGTH,DIMENSION = df_main.shape\n",
    "print(\"Dataset size is\",LENGTH)\n",
    "print(\"Features are\", DIMENSION)\n",
    "print(df_main.head(5))\n",
    "X = df_main.values\n",
    "print(\"****************************\")\n",
    "print(\"First 5 log2 values\\n\",X[:5])"
   ]
  },
  {
   "cell_type": "code",
   "execution_count": 5,
   "metadata": {
    "scrolled": true
   },
   "outputs": [
    {
     "name": "stdout",
     "output_type": "stream",
     "text": [
      "First 5 log2 values after normalizing\n",
      " [[  0.          -1.05047327  -0.63770421  -1.27236132   1.86510529]\n",
      " [  0.           1.76396303   1.14846545  -0.95122432  -0.38481238]\n",
      " [  0.           0.43388846   9.97581328  12.23543837  23.35637121]\n",
      " [  0.         -13.43039293  -8.8444542  -13.7044779  -13.21354036]\n",
      " [  0.          -2.57418594   0.91341439   2.91503582   6.54156806]]\n"
     ]
    }
   ],
   "source": [
    "for idx,row in enumerate(X):\n",
    "    temp = X[idx,0]\n",
    "    X[idx,0]=0\n",
    "    X[idx,1]-=temp\n",
    "    X[idx,2]-=temp\n",
    "    X[idx,3]-=temp\n",
    "    X[idx,4]-=temp \n",
    "print(\"First 5 log2 values after normalizing\\n\",X[:5])"
   ]
  },
  {
   "cell_type": "markdown",
   "metadata": {},
   "source": [
    "# Arrays with HMM models for 1<=K<=20"
   ]
  },
  {
   "cell_type": "code",
   "execution_count": 6,
   "metadata": {
    "scrolled": true
   },
   "outputs": [],
   "source": [
    "HMM_K_ARRAYS = []\n",
    "X_i_K_ARRAYS = []"
   ]
  },
  {
   "cell_type": "markdown",
   "metadata": {},
   "source": [
    "# Check likelihood and do assignments"
   ]
  },
  {
   "cell_type": "code",
   "execution_count": 9,
   "metadata": {
    "scrolled": true
   },
   "outputs": [],
   "source": [
    "K_values = [5]"
   ]
  },
  {
   "cell_type": "code",
   "execution_count": null,
   "metadata": {
    "scrolled": false
   },
   "outputs": [],
   "source": [
    "for K in K_values:\n",
    "    HMM_array = []\n",
    "    X_i = []\n",
    "    print(\"**************** K =\", K ,\"************************\")\n",
    "    for i in range(K):\n",
    "        X_i.append([])\n",
    "        \n",
    "    NUM_ITERATIONS = 0\n",
    "    NUM_CLUSTER_PREV = {}\n",
    "    NUM_CLUSTER_NOW = {}\n",
    "    \n",
    "    # Sequences for initial HMM estimation\n",
    "    # Make K subsets data of LENGTH\n",
    "    for i in range(LENGTH):\n",
    "        for j in range(K):\n",
    "            if(i%K==j):\n",
    "                X_i[j].append(list(X[i]))\n",
    "                NUM_CLUSTER_PREV[i] = j\n",
    "                \n",
    "    for i in range(K):\n",
    "        model = hmm.GaussianHMM(n_components=3,covariance_type='diag')\n",
    "        X_temp, lengths = conversion_list_of_list(X_i[i],DIMENSION)\n",
    "        model.fit(X_temp, lengths)\n",
    "        HMM_array.append(model)\n",
    "    \n",
    "    likelihood_prev = likelihood_array(HMM_array,X_i)\n",
    "    print(\"Likelihood for iteration\",NUM_ITERATIONS,\"is\",likelihood_prev)\n",
    "    NUM_ITERATIONS+=1\n",
    "    while (True):\n",
    "        # Assign all sequences to HMM models\n",
    "\n",
    "        print(\"************ Check likelihood of sequence in HMM  *********\")\n",
    "        NUM_CLUSTER_NOW = {}\n",
    "        for idx,x in enumerate(X):\n",
    "            sequence = convert_values_to_list(x)\n",
    "            hmm_index = likelihood_sequence(sequence, HMM_array)\n",
    "            X_i[hmm_index].append(list(x))\n",
    "            NUM_CLUSTER_NOW[idx] = hmm_index\n",
    "        print(\"************ Checking likelihood done  *********\")\n",
    "\n",
    "        # Re-estimate parameters for new HMMs\n",
    "        print(\"************ Re-estimating HMM *********\")\n",
    "        HMM_array_prev = HMM_array\n",
    "        HMM_array = []\n",
    "        for i in range(K):\n",
    "            model = hmm.GaussianHMM(n_components=3,covariance_type='diag')\n",
    "            if(len(X_i[i])>=model.n_components):\n",
    "                X_temp, lengths = conversion_list_of_list(X_i[i], DIMENSION)\n",
    "                model.fit(X_temp, lengths)\n",
    "                HMM_array.append(model)\n",
    "            else:\n",
    "                HMM_array.append(HMM_array_prev[i])\n",
    "        print(\"************ Re-estimation done *********\")\n",
    "        likelihood_curr = likelihood_array(HMM_array,X_i)\n",
    "        print(\"Likelihood for iteration\",NUM_ITERATIONS,\"is\",likelihood_curr)\n",
    "        print(\"*****************************************\")\n",
    "\n",
    "        # if no reassignments, then break\n",
    "        if ((NUM_CLUSTER_PREV == NUM_CLUSTER_NOW)):\n",
    "            HMM_K_ARRAYS.append(HMM_array)\n",
    "            X_i_K_ARRAYS.append(X_i)\n",
    "            break\n",
    "        else:\n",
    "            # initialize empty subsets of data for next iteration\n",
    "            X_i = []\n",
    "            for i in range(K):\n",
    "                X_i.append([])\n",
    "\n",
    "            NUM_CLUSTER_PREV = NUM_CLUSTER_NOW\n",
    "            print(\"Num iterations is:\", NUM_ITERATIONS)\n",
    "            NUM_ITERATIONS += 1\n",
    "            likelihood_prev = likelihood_curr\n",
    "    print(\"**********************************************************\\n\\n\")"
   ]
  },
  {
   "cell_type": "code",
   "execution_count": 11,
   "metadata": {
    "scrolled": true
   },
   "outputs": [
    {
     "name": "stdout",
     "output_type": "stream",
     "text": [
      "1\n",
      "1\n"
     ]
    }
   ],
   "source": [
    "print(len(HMM_K_ARRAYS))\n",
    "print(len(X_i_K_ARRAYS))"
   ]
  },
  {
   "cell_type": "code",
   "execution_count": 20,
   "metadata": {},
   "outputs": [],
   "source": [
    "import seaborn as sns\n",
    "\n",
    "def plot_cluster(X,count):\n",
    "    fig = plt.subplot(111)\n",
    "    axes = plt.gca()\n",
    "    axes.set_ylim([-500,500])\n",
    "    var_plot_list = ['cdRPKM0','cdRPKM1','cdRPKM2','cdRPKM3','cdRPKM4']\n",
    "    total=0\n",
    "    for i in range(len(X)):\n",
    "        fig.plot(var_plot_list, X[i])\n",
    "        total+=1\n",
    "    title = \"HMM \"+ str(count)+\" : \" + str(total) + \" points \"\n",
    "    plt.title(title)\n",
    "    plt.savefig('/Users/akankshitadash/Desktop/Gene Ontology/5points/RNASeq Normalize/Clusters/Cluster'+str(count)+'.png')\n",
    "    plt.show()\n",
    "    \n",
    "def plot_heatmap(X,idx):\n",
    "    plt.figure()\n",
    "    sns.heatmap(X,vmin=-500, vmax=500)\n",
    "    plt.title('Heatmap'+str(idx))\n",
    "    plt.savefig('/Users/akankshitadash/Desktop/Gene Ontology/5points/RNASeq Normalize/Heat Map/HeatMap'+str(idx+1)+'.png')\n",
    "    plt.show()"
   ]
  },
  {
   "cell_type": "code",
   "execution_count": null,
   "metadata": {},
   "outputs": [],
   "source": [
    "for idx,X in enumerate(X_i_K_ARRAYS[0]):\n",
    "    plot_cluster(X,idx+1)\n",
    "for idx,X in enumerate(X_i_K_ARRAYS[0]):\n",
    "    plot_heatmap(X,idx)"
   ]
  },
  {
   "cell_type": "code",
   "execution_count": 34,
   "metadata": {},
   "outputs": [
    {
     "data": {
      "text/html": [
       "<div>\n",
       "<style scoped>\n",
       "    .dataframe tbody tr th:only-of-type {\n",
       "        vertical-align: middle;\n",
       "    }\n",
       "\n",
       "    .dataframe tbody tr th {\n",
       "        vertical-align: top;\n",
       "    }\n",
       "\n",
       "    .dataframe thead th {\n",
       "        text-align: right;\n",
       "    }\n",
       "</style>\n",
       "<table border=\"1\" class=\"dataframe\">\n",
       "  <thead>\n",
       "    <tr style=\"text-align: right;\">\n",
       "      <th></th>\n",
       "      <th>AccNum</th>\n",
       "      <th>GeneName</th>\n",
       "      <th>cdReads0</th>\n",
       "      <th>cdRPKM0</th>\n",
       "      <th>cdReads1</th>\n",
       "      <th>cdRPKM1</th>\n",
       "      <th>cdReads2</th>\n",
       "      <th>cdRPKM2</th>\n",
       "      <th>cdReads3</th>\n",
       "      <th>cdRPKM3</th>\n",
       "      <th>cdReads4</th>\n",
       "      <th>cdRPKM4</th>\n",
       "    </tr>\n",
       "  </thead>\n",
       "  <tbody>\n",
       "    <tr>\n",
       "      <th>0</th>\n",
       "      <td>NM_017847</td>\n",
       "      <td>ODR4</td>\n",
       "      <td>50.0</td>\n",
       "      <td>6.642349</td>\n",
       "      <td>62.0</td>\n",
       "      <td>5.591876</td>\n",
       "      <td>71.0</td>\n",
       "      <td>6.004645</td>\n",
       "      <td>30.0</td>\n",
       "      <td>5.369988</td>\n",
       "      <td>51.0</td>\n",
       "      <td>8.507454</td>\n",
       "    </tr>\n",
       "    <tr>\n",
       "      <th>2</th>\n",
       "      <td>NM_001003803</td>\n",
       "      <td>ATP5S</td>\n",
       "      <td>29.0</td>\n",
       "      <td>8.115351</td>\n",
       "      <td>52.0</td>\n",
       "      <td>9.879314</td>\n",
       "      <td>52.0</td>\n",
       "      <td>9.263817</td>\n",
       "      <td>19.0</td>\n",
       "      <td>7.164127</td>\n",
       "      <td>22.0</td>\n",
       "      <td>7.730539</td>\n",
       "    </tr>\n",
       "    <tr>\n",
       "      <th>3</th>\n",
       "      <td>NM_001003800</td>\n",
       "      <td>BICD2</td>\n",
       "      <td>778.0</td>\n",
       "      <td>54.937502</td>\n",
       "      <td>1155.0</td>\n",
       "      <td>55.371390</td>\n",
       "      <td>1444.0</td>\n",
       "      <td>64.913315</td>\n",
       "      <td>706.0</td>\n",
       "      <td>67.172940</td>\n",
       "      <td>883.0</td>\n",
       "      <td>78.293873</td>\n",
       "    </tr>\n",
       "    <tr>\n",
       "      <th>5</th>\n",
       "      <td>NM_016647</td>\n",
       "      <td>THEM6</td>\n",
       "      <td>170.0</td>\n",
       "      <td>49.166094</td>\n",
       "      <td>182.0</td>\n",
       "      <td>35.735701</td>\n",
       "      <td>219.0</td>\n",
       "      <td>40.321640</td>\n",
       "      <td>91.0</td>\n",
       "      <td>35.461616</td>\n",
       "      <td>99.0</td>\n",
       "      <td>35.952554</td>\n",
       "    </tr>\n",
       "    <tr>\n",
       "      <th>8</th>\n",
       "      <td>NM_016640</td>\n",
       "      <td>MRPS30</td>\n",
       "      <td>255.0</td>\n",
       "      <td>35.030842</td>\n",
       "      <td>348.0</td>\n",
       "      <td>32.456656</td>\n",
       "      <td>411.0</td>\n",
       "      <td>35.944257</td>\n",
       "      <td>205.0</td>\n",
       "      <td>37.945878</td>\n",
       "      <td>241.0</td>\n",
       "      <td>41.572410</td>\n",
       "    </tr>\n",
       "  </tbody>\n",
       "</table>\n",
       "</div>"
      ],
      "text/plain": [
       "         AccNum GeneName  cdReads0    cdRPKM0  cdReads1    cdRPKM1  cdReads2  \\\n",
       "0     NM_017847     ODR4      50.0   6.642349      62.0   5.591876      71.0   \n",
       "2  NM_001003803    ATP5S      29.0   8.115351      52.0   9.879314      52.0   \n",
       "3  NM_001003800    BICD2     778.0  54.937502    1155.0  55.371390    1444.0   \n",
       "5     NM_016647    THEM6     170.0  49.166094     182.0  35.735701     219.0   \n",
       "8     NM_016640   MRPS30     255.0  35.030842     348.0  32.456656     411.0   \n",
       "\n",
       "     cdRPKM2  cdReads3    cdRPKM3  cdReads4    cdRPKM4  \n",
       "0   6.004645      30.0   5.369988      51.0   8.507454  \n",
       "2   9.263817      19.0   7.164127      22.0   7.730539  \n",
       "3  64.913315     706.0  67.172940     883.0  78.293873  \n",
       "5  40.321640      91.0  35.461616      99.0  35.952554  \n",
       "8  35.944257     205.0  37.945878     241.0  41.572410  "
      ]
     },
     "execution_count": 34,
     "metadata": {},
     "output_type": "execute_result"
    }
   ],
   "source": [
    "df = pd.read_csv('RPKMOutput/RNASeq.txt',sep=' ')\n",
    "df = df[(df['cdReads0'] >= 10) & (df['cdReads1'] >= 10) & (df['cdReads2'] >= 10)& (df['cdReads3'] >= 10)& (df['cdReads4'] >= 10)]\n",
    "df = df.dropna()\n",
    "df.head(5)"
   ]
  },
  {
   "cell_type": "code",
   "execution_count": 35,
   "metadata": {},
   "outputs": [
    {
     "data": {
      "text/html": [
       "<div>\n",
       "<style scoped>\n",
       "    .dataframe tbody tr th:only-of-type {\n",
       "        vertical-align: middle;\n",
       "    }\n",
       "\n",
       "    .dataframe tbody tr th {\n",
       "        vertical-align: top;\n",
       "    }\n",
       "\n",
       "    .dataframe thead th {\n",
       "        text-align: right;\n",
       "    }\n",
       "</style>\n",
       "<table border=\"1\" class=\"dataframe\">\n",
       "  <thead>\n",
       "    <tr style=\"text-align: right;\">\n",
       "      <th></th>\n",
       "      <th>AccNum</th>\n",
       "      <th>GeneName</th>\n",
       "      <th>cdReads0</th>\n",
       "      <th>cdReads1</th>\n",
       "      <th>cdReads2</th>\n",
       "      <th>cdRPKM0</th>\n",
       "      <th>cdRPKM1</th>\n",
       "      <th>cdRPKM2</th>\n",
       "      <th>cdRPKM3</th>\n",
       "      <th>cdRPKM4</th>\n",
       "    </tr>\n",
       "  </thead>\n",
       "  <tbody>\n",
       "    <tr>\n",
       "      <th>0</th>\n",
       "      <td>NM_017847</td>\n",
       "      <td>ODR4</td>\n",
       "      <td>50.0</td>\n",
       "      <td>62.0</td>\n",
       "      <td>71.0</td>\n",
       "      <td>0</td>\n",
       "      <td>-1.050473</td>\n",
       "      <td>-0.637704</td>\n",
       "      <td>-1.272361</td>\n",
       "      <td>1.865105</td>\n",
       "    </tr>\n",
       "    <tr>\n",
       "      <th>2</th>\n",
       "      <td>NM_001003803</td>\n",
       "      <td>ATP5S</td>\n",
       "      <td>29.0</td>\n",
       "      <td>52.0</td>\n",
       "      <td>52.0</td>\n",
       "      <td>0</td>\n",
       "      <td>1.763963</td>\n",
       "      <td>1.148465</td>\n",
       "      <td>-0.951224</td>\n",
       "      <td>-0.384812</td>\n",
       "    </tr>\n",
       "    <tr>\n",
       "      <th>3</th>\n",
       "      <td>NM_001003800</td>\n",
       "      <td>BICD2</td>\n",
       "      <td>778.0</td>\n",
       "      <td>1155.0</td>\n",
       "      <td>1444.0</td>\n",
       "      <td>0</td>\n",
       "      <td>0.433888</td>\n",
       "      <td>9.975813</td>\n",
       "      <td>12.235438</td>\n",
       "      <td>23.356371</td>\n",
       "    </tr>\n",
       "    <tr>\n",
       "      <th>5</th>\n",
       "      <td>NM_016647</td>\n",
       "      <td>THEM6</td>\n",
       "      <td>170.0</td>\n",
       "      <td>182.0</td>\n",
       "      <td>219.0</td>\n",
       "      <td>0</td>\n",
       "      <td>-13.430393</td>\n",
       "      <td>-8.844454</td>\n",
       "      <td>-13.704478</td>\n",
       "      <td>-13.213540</td>\n",
       "    </tr>\n",
       "    <tr>\n",
       "      <th>8</th>\n",
       "      <td>NM_016640</td>\n",
       "      <td>MRPS30</td>\n",
       "      <td>255.0</td>\n",
       "      <td>348.0</td>\n",
       "      <td>411.0</td>\n",
       "      <td>0</td>\n",
       "      <td>-2.574186</td>\n",
       "      <td>0.913414</td>\n",
       "      <td>2.915036</td>\n",
       "      <td>6.541568</td>\n",
       "    </tr>\n",
       "  </tbody>\n",
       "</table>\n",
       "</div>"
      ],
      "text/plain": [
       "         AccNum GeneName  cdReads0  cdReads1  cdReads2  cdRPKM0    cdRPKM1  \\\n",
       "0     NM_017847     ODR4      50.0      62.0      71.0        0  -1.050473   \n",
       "2  NM_001003803    ATP5S      29.0      52.0      52.0        0   1.763963   \n",
       "3  NM_001003800    BICD2     778.0    1155.0    1444.0        0   0.433888   \n",
       "5     NM_016647    THEM6     170.0     182.0     219.0        0 -13.430393   \n",
       "8     NM_016640   MRPS30     255.0     348.0     411.0        0  -2.574186   \n",
       "\n",
       "    cdRPKM2    cdRPKM3    cdRPKM4  \n",
       "0 -0.637704  -1.272361   1.865105  \n",
       "2  1.148465  -0.951224  -0.384812  \n",
       "3  9.975813  12.235438  23.356371  \n",
       "5 -8.844454 -13.704478 -13.213540  \n",
       "8  0.913414   2.915036   6.541568  "
      ]
     },
     "execution_count": 35,
     "metadata": {},
     "output_type": "execute_result"
    }
   ],
   "source": [
    "df = df[['AccNum','GeneName','cdReads0','cdReads1','cdReads2','cdRPKM0','cdRPKM1','cdRPKM2','cdRPKM3','cdRPKM4']]\n",
    "df[['cdRPKM1','cdRPKM2','cdRPKM3','cdRPKM4']] = df[['cdRPKM1','cdRPKM2','cdRPKM3','cdRPKM4']].sub(df['cdRPKM0'], axis=0)\n",
    "df[['cdRPKM0']]=0\n",
    "df.head(5)\n"
   ]
  },
  {
   "cell_type": "code",
   "execution_count": 36,
   "metadata": {},
   "outputs": [
    {
     "name": "stdout",
     "output_type": "stream",
     "text": [
      "869 869\n",
      "3226 3226\n",
      "1462 1462\n",
      "223 223\n",
      "4560 4560\n"
     ]
    }
   ],
   "source": [
    "for idx,x in enumerate(X_i_K_ARRAYS[0]):\n",
    "    genes=[]\n",
    "    acc_nums=[]\n",
    "    for row in x:\n",
    "        temp = (df.loc[(df['cdRPKM0'] == row[0])& (df['cdRPKM1']== row[1]) & (df['cdRPKM2']== row[2])])\n",
    "        if(not temp.empty):\n",
    "            genes.append(temp['GeneName'].values[0])\n",
    "            acc_nums.append(temp['AccNum'].values[0])\n",
    "    print(len(x),len(genes))\n",
    "    with open('/Users/akankshitadash/Desktop/Gene Ontology/5points/RNASeq Normalize/Gene Names/Gene'+str(idx+1)+'.txt','w') as f:\n",
    "        for gene in genes:\n",
    "            f.write(\"%s\\n\" % gene)\n",
    "    with open('/Users/akankshitadash/Desktop/Gene Ontology/5points/RNASeq Normalize/Gene Names/AccNum'+str(idx+1)+'.txt','w') as f:\n",
    "        for acc_num in acc_nums:\n",
    "            f.write(\"%s\\n\" % acc_num)"
   ]
  },
  {
   "cell_type": "code",
   "execution_count": 39,
   "metadata": {
    "scrolled": true
   },
   "outputs": [],
   "source": [
    "dill.dump_session('../Weights/HMM_GaussianHMM_5points_RNASeq_normalize.db')"
   ]
  },
  {
   "cell_type": "code",
   "execution_count": null,
   "metadata": {},
   "outputs": [],
   "source": []
  }
 ],
 "metadata": {
  "kernelspec": {
   "display_name": "Python 3",
   "language": "python",
   "name": "python3"
  },
  "language_info": {
   "codemirror_mode": {
    "name": "ipython",
    "version": 3
   },
   "file_extension": ".py",
   "mimetype": "text/x-python",
   "name": "python",
   "nbconvert_exporter": "python",
   "pygments_lexer": "ipython3",
   "version": "3.6.4"
  }
 },
 "nbformat": 4,
 "nbformat_minor": 2
}
